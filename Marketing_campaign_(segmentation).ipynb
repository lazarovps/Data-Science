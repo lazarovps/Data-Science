{
  "nbformat": 4,
  "nbformat_minor": 0,
  "metadata": {
    "colab": {
      "name": "Marketing campaign (segmentation).ipynb",
      "provenance": [],
      "collapsed_sections": [
        "Ervql2QLX7ns",
        "bxjnV5YOYC1q"
      ],
      "authorship_tag": "ABX9TyPs2nn+QXxRHpKL7aOMT8Kq",
      "include_colab_link": true
    },
    "kernelspec": {
      "name": "python3",
      "display_name": "Python 3"
    },
    "language_info": {
      "name": "python"
    }
  },
  "cells": [
    {
      "cell_type": "markdown",
      "metadata": {
        "id": "view-in-github",
        "colab_type": "text"
      },
      "source": [
        "<a href=\"https://colab.research.google.com/github/lazarovps/Data-Science/blob/main/Marketing_campaign_(segmentation).ipynb\" target=\"_parent\"><img src=\"https://colab.research.google.com/assets/colab-badge.svg\" alt=\"Open In Colab\"/></a>"
      ]
    },
    {
      "cell_type": "markdown",
      "source": [
        "##Importação das bibliotecas necessárias"
      ],
      "metadata": {
        "id": "Ervql2QLX7ns"
      }
    },
    {
      "cell_type": "code",
      "execution_count": 1,
      "metadata": {
        "id": "xgj13N1ZcCcY"
      },
      "outputs": [],
      "source": [
        "#Importação das bibliotecas\n",
        "import datetime\n",
        "import matplotlib.pyplot as plt\n",
        "import numpy as np\n",
        "import pandas as pd\n",
        "import pickle as pkl\n",
        "import seaborn as sns\n",
        "import warnings\n",
        "warnings.filterwarnings('ignore')\n",
        "\n",
        "from sklearn.cluster import KMeans, AffinityPropagation, AgglomerativeClustering\n",
        "from sklearn.decomposition import PCA\n",
        "from sklearn.metrics import adjusted_mutual_info_score, completeness_score, homogeneity_score, v_measure_score\n",
        "from sklearn.preprocessing import StandardScaler\n",
        "from yellowbrick.cluster import KElbowVisualizer"
      ]
    },
    {
      "cell_type": "code",
      "source": [
        "base = pd.read_csv('marketing_campaign.csv', sep = '\\t')"
      ],
      "metadata": {
        "id": "FDGlxaRjdo3e"
      },
      "execution_count": 2,
      "outputs": []
    },
    {
      "cell_type": "code",
      "source": [
        "base.head()"
      ],
      "metadata": {
        "colab": {
          "base_uri": "https://localhost:8080/",
          "height": 0
        },
        "id": "hukEBEaQdvKw",
        "outputId": "2759658e-5afe-40b0-d302-88919d16c7b1"
      },
      "execution_count": 3,
      "outputs": [
        {
          "output_type": "execute_result",
          "data": {
            "text/html": [
              "\n",
              "  <div id=\"df-dd0f9019-1f91-44e7-b357-5c5f782bce41\">\n",
              "    <div class=\"colab-df-container\">\n",
              "      <div>\n",
              "<style scoped>\n",
              "    .dataframe tbody tr th:only-of-type {\n",
              "        vertical-align: middle;\n",
              "    }\n",
              "\n",
              "    .dataframe tbody tr th {\n",
              "        vertical-align: top;\n",
              "    }\n",
              "\n",
              "    .dataframe thead th {\n",
              "        text-align: right;\n",
              "    }\n",
              "</style>\n",
              "<table border=\"1\" class=\"dataframe\">\n",
              "  <thead>\n",
              "    <tr style=\"text-align: right;\">\n",
              "      <th></th>\n",
              "      <th>ID</th>\n",
              "      <th>Year_Birth</th>\n",
              "      <th>Education</th>\n",
              "      <th>Marital_Status</th>\n",
              "      <th>Income</th>\n",
              "      <th>Kidhome</th>\n",
              "      <th>Teenhome</th>\n",
              "      <th>Dt_Customer</th>\n",
              "      <th>Recency</th>\n",
              "      <th>MntWines</th>\n",
              "      <th>MntFruits</th>\n",
              "      <th>MntMeatProducts</th>\n",
              "      <th>MntFishProducts</th>\n",
              "      <th>MntSweetProducts</th>\n",
              "      <th>MntGoldProds</th>\n",
              "      <th>NumDealsPurchases</th>\n",
              "      <th>NumWebPurchases</th>\n",
              "      <th>NumCatalogPurchases</th>\n",
              "      <th>NumStorePurchases</th>\n",
              "      <th>NumWebVisitsMonth</th>\n",
              "      <th>AcceptedCmp3</th>\n",
              "      <th>AcceptedCmp4</th>\n",
              "      <th>AcceptedCmp5</th>\n",
              "      <th>AcceptedCmp1</th>\n",
              "      <th>AcceptedCmp2</th>\n",
              "      <th>Complain</th>\n",
              "      <th>Z_CostContact</th>\n",
              "      <th>Z_Revenue</th>\n",
              "      <th>Response</th>\n",
              "    </tr>\n",
              "  </thead>\n",
              "  <tbody>\n",
              "    <tr>\n",
              "      <th>0</th>\n",
              "      <td>5524</td>\n",
              "      <td>1957</td>\n",
              "      <td>Graduation</td>\n",
              "      <td>Single</td>\n",
              "      <td>58138.0</td>\n",
              "      <td>0</td>\n",
              "      <td>0</td>\n",
              "      <td>04-09-2012</td>\n",
              "      <td>58</td>\n",
              "      <td>635</td>\n",
              "      <td>88</td>\n",
              "      <td>546</td>\n",
              "      <td>172</td>\n",
              "      <td>88</td>\n",
              "      <td>88</td>\n",
              "      <td>3</td>\n",
              "      <td>8</td>\n",
              "      <td>10</td>\n",
              "      <td>4</td>\n",
              "      <td>7</td>\n",
              "      <td>0</td>\n",
              "      <td>0</td>\n",
              "      <td>0</td>\n",
              "      <td>0</td>\n",
              "      <td>0</td>\n",
              "      <td>0</td>\n",
              "      <td>3</td>\n",
              "      <td>11</td>\n",
              "      <td>1</td>\n",
              "    </tr>\n",
              "    <tr>\n",
              "      <th>1</th>\n",
              "      <td>2174</td>\n",
              "      <td>1954</td>\n",
              "      <td>Graduation</td>\n",
              "      <td>Single</td>\n",
              "      <td>46344.0</td>\n",
              "      <td>1</td>\n",
              "      <td>1</td>\n",
              "      <td>08-03-2014</td>\n",
              "      <td>38</td>\n",
              "      <td>11</td>\n",
              "      <td>1</td>\n",
              "      <td>6</td>\n",
              "      <td>2</td>\n",
              "      <td>1</td>\n",
              "      <td>6</td>\n",
              "      <td>2</td>\n",
              "      <td>1</td>\n",
              "      <td>1</td>\n",
              "      <td>2</td>\n",
              "      <td>5</td>\n",
              "      <td>0</td>\n",
              "      <td>0</td>\n",
              "      <td>0</td>\n",
              "      <td>0</td>\n",
              "      <td>0</td>\n",
              "      <td>0</td>\n",
              "      <td>3</td>\n",
              "      <td>11</td>\n",
              "      <td>0</td>\n",
              "    </tr>\n",
              "    <tr>\n",
              "      <th>2</th>\n",
              "      <td>4141</td>\n",
              "      <td>1965</td>\n",
              "      <td>Graduation</td>\n",
              "      <td>Together</td>\n",
              "      <td>71613.0</td>\n",
              "      <td>0</td>\n",
              "      <td>0</td>\n",
              "      <td>21-08-2013</td>\n",
              "      <td>26</td>\n",
              "      <td>426</td>\n",
              "      <td>49</td>\n",
              "      <td>127</td>\n",
              "      <td>111</td>\n",
              "      <td>21</td>\n",
              "      <td>42</td>\n",
              "      <td>1</td>\n",
              "      <td>8</td>\n",
              "      <td>2</td>\n",
              "      <td>10</td>\n",
              "      <td>4</td>\n",
              "      <td>0</td>\n",
              "      <td>0</td>\n",
              "      <td>0</td>\n",
              "      <td>0</td>\n",
              "      <td>0</td>\n",
              "      <td>0</td>\n",
              "      <td>3</td>\n",
              "      <td>11</td>\n",
              "      <td>0</td>\n",
              "    </tr>\n",
              "    <tr>\n",
              "      <th>3</th>\n",
              "      <td>6182</td>\n",
              "      <td>1984</td>\n",
              "      <td>Graduation</td>\n",
              "      <td>Together</td>\n",
              "      <td>26646.0</td>\n",
              "      <td>1</td>\n",
              "      <td>0</td>\n",
              "      <td>10-02-2014</td>\n",
              "      <td>26</td>\n",
              "      <td>11</td>\n",
              "      <td>4</td>\n",
              "      <td>20</td>\n",
              "      <td>10</td>\n",
              "      <td>3</td>\n",
              "      <td>5</td>\n",
              "      <td>2</td>\n",
              "      <td>2</td>\n",
              "      <td>0</td>\n",
              "      <td>4</td>\n",
              "      <td>6</td>\n",
              "      <td>0</td>\n",
              "      <td>0</td>\n",
              "      <td>0</td>\n",
              "      <td>0</td>\n",
              "      <td>0</td>\n",
              "      <td>0</td>\n",
              "      <td>3</td>\n",
              "      <td>11</td>\n",
              "      <td>0</td>\n",
              "    </tr>\n",
              "    <tr>\n",
              "      <th>4</th>\n",
              "      <td>5324</td>\n",
              "      <td>1981</td>\n",
              "      <td>PhD</td>\n",
              "      <td>Married</td>\n",
              "      <td>58293.0</td>\n",
              "      <td>1</td>\n",
              "      <td>0</td>\n",
              "      <td>19-01-2014</td>\n",
              "      <td>94</td>\n",
              "      <td>173</td>\n",
              "      <td>43</td>\n",
              "      <td>118</td>\n",
              "      <td>46</td>\n",
              "      <td>27</td>\n",
              "      <td>15</td>\n",
              "      <td>5</td>\n",
              "      <td>5</td>\n",
              "      <td>3</td>\n",
              "      <td>6</td>\n",
              "      <td>5</td>\n",
              "      <td>0</td>\n",
              "      <td>0</td>\n",
              "      <td>0</td>\n",
              "      <td>0</td>\n",
              "      <td>0</td>\n",
              "      <td>0</td>\n",
              "      <td>3</td>\n",
              "      <td>11</td>\n",
              "      <td>0</td>\n",
              "    </tr>\n",
              "  </tbody>\n",
              "</table>\n",
              "</div>\n",
              "      <button class=\"colab-df-convert\" onclick=\"convertToInteractive('df-dd0f9019-1f91-44e7-b357-5c5f782bce41')\"\n",
              "              title=\"Convert this dataframe to an interactive table.\"\n",
              "              style=\"display:none;\">\n",
              "        \n",
              "  <svg xmlns=\"http://www.w3.org/2000/svg\" height=\"24px\"viewBox=\"0 0 24 24\"\n",
              "       width=\"24px\">\n",
              "    <path d=\"M0 0h24v24H0V0z\" fill=\"none\"/>\n",
              "    <path d=\"M18.56 5.44l.94 2.06.94-2.06 2.06-.94-2.06-.94-.94-2.06-.94 2.06-2.06.94zm-11 1L8.5 8.5l.94-2.06 2.06-.94-2.06-.94L8.5 2.5l-.94 2.06-2.06.94zm10 10l.94 2.06.94-2.06 2.06-.94-2.06-.94-.94-2.06-.94 2.06-2.06.94z\"/><path d=\"M17.41 7.96l-1.37-1.37c-.4-.4-.92-.59-1.43-.59-.52 0-1.04.2-1.43.59L10.3 9.45l-7.72 7.72c-.78.78-.78 2.05 0 2.83L4 21.41c.39.39.9.59 1.41.59.51 0 1.02-.2 1.41-.59l7.78-7.78 2.81-2.81c.8-.78.8-2.07 0-2.86zM5.41 20L4 18.59l7.72-7.72 1.47 1.35L5.41 20z\"/>\n",
              "  </svg>\n",
              "      </button>\n",
              "      \n",
              "  <style>\n",
              "    .colab-df-container {\n",
              "      display:flex;\n",
              "      flex-wrap:wrap;\n",
              "      gap: 12px;\n",
              "    }\n",
              "\n",
              "    .colab-df-convert {\n",
              "      background-color: #E8F0FE;\n",
              "      border: none;\n",
              "      border-radius: 50%;\n",
              "      cursor: pointer;\n",
              "      display: none;\n",
              "      fill: #1967D2;\n",
              "      height: 32px;\n",
              "      padding: 0 0 0 0;\n",
              "      width: 32px;\n",
              "    }\n",
              "\n",
              "    .colab-df-convert:hover {\n",
              "      background-color: #E2EBFA;\n",
              "      box-shadow: 0px 1px 2px rgba(60, 64, 67, 0.3), 0px 1px 3px 1px rgba(60, 64, 67, 0.15);\n",
              "      fill: #174EA6;\n",
              "    }\n",
              "\n",
              "    [theme=dark] .colab-df-convert {\n",
              "      background-color: #3B4455;\n",
              "      fill: #D2E3FC;\n",
              "    }\n",
              "\n",
              "    [theme=dark] .colab-df-convert:hover {\n",
              "      background-color: #434B5C;\n",
              "      box-shadow: 0px 1px 3px 1px rgba(0, 0, 0, 0.15);\n",
              "      filter: drop-shadow(0px 1px 2px rgba(0, 0, 0, 0.3));\n",
              "      fill: #FFFFFF;\n",
              "    }\n",
              "  </style>\n",
              "\n",
              "      <script>\n",
              "        const buttonEl =\n",
              "          document.querySelector('#df-dd0f9019-1f91-44e7-b357-5c5f782bce41 button.colab-df-convert');\n",
              "        buttonEl.style.display =\n",
              "          google.colab.kernel.accessAllowed ? 'block' : 'none';\n",
              "\n",
              "        async function convertToInteractive(key) {\n",
              "          const element = document.querySelector('#df-dd0f9019-1f91-44e7-b357-5c5f782bce41');\n",
              "          const dataTable =\n",
              "            await google.colab.kernel.invokeFunction('convertToInteractive',\n",
              "                                                     [key], {});\n",
              "          if (!dataTable) return;\n",
              "\n",
              "          const docLinkHtml = 'Like what you see? Visit the ' +\n",
              "            '<a target=\"_blank\" href=https://colab.research.google.com/notebooks/data_table.ipynb>data table notebook</a>'\n",
              "            + ' to learn more about interactive tables.';\n",
              "          element.innerHTML = '';\n",
              "          dataTable['output_type'] = 'display_data';\n",
              "          await google.colab.output.renderOutput(dataTable, element);\n",
              "          const docLink = document.createElement('div');\n",
              "          docLink.innerHTML = docLinkHtml;\n",
              "          element.appendChild(docLink);\n",
              "        }\n",
              "      </script>\n",
              "    </div>\n",
              "  </div>\n",
              "  "
            ],
            "text/plain": [
              "     ID  Year_Birth   Education  ... Z_CostContact  Z_Revenue  Response\n",
              "0  5524        1957  Graduation  ...             3         11         1\n",
              "1  2174        1954  Graduation  ...             3         11         0\n",
              "2  4141        1965  Graduation  ...             3         11         0\n",
              "3  6182        1984  Graduation  ...             3         11         0\n",
              "4  5324        1981         PhD  ...             3         11         0\n",
              "\n",
              "[5 rows x 29 columns]"
            ]
          },
          "metadata": {},
          "execution_count": 3
        }
      ]
    },
    {
      "cell_type": "markdown",
      "source": [
        "##Manipulação e limpeza de dados"
      ],
      "metadata": {
        "id": "bxjnV5YOYC1q"
      }
    },
    {
      "cell_type": "code",
      "source": [
        "base.info()"
      ],
      "metadata": {
        "colab": {
          "base_uri": "https://localhost:8080/"
        },
        "id": "cdaQ2jkKdx9V",
        "outputId": "b2350396-9fa2-4ca1-b9ff-8feda7ca91ee"
      },
      "execution_count": 4,
      "outputs": [
        {
          "output_type": "stream",
          "name": "stdout",
          "text": [
            "<class 'pandas.core.frame.DataFrame'>\n",
            "RangeIndex: 2240 entries, 0 to 2239\n",
            "Data columns (total 29 columns):\n",
            " #   Column               Non-Null Count  Dtype  \n",
            "---  ------               --------------  -----  \n",
            " 0   ID                   2240 non-null   int64  \n",
            " 1   Year_Birth           2240 non-null   int64  \n",
            " 2   Education            2240 non-null   object \n",
            " 3   Marital_Status       2240 non-null   object \n",
            " 4   Income               2216 non-null   float64\n",
            " 5   Kidhome              2240 non-null   int64  \n",
            " 6   Teenhome             2240 non-null   int64  \n",
            " 7   Dt_Customer          2240 non-null   object \n",
            " 8   Recency              2240 non-null   int64  \n",
            " 9   MntWines             2240 non-null   int64  \n",
            " 10  MntFruits            2240 non-null   int64  \n",
            " 11  MntMeatProducts      2240 non-null   int64  \n",
            " 12  MntFishProducts      2240 non-null   int64  \n",
            " 13  MntSweetProducts     2240 non-null   int64  \n",
            " 14  MntGoldProds         2240 non-null   int64  \n",
            " 15  NumDealsPurchases    2240 non-null   int64  \n",
            " 16  NumWebPurchases      2240 non-null   int64  \n",
            " 17  NumCatalogPurchases  2240 non-null   int64  \n",
            " 18  NumStorePurchases    2240 non-null   int64  \n",
            " 19  NumWebVisitsMonth    2240 non-null   int64  \n",
            " 20  AcceptedCmp3         2240 non-null   int64  \n",
            " 21  AcceptedCmp4         2240 non-null   int64  \n",
            " 22  AcceptedCmp5         2240 non-null   int64  \n",
            " 23  AcceptedCmp1         2240 non-null   int64  \n",
            " 24  AcceptedCmp2         2240 non-null   int64  \n",
            " 25  Complain             2240 non-null   int64  \n",
            " 26  Z_CostContact        2240 non-null   int64  \n",
            " 27  Z_Revenue            2240 non-null   int64  \n",
            " 28  Response             2240 non-null   int64  \n",
            "dtypes: float64(1), int64(25), object(3)\n",
            "memory usage: 507.6+ KB\n"
          ]
        }
      ]
    },
    {
      "cell_type": "code",
      "source": [
        "base['idade'] = 2022 - base['Year_Birth']"
      ],
      "metadata": {
        "id": "9f__HEc0fgUo"
      },
      "execution_count": 5,
      "outputs": []
    },
    {
      "cell_type": "code",
      "source": [
        "plt.hist(x = 'idade', data = base, bins = 10)"
      ],
      "metadata": {
        "colab": {
          "base_uri": "https://localhost:8080/",
          "height": 334
        },
        "id": "l6Lc9AM6eZfF",
        "outputId": "5a00acc2-674d-404a-a7dc-e6d3a8d23440"
      },
      "execution_count": 6,
      "outputs": [
        {
          "output_type": "execute_result",
          "data": {
            "text/plain": [
              "(array([189., 506., 685., 541., 300.,  16.,   0.,   0.,   0.,   3.]),\n",
              " array([ 26. ,  36.3,  46.6,  56.9,  67.2,  77.5,  87.8,  98.1, 108.4,\n",
              "        118.7, 129. ]),\n",
              " <a list of 10 Patch objects>)"
            ]
          },
          "metadata": {},
          "execution_count": 6
        },
        {
          "output_type": "display_data",
          "data": {
            "image/png": "[encoded data removed]",
            "text/plain": [
              "<Figure size 432x288 with 1 Axes>"
            ]
          },
          "metadata": {
            "needs_background": "light"
          }
        }
      ]
    },
    {
      "cell_type": "code",
      "source": [
        "base['idade'].describe()"
      ],
      "metadata": {
        "colab": {
          "base_uri": "https://localhost:8080/"
        },
        "id": "ODPkioJhpOlS",
        "outputId": "315a3fed-1db4-4439-a44e-c4cb3895ad45"
      },
      "execution_count": 7,
      "outputs": [
        {
          "output_type": "execute_result",
          "data": {
            "text/plain": [
              "count    2240.000000\n",
              "mean       53.194196\n",
              "std        11.984069\n",
              "min        26.000000\n",
              "25%        45.000000\n",
              "50%        52.000000\n",
              "75%        63.000000\n",
              "max       129.000000\n",
              "Name: idade, dtype: float64"
            ]
          },
          "metadata": {},
          "execution_count": 7
        }
      ]
    },
    {
      "cell_type": "code",
      "source": [
        "base = base[base['idade']<120]"
      ],
      "metadata": {
        "id": "JUOOBjRQpQJ5"
      },
      "execution_count": 8,
      "outputs": []
    },
    {
      "cell_type": "code",
      "source": [
        "base['Education'].value_counts()"
      ],
      "metadata": {
        "id": "UeU6Gcl5fAoU",
        "colab": {
          "base_uri": "https://localhost:8080/"
        },
        "outputId": "6b0fb1cf-89cd-415b-b87f-b93fe6c660f2"
      },
      "execution_count": 9,
      "outputs": [
        {
          "output_type": "execute_result",
          "data": {
            "text/plain": [
              "Graduation    1127\n",
              "PhD            485\n",
              "Master         370\n",
              "2n Cycle       201\n",
              "Basic           54\n",
              "Name: Education, dtype: int64"
            ]
          },
          "metadata": {},
          "execution_count": 9
        }
      ]
    },
    {
      "cell_type": "code",
      "source": [
        "base['educacao'] = base['Education'].replace({'Basic':'ensino_basico','2n Cycle':'ensino_basico','Graduation':'graduacao','Master':'pos_graduacao','PhD':'pos_graduacao'})"
      ],
      "metadata": {
        "id": "9fvBO-aAg8UA"
      },
      "execution_count": 10,
      "outputs": []
    },
    {
      "cell_type": "code",
      "source": [
        "base['ensino_basico'] = np.where(base['educacao']=='ensino_basico',1,0)\n",
        "base['graduacao'] = np.where(base.educacao=='graduacao',1,0)"
      ],
      "metadata": {
        "id": "T6Ncw3lJGxhX"
      },
      "execution_count": 11,
      "outputs": []
    },
    {
      "cell_type": "code",
      "source": [
        "base['Marital_Status'].value_counts()"
      ],
      "metadata": {
        "colab": {
          "base_uri": "https://localhost:8080/"
        },
        "id": "Q9o3xiPlhBBa",
        "outputId": "83e1d142-0cd8-47e3-8096-9d228688be00"
      },
      "execution_count": 12,
      "outputs": [
        {
          "output_type": "execute_result",
          "data": {
            "text/plain": [
              "Married     864\n",
              "Together    579\n",
              "Single      479\n",
              "Divorced    231\n",
              "Widow        77\n",
              "Alone         3\n",
              "YOLO          2\n",
              "Absurd        2\n",
              "Name: Marital_Status, dtype: int64"
            ]
          },
          "metadata": {},
          "execution_count": 12
        }
      ]
    },
    {
      "cell_type": "code",
      "source": [
        "#Criando a variável 'casado', onde 'Married' e 'Together' iguais a 1 e o restante igual a 0 \n",
        "base['casado'] = base['Marital_Status'].replace({'Married':1,'Together':1,'Single':0,'Divorced':0,'Widow':0,'Alone':0,'YOLO':0,'Absurd':0})"
      ],
      "metadata": {
        "id": "1GTBbA3BhElw"
      },
      "execution_count": 13,
      "outputs": []
    },
    {
      "cell_type": "code",
      "source": [
        "plt.hist(x = 'Income', data = base)\n",
        "plt.show()"
      ],
      "metadata": {
        "colab": {
          "base_uri": "https://localhost:8080/",
          "height": 265
        },
        "id": "jZA8giM0iEwD",
        "outputId": "3cbcf68d-0188-4106-93b9-374ca344226e"
      },
      "execution_count": 14,
      "outputs": [
        {
          "output_type": "display_data",
          "data": {
            "image/png": "[encoded data removed]",
            "text/plain": [
              "<Figure size 432x288 with 1 Axes>"
            ]
          },
          "metadata": {
            "needs_background": "light"
          }
        }
      ]
    },
    {
      "cell_type": "code",
      "source": [
        "base['Income'].describe()"
      ],
      "metadata": {
        "colab": {
          "base_uri": "https://localhost:8080/"
        },
        "id": "8k0v1HPOiI0I",
        "outputId": "0676e835-b9bf-4aad-9fa4-d597db5b3194"
      },
      "execution_count": 15,
      "outputs": [
        {
          "output_type": "execute_result",
          "data": {
            "text/plain": [
              "count      2213.000000\n",
              "mean      52236.581563\n",
              "std       25178.603047\n",
              "min        1730.000000\n",
              "25%       35246.000000\n",
              "50%       51373.000000\n",
              "75%       68487.000000\n",
              "max      666666.000000\n",
              "Name: Income, dtype: float64"
            ]
          },
          "metadata": {},
          "execution_count": 15
        }
      ]
    },
    {
      "cell_type": "code",
      "source": [
        "base = base[base['Income']<600000]"
      ],
      "metadata": {
        "id": "Hwyvzel7piIy"
      },
      "execution_count": 16,
      "outputs": []
    },
    {
      "cell_type": "code",
      "source": [
        "#Somando crianças e adolescentes\n",
        "base['filhos'] = base['Kidhome'] + base['Teenhome']"
      ],
      "metadata": {
        "id": "GFjCdNanjFI5"
      },
      "execution_count": 17,
      "outputs": []
    },
    {
      "cell_type": "code",
      "source": [
        "base['filhos'].value_counts()"
      ],
      "metadata": {
        "colab": {
          "base_uri": "https://localhost:8080/"
        },
        "id": "KZ8T-_cujJgm",
        "outputId": "0b9d189d-bde6-4ad1-d2d2-52504ca83036"
      },
      "execution_count": 18,
      "outputs": [
        {
          "output_type": "execute_result",
          "data": {
            "text/plain": [
              "1    1114\n",
              "0     632\n",
              "2     416\n",
              "3      50\n",
              "Name: filhos, dtype: int64"
            ]
          },
          "metadata": {},
          "execution_count": 18
        }
      ]
    },
    {
      "cell_type": "code",
      "source": [
        "base['Dt_Customer'].value_counts()"
      ],
      "metadata": {
        "colab": {
          "base_uri": "https://localhost:8080/"
        },
        "id": "86a77FyCjQuC",
        "outputId": "2a0300b1-5b58-420b-e958-3c4cf58a9f1e"
      },
      "execution_count": 19,
      "outputs": [
        {
          "output_type": "execute_result",
          "data": {
            "text/plain": [
              "31-08-2012    12\n",
              "12-05-2014    11\n",
              "14-02-2013    11\n",
              "12-09-2012    11\n",
              "22-05-2014    10\n",
              "              ..\n",
              "13-03-2014     1\n",
              "18-11-2012     1\n",
              "15-04-2014     1\n",
              "12-06-2014     1\n",
              "30-09-2012     1\n",
              "Name: Dt_Customer, Length: 662, dtype: int64"
            ]
          },
          "metadata": {},
          "execution_count": 19
        }
      ]
    },
    {
      "cell_type": "code",
      "source": [
        "plt.hist(x = 'Recency', data = base)\n",
        "plt.show()"
      ],
      "metadata": {
        "colab": {
          "base_uri": "https://localhost:8080/",
          "height": 265
        },
        "id": "Xr4nMFhd4Ntm",
        "outputId": "fc080ad8-2b3c-4aa0-b190-8c771e65d502"
      },
      "execution_count": 20,
      "outputs": [
        {
          "output_type": "display_data",
          "data": {
            "image/png": "[encoded data removed]",
            "text/plain": [
              "<Figure size 432x288 with 1 Axes>"
            ]
          },
          "metadata": {
            "needs_background": "light"
          }
        }
      ]
    },
    {
      "cell_type": "code",
      "source": [
        "plt.hist(x = 'MntMeatProducts', data = base)"
      ],
      "metadata": {
        "colab": {
          "base_uri": "https://localhost:8080/",
          "height": 354
        },
        "id": "f3J11n-X42Os",
        "outputId": "fe4d4deb-8c2c-4918-8177-1c28945f87de"
      },
      "execution_count": 21,
      "outputs": [
        {
          "output_type": "execute_result",
          "data": {
            "text/plain": [
              "(array([1541.,  272.,  192.,   99.,   78.,   26.,    0.,    0.,    0.,\n",
              "           4.]),\n",
              " array([   0. ,  172.5,  345. ,  517.5,  690. ,  862.5, 1035. , 1207.5,\n",
              "        1380. , 1552.5, 1725. ]),\n",
              " <a list of 10 Patch objects>)"
            ]
          },
          "metadata": {},
          "execution_count": 21
        },
        {
          "output_type": "display_data",
          "data": {
            "image/png": "[encoded data removed]",
            "text/plain": [
              "<Figure size 432x288 with 1 Axes>"
            ]
          },
          "metadata": {
            "needs_background": "light"
          }
        }
      ]
    },
    {
      "cell_type": "code",
      "source": [
        "base['MntMeatProducts'].describe()"
      ],
      "metadata": {
        "colab": {
          "base_uri": "https://localhost:8080/"
        },
        "id": "o9VFxsoDpqzm",
        "outputId": "bafbeda2-2b17-4152-e92b-f83225f9a23b"
      },
      "execution_count": 22,
      "outputs": [
        {
          "output_type": "execute_result",
          "data": {
            "text/plain": [
              "count    2212.000000\n",
              "mean      167.029837\n",
              "std       224.254493\n",
              "min         0.000000\n",
              "25%        16.000000\n",
              "50%        68.000000\n",
              "75%       232.250000\n",
              "max      1725.000000\n",
              "Name: MntMeatProducts, dtype: float64"
            ]
          },
          "metadata": {},
          "execution_count": 22
        }
      ]
    },
    {
      "cell_type": "code",
      "source": [
        "base = base[base['MntMeatProducts'] < 1700]"
      ],
      "metadata": {
        "id": "MEgi3_dFpvTC"
      },
      "execution_count": 23,
      "outputs": []
    },
    {
      "cell_type": "code",
      "source": [
        "plt.hist(x = 'MntFishProducts', data = base)\n",
        "plt.show()"
      ],
      "metadata": {
        "colab": {
          "base_uri": "https://localhost:8080/",
          "height": 265
        },
        "id": "wt186qqb5YHq",
        "outputId": "e90a1f77-6fb3-43e8-c27e-7655ee2a4a80"
      },
      "execution_count": 24,
      "outputs": [
        {
          "output_type": "display_data",
          "data": {
            "image/png": "[encoded data removed]",
            "text/plain": [
              "<Figure size 432x288 with 1 Axes>"
            ]
          },
          "metadata": {
            "needs_background": "light"
          }
        }
      ]
    },
    {
      "cell_type": "code",
      "source": [
        "base.info()"
      ],
      "metadata": {
        "colab": {
          "base_uri": "https://localhost:8080/"
        },
        "id": "oyc11eSETK9w",
        "outputId": "624397ea-de78-4f95-dd22-610f6eac2039"
      },
      "execution_count": 25,
      "outputs": [
        {
          "output_type": "stream",
          "name": "stdout",
          "text": [
            "<class 'pandas.core.frame.DataFrame'>\n",
            "Int64Index: 2210 entries, 0 to 2239\n",
            "Data columns (total 35 columns):\n",
            " #   Column               Non-Null Count  Dtype  \n",
            "---  ------               --------------  -----  \n",
            " 0   ID                   2210 non-null   int64  \n",
            " 1   Year_Birth           2210 non-null   int64  \n",
            " 2   Education            2210 non-null   object \n",
            " 3   Marital_Status       2210 non-null   object \n",
            " 4   Income               2210 non-null   float64\n",
            " 5   Kidhome              2210 non-null   int64  \n",
            " 6   Teenhome             2210 non-null   int64  \n",
            " 7   Dt_Customer          2210 non-null   object \n",
            " 8   Recency              2210 non-null   int64  \n",
            " 9   MntWines             2210 non-null   int64  \n",
            " 10  MntFruits            2210 non-null   int64  \n",
            " 11  MntMeatProducts      2210 non-null   int64  \n",
            " 12  MntFishProducts      2210 non-null   int64  \n",
            " 13  MntSweetProducts     2210 non-null   int64  \n",
            " 14  MntGoldProds         2210 non-null   int64  \n",
            " 15  NumDealsPurchases    2210 non-null   int64  \n",
            " 16  NumWebPurchases      2210 non-null   int64  \n",
            " 17  NumCatalogPurchases  2210 non-null   int64  \n",
            " 18  NumStorePurchases    2210 non-null   int64  \n",
            " 19  NumWebVisitsMonth    2210 non-null   int64  \n",
            " 20  AcceptedCmp3         2210 non-null   int64  \n",
            " 21  AcceptedCmp4         2210 non-null   int64  \n",
            " 22  AcceptedCmp5         2210 non-null   int64  \n",
            " 23  AcceptedCmp1         2210 non-null   int64  \n",
            " 24  AcceptedCmp2         2210 non-null   int64  \n",
            " 25  Complain             2210 non-null   int64  \n",
            " 26  Z_CostContact        2210 non-null   int64  \n",
            " 27  Z_Revenue            2210 non-null   int64  \n",
            " 28  Response             2210 non-null   int64  \n",
            " 29  idade                2210 non-null   int64  \n",
            " 30  educacao             2210 non-null   object \n",
            " 31  ensino_basico        2210 non-null   int64  \n",
            " 32  graduacao            2210 non-null   int64  \n",
            " 33  casado               2210 non-null   int64  \n",
            " 34  filhos               2210 non-null   int64  \n",
            "dtypes: float64(1), int64(30), object(4)\n",
            "memory usage: 621.6+ KB\n"
          ]
        }
      ]
    },
    {
      "cell_type": "code",
      "source": [
        "base['gasto_total'] = base.iloc[:,9] + base.iloc[:,10] + base.iloc[:,11] + base.iloc[:,12] + base.iloc[:,13] + base.iloc[:,14]"
      ],
      "metadata": {
        "id": "xZOISmE2TQQV"
      },
      "execution_count": 26,
      "outputs": []
    },
    {
      "cell_type": "code",
      "source": [
        "plt.hist(x = 'gasto_total', data = base)\n",
        "plt.title('Gasto total')\n",
        "plt.show()"
      ],
      "metadata": {
        "colab": {
          "base_uri": "https://localhost:8080/",
          "height": 280
        },
        "id": "LAwRTl5aTmY1",
        "outputId": "ef8271c1-a24c-49d3-eaea-cf9009836467"
      },
      "execution_count": 27,
      "outputs": [
        {
          "output_type": "display_data",
          "data": {
            "image/png": "[encoded data removed]",
            "text/plain": [
              "<Figure size 432x288 with 1 Axes>"
            ]
          },
          "metadata": {
            "needs_background": "light"
          }
        }
      ]
    },
    {
      "cell_type": "code",
      "source": [
        "plt.hist(x = 'NumDealsPurchases', data = base)\n",
        "plt.show()"
      ],
      "metadata": {
        "colab": {
          "base_uri": "https://localhost:8080/",
          "height": 265
        },
        "id": "uZuWfcx-hkF9",
        "outputId": "0b50cdf0-4d09-47d5-fe38-ecf796f06947"
      },
      "execution_count": 28,
      "outputs": [
        {
          "output_type": "display_data",
          "data": {
            "image/png": "[encoded data removed]",
            "text/plain": [
              "<Figure size 432x288 with 1 Axes>"
            ]
          },
          "metadata": {
            "needs_background": "light"
          }
        }
      ]
    },
    {
      "cell_type": "code",
      "source": [
        "base['AcceptedCmp1'].value_counts()"
      ],
      "metadata": {
        "colab": {
          "base_uri": "https://localhost:8080/"
        },
        "id": "yJCRoBaqlGL9",
        "outputId": "d27a71f5-dec1-4883-852d-3297239e4682"
      },
      "execution_count": 29,
      "outputs": [
        {
          "output_type": "execute_result",
          "data": {
            "text/plain": [
              "0    2068\n",
              "1     142\n",
              "Name: AcceptedCmp1, dtype: int64"
            ]
          },
          "metadata": {},
          "execution_count": 29
        }
      ]
    },
    {
      "cell_type": "code",
      "source": [
        "base['AcceptedCmp2'].value_counts()"
      ],
      "metadata": {
        "colab": {
          "base_uri": "https://localhost:8080/"
        },
        "id": "DP-npL_QlMrn",
        "outputId": "84e04792-b638-4896-f9ec-c775d9b40b5b"
      },
      "execution_count": 30,
      "outputs": [
        {
          "output_type": "execute_result",
          "data": {
            "text/plain": [
              "0    2180\n",
              "1      30\n",
              "Name: AcceptedCmp2, dtype: int64"
            ]
          },
          "metadata": {},
          "execution_count": 30
        }
      ]
    },
    {
      "cell_type": "code",
      "source": [
        "base['AcceptedCmp3'].value_counts()"
      ],
      "metadata": {
        "colab": {
          "base_uri": "https://localhost:8080/"
        },
        "id": "-nLdiAp9lQj6",
        "outputId": "8230acff-b11c-4ed9-b296-d435197e1cec"
      },
      "execution_count": 31,
      "outputs": [
        {
          "output_type": "execute_result",
          "data": {
            "text/plain": [
              "0    2047\n",
              "1     163\n",
              "Name: AcceptedCmp3, dtype: int64"
            ]
          },
          "metadata": {},
          "execution_count": 31
        }
      ]
    },
    {
      "cell_type": "code",
      "source": [
        "base['AcceptedCmp4'].value_counts()"
      ],
      "metadata": {
        "colab": {
          "base_uri": "https://localhost:8080/"
        },
        "id": "tkksdU3GlSKd",
        "outputId": "66096576-4c1c-4f44-c5fd-d10eb0f8efcb"
      },
      "execution_count": 32,
      "outputs": [
        {
          "output_type": "execute_result",
          "data": {
            "text/plain": [
              "0    2046\n",
              "1     164\n",
              "Name: AcceptedCmp4, dtype: int64"
            ]
          },
          "metadata": {},
          "execution_count": 32
        }
      ]
    },
    {
      "cell_type": "code",
      "source": [
        "base['AcceptedCmp5'].value_counts()"
      ],
      "metadata": {
        "colab": {
          "base_uri": "https://localhost:8080/"
        },
        "id": "-seyuyDHlTD4",
        "outputId": "3ab52ce3-69e5-4a12-c3a3-14bdb08e8087"
      },
      "execution_count": 33,
      "outputs": [
        {
          "output_type": "execute_result",
          "data": {
            "text/plain": [
              "0    2049\n",
              "1     161\n",
              "Name: AcceptedCmp5, dtype: int64"
            ]
          },
          "metadata": {},
          "execution_count": 33
        }
      ]
    },
    {
      "cell_type": "code",
      "source": [
        "base['Response'].value_counts()"
      ],
      "metadata": {
        "colab": {
          "base_uri": "https://localhost:8080/"
        },
        "id": "87Q4hYT0lVx9",
        "outputId": "b17f32e1-3f40-412d-fb62-9e85f042bc5d"
      },
      "execution_count": 34,
      "outputs": [
        {
          "output_type": "execute_result",
          "data": {
            "text/plain": [
              "0    1877\n",
              "1     333\n",
              "Name: Response, dtype: int64"
            ]
          },
          "metadata": {},
          "execution_count": 34
        }
      ]
    },
    {
      "cell_type": "code",
      "source": [
        "plt.hist(x = 'NumWebPurchases', data = base)"
      ],
      "metadata": {
        "colab": {
          "base_uri": "https://localhost:8080/",
          "height": 317
        },
        "id": "JRRoPyPHmTmM",
        "outputId": "6b42bb5e-1840-495e-9532-d558c289fd01"
      },
      "execution_count": 35,
      "outputs": [
        {
          "output_type": "execute_result",
          "data": {
            "text/plain": [
              "(array([760., 828., 457., 118.,  44.,   0.,   0.,   0.,   1.,   2.]),\n",
              " array([ 0. ,  2.7,  5.4,  8.1, 10.8, 13.5, 16.2, 18.9, 21.6, 24.3, 27. ]),\n",
              " <a list of 10 Patch objects>)"
            ]
          },
          "metadata": {},
          "execution_count": 35
        },
        {
          "output_type": "display_data",
          "data": {
            "image/png": "[encoded data removed]",
            "text/plain": [
              "<Figure size 432x288 with 1 Axes>"
            ]
          },
          "metadata": {
            "needs_background": "light"
          }
        }
      ]
    },
    {
      "cell_type": "code",
      "source": [
        "base['NumWebPurchases'].describe()"
      ],
      "metadata": {
        "colab": {
          "base_uri": "https://localhost:8080/"
        },
        "id": "z1KTzdUip8nh",
        "outputId": "df1214b2-3775-41aa-f4ae-c9dd71175e9d"
      },
      "execution_count": 36,
      "outputs": [
        {
          "output_type": "execute_result",
          "data": {
            "text/plain": [
              "count    2210.000000\n",
              "mean        4.091855\n",
              "std         2.740666\n",
              "min         0.000000\n",
              "25%         2.000000\n",
              "50%         4.000000\n",
              "75%         6.000000\n",
              "max        27.000000\n",
              "Name: NumWebPurchases, dtype: float64"
            ]
          },
          "metadata": {},
          "execution_count": 36
        }
      ]
    },
    {
      "cell_type": "code",
      "source": [
        "base = base[base['NumWebPurchases']<25]"
      ],
      "metadata": {
        "id": "xMf395X-qkGc"
      },
      "execution_count": 37,
      "outputs": []
    },
    {
      "cell_type": "code",
      "source": [
        "plt.hist(x = 'NumCatalogPurchases', data = base)\n",
        "plt.show()"
      ],
      "metadata": {
        "colab": {
          "base_uri": "https://localhost:8080/",
          "height": 269
        },
        "id": "OnO7vrAAmbgh",
        "outputId": "ea3b56bd-4405-416b-b263-d9a05e8a7e58"
      },
      "execution_count": 38,
      "outputs": [
        {
          "output_type": "display_data",
          "data": {
            "image/png": "[encoded data removed]",
            "text/plain": [
              "<Figure size 432x288 with 1 Axes>"
            ]
          },
          "metadata": {
            "needs_background": "light"
          }
        }
      ]
    },
    {
      "cell_type": "code",
      "source": [
        "base['NumCatalogPurchases'].describe()"
      ],
      "metadata": {
        "colab": {
          "base_uri": "https://localhost:8080/"
        },
        "id": "31fjX5l9qqc6",
        "outputId": "cbbaf999-fb91-43c7-8757-caca1709aa5d"
      },
      "execution_count": 39,
      "outputs": [
        {
          "output_type": "execute_result",
          "data": {
            "text/plain": [
              "count    2208.000000\n",
              "mean        2.651721\n",
              "std         2.828041\n",
              "min         0.000000\n",
              "25%         0.000000\n",
              "50%         2.000000\n",
              "75%         4.000000\n",
              "max        28.000000\n",
              "Name: NumCatalogPurchases, dtype: float64"
            ]
          },
          "metadata": {},
          "execution_count": 39
        }
      ]
    },
    {
      "cell_type": "code",
      "source": [
        "base = base[base['NumCatalogPurchases']<25]"
      ],
      "metadata": {
        "id": "Mc0WSJHtquSU"
      },
      "execution_count": 40,
      "outputs": []
    },
    {
      "cell_type": "code",
      "source": [
        "plt.hist(x = 'NumStorePurchases', data = base)\n",
        "plt.show()"
      ],
      "metadata": {
        "colab": {
          "base_uri": "https://localhost:8080/",
          "height": 265
        },
        "id": "HiQ2GIEDmn0G",
        "outputId": "1bb77b59-7cde-44ed-b2d9-a2686eeef077"
      },
      "execution_count": 41,
      "outputs": [
        {
          "output_type": "display_data",
          "data": {
            "image/png": "[encoded data removed]",
            "text/plain": [
              "<Figure size 432x288 with 1 Axes>"
            ]
          },
          "metadata": {
            "needs_background": "light"
          }
        }
      ]
    },
    {
      "cell_type": "code",
      "source": [
        "plt.hist(x = 'NumWebVisitsMonth', data = base)\n",
        "plt.show()"
      ],
      "metadata": {
        "colab": {
          "base_uri": "https://localhost:8080/",
          "height": 265
        },
        "id": "jyfdj3Hqms7u",
        "outputId": "37304069-ec5f-4fcc-9f85-811cf75e4064"
      },
      "execution_count": 42,
      "outputs": [
        {
          "output_type": "display_data",
          "data": {
            "image/png": "[encoded data removed]",
            "text/plain": [
              "<Figure size 432x288 with 1 Axes>"
            ]
          },
          "metadata": {
            "needs_background": "light"
          }
        }
      ]
    },
    {
      "cell_type": "code",
      "source": [
        "base['NumWebVisitsMonth'].describe()"
      ],
      "metadata": {
        "colab": {
          "base_uri": "https://localhost:8080/"
        },
        "id": "C1tYStcNmypI",
        "outputId": "0f67c709-5910-4c12-9b2a-a5dfbc0da9dc"
      },
      "execution_count": 43,
      "outputs": [
        {
          "output_type": "execute_result",
          "data": {
            "text/plain": [
              "count    2207.000000\n",
              "mean        5.331672\n",
              "std         2.418688\n",
              "min         0.000000\n",
              "25%         3.000000\n",
              "50%         6.000000\n",
              "75%         7.000000\n",
              "max        20.000000\n",
              "Name: NumWebVisitsMonth, dtype: float64"
            ]
          },
          "metadata": {},
          "execution_count": 43
        }
      ]
    },
    {
      "cell_type": "code",
      "source": [
        "base = base[base['NumWebVisitsMonth'] < 12]"
      ],
      "metadata": {
        "id": "nyv6V1ygq-am"
      },
      "execution_count": 44,
      "outputs": []
    },
    {
      "cell_type": "code",
      "source": [
        "base['Complain'].value_counts()"
      ],
      "metadata": {
        "colab": {
          "base_uri": "https://localhost:8080/"
        },
        "id": "shgK7q1GsBZT",
        "outputId": "abc8196c-1d7f-4cee-db47-0a9546b85be5"
      },
      "execution_count": 45,
      "outputs": [
        {
          "output_type": "execute_result",
          "data": {
            "text/plain": [
              "0    2178\n",
              "1      20\n",
              "Name: Complain, dtype: int64"
            ]
          },
          "metadata": {},
          "execution_count": 45
        }
      ]
    },
    {
      "cell_type": "code",
      "source": [
        "base['Z_CostContact'].value_counts()"
      ],
      "metadata": {
        "colab": {
          "base_uri": "https://localhost:8080/"
        },
        "id": "kFOsTwfIsCv2",
        "outputId": "b93382a5-08e5-4c17-e8b1-d9156fdaa21d"
      },
      "execution_count": 46,
      "outputs": [
        {
          "output_type": "execute_result",
          "data": {
            "text/plain": [
              "3    2198\n",
              "Name: Z_CostContact, dtype: int64"
            ]
          },
          "metadata": {},
          "execution_count": 46
        }
      ]
    },
    {
      "cell_type": "code",
      "source": [
        "base['Z_Revenue'].value_counts()"
      ],
      "metadata": {
        "colab": {
          "base_uri": "https://localhost:8080/"
        },
        "id": "BmoJif7isG8o",
        "outputId": "c6e28033-a515-471d-8a18-179e44541c01"
      },
      "execution_count": 47,
      "outputs": [
        {
          "output_type": "execute_result",
          "data": {
            "text/plain": [
              "11    2198\n",
              "Name: Z_Revenue, dtype: int64"
            ]
          },
          "metadata": {},
          "execution_count": 47
        }
      ]
    },
    {
      "cell_type": "code",
      "source": [
        "base.info()"
      ],
      "metadata": {
        "colab": {
          "base_uri": "https://localhost:8080/"
        },
        "id": "0S1m7yiOrCEF",
        "outputId": "552f0a61-eb98-4b69-e39a-a059f1d1763b"
      },
      "execution_count": 48,
      "outputs": [
        {
          "output_type": "stream",
          "name": "stdout",
          "text": [
            "<class 'pandas.core.frame.DataFrame'>\n",
            "Int64Index: 2198 entries, 0 to 2239\n",
            "Data columns (total 36 columns):\n",
            " #   Column               Non-Null Count  Dtype  \n",
            "---  ------               --------------  -----  \n",
            " 0   ID                   2198 non-null   int64  \n",
            " 1   Year_Birth           2198 non-null   int64  \n",
            " 2   Education            2198 non-null   object \n",
            " 3   Marital_Status       2198 non-null   object \n",
            " 4   Income               2198 non-null   float64\n",
            " 5   Kidhome              2198 non-null   int64  \n",
            " 6   Teenhome             2198 non-null   int64  \n",
            " 7   Dt_Customer          2198 non-null   object \n",
            " 8   Recency              2198 non-null   int64  \n",
            " 9   MntWines             2198 non-null   int64  \n",
            " 10  MntFruits            2198 non-null   int64  \n",
            " 11  MntMeatProducts      2198 non-null   int64  \n",
            " 12  MntFishProducts      2198 non-null   int64  \n",
            " 13  MntSweetProducts     2198 non-null   int64  \n",
            " 14  MntGoldProds         2198 non-null   int64  \n",
            " 15  NumDealsPurchases    2198 non-null   int64  \n",
            " 16  NumWebPurchases      2198 non-null   int64  \n",
            " 17  NumCatalogPurchases  2198 non-null   int64  \n",
            " 18  NumStorePurchases    2198 non-null   int64  \n",
            " 19  NumWebVisitsMonth    2198 non-null   int64  \n",
            " 20  AcceptedCmp3         2198 non-null   int64  \n",
            " 21  AcceptedCmp4         2198 non-null   int64  \n",
            " 22  AcceptedCmp5         2198 non-null   int64  \n",
            " 23  AcceptedCmp1         2198 non-null   int64  \n",
            " 24  AcceptedCmp2         2198 non-null   int64  \n",
            " 25  Complain             2198 non-null   int64  \n",
            " 26  Z_CostContact        2198 non-null   int64  \n",
            " 27  Z_Revenue            2198 non-null   int64  \n",
            " 28  Response             2198 non-null   int64  \n",
            " 29  idade                2198 non-null   int64  \n",
            " 30  educacao             2198 non-null   object \n",
            " 31  ensino_basico        2198 non-null   int64  \n",
            " 32  graduacao            2198 non-null   int64  \n",
            " 33  casado               2198 non-null   int64  \n",
            " 34  filhos               2198 non-null   int64  \n",
            " 35  gasto_total          2198 non-null   int64  \n",
            "dtypes: float64(1), int64(31), object(4)\n",
            "memory usage: 635.4+ KB\n"
          ]
        }
      ]
    },
    {
      "cell_type": "code",
      "source": [
        "base.drop(['ID','Year_Birth','Education','Dt_Customer','MntWines','MntFruits','MntMeatProducts','MntFishProducts','MntSweetProducts','MntGoldProds','Marital_Status','Kidhome','Teenhome','Dt_Customer','Education','educacao','AcceptedCmp1','AcceptedCmp2','AcceptedCmp3','AcceptedCmp4','AcceptedCmp5','Complain','Response','Z_CostContact','Z_Revenue',], axis = 1, inplace = True)"
      ],
      "metadata": {
        "id": "5_UwWVl-sTik"
      },
      "execution_count": 49,
      "outputs": []
    },
    {
      "cell_type": "code",
      "source": [
        "base.info()"
      ],
      "metadata": {
        "colab": {
          "base_uri": "https://localhost:8080/"
        },
        "id": "6yfO_AFf16yu",
        "outputId": "4a23a8e0-9f06-42f7-fffc-b44bdb237b8e"
      },
      "execution_count": 50,
      "outputs": [
        {
          "output_type": "stream",
          "name": "stdout",
          "text": [
            "<class 'pandas.core.frame.DataFrame'>\n",
            "Int64Index: 2198 entries, 0 to 2239\n",
            "Data columns (total 13 columns):\n",
            " #   Column               Non-Null Count  Dtype  \n",
            "---  ------               --------------  -----  \n",
            " 0   Income               2198 non-null   float64\n",
            " 1   Recency              2198 non-null   int64  \n",
            " 2   NumDealsPurchases    2198 non-null   int64  \n",
            " 3   NumWebPurchases      2198 non-null   int64  \n",
            " 4   NumCatalogPurchases  2198 non-null   int64  \n",
            " 5   NumStorePurchases    2198 non-null   int64  \n",
            " 6   NumWebVisitsMonth    2198 non-null   int64  \n",
            " 7   idade                2198 non-null   int64  \n",
            " 8   ensino_basico        2198 non-null   int64  \n",
            " 9   graduacao            2198 non-null   int64  \n",
            " 10  casado               2198 non-null   int64  \n",
            " 11  filhos               2198 non-null   int64  \n",
            " 12  gasto_total          2198 non-null   int64  \n",
            "dtypes: float64(1), int64(12)\n",
            "memory usage: 240.4 KB\n"
          ]
        }
      ]
    },
    {
      "cell_type": "code",
      "source": [
        "base = base.rename(columns = {'Income':'renda','Recency':'recencia','NumDealsPurchases':'compras_desconto','NumWebPurchases':'compras_site','NumCatalogPurchases':'compras_catalogo','NumStorePurchases':'compras_loja','NumWebVisitsMonth':'num_visitas'})"
      ],
      "metadata": {
        "id": "23TogrRd24dm"
      },
      "execution_count": 51,
      "outputs": []
    },
    {
      "cell_type": "markdown",
      "source": [
        "##Modelagem de dados"
      ],
      "metadata": {
        "id": "ar4imydtYKJD"
      }
    },
    {
      "cell_type": "code",
      "source": [
        "base.info()"
      ],
      "metadata": {
        "colab": {
          "base_uri": "https://localhost:8080/"
        },
        "id": "Efy74UU94BBY",
        "outputId": "03327ca1-ab6a-4a86-bc31-d9f1e2238823"
      },
      "execution_count": 52,
      "outputs": [
        {
          "output_type": "stream",
          "name": "stdout",
          "text": [
            "<class 'pandas.core.frame.DataFrame'>\n",
            "Int64Index: 2198 entries, 0 to 2239\n",
            "Data columns (total 13 columns):\n",
            " #   Column            Non-Null Count  Dtype  \n",
            "---  ------            --------------  -----  \n",
            " 0   renda             2198 non-null   float64\n",
            " 1   recencia          2198 non-null   int64  \n",
            " 2   compras_desconto  2198 non-null   int64  \n",
            " 3   compras_site      2198 non-null   int64  \n",
            " 4   compras_catalogo  2198 non-null   int64  \n",
            " 5   compras_loja      2198 non-null   int64  \n",
            " 6   num_visitas       2198 non-null   int64  \n",
            " 7   idade             2198 non-null   int64  \n",
            " 8   ensino_basico     2198 non-null   int64  \n",
            " 9   graduacao         2198 non-null   int64  \n",
            " 10  casado            2198 non-null   int64  \n",
            " 11  filhos            2198 non-null   int64  \n",
            " 12  gasto_total       2198 non-null   int64  \n",
            "dtypes: float64(1), int64(12)\n",
            "memory usage: 240.4 KB\n"
          ]
        }
      ]
    },
    {
      "cell_type": "code",
      "source": [
        "scaler = StandardScaler()"
      ],
      "metadata": {
        "id": "OdkcKQrTZNEZ"
      },
      "execution_count": 53,
      "outputs": []
    },
    {
      "cell_type": "code",
      "source": [
        "base_sca = pd.DataFrame(scaler.fit_transform(base), columns = base.columns)"
      ],
      "metadata": {
        "id": "sDoSlVACaQVt"
      },
      "execution_count": 54,
      "outputs": []
    },
    {
      "cell_type": "code",
      "source": [
        "base_sca"
      ],
      "metadata": {
        "colab": {
          "base_uri": "https://localhost:8080/",
          "height": 488
        },
        "id": "cJLeccFGaEtt",
        "outputId": "6b08df15-1941-47e1-9c34-bd22000e7305"
      },
      "execution_count": 55,
      "outputs": [
        {
          "output_type": "execute_result",
          "data": {
            "text/html": [
              "\n",
              "  <div id=\"df-c895c55a-ee2d-4a8f-8a74-c79e8f648d9b\">\n",
              "    <div class=\"colab-df-container\">\n",
              "      <div>\n",
              "<style scoped>\n",
              "    .dataframe tbody tr th:only-of-type {\n",
              "        vertical-align: middle;\n",
              "    }\n",
              "\n",
              "    .dataframe tbody tr th {\n",
              "        vertical-align: top;\n",
              "    }\n",
              "\n",
              "    .dataframe thead th {\n",
              "        text-align: right;\n",
              "    }\n",
              "</style>\n",
              "<table border=\"1\" class=\"dataframe\">\n",
              "  <thead>\n",
              "    <tr style=\"text-align: right;\">\n",
              "      <th></th>\n",
              "      <th>renda</th>\n",
              "      <th>recencia</th>\n",
              "      <th>compras_desconto</th>\n",
              "      <th>compras_site</th>\n",
              "      <th>compras_catalogo</th>\n",
              "      <th>compras_loja</th>\n",
              "      <th>num_visitas</th>\n",
              "      <th>idade</th>\n",
              "      <th>ensino_basico</th>\n",
              "      <th>graduacao</th>\n",
              "      <th>casado</th>\n",
              "      <th>filhos</th>\n",
              "      <th>gasto_total</th>\n",
              "    </tr>\n",
              "  </thead>\n",
              "  <tbody>\n",
              "    <tr>\n",
              "      <th>0</th>\n",
              "      <td>0.288385</td>\n",
              "      <td>0.307100</td>\n",
              "      <td>0.380424</td>\n",
              "      <td>1.473444</td>\n",
              "      <td>2.646585</td>\n",
              "      <td>-0.570409</td>\n",
              "      <td>0.749694</td>\n",
              "      <td>1.018225</td>\n",
              "      <td>-0.359856</td>\n",
              "      <td>0.992747</td>\n",
              "      <td>-1.350997</td>\n",
              "      <td>-1.267528</td>\n",
              "      <td>1.676277</td>\n",
              "    </tr>\n",
              "    <tr>\n",
              "      <th>1</th>\n",
              "      <td>-0.272047</td>\n",
              "      <td>-0.384221</td>\n",
              "      <td>-0.166809</td>\n",
              "      <td>-1.163877</td>\n",
              "      <td>-0.594392</td>\n",
              "      <td>-1.189703</td>\n",
              "      <td>-0.123327</td>\n",
              "      <td>1.274776</td>\n",
              "      <td>-0.359856</td>\n",
              "      <td>0.992747</td>\n",
              "      <td>-1.350997</td>\n",
              "      <td>1.402359</td>\n",
              "      <td>-0.965567</td>\n",
              "    </tr>\n",
              "    <tr>\n",
              "      <th>2</th>\n",
              "      <td>0.928695</td>\n",
              "      <td>-0.799013</td>\n",
              "      <td>-0.714043</td>\n",
              "      <td>1.473444</td>\n",
              "      <td>-0.234284</td>\n",
              "      <td>1.287471</td>\n",
              "      <td>-0.559838</td>\n",
              "      <td>0.334091</td>\n",
              "      <td>-0.359856</td>\n",
              "      <td>0.992747</td>\n",
              "      <td>0.740194</td>\n",
              "      <td>-1.267528</td>\n",
              "      <td>0.278924</td>\n",
              "    </tr>\n",
              "    <tr>\n",
              "      <th>3</th>\n",
              "      <td>-1.208063</td>\n",
              "      <td>-0.799013</td>\n",
              "      <td>-0.166809</td>\n",
              "      <td>-0.787117</td>\n",
              "      <td>-0.954501</td>\n",
              "      <td>-0.570409</td>\n",
              "      <td>0.313183</td>\n",
              "      <td>-1.290727</td>\n",
              "      <td>-0.359856</td>\n",
              "      <td>0.992747</td>\n",
              "      <td>0.740194</td>\n",
              "      <td>0.067415</td>\n",
              "      <td>-0.922367</td>\n",
              "    </tr>\n",
              "    <tr>\n",
              "      <th>4</th>\n",
              "      <td>0.295751</td>\n",
              "      <td>1.551477</td>\n",
              "      <td>1.474891</td>\n",
              "      <td>0.343164</td>\n",
              "      <td>0.125825</td>\n",
              "      <td>0.048884</td>\n",
              "      <td>-0.123327</td>\n",
              "      <td>-1.034177</td>\n",
              "      <td>-0.359856</td>\n",
              "      <td>-1.007306</td>\n",
              "      <td>0.740194</td>\n",
              "      <td>0.067415</td>\n",
              "      <td>-0.309260</td>\n",
              "    </tr>\n",
              "    <tr>\n",
              "      <th>...</th>\n",
              "      <td>...</td>\n",
              "      <td>...</td>\n",
              "      <td>...</td>\n",
              "      <td>...</td>\n",
              "      <td>...</td>\n",
              "      <td>...</td>\n",
              "      <td>...</td>\n",
              "      <td>...</td>\n",
              "      <td>...</td>\n",
              "      <td>...</td>\n",
              "      <td>...</td>\n",
              "      <td>...</td>\n",
              "      <td>...</td>\n",
              "    </tr>\n",
              "    <tr>\n",
              "      <th>2193</th>\n",
              "      <td>0.434979</td>\n",
              "      <td>-0.107693</td>\n",
              "      <td>-0.166809</td>\n",
              "      <td>1.850204</td>\n",
              "      <td>0.125825</td>\n",
              "      <td>-0.570409</td>\n",
              "      <td>-0.123327</td>\n",
              "      <td>0.163058</td>\n",
              "      <td>-0.359856</td>\n",
              "      <td>0.992747</td>\n",
              "      <td>0.740194</td>\n",
              "      <td>0.067415</td>\n",
              "      <td>1.217693</td>\n",
              "    </tr>\n",
              "    <tr>\n",
              "      <th>2194</th>\n",
              "      <td>0.567603</td>\n",
              "      <td>0.237968</td>\n",
              "      <td>2.569358</td>\n",
              "      <td>1.473444</td>\n",
              "      <td>-0.234284</td>\n",
              "      <td>-0.260763</td>\n",
              "      <td>0.749694</td>\n",
              "      <td>1.958910</td>\n",
              "      <td>-0.359856</td>\n",
              "      <td>-1.007306</td>\n",
              "      <td>0.740194</td>\n",
              "      <td>2.737302</td>\n",
              "      <td>-0.272706</td>\n",
              "    </tr>\n",
              "    <tr>\n",
              "      <th>2195</th>\n",
              "      <td>0.233406</td>\n",
              "      <td>1.447779</td>\n",
              "      <td>-0.714043</td>\n",
              "      <td>-0.787117</td>\n",
              "      <td>0.125825</td>\n",
              "      <td>2.216412</td>\n",
              "      <td>0.313183</td>\n",
              "      <td>-1.034177</td>\n",
              "      <td>-0.359856</td>\n",
              "      <td>0.992747</td>\n",
              "      <td>-1.350997</td>\n",
              "      <td>-1.267528</td>\n",
              "      <td>1.051539</td>\n",
              "    </tr>\n",
              "    <tr>\n",
              "      <th>2196</th>\n",
              "      <td>0.816172</td>\n",
              "      <td>-1.421202</td>\n",
              "      <td>-0.166809</td>\n",
              "      <td>0.719924</td>\n",
              "      <td>0.846042</td>\n",
              "      <td>1.287471</td>\n",
              "      <td>-0.996348</td>\n",
              "      <td>1.103742</td>\n",
              "      <td>-0.359856</td>\n",
              "      <td>-1.007306</td>\n",
              "      <td>0.740194</td>\n",
              "      <td>0.067415</td>\n",
              "      <td>0.390247</td>\n",
              "    </tr>\n",
              "    <tr>\n",
              "      <th>2197</th>\n",
              "      <td>0.038011</td>\n",
              "      <td>-0.315089</td>\n",
              "      <td>0.380424</td>\n",
              "      <td>-0.410357</td>\n",
              "      <td>-0.594392</td>\n",
              "      <td>-0.570409</td>\n",
              "      <td>0.749694</td>\n",
              "      <td>1.274776</td>\n",
              "      <td>-0.359856</td>\n",
              "      <td>-1.007306</td>\n",
              "      <td>0.740194</td>\n",
              "      <td>1.402359</td>\n",
              "      <td>-0.724644</td>\n",
              "    </tr>\n",
              "  </tbody>\n",
              "</table>\n",
              "<p>2198 rows × 13 columns</p>\n",
              "</div>\n",
              "      <button class=\"colab-df-convert\" onclick=\"convertToInteractive('df-c895c55a-ee2d-4a8f-8a74-c79e8f648d9b')\"\n",
              "              title=\"Convert this dataframe to an interactive table.\"\n",
              "              style=\"display:none;\">\n",
              "        \n",
              "  <svg xmlns=\"http://www.w3.org/2000/svg\" height=\"24px\"viewBox=\"0 0 24 24\"\n",
              "       width=\"24px\">\n",
              "    <path d=\"M0 0h24v24H0V0z\" fill=\"none\"/>\n",
              "    <path d=\"M18.56 5.44l.94 2.06.94-2.06 2.06-.94-2.06-.94-.94-2.06-.94 2.06-2.06.94zm-11 1L8.5 8.5l.94-2.06 2.06-.94-2.06-.94L8.5 2.5l-.94 2.06-2.06.94zm10 10l.94 2.06.94-2.06 2.06-.94-2.06-.94-.94-2.06-.94 2.06-2.06.94z\"/><path d=\"M17.41 7.96l-1.37-1.37c-.4-.4-.92-.59-1.43-.59-.52 0-1.04.2-1.43.59L10.3 9.45l-7.72 7.72c-.78.78-.78 2.05 0 2.83L4 21.41c.39.39.9.59 1.41.59.51 0 1.02-.2 1.41-.59l7.78-7.78 2.81-2.81c.8-.78.8-2.07 0-2.86zM5.41 20L4 18.59l7.72-7.72 1.47 1.35L5.41 20z\"/>\n",
              "  </svg>\n",
              "      </button>\n",
              "      \n",
              "  <style>\n",
              "    .colab-df-container {\n",
              "      display:flex;\n",
              "      flex-wrap:wrap;\n",
              "      gap: 12px;\n",
              "    }\n",
              "\n",
              "    .colab-df-convert {\n",
              "      background-color: #E8F0FE;\n",
              "      border: none;\n",
              "      border-radius: 50%;\n",
              "      cursor: pointer;\n",
              "      display: none;\n",
              "      fill: #1967D2;\n",
              "      height: 32px;\n",
              "      padding: 0 0 0 0;\n",
              "      width: 32px;\n",
              "    }\n",
              "\n",
              "    .colab-df-convert:hover {\n",
              "      background-color: #E2EBFA;\n",
              "      box-shadow: 0px 1px 2px rgba(60, 64, 67, 0.3), 0px 1px 3px 1px rgba(60, 64, 67, 0.15);\n",
              "      fill: #174EA6;\n",
              "    }\n",
              "\n",
              "    [theme=dark] .colab-df-convert {\n",
              "      background-color: #3B4455;\n",
              "      fill: #D2E3FC;\n",
              "    }\n",
              "\n",
              "    [theme=dark] .colab-df-convert:hover {\n",
              "      background-color: #434B5C;\n",
              "      box-shadow: 0px 1px 3px 1px rgba(0, 0, 0, 0.15);\n",
              "      filter: drop-shadow(0px 1px 2px rgba(0, 0, 0, 0.3));\n",
              "      fill: #FFFFFF;\n",
              "    }\n",
              "  </style>\n",
              "\n",
              "      <script>\n",
              "        const buttonEl =\n",
              "          document.querySelector('#df-c895c55a-ee2d-4a8f-8a74-c79e8f648d9b button.colab-df-convert');\n",
              "        buttonEl.style.display =\n",
              "          google.colab.kernel.accessAllowed ? 'block' : 'none';\n",
              "\n",
              "        async function convertToInteractive(key) {\n",
              "          const element = document.querySelector('#df-c895c55a-ee2d-4a8f-8a74-c79e8f648d9b');\n",
              "          const dataTable =\n",
              "            await google.colab.kernel.invokeFunction('convertToInteractive',\n",
              "                                                     [key], {});\n",
              "          if (!dataTable) return;\n",
              "\n",
              "          const docLinkHtml = 'Like what you see? Visit the ' +\n",
              "            '<a target=\"_blank\" href=https://colab.research.google.com/notebooks/data_table.ipynb>data table notebook</a>'\n",
              "            + ' to learn more about interactive tables.';\n",
              "          element.innerHTML = '';\n",
              "          dataTable['output_type'] = 'display_data';\n",
              "          await google.colab.output.renderOutput(dataTable, element);\n",
              "          const docLink = document.createElement('div');\n",
              "          docLink.innerHTML = docLinkHtml;\n",
              "          element.appendChild(docLink);\n",
              "        }\n",
              "      </script>\n",
              "    </div>\n",
              "  </div>\n",
              "  "
            ],
            "text/plain": [
              "         renda  recencia  compras_desconto  ...    casado    filhos  gasto_total\n",
              "0     0.288385  0.307100          0.380424  ... -1.350997 -1.267528     1.676277\n",
              "1    -0.272047 -0.384221         -0.166809  ... -1.350997  1.402359    -0.965567\n",
              "2     0.928695 -0.799013         -0.714043  ...  0.740194 -1.267528     0.278924\n",
              "3    -1.208063 -0.799013         -0.166809  ...  0.740194  0.067415    -0.922367\n",
              "4     0.295751  1.551477          1.474891  ...  0.740194  0.067415    -0.309260\n",
              "...        ...       ...               ...  ...       ...       ...          ...\n",
              "2193  0.434979 -0.107693         -0.166809  ...  0.740194  0.067415     1.217693\n",
              "2194  0.567603  0.237968          2.569358  ...  0.740194  2.737302    -0.272706\n",
              "2195  0.233406  1.447779         -0.714043  ... -1.350997 -1.267528     1.051539\n",
              "2196  0.816172 -1.421202         -0.166809  ...  0.740194  0.067415     0.390247\n",
              "2197  0.038011 -0.315089          0.380424  ...  0.740194  1.402359    -0.724644\n",
              "\n",
              "[2198 rows x 13 columns]"
            ]
          },
          "metadata": {},
          "execution_count": 55
        }
      ]
    },
    {
      "cell_type": "code",
      "source": [
        "pca = PCA()"
      ],
      "metadata": {
        "id": "I5jAPd3b4Y5v"
      },
      "execution_count": 56,
      "outputs": []
    },
    {
      "cell_type": "code",
      "source": [
        "pca.fit_transform(base_sca)"
      ],
      "metadata": {
        "colab": {
          "base_uri": "https://localhost:8080/"
        },
        "id": "uWsH7gNr_h7u",
        "outputId": "df0623e3-5e5b-41ce-aa51-4ef2fb2069b5"
      },
      "execution_count": 57,
      "outputs": [
        {
          "output_type": "execute_result",
          "data": {
            "text/plain": [
              "array([[ 2.42728603,  0.91708599, -0.59414534, ..., -0.33506325,\n",
              "         0.30319364,  0.07241855],\n",
              "       [-1.72518472,  0.05773393, -1.47515826, ..., -0.02392177,\n",
              "        -0.01740342, -0.04107666],\n",
              "       [ 1.99365675, -0.01058496, -0.62036696, ...,  0.68290339,\n",
              "        -0.03380255, -0.30359936],\n",
              "       ...,\n",
              "       [ 1.53184936, -0.94985887, -0.98400704, ..., -1.5553654 ,\n",
              "        -0.57593097, -0.08062589],\n",
              "       [ 1.99444152,  0.49752678,  0.71413815, ..., -0.05758252,\n",
              "         0.61557796, -0.08738513],\n",
              "       [-1.43872386,  1.10199107,  0.36965973, ..., -0.27440314,\n",
              "        -0.23684832, -0.2965001 ]])"
            ]
          },
          "metadata": {},
          "execution_count": 57
        }
      ]
    },
    {
      "cell_type": "code",
      "source": [
        "pca.explained_variance_ratio_.cumsum()"
      ],
      "metadata": {
        "colab": {
          "base_uri": "https://localhost:8080/"
        },
        "id": "QTjT_5-h_j4C",
        "outputId": "13c656a8-a29f-412d-fc1f-046cfcf95a08"
      },
      "execution_count": 58,
      "outputs": [
        {
          "output_type": "execute_result",
          "data": {
            "text/plain": [
              "array([0.3245675 , 0.45782268, 0.56165435, 0.64166819, 0.71845495,\n",
              "       0.79510839, 0.84513571, 0.89018091, 0.92317673, 0.95371994,\n",
              "       0.97490735, 0.99044959, 1.        ])"
            ]
          },
          "metadata": {},
          "execution_count": 58
        }
      ]
    },
    {
      "cell_type": "code",
      "source": [
        "pca = PCA(n_components = 6)"
      ],
      "metadata": {
        "id": "YL3OQH0qBlrZ"
      },
      "execution_count": 59,
      "outputs": []
    },
    {
      "cell_type": "code",
      "source": [
        "base_pca = pca.fit_transform(base_sca)"
      ],
      "metadata": {
        "id": "P3-yoc-QBosm"
      },
      "execution_count": 60,
      "outputs": []
    },
    {
      "cell_type": "code",
      "source": [
        "#Método do cotovelo para a seleção da quantidade de cluters"
      ],
      "metadata": {
        "id": "oEw8NMg3Bwrx"
      },
      "execution_count": 61,
      "outputs": []
    },
    {
      "cell_type": "code",
      "source": [
        "cot = KElbowVisualizer(KMeans(), k = 10)"
      ],
      "metadata": {
        "id": "rIawIFnZCHaF"
      },
      "execution_count": 62,
      "outputs": []
    },
    {
      "cell_type": "code",
      "source": [
        "cot.fit(base_pca)\n",
        "cot.show()"
      ],
      "metadata": {
        "colab": {
          "base_uri": "https://localhost:8080/",
          "height": 311
        },
        "id": "juPkQ42RCQl4",
        "outputId": "9616e4cc-7ec1-4857-e8aa-6ee079a75ad7"
      },
      "execution_count": 63,
      "outputs": [
        {
          "output_type": "display_data",
          "data": {
            "image/png": "[encoded data removed]",
            "text/plain": [
              "<Figure size 432x288 with 2 Axes>"
            ]
          },
          "metadata": {}
        },
        {
          "output_type": "execute_result",
          "data": {
            "text/plain": [
              "<matplotlib.axes._subplots.AxesSubplot at 0x7ff51d17c050>"
            ]
          },
          "metadata": {},
          "execution_count": 63
        }
      ]
    },
    {
      "cell_type": "code",
      "source": [
        "kmeans = KMeans(n_clusters = 4)"
      ],
      "metadata": {
        "id": "i-u7TGO-CTqj"
      },
      "execution_count": 64,
      "outputs": []
    },
    {
      "cell_type": "code",
      "source": [
        "cluster_pred = kmeans.fit_predict(base_pca)"
      ],
      "metadata": {
        "id": "R6e6hqyYC2KE"
      },
      "execution_count": 65,
      "outputs": []
    },
    {
      "cell_type": "code",
      "source": [
        "base['cluster'] = cluster_pred"
      ],
      "metadata": {
        "id": "1QRHwcRTDJ9V"
      },
      "execution_count": 66,
      "outputs": []
    },
    {
      "cell_type": "code",
      "source": [
        "base.head()"
      ],
      "metadata": {
        "colab": {
          "base_uri": "https://localhost:8080/",
          "height": 270
        },
        "id": "Ck8xkcboDQE3",
        "outputId": "6e9234cd-3c02-4ebd-ce7b-ebb44eff324b"
      },
      "execution_count": 67,
      "outputs": [
        {
          "output_type": "execute_result",
          "data": {
            "text/html": [
              "\n",
              "  <div id=\"df-3b0e149b-73a4-4ce4-bc24-b18456ea121e\">\n",
              "    <div class=\"colab-df-container\">\n",
              "      <div>\n",
              "<style scoped>\n",
              "    .dataframe tbody tr th:only-of-type {\n",
              "        vertical-align: middle;\n",
              "    }\n",
              "\n",
              "    .dataframe tbody tr th {\n",
              "        vertical-align: top;\n",
              "    }\n",
              "\n",
              "    .dataframe thead th {\n",
              "        text-align: right;\n",
              "    }\n",
              "</style>\n",
              "<table border=\"1\" class=\"dataframe\">\n",
              "  <thead>\n",
              "    <tr style=\"text-align: right;\">\n",
              "      <th></th>\n",
              "      <th>renda</th>\n",
              "      <th>recencia</th>\n",
              "      <th>compras_desconto</th>\n",
              "      <th>compras_site</th>\n",
              "      <th>compras_catalogo</th>\n",
              "      <th>compras_loja</th>\n",
              "      <th>num_visitas</th>\n",
              "      <th>idade</th>\n",
              "      <th>ensino_basico</th>\n",
              "      <th>graduacao</th>\n",
              "      <th>casado</th>\n",
              "      <th>filhos</th>\n",
              "      <th>gasto_total</th>\n",
              "      <th>cluster</th>\n",
              "    </tr>\n",
              "  </thead>\n",
              "  <tbody>\n",
              "    <tr>\n",
              "      <th>0</th>\n",
              "      <td>58138.0</td>\n",
              "      <td>58</td>\n",
              "      <td>3</td>\n",
              "      <td>8</td>\n",
              "      <td>10</td>\n",
              "      <td>4</td>\n",
              "      <td>7</td>\n",
              "      <td>65</td>\n",
              "      <td>0</td>\n",
              "      <td>1</td>\n",
              "      <td>0</td>\n",
              "      <td>0</td>\n",
              "      <td>1617</td>\n",
              "      <td>1</td>\n",
              "    </tr>\n",
              "    <tr>\n",
              "      <th>1</th>\n",
              "      <td>46344.0</td>\n",
              "      <td>38</td>\n",
              "      <td>2</td>\n",
              "      <td>1</td>\n",
              "      <td>1</td>\n",
              "      <td>2</td>\n",
              "      <td>5</td>\n",
              "      <td>68</td>\n",
              "      <td>0</td>\n",
              "      <td>1</td>\n",
              "      <td>0</td>\n",
              "      <td>2</td>\n",
              "      <td>27</td>\n",
              "      <td>0</td>\n",
              "    </tr>\n",
              "    <tr>\n",
              "      <th>2</th>\n",
              "      <td>71613.0</td>\n",
              "      <td>26</td>\n",
              "      <td>1</td>\n",
              "      <td>8</td>\n",
              "      <td>2</td>\n",
              "      <td>10</td>\n",
              "      <td>4</td>\n",
              "      <td>57</td>\n",
              "      <td>0</td>\n",
              "      <td>1</td>\n",
              "      <td>1</td>\n",
              "      <td>0</td>\n",
              "      <td>776</td>\n",
              "      <td>1</td>\n",
              "    </tr>\n",
              "    <tr>\n",
              "      <th>3</th>\n",
              "      <td>26646.0</td>\n",
              "      <td>26</td>\n",
              "      <td>2</td>\n",
              "      <td>2</td>\n",
              "      <td>0</td>\n",
              "      <td>4</td>\n",
              "      <td>6</td>\n",
              "      <td>38</td>\n",
              "      <td>0</td>\n",
              "      <td>1</td>\n",
              "      <td>1</td>\n",
              "      <td>1</td>\n",
              "      <td>53</td>\n",
              "      <td>0</td>\n",
              "    </tr>\n",
              "    <tr>\n",
              "      <th>4</th>\n",
              "      <td>58293.0</td>\n",
              "      <td>94</td>\n",
              "      <td>5</td>\n",
              "      <td>5</td>\n",
              "      <td>3</td>\n",
              "      <td>6</td>\n",
              "      <td>5</td>\n",
              "      <td>41</td>\n",
              "      <td>0</td>\n",
              "      <td>0</td>\n",
              "      <td>1</td>\n",
              "      <td>1</td>\n",
              "      <td>422</td>\n",
              "      <td>3</td>\n",
              "    </tr>\n",
              "  </tbody>\n",
              "</table>\n",
              "</div>\n",
              "      <button class=\"colab-df-convert\" onclick=\"convertToInteractive('df-3b0e149b-73a4-4ce4-bc24-b18456ea121e')\"\n",
              "              title=\"Convert this dataframe to an interactive table.\"\n",
              "              style=\"display:none;\">\n",
              "        \n",
              "  <svg xmlns=\"http://www.w3.org/2000/svg\" height=\"24px\"viewBox=\"0 0 24 24\"\n",
              "       width=\"24px\">\n",
              "    <path d=\"M0 0h24v24H0V0z\" fill=\"none\"/>\n",
              "    <path d=\"M18.56 5.44l.94 2.06.94-2.06 2.06-.94-2.06-.94-.94-2.06-.94 2.06-2.06.94zm-11 1L8.5 8.5l.94-2.06 2.06-.94-2.06-.94L8.5 2.5l-.94 2.06-2.06.94zm10 10l.94 2.06.94-2.06 2.06-.94-2.06-.94-.94-2.06-.94 2.06-2.06.94z\"/><path d=\"M17.41 7.96l-1.37-1.37c-.4-.4-.92-.59-1.43-.59-.52 0-1.04.2-1.43.59L10.3 9.45l-7.72 7.72c-.78.78-.78 2.05 0 2.83L4 21.41c.39.39.9.59 1.41.59.51 0 1.02-.2 1.41-.59l7.78-7.78 2.81-2.81c.8-.78.8-2.07 0-2.86zM5.41 20L4 18.59l7.72-7.72 1.47 1.35L5.41 20z\"/>\n",
              "  </svg>\n",
              "      </button>\n",
              "      \n",
              "  <style>\n",
              "    .colab-df-container {\n",
              "      display:flex;\n",
              "      flex-wrap:wrap;\n",
              "      gap: 12px;\n",
              "    }\n",
              "\n",
              "    .colab-df-convert {\n",
              "      background-color: #E8F0FE;\n",
              "      border: none;\n",
              "      border-radius: 50%;\n",
              "      cursor: pointer;\n",
              "      display: none;\n",
              "      fill: #1967D2;\n",
              "      height: 32px;\n",
              "      padding: 0 0 0 0;\n",
              "      width: 32px;\n",
              "    }\n",
              "\n",
              "    .colab-df-convert:hover {\n",
              "      background-color: #E2EBFA;\n",
              "      box-shadow: 0px 1px 2px rgba(60, 64, 67, 0.3), 0px 1px 3px 1px rgba(60, 64, 67, 0.15);\n",
              "      fill: #174EA6;\n",
              "    }\n",
              "\n",
              "    [theme=dark] .colab-df-convert {\n",
              "      background-color: #3B4455;\n",
              "      fill: #D2E3FC;\n",
              "    }\n",
              "\n",
              "    [theme=dark] .colab-df-convert:hover {\n",
              "      background-color: #434B5C;\n",
              "      box-shadow: 0px 1px 3px 1px rgba(0, 0, 0, 0.15);\n",
              "      filter: drop-shadow(0px 1px 2px rgba(0, 0, 0, 0.3));\n",
              "      fill: #FFFFFF;\n",
              "    }\n",
              "  </style>\n",
              "\n",
              "      <script>\n",
              "        const buttonEl =\n",
              "          document.querySelector('#df-3b0e149b-73a4-4ce4-bc24-b18456ea121e button.colab-df-convert');\n",
              "        buttonEl.style.display =\n",
              "          google.colab.kernel.accessAllowed ? 'block' : 'none';\n",
              "\n",
              "        async function convertToInteractive(key) {\n",
              "          const element = document.querySelector('#df-3b0e149b-73a4-4ce4-bc24-b18456ea121e');\n",
              "          const dataTable =\n",
              "            await google.colab.kernel.invokeFunction('convertToInteractive',\n",
              "                                                     [key], {});\n",
              "          if (!dataTable) return;\n",
              "\n",
              "          const docLinkHtml = 'Like what you see? Visit the ' +\n",
              "            '<a target=\"_blank\" href=https://colab.research.google.com/notebooks/data_table.ipynb>data table notebook</a>'\n",
              "            + ' to learn more about interactive tables.';\n",
              "          element.innerHTML = '';\n",
              "          dataTable['output_type'] = 'display_data';\n",
              "          await google.colab.output.renderOutput(dataTable, element);\n",
              "          const docLink = document.createElement('div');\n",
              "          docLink.innerHTML = docLinkHtml;\n",
              "          element.appendChild(docLink);\n",
              "        }\n",
              "      </script>\n",
              "    </div>\n",
              "  </div>\n",
              "  "
            ],
            "text/plain": [
              "     renda  recencia  compras_desconto  ...  filhos  gasto_total  cluster\n",
              "0  58138.0        58                 3  ...       0         1617        1\n",
              "1  46344.0        38                 2  ...       2           27        0\n",
              "2  71613.0        26                 1  ...       0          776        1\n",
              "3  26646.0        26                 2  ...       1           53        0\n",
              "4  58293.0        94                 5  ...       1          422        3\n",
              "\n",
              "[5 rows x 14 columns]"
            ]
          },
          "metadata": {},
          "execution_count": 67
        }
      ]
    },
    {
      "cell_type": "code",
      "source": [
        "base['cluster'] = base['cluster'].replace({0:'A',1:'B',2:'C',3:'D'})"
      ],
      "metadata": {
        "id": "KEQsxwePIl_T"
      },
      "execution_count": 68,
      "outputs": []
    },
    {
      "cell_type": "code",
      "source": [
        "base = base.sort_values('cluster')"
      ],
      "metadata": {
        "id": "qsztYYoFKgG2"
      },
      "execution_count": 69,
      "outputs": []
    },
    {
      "cell_type": "code",
      "source": [
        "sns.countplot(x = 'cluster', data = base)\n",
        "plt.xlabel('Frequência')\n",
        "plt.ylabel('Cluster')\n",
        "plt.title('Contagem de cada cluster')\n",
        "plt.show()"
      ],
      "metadata": {
        "colab": {
          "base_uri": "https://localhost:8080/",
          "height": 294
        },
        "id": "2pnT-5HFKjU_",
        "outputId": "7143635b-42f1-4cd6-81a1-b376e1979dd4"
      },
      "execution_count": 80,
      "outputs": [
        {
          "output_type": "display_data",
          "data": {
            "image/png": "[encoded data removed]",
            "text/plain": [
              "<Figure size 432x288 with 1 Axes>"
            ]
          },
          "metadata": {
            "needs_background": "light"
          }
        }
      ]
    },
    {
      "cell_type": "code",
      "source": [
        "base['cluster'].value_counts(normalize=True)"
      ],
      "metadata": {
        "colab": {
          "base_uri": "https://localhost:8080/"
        },
        "id": "cqAZ3E6Sl8NY",
        "outputId": "f7bbed39-3527-4049-ccbb-218757ac3354"
      },
      "execution_count": 81,
      "outputs": [
        {
          "output_type": "execute_result",
          "data": {
            "text/plain": [
              "A    0.384440\n",
              "B    0.292084\n",
              "D    0.240673\n",
              "C    0.082803\n",
              "Name: cluster, dtype: float64"
            ]
          },
          "metadata": {},
          "execution_count": 81
        }
      ]
    },
    {
      "cell_type": "code",
      "source": [
        "base.info()"
      ],
      "metadata": {
        "colab": {
          "base_uri": "https://localhost:8080/"
        },
        "id": "cMq7vOsySsg8",
        "outputId": "08e3fb73-97ad-4f35-92ff-429807c5d9bb"
      },
      "execution_count": 71,
      "outputs": [
        {
          "output_type": "stream",
          "name": "stdout",
          "text": [
            "<class 'pandas.core.frame.DataFrame'>\n",
            "Int64Index: 2198 entries, 2239 to 630\n",
            "Data columns (total 14 columns):\n",
            " #   Column            Non-Null Count  Dtype  \n",
            "---  ------            --------------  -----  \n",
            " 0   renda             2198 non-null   float64\n",
            " 1   recencia          2198 non-null   int64  \n",
            " 2   compras_desconto  2198 non-null   int64  \n",
            " 3   compras_site      2198 non-null   int64  \n",
            " 4   compras_catalogo  2198 non-null   int64  \n",
            " 5   compras_loja      2198 non-null   int64  \n",
            " 6   num_visitas       2198 non-null   int64  \n",
            " 7   idade             2198 non-null   int64  \n",
            " 8   ensino_basico     2198 non-null   int64  \n",
            " 9   graduacao         2198 non-null   int64  \n",
            " 10  casado            2198 non-null   int64  \n",
            " 11  filhos            2198 non-null   int64  \n",
            " 12  gasto_total       2198 non-null   int64  \n",
            " 13  cluster           2198 non-null   object \n",
            "dtypes: float64(1), int64(12), object(1)\n",
            "memory usage: 337.6+ KB\n"
          ]
        }
      ]
    },
    {
      "cell_type": "code",
      "source": [
        "med = base.groupby('cluster').mean()"
      ],
      "metadata": {
        "id": "M2sD0SNH4Oih"
      },
      "execution_count": 72,
      "outputs": []
    },
    {
      "cell_type": "code",
      "source": [
        "cont = base['cluster'].value_counts()"
      ],
      "metadata": {
        "id": "OsQMFeNi43x_"
      },
      "execution_count": 73,
      "outputs": []
    },
    {
      "cell_type": "code",
      "source": [
        "med"
      ],
      "metadata": {
        "colab": {
          "base_uri": "https://localhost:8080/",
          "height": 270
        },
        "id": "U9DJrCX-51hU",
        "outputId": "e0faf811-aa1a-4141-8cd1-920d68b8ba5f"
      },
      "execution_count": 74,
      "outputs": [
        {
          "output_type": "execute_result",
          "data": {
            "text/html": [
              "\n",
              "  <div id=\"df-47febe10-2ad4-4cda-86a0-21bec37c5dc4\">\n",
              "    <div class=\"colab-df-container\">\n",
              "      <div>\n",
              "<style scoped>\n",
              "    .dataframe tbody tr th:only-of-type {\n",
              "        vertical-align: middle;\n",
              "    }\n",
              "\n",
              "    .dataframe tbody tr th {\n",
              "        vertical-align: top;\n",
              "    }\n",
              "\n",
              "    .dataframe thead th {\n",
              "        text-align: right;\n",
              "    }\n",
              "</style>\n",
              "<table border=\"1\" class=\"dataframe\">\n",
              "  <thead>\n",
              "    <tr style=\"text-align: right;\">\n",
              "      <th></th>\n",
              "      <th>renda</th>\n",
              "      <th>recencia</th>\n",
              "      <th>compras_desconto</th>\n",
              "      <th>compras_site</th>\n",
              "      <th>compras_catalogo</th>\n",
              "      <th>compras_loja</th>\n",
              "      <th>num_visitas</th>\n",
              "      <th>idade</th>\n",
              "      <th>ensino_basico</th>\n",
              "      <th>graduacao</th>\n",
              "      <th>casado</th>\n",
              "      <th>filhos</th>\n",
              "      <th>gasto_total</th>\n",
              "    </tr>\n",
              "    <tr>\n",
              "      <th>cluster</th>\n",
              "      <th></th>\n",
              "      <th></th>\n",
              "      <th></th>\n",
              "      <th></th>\n",
              "      <th></th>\n",
              "      <th></th>\n",
              "      <th></th>\n",
              "      <th></th>\n",
              "      <th></th>\n",
              "      <th></th>\n",
              "      <th></th>\n",
              "      <th></th>\n",
              "      <th></th>\n",
              "    </tr>\n",
              "  </thead>\n",
              "  <tbody>\n",
              "    <tr>\n",
              "      <th>A</th>\n",
              "      <td>35962.531361</td>\n",
              "      <td>49.242604</td>\n",
              "      <td>1.926627</td>\n",
              "      <td>2.140828</td>\n",
              "      <td>0.578698</td>\n",
              "      <td>3.271006</td>\n",
              "      <td>6.305325</td>\n",
              "      <td>51.424852</td>\n",
              "      <td>0.000000</td>\n",
              "      <td>0.597633</td>\n",
              "      <td>0.639053</td>\n",
              "      <td>1.260355</td>\n",
              "      <td>100.177515</td>\n",
              "    </tr>\n",
              "    <tr>\n",
              "      <th>B</th>\n",
              "      <td>75328.141745</td>\n",
              "      <td>49.197819</td>\n",
              "      <td>1.230530</td>\n",
              "      <td>5.038941</td>\n",
              "      <td>5.707165</td>\n",
              "      <td>8.465732</td>\n",
              "      <td>2.794393</td>\n",
              "      <td>54.249221</td>\n",
              "      <td>0.077882</td>\n",
              "      <td>0.537383</td>\n",
              "      <td>0.627726</td>\n",
              "      <td>0.255452</td>\n",
              "      <td>1300.616822</td>\n",
              "    </tr>\n",
              "    <tr>\n",
              "      <th>C</th>\n",
              "      <td>30739.412088</td>\n",
              "      <td>49.714286</td>\n",
              "      <td>2.071429</td>\n",
              "      <td>2.263736</td>\n",
              "      <td>0.675824</td>\n",
              "      <td>3.489011</td>\n",
              "      <td>6.401099</td>\n",
              "      <td>46.219780</td>\n",
              "      <td>1.000000</td>\n",
              "      <td>0.000000</td>\n",
              "      <td>0.686813</td>\n",
              "      <td>1.005495</td>\n",
              "      <td>133.829670</td>\n",
              "    </tr>\n",
              "    <tr>\n",
              "      <th>D</th>\n",
              "      <td>56907.863894</td>\n",
              "      <td>48.606805</td>\n",
              "      <td>4.293006</td>\n",
              "      <td>6.676749</td>\n",
              "      <td>2.930057</td>\n",
              "      <td>7.574669</td>\n",
              "      <td>6.283554</td>\n",
              "      <td>56.720227</td>\n",
              "      <td>0.037807</td>\n",
              "      <td>0.485822</td>\n",
              "      <td>0.665406</td>\n",
              "      <td>1.275992</td>\n",
              "      <td>742.275992</td>\n",
              "    </tr>\n",
              "  </tbody>\n",
              "</table>\n",
              "</div>\n",
              "      <button class=\"colab-df-convert\" onclick=\"convertToInteractive('df-47febe10-2ad4-4cda-86a0-21bec37c5dc4')\"\n",
              "              title=\"Convert this dataframe to an interactive table.\"\n",
              "              style=\"display:none;\">\n",
              "        \n",
              "  <svg xmlns=\"http://www.w3.org/2000/svg\" height=\"24px\"viewBox=\"0 0 24 24\"\n",
              "       width=\"24px\">\n",
              "    <path d=\"M0 0h24v24H0V0z\" fill=\"none\"/>\n",
              "    <path d=\"M18.56 5.44l.94 2.06.94-2.06 2.06-.94-2.06-.94-.94-2.06-.94 2.06-2.06.94zm-11 1L8.5 8.5l.94-2.06 2.06-.94-2.06-.94L8.5 2.5l-.94 2.06-2.06.94zm10 10l.94 2.06.94-2.06 2.06-.94-2.06-.94-.94-2.06-.94 2.06-2.06.94z\"/><path d=\"M17.41 7.96l-1.37-1.37c-.4-.4-.92-.59-1.43-.59-.52 0-1.04.2-1.43.59L10.3 9.45l-7.72 7.72c-.78.78-.78 2.05 0 2.83L4 21.41c.39.39.9.59 1.41.59.51 0 1.02-.2 1.41-.59l7.78-7.78 2.81-2.81c.8-.78.8-2.07 0-2.86zM5.41 20L4 18.59l7.72-7.72 1.47 1.35L5.41 20z\"/>\n",
              "  </svg>\n",
              "      </button>\n",
              "      \n",
              "  <style>\n",
              "    .colab-df-container {\n",
              "      display:flex;\n",
              "      flex-wrap:wrap;\n",
              "      gap: 12px;\n",
              "    }\n",
              "\n",
              "    .colab-df-convert {\n",
              "      background-color: #E8F0FE;\n",
              "      border: none;\n",
              "      border-radius: 50%;\n",
              "      cursor: pointer;\n",
              "      display: none;\n",
              "      fill: #1967D2;\n",
              "      height: 32px;\n",
              "      padding: 0 0 0 0;\n",
              "      width: 32px;\n",
              "    }\n",
              "\n",
              "    .colab-df-convert:hover {\n",
              "      background-color: #E2EBFA;\n",
              "      box-shadow: 0px 1px 2px rgba(60, 64, 67, 0.3), 0px 1px 3px 1px rgba(60, 64, 67, 0.15);\n",
              "      fill: #174EA6;\n",
              "    }\n",
              "\n",
              "    [theme=dark] .colab-df-convert {\n",
              "      background-color: #3B4455;\n",
              "      fill: #D2E3FC;\n",
              "    }\n",
              "\n",
              "    [theme=dark] .colab-df-convert:hover {\n",
              "      background-color: #434B5C;\n",
              "      box-shadow: 0px 1px 3px 1px rgba(0, 0, 0, 0.15);\n",
              "      filter: drop-shadow(0px 1px 2px rgba(0, 0, 0, 0.3));\n",
              "      fill: #FFFFFF;\n",
              "    }\n",
              "  </style>\n",
              "\n",
              "      <script>\n",
              "        const buttonEl =\n",
              "          document.querySelector('#df-47febe10-2ad4-4cda-86a0-21bec37c5dc4 button.colab-df-convert');\n",
              "        buttonEl.style.display =\n",
              "          google.colab.kernel.accessAllowed ? 'block' : 'none';\n",
              "\n",
              "        async function convertToInteractive(key) {\n",
              "          const element = document.querySelector('#df-47febe10-2ad4-4cda-86a0-21bec37c5dc4');\n",
              "          const dataTable =\n",
              "            await google.colab.kernel.invokeFunction('convertToInteractive',\n",
              "                                                     [key], {});\n",
              "          if (!dataTable) return;\n",
              "\n",
              "          const docLinkHtml = 'Like what you see? Visit the ' +\n",
              "            '<a target=\"_blank\" href=https://colab.research.google.com/notebooks/data_table.ipynb>data table notebook</a>'\n",
              "            + ' to learn more about interactive tables.';\n",
              "          element.innerHTML = '';\n",
              "          dataTable['output_type'] = 'display_data';\n",
              "          await google.colab.output.renderOutput(dataTable, element);\n",
              "          const docLink = document.createElement('div');\n",
              "          docLink.innerHTML = docLinkHtml;\n",
              "          element.appendChild(docLink);\n",
              "        }\n",
              "      </script>\n",
              "    </div>\n",
              "  </div>\n",
              "  "
            ],
            "text/plain": [
              "                renda   recencia  ...    filhos  gasto_total\n",
              "cluster                           ...                       \n",
              "A        35962.531361  49.242604  ...  1.260355   100.177515\n",
              "B        75328.141745  49.197819  ...  0.255452  1300.616822\n",
              "C        30739.412088  49.714286  ...  1.005495   133.829670\n",
              "D        56907.863894  48.606805  ...  1.275992   742.275992\n",
              "\n",
              "[4 rows x 13 columns]"
            ]
          },
          "metadata": {},
          "execution_count": 74
        }
      ]
    },
    {
      "cell_type": "code",
      "source": [
        "sns.boxplot(x = 'cluster', y = 'renda', data = base)\n",
        "plt.xlabel('Cluster')\n",
        "plt.ylabel('Renda')\n",
        "plt.title('Distribuição da renda por cluster')\n",
        "plt.show()"
      ],
      "metadata": {
        "colab": {
          "base_uri": "https://localhost:8080/",
          "height": 294
        },
        "id": "6FoVG0uQabHd",
        "outputId": "d8722f3b-d2dc-4989-f172-94c083ace9a3"
      },
      "execution_count": 75,
      "outputs": [
        {
          "output_type": "display_data",
          "data": {
            "image/png": "[encoded data removed]",
            "text/plain": [
              "<Figure size 432x288 with 1 Axes>"
            ]
          },
          "metadata": {
            "needs_background": "light"
          }
        }
      ]
    },
    {
      "cell_type": "code",
      "source": [
        "sns.boxplot(x = 'cluster', y = 'compras_site', data = base)\n",
        "plt.xlabel('Cluster')\n",
        "plt.ylabel('Qntd de compras no site')\n",
        "plt.title('Frequência de compras no site por cluster')\n",
        "plt.show()"
      ],
      "metadata": {
        "colab": {
          "base_uri": "https://localhost:8080/",
          "height": 294
        },
        "id": "5zPqug4uagcI",
        "outputId": "386cdda9-5e78-4bd8-86c1-ffb0667438ae"
      },
      "execution_count": 76,
      "outputs": [
        {
          "output_type": "display_data",
          "data": {
            "image/png": "[encoded data removed]",
            "text/plain": [
              "<Figure size 432x288 with 1 Axes>"
            ]
          },
          "metadata": {
            "needs_background": "light"
          }
        }
      ]
    },
    {
      "cell_type": "code",
      "source": [
        "sns.boxplot(x = 'cluster', y = 'compras_catalogo', data = base)\n",
        "plt.xlabel('Cluster')\n",
        "plt.ylabel('Qntd de compras a partir do catalogo')\n",
        "plt.title('Frequência de compras pelo catalogo por cluster')\n",
        "plt.show()"
      ],
      "metadata": {
        "colab": {
          "base_uri": "https://localhost:8080/",
          "height": 294
        },
        "id": "M069_gtOac6g",
        "outputId": "3371e1f1-836e-4511-ece2-2a207cb16cdf"
      },
      "execution_count": 77,
      "outputs": [
        {
          "output_type": "display_data",
          "data": {
            "image/png": "[encoded data removed]",
            "text/plain": [
              "<Figure size 432x288 with 1 Axes>"
            ]
          },
          "metadata": {
            "needs_background": "light"
          }
        }
      ]
    },
    {
      "cell_type": "code",
      "source": [
        "sns.boxplot(x = 'cluster', y = 'idade', data = base)\n",
        "plt.xlabel('Cluster')\n",
        "plt.ylabel('Idade')\n",
        "plt.title('Distribuição das idades por cluster')\n",
        "plt.show()"
      ],
      "metadata": {
        "colab": {
          "base_uri": "https://localhost:8080/",
          "height": 294
        },
        "id": "hq_0qKMjboyD",
        "outputId": "33f8856b-b807-4080-96cd-38d6ee943f68"
      },
      "execution_count": 78,
      "outputs": [
        {
          "output_type": "display_data",
          "data": {
            "image/png": "[encoded data removed]",
            "text/plain": [
              "<Figure size 432x288 with 1 Axes>"
            ]
          },
          "metadata": {
            "needs_background": "light"
          }
        }
      ]
    },
    {
      "cell_type": "code",
      "source": [
        "sns.boxplot(x = 'gasto_total', y = 'idade', data = base)\n",
        "plt.xlabel('Cluster')\n",
        "plt.ylabel('Gasto total')\n",
        "plt.title('Gasto total por cluster')\n",
        "plt.show()"
      ],
      "metadata": {
        "colab": {
          "base_uri": "https://localhost:8080/",
          "height": 294
        },
        "id": "U7b1P-4KbwYC",
        "outputId": "8bedd908-845d-4821-8864-b509aa0d9a01"
      },
      "execution_count": 79,
      "outputs": [
        {
          "output_type": "display_data",
          "data": {
            "image/png": "[encoded data removed]",
            "text/plain": [
              "<Figure size 432x288 with 1 Axes>"
            ]
          },
          "metadata": {
            "needs_background": "light"
          }
        }
      ]
    },
    {
      "cell_type": "markdown",
      "source": [
        "Com base nos resultados, podemos deduzir algumas características dos clusters/grupos:\n",
        "\n",
        "\n",
        "Cluster/Grupo A:\n",
        "\n",
        "- Grupo mais frequente\n",
        "- Grupo que menos compra pelo catálogo, site e loja\n",
        "- Renda média de US$ 35.000\n",
        "- Todos frequentaram ao menos a graduação\n",
        "- Um dos grupos que mais tem filhos\n",
        "- Gasto total baixo \n",
        "\n",
        "Cluster/Grupo B:\n",
        "\n",
        "- Grupo de maior renda média\n",
        "- Menos reativos à descontos\n",
        "- Compram bastante pelo site, catálogo e loja\n",
        "- Fazem menos visitas ao site\n",
        "- O número médio de filhos é baixo (a cada 4 pessoas, 1 tem filho(s), em média)\n",
        "- Maior nível de gasto\n",
        "\n",
        "\n",
        "Cluster/Grupo C:\n",
        "\n",
        "- Menor nível de renda\n",
        "- Grupo menos frequente\n",
        "- Maior número de visitas ao site\n",
        "- Grupo mais novo\n",
        "- Todos do grupo possuem no máximo o ensino médio completo\n",
        "- Baixo nível de gasto\n",
        "\n",
        "\n",
        "Cluster/Grupo D:\n",
        "\n",
        "- Renda média/alta (US$ 56.000 em média)\n",
        "- Grupo bem reativo à todas as plataformas de vendas\n",
        "- Grupo mais velho\n",
        "- Grupo que possui mais filhos, em média\n",
        "- Alto nível de gasto\n",
        "\n"
      ],
      "metadata": {
        "id": "kFCL9HWjjxfY"
      }
    }
  ]
}