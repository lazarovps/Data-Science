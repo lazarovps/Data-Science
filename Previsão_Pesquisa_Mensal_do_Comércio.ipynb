{
  "nbformat": 4,
  "nbformat_minor": 5,
  "metadata": {
    "celltoolbar": "Format de la Cellule Texte Brut",
    "kernelspec": {
      "display_name": "Python 3",
      "language": "python",
      "name": "python3"
    },
    "language_info": {
      "codemirror_mode": {
        "name": "ipython",
        "version": 3
      },
      "file_extension": ".py",
      "mimetype": "text/x-python",
      "name": "python",
      "nbconvert_exporter": "python",
      "pygments_lexer": "ipython3",
      "version": "3.8.8"
    },
    "colab": {
      "name": "Previsão Pesquisa Mensal do Comércio.ipynb",
      "provenance": [],
      "include_colab_link": true
    }
  },
  "cells": [
    {
      "cell_type": "markdown",
      "metadata": {
        "id": "view-in-github",
        "colab_type": "text"
      },
      "source": [
        "<a href=\"https://colab.research.google.com/github/lazarovps/Data-Science/blob/main/Previs%C3%A3o_Pesquisa_Mensal_do_Com%C3%A9rcio.ipynb\" target=\"_parent\"><img src=\"https://colab.research.google.com/assets/colab-badge.svg\" alt=\"Open In Colab\"/></a>"
      ]
    },
    {
      "cell_type": "markdown",
      "metadata": {
        "id": "feb44d51"
      },
      "source": [
        "# Prevendo o volume de vendas do setor de alimentação e bebidas"
      ],
      "id": "feb44d51"
    },
    {
      "cell_type": "markdown",
      "metadata": {
        "id": "894e3c45"
      },
      "source": [
        "## Introdução"
      ],
      "id": "894e3c45"
    },
    {
      "cell_type": "markdown",
      "metadata": {
        "id": "92bffa07"
      },
      "source": [
        "O planejamento produtivo é essencial para qualquer tipo de atividade, com ele, a empresa pode se preparar e realizar uma gestão de estoques eficiente, sem excessos e sem escassez. Para que esse planejamento seja completo, é necessário ter a capacidade de fazer previsões das vendas no curto e médio prazo, com vista nisso, pretende-se através de aplicação de algoritmos de Machine Learning, fazer a previsão do volume de vendas do setor de \"Hipermercados, Supermercados, produtos alimentícios, bebidas e fumo\", baseado nos resultados da Pesquisa Mensal do Comércio (PMC), para a previsão, além da própria variável, também foram pensadas como variáveis explicativas a Taxa SELIC e a taxa de desocupação.\n",
        "\n",
        "A Pesquisa Mensal do Comércio (PMC) é uma pesquisa realizada desde 1995 com empresas grandes, médias e pequenas que capta a receita e o volume de vendas dessas empresas, tendo como objetivo acompanhar o desempenho do comércio no país. Inicialmente era realizada apenas no Rio de Janeiro, hoje fornece índices à nível nacional e até a nível estadual (para algumas Unidades Federativas). Além de um fornecer um caráter  mais geral do comércio no país, a pesquisa também fornece indicadores setoriais, sendo do setores:\n",
        "\n",
        "♦ Comércio Varejista;\n",
        "\n",
        "♦ Combustíveis e lubrificantes;\n",
        "\n",
        "♦ Hipermercados, Supermercados, produtos alimentícios, bebidas e fumo;\n",
        "\n",
        "♦ Hipermercados e Supermercados;\n",
        "\n",
        "♦ Tecidos, vestuários e calçados;\n",
        "\n",
        "♦ Móveis e eletrodomésticos;\n",
        "\n",
        "♦ Móveis;\n",
        "\n",
        "♦ Artigos farmacêuticos;\n",
        "\n",
        "♦ Livros, jornais, revistas e papelaria;\n",
        "\n",
        "♦ Equipamentos e materiais para escritório;\n",
        "\n",
        "♦ Outros artigos de uso pessoal e doméstico;"
      ],
      "id": "92bffa07"
    },
    {
      "cell_type": "markdown",
      "metadata": {
        "id": "27adf422"
      },
      "source": [
        "## Variáveis\n"
      ],
      "id": "27adf422"
    },
    {
      "cell_type": "markdown",
      "metadata": {
        "id": "cff0f589"
      },
      "source": [
        "#### Índice do volume de vendas do setor de alimentação e bebidas (variável dependente)\n",
        "\n",
        "A variável alvo será o índice do volume de vendas no comércio varejista das atividades de \"Hipermercados, Supermercados, produtos alimentícios e fumo\". O índice tem base fixa, sendo 2014 o número-índice(2014=100). Por simplicidade, quando nos referirmos à essa variável, chamaremos-a apenas de PMC."
      ],
      "id": "cff0f589"
    },
    {
      "cell_type": "markdown",
      "metadata": {
        "id": "78b5e722"
      },
      "source": [
        "#### Taxa SELIC (variável independente)\n",
        "\n",
        "A Taxa SELIC é a taxa de juros básica da economia, sendo o principal instrumento monetário para combate do aumento do nível de preços, a inflação. A SELIC é tomada como base para várias operações e contratos financeiros. Empiricamente, espera-se que um aumento da SELIC faça com que o nível de atividade caia, a lógica para isso é que:\n",
        "SELIC sobe;\n",
        "Juros aumenta;\n",
        "Financiamento e empréstimos mais caros / Desencoraja o consumo;\n",
        "Nível de atividade diminui;\n",
        "\n",
        "Relação esperada com a variável-alvo: Negativa"
      ],
      "id": "78b5e722"
    },
    {
      "cell_type": "markdown",
      "metadata": {
        "id": "3212b7a0"
      },
      "source": [
        "#### Taxa de desocupação (variável independente)\n",
        "\n",
        "A taxa de desocupação mede a proporção de pessoas com mais de 14 anos que estão desocupadas em relação às pessoas que estão em idade ativa que estão na força de trabalho (trabalhando ou não). Essa é uma das principais taxas de uma economia, a relação dela com o volume de vendas é mais clara: Taxa de desocupação sobe; menos pessoas trabalhando; menor o nível de atividade econômica; Menor o volume de vendas.\n",
        "\n",
        "Relação esperada com a variável-alvo: Negativa"
      ],
      "id": "3212b7a0"
    },
    {
      "cell_type": "markdown",
      "metadata": {
        "id": "c4666fc2"
      },
      "source": [
        "## Dados\n",
        "\n",
        "Os dados serão coletados de duas fontes: Banco Central do Brasil - Sistema Gerenciador de Séries Temporaris (BACEN-SGS) e Sistema IBGE de Recuperação Automática (SIDRA). Para tanto, necessitamos basicamente do código de cada variável, no próprio site do BACEN-SGS é possível pesquisar a série desejada e descobrir seu código (link: https://www3.bcb.gov.br/sgspub/localizarseries/localizarSeries.do?method=prepararTelaLocalizarSeries). Feita as pesquisas, encontra-se que:\n",
        "\n",
        "### Códigos  das séries utilizadas:\n",
        "11 - Taxas de juros- Selic (BACEN)\n",
        "\n",
        "3418 - Índices de volume de vendas no comércio varejista, por tipos de atividades (2014 = 100) - (SIDRA)\n",
        "\n",
        "24369 - Taxa de desocupação - PNADC (BACEN)"
      ],
      "id": "c4666fc2"
    },
    {
      "cell_type": "markdown",
      "metadata": {
        "id": "8cc28407"
      },
      "source": [
        "## Importação das bibliotecas"
      ],
      "id": "8cc28407"
    },
    {
      "cell_type": "code",
      "metadata": {
        "id": "8f318037"
      },
      "source": [
        "import matplotlib.pyplot as plt #Plotar gráficos\n",
        "import numpy as np #manipulações numéricas\n",
        "import pandas as pd #manipulações de tabelas/Dataframes\n",
        "import requests #Para requisição dos dados da API\n",
        "import seaborn as sns #plotar gráficos\n",
        "import sidrapy #Pegar dados diretamente do SIDRA-IBGE\n",
        "import warnings #Para suprimir avisos\n",
        "warnings.filterwarnings('ignore') #Suprimindo os avisos\n",
        "\n",
        "from datetime import datetime as dt #Manipulação de datas\n",
        "from pmdarima.arima import auto_arima #auto_arima\n",
        "from scipy.stats import shapiro,zscore #teste Shapiro-Wilk para normalidade, Teste Z\n",
        "from sklearn.linear_model import LinearRegression #regressão linear\n",
        "from sklearn.metrics import mean_absolute_error, r2_score, mean_squared_error #Métricas\n",
        "from statsmodels.graphics.tsaplots import plot_acf, plot_pacf #Plots de autocorrelação e parcial autocorrelação \n",
        "from statsmodels.tsa.arima_model import ARIMA #ARIMA\n",
        "from statsmodels.tsa.seasonal import seasonal_decompose #Decomposição dos elementos de séries temporais\n",
        "from statsmodels.tsa.statespace.sarimax import SARIMAX #SARIMAX\n",
        "from statsmodels.tsa.stattools import adfuller #teste para estacionariedade"
      ],
      "id": "8f318037",
      "execution_count": 1,
      "outputs": []
    },
    {
      "cell_type": "markdown",
      "metadata": {
        "id": "ffc02035"
      },
      "source": [
        "### Criando algumas funções"
      ],
      "id": "ffc02035"
    },
    {
      "cell_type": "code",
      "metadata": {
        "id": "00174380"
      },
      "source": [
        "#Pegar dados da API do BACEN:\n",
        "def consulta_bacen(codigo_serie, data_inicial, data_final, nome_col):\n",
        "    codigo_serie = codigo_serie\n",
        "    data_inicial = data_inicial\n",
        "    data_final = data_final\n",
        "    nome_col\n",
        "    url = f'http://api.bcb.gov.br/dados/serie/bcdata.sgs.{codigo_serie}/dados?formato=json&dataInicial={data_inicial}&dataFinal={data_final}'\n",
        "    df = pd.read_json(url)\n",
        "    df = pd.DataFrame(df)\n",
        "    df.columns = ['data',nome_col]\n",
        "    return df\n",
        "\n",
        "\n",
        "#MAPE (Mean Absolute Percentage Error):\n",
        "def mape(y_true,y_predict):\n",
        "    y_true, y_predict = np.array(y_true), np.array(y_predict)\n",
        "    mape = np.mean(np.abs((y_true - y_predict)/y_predict * 100))\n",
        "    return round(mape,2)"
      ],
      "id": "00174380",
      "execution_count": 2,
      "outputs": []
    },
    {
      "cell_type": "markdown",
      "metadata": {
        "id": "cef2999b"
      },
      "source": [
        "## Importação e manipulação dos dados"
      ],
      "id": "cef2999b"
    },
    {
      "cell_type": "code",
      "metadata": {
        "id": "248ff754"
      },
      "source": [
        "#Importação da série histórica da Taxa SELIC, o período selecionado será de 2012 até os últimos dados.\n",
        "tx_selic = consulta_bacen(1178,'01/01/2012','01/11/2021','selic')"
      ],
      "id": "248ff754",
      "execution_count": 3,
      "outputs": []
    },
    {
      "cell_type": "code",
      "metadata": {
        "colab": {
          "base_uri": "https://localhost:8080/",
          "height": 206
        },
        "id": "ea409b41",
        "outputId": "ad83002c-4622-4f05-8fc5-dd71276318a0"
      },
      "source": [
        "#Visualizando as primeiras linhas\n",
        "tx_selic.head()"
      ],
      "id": "ea409b41",
      "execution_count": 4,
      "outputs": [
        {
          "output_type": "execute_result",
          "data": {
            "text/html": [
              "<div>\n",
              "<style scoped>\n",
              "    .dataframe tbody tr th:only-of-type {\n",
              "        vertical-align: middle;\n",
              "    }\n",
              "\n",
              "    .dataframe tbody tr th {\n",
              "        vertical-align: top;\n",
              "    }\n",
              "\n",
              "    .dataframe thead th {\n",
              "        text-align: right;\n",
              "    }\n",
              "</style>\n",
              "<table border=\"1\" class=\"dataframe\">\n",
              "  <thead>\n",
              "    <tr style=\"text-align: right;\">\n",
              "      <th></th>\n",
              "      <th>data</th>\n",
              "      <th>selic</th>\n",
              "    </tr>\n",
              "  </thead>\n",
              "  <tbody>\n",
              "    <tr>\n",
              "      <th>0</th>\n",
              "      <td>30/12/2011</td>\n",
              "      <td>10.91</td>\n",
              "    </tr>\n",
              "    <tr>\n",
              "      <th>1</th>\n",
              "      <td>02/01/2012</td>\n",
              "      <td>10.90</td>\n",
              "    </tr>\n",
              "    <tr>\n",
              "      <th>2</th>\n",
              "      <td>03/01/2012</td>\n",
              "      <td>10.90</td>\n",
              "    </tr>\n",
              "    <tr>\n",
              "      <th>3</th>\n",
              "      <td>04/01/2012</td>\n",
              "      <td>10.90</td>\n",
              "    </tr>\n",
              "    <tr>\n",
              "      <th>4</th>\n",
              "      <td>05/01/2012</td>\n",
              "      <td>10.90</td>\n",
              "    </tr>\n",
              "  </tbody>\n",
              "</table>\n",
              "</div>"
            ],
            "text/plain": [
              "         data  selic\n",
              "0  30/12/2011  10.91\n",
              "1  02/01/2012  10.90\n",
              "2  03/01/2012  10.90\n",
              "3  04/01/2012  10.90\n",
              "4  05/01/2012  10.90"
            ]
          },
          "metadata": {},
          "execution_count": 4
        }
      ]
    },
    {
      "cell_type": "code",
      "metadata": {
        "colab": {
          "base_uri": "https://localhost:8080/"
        },
        "id": "61e9f94c",
        "outputId": "bac4243c-5968-40e4-d8e7-6654a0e18763"
      },
      "source": [
        "tx_selic.info()"
      ],
      "id": "61e9f94c",
      "execution_count": 5,
      "outputs": [
        {
          "output_type": "stream",
          "name": "stdout",
          "text": [
            "<class 'pandas.core.frame.DataFrame'>\n",
            "RangeIndex: 2471 entries, 0 to 2470\n",
            "Data columns (total 2 columns):\n",
            " #   Column  Non-Null Count  Dtype  \n",
            "---  ------  --------------  -----  \n",
            " 0   data    2471 non-null   object \n",
            " 1   selic   2471 non-null   float64\n",
            "dtypes: float64(1), object(1)\n",
            "memory usage: 38.7+ KB\n"
          ]
        }
      ]
    },
    {
      "cell_type": "code",
      "metadata": {
        "id": "74d4151d"
      },
      "source": [
        "#Transformando o tipo da coluna 'data'(As datas não foram reconhecidas como datas e sim como strings)\n",
        "tx_selic['data'] = pd.to_datetime(tx_selic['data'], format = '%d/%m/%Y')"
      ],
      "id": "74d4151d",
      "execution_count": 6,
      "outputs": []
    },
    {
      "cell_type": "code",
      "metadata": {
        "id": "5f7fd1b5"
      },
      "source": [
        "#Extraindo ano, mês e dia de cada data para posterior manipulação\n",
        "tx_selic['ano_s'] = pd.DatetimeIndex(tx_selic['data']).year\n",
        "tx_selic['mes_s'] = pd.DatetimeIndex(tx_selic['data']).month\n",
        "tx_selic['dia_s'] = pd.DatetimeIndex(tx_selic['data']).day"
      ],
      "id": "5f7fd1b5",
      "execution_count": 7,
      "outputs": []
    },
    {
      "cell_type": "code",
      "metadata": {
        "colab": {
          "base_uri": "https://localhost:8080/",
          "height": 206
        },
        "id": "d69a986e",
        "outputId": "c6e49ce7-44a1-4e88-fd80-0d0d46118823"
      },
      "source": [
        "tx_selic.head()"
      ],
      "id": "d69a986e",
      "execution_count": 8,
      "outputs": [
        {
          "output_type": "execute_result",
          "data": {
            "text/html": [
              "<div>\n",
              "<style scoped>\n",
              "    .dataframe tbody tr th:only-of-type {\n",
              "        vertical-align: middle;\n",
              "    }\n",
              "\n",
              "    .dataframe tbody tr th {\n",
              "        vertical-align: top;\n",
              "    }\n",
              "\n",
              "    .dataframe thead th {\n",
              "        text-align: right;\n",
              "    }\n",
              "</style>\n",
              "<table border=\"1\" class=\"dataframe\">\n",
              "  <thead>\n",
              "    <tr style=\"text-align: right;\">\n",
              "      <th></th>\n",
              "      <th>data</th>\n",
              "      <th>selic</th>\n",
              "      <th>ano_s</th>\n",
              "      <th>mes_s</th>\n",
              "      <th>dia_s</th>\n",
              "    </tr>\n",
              "  </thead>\n",
              "  <tbody>\n",
              "    <tr>\n",
              "      <th>0</th>\n",
              "      <td>2011-12-30</td>\n",
              "      <td>10.91</td>\n",
              "      <td>2011</td>\n",
              "      <td>12</td>\n",
              "      <td>30</td>\n",
              "    </tr>\n",
              "    <tr>\n",
              "      <th>1</th>\n",
              "      <td>2012-01-02</td>\n",
              "      <td>10.90</td>\n",
              "      <td>2012</td>\n",
              "      <td>1</td>\n",
              "      <td>2</td>\n",
              "    </tr>\n",
              "    <tr>\n",
              "      <th>2</th>\n",
              "      <td>2012-01-03</td>\n",
              "      <td>10.90</td>\n",
              "      <td>2012</td>\n",
              "      <td>1</td>\n",
              "      <td>3</td>\n",
              "    </tr>\n",
              "    <tr>\n",
              "      <th>3</th>\n",
              "      <td>2012-01-04</td>\n",
              "      <td>10.90</td>\n",
              "      <td>2012</td>\n",
              "      <td>1</td>\n",
              "      <td>4</td>\n",
              "    </tr>\n",
              "    <tr>\n",
              "      <th>4</th>\n",
              "      <td>2012-01-05</td>\n",
              "      <td>10.90</td>\n",
              "      <td>2012</td>\n",
              "      <td>1</td>\n",
              "      <td>5</td>\n",
              "    </tr>\n",
              "  </tbody>\n",
              "</table>\n",
              "</div>"
            ],
            "text/plain": [
              "        data  selic  ano_s  mes_s  dia_s\n",
              "0 2011-12-30  10.91   2011     12     30\n",
              "1 2012-01-02  10.90   2012      1      2\n",
              "2 2012-01-03  10.90   2012      1      3\n",
              "3 2012-01-04  10.90   2012      1      4\n",
              "4 2012-01-05  10.90   2012      1      5"
            ]
          },
          "metadata": {},
          "execution_count": 8
        }
      ]
    },
    {
      "cell_type": "code",
      "metadata": {
        "colab": {
          "base_uri": "https://localhost:8080/",
          "height": 206
        },
        "id": "b6a7d7ad",
        "outputId": "f82cdde6-f40b-4fdc-bf15-16029fc39e18"
      },
      "source": [
        "tx_selic.tail()"
      ],
      "id": "b6a7d7ad",
      "execution_count": 9,
      "outputs": [
        {
          "output_type": "execute_result",
          "data": {
            "text/html": [
              "<div>\n",
              "<style scoped>\n",
              "    .dataframe tbody tr th:only-of-type {\n",
              "        vertical-align: middle;\n",
              "    }\n",
              "\n",
              "    .dataframe tbody tr th {\n",
              "        vertical-align: top;\n",
              "    }\n",
              "\n",
              "    .dataframe thead th {\n",
              "        text-align: right;\n",
              "    }\n",
              "</style>\n",
              "<table border=\"1\" class=\"dataframe\">\n",
              "  <thead>\n",
              "    <tr style=\"text-align: right;\">\n",
              "      <th></th>\n",
              "      <th>data</th>\n",
              "      <th>selic</th>\n",
              "      <th>ano_s</th>\n",
              "      <th>mes_s</th>\n",
              "      <th>dia_s</th>\n",
              "    </tr>\n",
              "  </thead>\n",
              "  <tbody>\n",
              "    <tr>\n",
              "      <th>2466</th>\n",
              "      <td>2021-10-26</td>\n",
              "      <td>6.15</td>\n",
              "      <td>2021</td>\n",
              "      <td>10</td>\n",
              "      <td>26</td>\n",
              "    </tr>\n",
              "    <tr>\n",
              "      <th>2467</th>\n",
              "      <td>2021-10-27</td>\n",
              "      <td>6.15</td>\n",
              "      <td>2021</td>\n",
              "      <td>10</td>\n",
              "      <td>27</td>\n",
              "    </tr>\n",
              "    <tr>\n",
              "      <th>2468</th>\n",
              "      <td>2021-10-28</td>\n",
              "      <td>7.65</td>\n",
              "      <td>2021</td>\n",
              "      <td>10</td>\n",
              "      <td>28</td>\n",
              "    </tr>\n",
              "    <tr>\n",
              "      <th>2469</th>\n",
              "      <td>2021-10-29</td>\n",
              "      <td>7.65</td>\n",
              "      <td>2021</td>\n",
              "      <td>10</td>\n",
              "      <td>29</td>\n",
              "    </tr>\n",
              "    <tr>\n",
              "      <th>2470</th>\n",
              "      <td>2021-11-01</td>\n",
              "      <td>7.65</td>\n",
              "      <td>2021</td>\n",
              "      <td>11</td>\n",
              "      <td>1</td>\n",
              "    </tr>\n",
              "  </tbody>\n",
              "</table>\n",
              "</div>"
            ],
            "text/plain": [
              "           data  selic  ano_s  mes_s  dia_s\n",
              "2466 2021-10-26   6.15   2021     10     26\n",
              "2467 2021-10-27   6.15   2021     10     27\n",
              "2468 2021-10-28   7.65   2021     10     28\n",
              "2469 2021-10-29   7.65   2021     10     29\n",
              "2470 2021-11-01   7.65   2021     11      1"
            ]
          },
          "metadata": {},
          "execution_count": 9
        }
      ]
    },
    {
      "cell_type": "markdown",
      "metadata": {
        "id": "8270e304"
      },
      "source": [
        "O ideal para dados mensais é trabalhar sempre com o dia 01, vemos que esses dados não estão dentro desse padrão, já que não temos informação do dia 01/01/2012 (só há os valores para os dias úteis) então, temos que fazer uma rápida manipulação nesses dados."
      ],
      "id": "8270e304"
    },
    {
      "cell_type": "code",
      "metadata": {
        "id": "063a23dd"
      },
      "source": [
        "#Criando um objeto com todos os dias do período 01/01/2012 até 01/01/2022\n",
        "datas = pd.date_range(start = '1/1/2012', end = '1/1/2022', freq = 'D')"
      ],
      "id": "063a23dd",
      "execution_count": 10,
      "outputs": []
    },
    {
      "cell_type": "code",
      "metadata": {
        "id": "5663bd24"
      },
      "source": [
        "#Transformando-o em Dataframe e escolhendo a data com index\n",
        "datas = pd.DataFrame(datas, columns =['data'])\n",
        "datas.set_index('data', inplace = True)\n",
        "tx_selic.set_index('data', inplace = True)"
      ],
      "id": "5663bd24",
      "execution_count": 11,
      "outputs": []
    },
    {
      "cell_type": "code",
      "metadata": {
        "id": "fc232365"
      },
      "source": [
        "#Criando uma coluna para conseguir juntar com outro DataFrame\n",
        "datas['coluna'] = np.arange(1,len(datas)+1)"
      ],
      "id": "fc232365",
      "execution_count": 12,
      "outputs": []
    },
    {
      "cell_type": "code",
      "metadata": {
        "colab": {
          "base_uri": "https://localhost:8080/",
          "height": 238
        },
        "id": "7fe1ddba",
        "outputId": "37145396-e899-4797-a022-74745e66cb43"
      },
      "source": [
        "datas.head()"
      ],
      "id": "7fe1ddba",
      "execution_count": 13,
      "outputs": [
        {
          "output_type": "execute_result",
          "data": {
            "text/html": [
              "<div>\n",
              "<style scoped>\n",
              "    .dataframe tbody tr th:only-of-type {\n",
              "        vertical-align: middle;\n",
              "    }\n",
              "\n",
              "    .dataframe tbody tr th {\n",
              "        vertical-align: top;\n",
              "    }\n",
              "\n",
              "    .dataframe thead th {\n",
              "        text-align: right;\n",
              "    }\n",
              "</style>\n",
              "<table border=\"1\" class=\"dataframe\">\n",
              "  <thead>\n",
              "    <tr style=\"text-align: right;\">\n",
              "      <th></th>\n",
              "      <th>coluna</th>\n",
              "    </tr>\n",
              "    <tr>\n",
              "      <th>data</th>\n",
              "      <th></th>\n",
              "    </tr>\n",
              "  </thead>\n",
              "  <tbody>\n",
              "    <tr>\n",
              "      <th>2012-01-01</th>\n",
              "      <td>1</td>\n",
              "    </tr>\n",
              "    <tr>\n",
              "      <th>2012-01-02</th>\n",
              "      <td>2</td>\n",
              "    </tr>\n",
              "    <tr>\n",
              "      <th>2012-01-03</th>\n",
              "      <td>3</td>\n",
              "    </tr>\n",
              "    <tr>\n",
              "      <th>2012-01-04</th>\n",
              "      <td>4</td>\n",
              "    </tr>\n",
              "    <tr>\n",
              "      <th>2012-01-05</th>\n",
              "      <td>5</td>\n",
              "    </tr>\n",
              "  </tbody>\n",
              "</table>\n",
              "</div>"
            ],
            "text/plain": [
              "            coluna\n",
              "data              \n",
              "2012-01-01       1\n",
              "2012-01-02       2\n",
              "2012-01-03       3\n",
              "2012-01-04       4\n",
              "2012-01-05       5"
            ]
          },
          "metadata": {},
          "execution_count": 13
        }
      ]
    },
    {
      "cell_type": "code",
      "metadata": {
        "id": "bcbd62fd"
      },
      "source": [
        "#Finalmente juntando os DataFrames\n",
        "tx_selic_fin = tx_selic.merge(datas, how = 'right', left_index = True, right_index = True)"
      ],
      "id": "bcbd62fd",
      "execution_count": 14,
      "outputs": []
    },
    {
      "cell_type": "code",
      "metadata": {
        "colab": {
          "base_uri": "https://localhost:8080/",
          "height": 238
        },
        "id": "5b39aa78",
        "outputId": "546d7429-e67f-4b1b-9fe5-93f10751640a"
      },
      "source": [
        "#Agora temos um DataFrame com todos os dias do período e alguns desses valores estão com NaN (Not a Number),\n",
        "#iremos substituir esses valores pelos valores imediatamente posteriores, nesse caso, se o dia 01/01/2012 está ausente, iremos preenche-lo com os dados do dia 02/01/2012.\n",
        "tx_selic_fin.head()"
      ],
      "id": "5b39aa78",
      "execution_count": 15,
      "outputs": [
        {
          "output_type": "execute_result",
          "data": {
            "text/html": [
              "<div>\n",
              "<style scoped>\n",
              "    .dataframe tbody tr th:only-of-type {\n",
              "        vertical-align: middle;\n",
              "    }\n",
              "\n",
              "    .dataframe tbody tr th {\n",
              "        vertical-align: top;\n",
              "    }\n",
              "\n",
              "    .dataframe thead th {\n",
              "        text-align: right;\n",
              "    }\n",
              "</style>\n",
              "<table border=\"1\" class=\"dataframe\">\n",
              "  <thead>\n",
              "    <tr style=\"text-align: right;\">\n",
              "      <th></th>\n",
              "      <th>selic</th>\n",
              "      <th>ano_s</th>\n",
              "      <th>mes_s</th>\n",
              "      <th>dia_s</th>\n",
              "      <th>coluna</th>\n",
              "    </tr>\n",
              "    <tr>\n",
              "      <th>data</th>\n",
              "      <th></th>\n",
              "      <th></th>\n",
              "      <th></th>\n",
              "      <th></th>\n",
              "      <th></th>\n",
              "    </tr>\n",
              "  </thead>\n",
              "  <tbody>\n",
              "    <tr>\n",
              "      <th>2012-01-01</th>\n",
              "      <td>NaN</td>\n",
              "      <td>NaN</td>\n",
              "      <td>NaN</td>\n",
              "      <td>NaN</td>\n",
              "      <td>1</td>\n",
              "    </tr>\n",
              "    <tr>\n",
              "      <th>2012-01-02</th>\n",
              "      <td>10.9</td>\n",
              "      <td>2012.0</td>\n",
              "      <td>1.0</td>\n",
              "      <td>2.0</td>\n",
              "      <td>2</td>\n",
              "    </tr>\n",
              "    <tr>\n",
              "      <th>2012-01-03</th>\n",
              "      <td>10.9</td>\n",
              "      <td>2012.0</td>\n",
              "      <td>1.0</td>\n",
              "      <td>3.0</td>\n",
              "      <td>3</td>\n",
              "    </tr>\n",
              "    <tr>\n",
              "      <th>2012-01-04</th>\n",
              "      <td>10.9</td>\n",
              "      <td>2012.0</td>\n",
              "      <td>1.0</td>\n",
              "      <td>4.0</td>\n",
              "      <td>4</td>\n",
              "    </tr>\n",
              "    <tr>\n",
              "      <th>2012-01-05</th>\n",
              "      <td>10.9</td>\n",
              "      <td>2012.0</td>\n",
              "      <td>1.0</td>\n",
              "      <td>5.0</td>\n",
              "      <td>5</td>\n",
              "    </tr>\n",
              "  </tbody>\n",
              "</table>\n",
              "</div>"
            ],
            "text/plain": [
              "            selic   ano_s  mes_s  dia_s  coluna\n",
              "data                                           \n",
              "2012-01-01    NaN     NaN    NaN    NaN       1\n",
              "2012-01-02   10.9  2012.0    1.0    2.0       2\n",
              "2012-01-03   10.9  2012.0    1.0    3.0       3\n",
              "2012-01-04   10.9  2012.0    1.0    4.0       4\n",
              "2012-01-05   10.9  2012.0    1.0    5.0       5"
            ]
          },
          "metadata": {},
          "execution_count": 15
        }
      ]
    },
    {
      "cell_type": "code",
      "metadata": {
        "colab": {
          "base_uri": "https://localhost:8080/",
          "height": 238
        },
        "id": "dce09c5e",
        "outputId": "37be14ab-16eb-4b7a-bb92-e032a98c96f8"
      },
      "source": [
        "tx_selic_fin.tail()"
      ],
      "id": "dce09c5e",
      "execution_count": 16,
      "outputs": [
        {
          "output_type": "execute_result",
          "data": {
            "text/html": [
              "<div>\n",
              "<style scoped>\n",
              "    .dataframe tbody tr th:only-of-type {\n",
              "        vertical-align: middle;\n",
              "    }\n",
              "\n",
              "    .dataframe tbody tr th {\n",
              "        vertical-align: top;\n",
              "    }\n",
              "\n",
              "    .dataframe thead th {\n",
              "        text-align: right;\n",
              "    }\n",
              "</style>\n",
              "<table border=\"1\" class=\"dataframe\">\n",
              "  <thead>\n",
              "    <tr style=\"text-align: right;\">\n",
              "      <th></th>\n",
              "      <th>selic</th>\n",
              "      <th>ano_s</th>\n",
              "      <th>mes_s</th>\n",
              "      <th>dia_s</th>\n",
              "      <th>coluna</th>\n",
              "    </tr>\n",
              "    <tr>\n",
              "      <th>data</th>\n",
              "      <th></th>\n",
              "      <th></th>\n",
              "      <th></th>\n",
              "      <th></th>\n",
              "      <th></th>\n",
              "    </tr>\n",
              "  </thead>\n",
              "  <tbody>\n",
              "    <tr>\n",
              "      <th>2021-12-28</th>\n",
              "      <td>NaN</td>\n",
              "      <td>NaN</td>\n",
              "      <td>NaN</td>\n",
              "      <td>NaN</td>\n",
              "      <td>3650</td>\n",
              "    </tr>\n",
              "    <tr>\n",
              "      <th>2021-12-29</th>\n",
              "      <td>NaN</td>\n",
              "      <td>NaN</td>\n",
              "      <td>NaN</td>\n",
              "      <td>NaN</td>\n",
              "      <td>3651</td>\n",
              "    </tr>\n",
              "    <tr>\n",
              "      <th>2021-12-30</th>\n",
              "      <td>NaN</td>\n",
              "      <td>NaN</td>\n",
              "      <td>NaN</td>\n",
              "      <td>NaN</td>\n",
              "      <td>3652</td>\n",
              "    </tr>\n",
              "    <tr>\n",
              "      <th>2021-12-31</th>\n",
              "      <td>NaN</td>\n",
              "      <td>NaN</td>\n",
              "      <td>NaN</td>\n",
              "      <td>NaN</td>\n",
              "      <td>3653</td>\n",
              "    </tr>\n",
              "    <tr>\n",
              "      <th>2022-01-01</th>\n",
              "      <td>NaN</td>\n",
              "      <td>NaN</td>\n",
              "      <td>NaN</td>\n",
              "      <td>NaN</td>\n",
              "      <td>3654</td>\n",
              "    </tr>\n",
              "  </tbody>\n",
              "</table>\n",
              "</div>"
            ],
            "text/plain": [
              "            selic  ano_s  mes_s  dia_s  coluna\n",
              "data                                          \n",
              "2021-12-28    NaN    NaN    NaN    NaN    3650\n",
              "2021-12-29    NaN    NaN    NaN    NaN    3651\n",
              "2021-12-30    NaN    NaN    NaN    NaN    3652\n",
              "2021-12-31    NaN    NaN    NaN    NaN    3653\n",
              "2022-01-01    NaN    NaN    NaN    NaN    3654"
            ]
          },
          "metadata": {},
          "execution_count": 16
        }
      ]
    },
    {
      "cell_type": "markdown",
      "metadata": {
        "id": "5370f029"
      },
      "source": [
        "Agora temos um DataFrame com todos os dias do período e alguns desses valores estão com NaN (Not a Number),iremos substituir esses valores pelos valores imediatamente posteriores, nesse caso, se o dia 01/01/2012 está ausente, iremos preenche-lo com os dados do dia 02/01/2012."
      ],
      "id": "5370f029"
    },
    {
      "cell_type": "code",
      "metadata": {
        "id": "6da03eb5"
      },
      "source": [
        "#Preenchendo os valores vazios com valor posterior\n",
        "tx_selic_fin = tx_selic_fin.fillna(method = 'backfill')"
      ],
      "id": "6da03eb5",
      "execution_count": 17,
      "outputs": []
    },
    {
      "cell_type": "code",
      "metadata": {
        "colab": {
          "base_uri": "https://localhost:8080/",
          "height": 238
        },
        "id": "8ae79a04",
        "outputId": "5e1b2f4b-82ff-434b-e846-fab3325f47e5"
      },
      "source": [
        "tx_selic_fin.head()"
      ],
      "id": "8ae79a04",
      "execution_count": 18,
      "outputs": [
        {
          "output_type": "execute_result",
          "data": {
            "text/html": [
              "<div>\n",
              "<style scoped>\n",
              "    .dataframe tbody tr th:only-of-type {\n",
              "        vertical-align: middle;\n",
              "    }\n",
              "\n",
              "    .dataframe tbody tr th {\n",
              "        vertical-align: top;\n",
              "    }\n",
              "\n",
              "    .dataframe thead th {\n",
              "        text-align: right;\n",
              "    }\n",
              "</style>\n",
              "<table border=\"1\" class=\"dataframe\">\n",
              "  <thead>\n",
              "    <tr style=\"text-align: right;\">\n",
              "      <th></th>\n",
              "      <th>selic</th>\n",
              "      <th>ano_s</th>\n",
              "      <th>mes_s</th>\n",
              "      <th>dia_s</th>\n",
              "      <th>coluna</th>\n",
              "    </tr>\n",
              "    <tr>\n",
              "      <th>data</th>\n",
              "      <th></th>\n",
              "      <th></th>\n",
              "      <th></th>\n",
              "      <th></th>\n",
              "      <th></th>\n",
              "    </tr>\n",
              "  </thead>\n",
              "  <tbody>\n",
              "    <tr>\n",
              "      <th>2012-01-01</th>\n",
              "      <td>10.9</td>\n",
              "      <td>2012.0</td>\n",
              "      <td>1.0</td>\n",
              "      <td>2.0</td>\n",
              "      <td>1</td>\n",
              "    </tr>\n",
              "    <tr>\n",
              "      <th>2012-01-02</th>\n",
              "      <td>10.9</td>\n",
              "      <td>2012.0</td>\n",
              "      <td>1.0</td>\n",
              "      <td>2.0</td>\n",
              "      <td>2</td>\n",
              "    </tr>\n",
              "    <tr>\n",
              "      <th>2012-01-03</th>\n",
              "      <td>10.9</td>\n",
              "      <td>2012.0</td>\n",
              "      <td>1.0</td>\n",
              "      <td>3.0</td>\n",
              "      <td>3</td>\n",
              "    </tr>\n",
              "    <tr>\n",
              "      <th>2012-01-04</th>\n",
              "      <td>10.9</td>\n",
              "      <td>2012.0</td>\n",
              "      <td>1.0</td>\n",
              "      <td>4.0</td>\n",
              "      <td>4</td>\n",
              "    </tr>\n",
              "    <tr>\n",
              "      <th>2012-01-05</th>\n",
              "      <td>10.9</td>\n",
              "      <td>2012.0</td>\n",
              "      <td>1.0</td>\n",
              "      <td>5.0</td>\n",
              "      <td>5</td>\n",
              "    </tr>\n",
              "  </tbody>\n",
              "</table>\n",
              "</div>"
            ],
            "text/plain": [
              "            selic   ano_s  mes_s  dia_s  coluna\n",
              "data                                           \n",
              "2012-01-01   10.9  2012.0    1.0    2.0       1\n",
              "2012-01-02   10.9  2012.0    1.0    2.0       2\n",
              "2012-01-03   10.9  2012.0    1.0    3.0       3\n",
              "2012-01-04   10.9  2012.0    1.0    4.0       4\n",
              "2012-01-05   10.9  2012.0    1.0    5.0       5"
            ]
          },
          "metadata": {},
          "execution_count": 18
        }
      ]
    },
    {
      "cell_type": "code",
      "metadata": {
        "colab": {
          "base_uri": "https://localhost:8080/",
          "height": 281
        },
        "id": "79a676ea",
        "outputId": "512b4e3d-f556-46f6-d483-29e4fd14cb0d"
      },
      "source": [
        "#Fazendo uma rápida visualização dos dados\n",
        "plt.figure(figsize = (16,4))\n",
        "plt.plot(tx_selic_fin['selic'], c = 'orange')\n",
        "plt.title(\"Série histórica da Taxa SELIC 2012 à 2021\")\n",
        "plt.show()"
      ],
      "id": "79a676ea",
      "execution_count": 19,
      "outputs": [
        {
          "output_type": "display_data",
          "data": {
            "image/png": "[encoded data removed]",
            "text/plain": [
              "<Figure size 1152x288 with 1 Axes>"
            ]
          },
          "metadata": {
            "needs_background": "light"
          }
        }
      ]
    },
    {
      "cell_type": "code",
      "metadata": {
        "id": "06a50026"
      },
      "source": [
        "#Importando a série histórica da taxa de desocupação\n",
        "desocupacao = consulta_bacen(24369, '01/01/2012','01/11/2021','tx_desocup')"
      ],
      "id": "06a50026",
      "execution_count": 20,
      "outputs": []
    },
    {
      "cell_type": "code",
      "metadata": {
        "colab": {
          "base_uri": "https://localhost:8080/",
          "height": 206
        },
        "id": "5b261086",
        "outputId": "f9328a70-607b-45ff-d819-a2b39f4dc9e6"
      },
      "source": [
        "desocupacao.head()"
      ],
      "id": "5b261086",
      "execution_count": 21,
      "outputs": [
        {
          "output_type": "execute_result",
          "data": {
            "text/html": [
              "<div>\n",
              "<style scoped>\n",
              "    .dataframe tbody tr th:only-of-type {\n",
              "        vertical-align: middle;\n",
              "    }\n",
              "\n",
              "    .dataframe tbody tr th {\n",
              "        vertical-align: top;\n",
              "    }\n",
              "\n",
              "    .dataframe thead th {\n",
              "        text-align: right;\n",
              "    }\n",
              "</style>\n",
              "<table border=\"1\" class=\"dataframe\">\n",
              "  <thead>\n",
              "    <tr style=\"text-align: right;\">\n",
              "      <th></th>\n",
              "      <th>data</th>\n",
              "      <th>tx_desocup</th>\n",
              "    </tr>\n",
              "  </thead>\n",
              "  <tbody>\n",
              "    <tr>\n",
              "      <th>0</th>\n",
              "      <td>01/03/2012</td>\n",
              "      <td>7.9</td>\n",
              "    </tr>\n",
              "    <tr>\n",
              "      <th>1</th>\n",
              "      <td>01/04/2012</td>\n",
              "      <td>7.7</td>\n",
              "    </tr>\n",
              "    <tr>\n",
              "      <th>2</th>\n",
              "      <td>01/05/2012</td>\n",
              "      <td>7.6</td>\n",
              "    </tr>\n",
              "    <tr>\n",
              "      <th>3</th>\n",
              "      <td>01/06/2012</td>\n",
              "      <td>7.5</td>\n",
              "    </tr>\n",
              "    <tr>\n",
              "      <th>4</th>\n",
              "      <td>01/07/2012</td>\n",
              "      <td>7.4</td>\n",
              "    </tr>\n",
              "  </tbody>\n",
              "</table>\n",
              "</div>"
            ],
            "text/plain": [
              "         data  tx_desocup\n",
              "0  01/03/2012         7.9\n",
              "1  01/04/2012         7.7\n",
              "2  01/05/2012         7.6\n",
              "3  01/06/2012         7.5\n",
              "4  01/07/2012         7.4"
            ]
          },
          "metadata": {},
          "execution_count": 21
        }
      ]
    },
    {
      "cell_type": "code",
      "metadata": {
        "colab": {
          "base_uri": "https://localhost:8080/",
          "height": 206
        },
        "id": "afc89f94",
        "outputId": "ea83eef0-cabe-4acb-9a94-09e05cdb8721"
      },
      "source": [
        "desocupacao.tail()"
      ],
      "id": "afc89f94",
      "execution_count": 22,
      "outputs": [
        {
          "output_type": "execute_result",
          "data": {
            "text/html": [
              "<div>\n",
              "<style scoped>\n",
              "    .dataframe tbody tr th:only-of-type {\n",
              "        vertical-align: middle;\n",
              "    }\n",
              "\n",
              "    .dataframe tbody tr th {\n",
              "        vertical-align: top;\n",
              "    }\n",
              "\n",
              "    .dataframe thead th {\n",
              "        text-align: right;\n",
              "    }\n",
              "</style>\n",
              "<table border=\"1\" class=\"dataframe\">\n",
              "  <thead>\n",
              "    <tr style=\"text-align: right;\">\n",
              "      <th></th>\n",
              "      <th>data</th>\n",
              "      <th>tx_desocup</th>\n",
              "    </tr>\n",
              "  </thead>\n",
              "  <tbody>\n",
              "    <tr>\n",
              "      <th>109</th>\n",
              "      <td>01/04/2021</td>\n",
              "      <td>14.7</td>\n",
              "    </tr>\n",
              "    <tr>\n",
              "      <th>110</th>\n",
              "      <td>01/05/2021</td>\n",
              "      <td>14.6</td>\n",
              "    </tr>\n",
              "    <tr>\n",
              "      <th>111</th>\n",
              "      <td>01/06/2021</td>\n",
              "      <td>14.1</td>\n",
              "    </tr>\n",
              "    <tr>\n",
              "      <th>112</th>\n",
              "      <td>01/07/2021</td>\n",
              "      <td>13.7</td>\n",
              "    </tr>\n",
              "    <tr>\n",
              "      <th>113</th>\n",
              "      <td>01/08/2021</td>\n",
              "      <td>13.2</td>\n",
              "    </tr>\n",
              "  </tbody>\n",
              "</table>\n",
              "</div>"
            ],
            "text/plain": [
              "           data  tx_desocup\n",
              "109  01/04/2021        14.7\n",
              "110  01/05/2021        14.6\n",
              "111  01/06/2021        14.1\n",
              "112  01/07/2021        13.7\n",
              "113  01/08/2021        13.2"
            ]
          },
          "metadata": {},
          "execution_count": 22
        }
      ]
    },
    {
      "cell_type": "markdown",
      "metadata": {
        "id": "6cf7a973"
      },
      "source": [
        "Percebe-se que o último dado desse DataFrame é de agosto/2021, isso é esperado, já que há uma relativa defasagem na divulgação de dados à nível nacional."
      ],
      "id": "6cf7a973"
    },
    {
      "cell_type": "code",
      "metadata": {
        "colab": {
          "base_uri": "https://localhost:8080/"
        },
        "id": "f720a83a",
        "outputId": "7b9fe2f6-a415-4327-d8a4-e50bdcfa6eb9"
      },
      "source": [
        "desocupacao.info()"
      ],
      "id": "f720a83a",
      "execution_count": 23,
      "outputs": [
        {
          "output_type": "stream",
          "name": "stdout",
          "text": [
            "<class 'pandas.core.frame.DataFrame'>\n",
            "RangeIndex: 114 entries, 0 to 113\n",
            "Data columns (total 2 columns):\n",
            " #   Column      Non-Null Count  Dtype  \n",
            "---  ------      --------------  -----  \n",
            " 0   data        114 non-null    object \n",
            " 1   tx_desocup  114 non-null    float64\n",
            "dtypes: float64(1), object(1)\n",
            "memory usage: 1.9+ KB\n"
          ]
        }
      ]
    },
    {
      "cell_type": "code",
      "metadata": {
        "id": "dc0fbdca"
      },
      "source": [
        "#Novamente, criando uma coluna 'data' já no formato desejado\n",
        "desocupacao['data'] = pd.to_datetime(desocupacao['data'], format = '%d/%m/%Y')"
      ],
      "id": "dc0fbdca",
      "execution_count": 24,
      "outputs": []
    },
    {
      "cell_type": "code",
      "metadata": {
        "colab": {
          "base_uri": "https://localhost:8080/",
          "height": 206
        },
        "id": "579b0af6",
        "outputId": "4948c98b-d0b7-4349-d19b-1374c5eb3856"
      },
      "source": [
        "desocupacao.head()"
      ],
      "id": "579b0af6",
      "execution_count": 25,
      "outputs": [
        {
          "output_type": "execute_result",
          "data": {
            "text/html": [
              "<div>\n",
              "<style scoped>\n",
              "    .dataframe tbody tr th:only-of-type {\n",
              "        vertical-align: middle;\n",
              "    }\n",
              "\n",
              "    .dataframe tbody tr th {\n",
              "        vertical-align: top;\n",
              "    }\n",
              "\n",
              "    .dataframe thead th {\n",
              "        text-align: right;\n",
              "    }\n",
              "</style>\n",
              "<table border=\"1\" class=\"dataframe\">\n",
              "  <thead>\n",
              "    <tr style=\"text-align: right;\">\n",
              "      <th></th>\n",
              "      <th>data</th>\n",
              "      <th>tx_desocup</th>\n",
              "    </tr>\n",
              "  </thead>\n",
              "  <tbody>\n",
              "    <tr>\n",
              "      <th>0</th>\n",
              "      <td>2012-03-01</td>\n",
              "      <td>7.9</td>\n",
              "    </tr>\n",
              "    <tr>\n",
              "      <th>1</th>\n",
              "      <td>2012-04-01</td>\n",
              "      <td>7.7</td>\n",
              "    </tr>\n",
              "    <tr>\n",
              "      <th>2</th>\n",
              "      <td>2012-05-01</td>\n",
              "      <td>7.6</td>\n",
              "    </tr>\n",
              "    <tr>\n",
              "      <th>3</th>\n",
              "      <td>2012-06-01</td>\n",
              "      <td>7.5</td>\n",
              "    </tr>\n",
              "    <tr>\n",
              "      <th>4</th>\n",
              "      <td>2012-07-01</td>\n",
              "      <td>7.4</td>\n",
              "    </tr>\n",
              "  </tbody>\n",
              "</table>\n",
              "</div>"
            ],
            "text/plain": [
              "        data  tx_desocup\n",
              "0 2012-03-01         7.9\n",
              "1 2012-04-01         7.7\n",
              "2 2012-05-01         7.6\n",
              "3 2012-06-01         7.5\n",
              "4 2012-07-01         7.4"
            ]
          },
          "metadata": {},
          "execution_count": 25
        }
      ]
    },
    {
      "cell_type": "markdown",
      "metadata": {
        "id": "9383a834"
      },
      "source": [
        "Para a importação da PMC e de outras séries próprias do IBGE, podemos utilizar a API do IBGE (link: https://servicodados.ibge.gov.br/api/docs). Ao escolher a série, filtros e parâmetros do nosso interesse teremos uma URL. Essa URL que será utilizada na função que criamos inicialmente para fazer a captura desses dados"
      ],
      "id": "9383a834"
    },
    {
      "cell_type": "code",
      "metadata": {
        "id": "5a2e9a7a"
      },
      "source": [
        "url_pmc_alim = 'https://servicodados.ibge.gov.br/api/v3/agregados/3418/periodos/200001|200002|200003|200004|200005|200006|200007|200008|200009|200010|200011|200012|200101|200102|200103|200104|200105|200106|200107|200108|200109|200110|200111|200112|200201|200202|200203|200204|200205|200206|200207|200208|200209|200210|200211|200212|200301|200302|200303|200304|200305|200306|200307|200308|200309|200310|200311|200312|200401|200402|200403|200404|200405|200406|200407|200408|200409|200410|200411|200412|200501|200502|200503|200504|200505|200506|200507|200508|200509|200510|200511|200512|200601|200602|200603|200604|200605|200606|200607|200608|200609|200610|200611|200612|200701|200702|200703|200704|200705|200706|200707|200708|200709|200710|200711|200712|200801|200802|200803|200804|200805|200806|200807|200808|200809|200810|200811|200812|200901|200902|200903|200904|200905|200906|200907|200908|200909|200910|200911|200912|201001|201002|201003|201004|201005|201006|201007|201008|201009|201010|201011|201012|201101|201102|201103|201104|201105|201106|201107|201108|201109|201110|201111|201112|201201|201202|201203|201204|201205|201206|201207|201208|201209|201210|201211|201212|201301|201302|201303|201304|201305|201306|201307|201308|201309|201310|201311|201312|201401|201402|201403|201404|201405|201406|201407|201408|201409|201410|201411|201412|201501|201502|201503|201504|201505|201506|201507|201508|201509|201510|201511|201512|201601|201602|201603|201604|201605|201606|201607|201608|201609|201610|201611|201612|201701|201702|201703|201704|201705|201706|201707|201708|201709|201710|201711|201712|201801|201802|201803|201804|201805|201806|201807|201808|201809|201810|201811|201812|201901|201902|201903|201904|201905|201906|201907|201908|201909|201910|201911|201912|202001|202002|202003|202004|202005|202006|202007|202008|202009|202010|202011|202012|202101|202102|202103|202104|202105|202106|202107|202108/variaveis/564?localidades=N1&classificacao=11046[40311]|85[90672]'"
      ],
      "id": "5a2e9a7a",
      "execution_count": 26,
      "outputs": []
    },
    {
      "cell_type": "code",
      "metadata": {
        "id": "e27cb51f"
      },
      "source": [
        "#Lendo a URL em JSON\n",
        "pmc_alim = requests.get(url_pmc_alim).json()"
      ],
      "id": "e27cb51f",
      "execution_count": 27,
      "outputs": []
    },
    {
      "cell_type": "code",
      "metadata": {
        "colab": {
          "base_uri": "https://localhost:8080/"
        },
        "id": "be4247cd",
        "outputId": "8802f040-c444-4637-c204-72a09b3a2f11"
      },
      "source": [
        "#Visualizando o objeto criado\n",
        "pmc_alim"
      ],
      "id": "be4247cd",
      "execution_count": 28,
      "outputs": [
        {
          "output_type": "execute_result",
          "data": {
            "text/plain": [
              "[{'id': '564',\n",
              "  'resultados': [{'classificacoes': [{'categoria': {'40311': 'Índice base fixa (2014=100)'},\n",
              "      'id': '11046',\n",
              "      'nome': 'Tipos de índice'},\n",
              "     {'categoria': {'90672': 'Hipermercados, supermercados, produtos alimentícios, bebidas e fumo'},\n",
              "      'id': '85',\n",
              "      'nome': 'Atividades'}],\n",
              "    'series': [{'localidade': {'id': '1',\n",
              "       'nivel': {'id': 'N1', 'nome': 'Brasil'},\n",
              "       'nome': 'Brasil'},\n",
              "      'serie': {'200001': '54.3',\n",
              "       '200002': '53.9',\n",
              "       '200003': '57.2',\n",
              "       '200004': '58.3',\n",
              "       '200005': '55.8',\n",
              "       '200006': '55.8',\n",
              "       '200007': '57.9',\n",
              "       '200008': '57.1',\n",
              "       '200009': '57.4',\n",
              "       '200010': '56.8',\n",
              "       '200011': '57.1',\n",
              "       '200012': '75.6',\n",
              "       '200101': '56.1',\n",
              "       '200102': '54.3',\n",
              "       '200103': '60.0',\n",
              "       '200104': '58.7',\n",
              "       '200105': '56.0',\n",
              "       '200106': '56.1',\n",
              "       '200107': '56.1',\n",
              "       '200108': '57.1',\n",
              "       '200109': '57.1',\n",
              "       '200110': '57.9',\n",
              "       '200111': '56.9',\n",
              "       '200112': '73.8',\n",
              "       '200201': '55.5',\n",
              "       '200202': '52.9',\n",
              "       '200203': '62.0',\n",
              "       '200204': '55.0',\n",
              "       '200205': '57.9',\n",
              "       '200206': '55.0',\n",
              "       '200207': '56.1',\n",
              "       '200208': '58.0',\n",
              "       '200209': '53.7',\n",
              "       '200210': '57.5',\n",
              "       '200211': '56.3',\n",
              "       '200212': '67.7',\n",
              "       '200301': '52.5',\n",
              "       '200302': '50.5',\n",
              "       '200303': '53.8',\n",
              "       '200304': '54.5',\n",
              "       '200305': '54.0',\n",
              "       '200306': '50.3',\n",
              "       '200307': '53.0',\n",
              "       '200308': '54.7',\n",
              "       '200309': '51.7',\n",
              "       '200310': '55.1',\n",
              "       '200311': '55.0',\n",
              "       '200312': '68.9',\n",
              "       '200401': '54.2',\n",
              "       '200402': '53.0',\n",
              "       '200403': '55.8',\n",
              "       '200404': '58.1',\n",
              "       '200405': '56.7',\n",
              "       '200406': '54.7',\n",
              "       '200407': '58.5',\n",
              "       '200408': '56.9',\n",
              "       '200409': '56.4',\n",
              "       '200410': '61.0',\n",
              "       '200411': '58.5',\n",
              "       '200412': '77.4',\n",
              "       '200501': '57.6',\n",
              "       '200502': '53.5',\n",
              "       '200503': '61.3',\n",
              "       '200504': '57.4',\n",
              "       '200505': '57.4',\n",
              "       '200506': '56.6',\n",
              "       '200507': '60.5',\n",
              "       '200508': '59.6',\n",
              "       '200509': '58.6',\n",
              "       '200510': '61.8',\n",
              "       '200511': '59.9',\n",
              "       '200512': '78.8',\n",
              "       '200601': '60.4',\n",
              "       '200602': '57.4',\n",
              "       '200603': '63.4',\n",
              "       '200604': '65.5',\n",
              "       '200605': '61.6',\n",
              "       '200606': '61.4',\n",
              "       '200607': '63.5',\n",
              "       '200608': '64.0',\n",
              "       '200609': '64.9',\n",
              "       '200610': '65.6',\n",
              "       '200611': '65.4',\n",
              "       '200612': '84.1',\n",
              "       '200701': '63.3',\n",
              "       '200702': '61.4',\n",
              "       '200703': '69.4',\n",
              "       '200704': '68.2',\n",
              "       '200705': '66.7',\n",
              "       '200706': '66.5',\n",
              "       '200707': '66.5',\n",
              "       '200708': '68.0',\n",
              "       '200709': '69.0',\n",
              "       '200710': '69.3',\n",
              "       '200711': '69.6',\n",
              "       '200712': '89.3',\n",
              "       '200801': '68.7',\n",
              "       '200802': '66.5',\n",
              "       '200803': '75.3',\n",
              "       '200804': '68.6',\n",
              "       '200805': '72.3',\n",
              "       '200806': '67.5',\n",
              "       '200807': '70.1',\n",
              "       '200808': '73.4',\n",
              "       '200809': '69.9',\n",
              "       '200810': '74.3',\n",
              "       '200811': '73.8',\n",
              "       '200812': '92.4',\n",
              "       '200901': '73.5',\n",
              "       '200902': '70.4',\n",
              "       '200903': '75.1',\n",
              "       '200904': '78.3',\n",
              "       '200905': '77.1',\n",
              "       '200906': '73.0',\n",
              "       '200907': '77.1',\n",
              "       '200908': '79.6',\n",
              "       '200909': '76.7',\n",
              "       '200910': '83.4',\n",
              "       '200911': '79.8',\n",
              "       '200912': '101.4',\n",
              "       '201001': '81.0',\n",
              "       '201002': '78.5',\n",
              "       '201003': '86.7',\n",
              "       '201004': '82.6',\n",
              "       '201005': '83.5',\n",
              "       '201006': '81.7',\n",
              "       '201007': '85.7',\n",
              "       '201008': '85.4',\n",
              "       '201009': '84.2',\n",
              "       '201010': '88.9',\n",
              "       '201011': '84.3',\n",
              "       '201012': '107.7',\n",
              "       '201101': '84.4',\n",
              "       '201102': '80.5',\n",
              "       '201103': '88.0',\n",
              "       '201104': '91.3',\n",
              "       '201105': '85.1',\n",
              "       '201106': '83.9',\n",
              "       '201107': '89.6',\n",
              "       '201108': '88.7',\n",
              "       '201109': '87.1',\n",
              "       '201110': '91.0',\n",
              "       '201111': '89.5',\n",
              "       '201112': '112.6',\n",
              "       '201201': '91.5',\n",
              "       '201202': '91.3',\n",
              "       '201203': '98.8',\n",
              "       '201204': '94.6',\n",
              "       '201205': '92.6',\n",
              "       '201206': '93.3',\n",
              "       '201207': '94.0',\n",
              "       '201208': '96.3',\n",
              "       '201209': '95.7',\n",
              "       '201210': '97.0',\n",
              "       '201211': '96.9',\n",
              "       '201212': '120.3',\n",
              "       '201301': '94.6',\n",
              "       '201302': '89.4',\n",
              "       '201303': '102.9',\n",
              "       '201304': '89.5',\n",
              "       '201305': '95.0',\n",
              "       '201306': '92.6',\n",
              "       '201307': '96.6',\n",
              "       '201308': '101.6',\n",
              "       '201309': '96.6',\n",
              "       '201310': '100.1',\n",
              "       '201311': '102.5',\n",
              "       '201312': '123.1',\n",
              "       '201401': '99.8',\n",
              "       '201402': '94.3',\n",
              "       '201403': '100.0',\n",
              "       '201404': '98.5',\n",
              "       '201405': '97.6',\n",
              "       '201406': '93.3',\n",
              "       '201407': '96.6',\n",
              "       '201408': '100.1',\n",
              "       '201409': '94.7',\n",
              "       '201410': '102.0',\n",
              "       '201411': '101.1',\n",
              "       '201412': '122.0',\n",
              "       '201501': '100.0',\n",
              "       '201502': '92.6',\n",
              "       '201503': '97.6',\n",
              "       '201504': '96.5',\n",
              "       '201505': '95.6',\n",
              "       '201506': '90.8',\n",
              "       '201507': '94.0',\n",
              "       '201508': '95.3',\n",
              "       '201509': '92.7',\n",
              "       '201510': '101.6',\n",
              "       '201511': '95.5',\n",
              "       '201512': '117.4',\n",
              "       '201601': '94.2',\n",
              "       '201602': '91.3',\n",
              "       '201603': '96.4',\n",
              "       '201604': '92.1',\n",
              "       '201605': '90.4',\n",
              "       '201606': '89.3',\n",
              "       '201607': '93.0',\n",
              "       '201608': '93.2',\n",
              "       '201609': '90.5',\n",
              "       '201610': '95.1',\n",
              "       '201611': '93.9',\n",
              "       '201612': '114.0',\n",
              "       '201701': '94.5',\n",
              "       '201702': '90.7',\n",
              "       '201703': '89.7',\n",
              "       '201704': '94.9',\n",
              "       '201705': '90.4',\n",
              "       '201706': '90.0',\n",
              "       '201707': '93.3',\n",
              "       '201708': '94.8',\n",
              "       '201709': '95.7',\n",
              "       '201710': '96.5',\n",
              "       '201711': '99.2',\n",
              "       '201712': '120.9',\n",
              "       '201801': '97.4',\n",
              "       '201802': '92.5',\n",
              "       '201803': '103.5',\n",
              "       '201804': '94.9',\n",
              "       '201805': '97.6',\n",
              "       '201806': '93.7',\n",
              "       '201807': '94.6',\n",
              "       '201808': '100.0',\n",
              "       '201809': '96.1',\n",
              "       '201810': '98.4',\n",
              "       '201811': '102.3',\n",
              "       '201812': '122.7',\n",
              "       '201901': '99.6',\n",
              "       '201902': '93.7',\n",
              "       '201903': '97.5',\n",
              "       '201904': '96.4',\n",
              "       '201905': '96.5',\n",
              "       '201906': '94.4',\n",
              "       '201907': '96.2',\n",
              "       '201908': '102.5',\n",
              "       '201909': '96.3',\n",
              "       '201910': '101.1',\n",
              "       '201911': '105.1',\n",
              "       '201912': '119.0',\n",
              "       '202001': '96.9',\n",
              "       '202002': '97.5',\n",
              "       '202003': '108.2',\n",
              "       '202004': '100.9',\n",
              "       '202005': '105.5',\n",
              "       '202006': '100.5',\n",
              "       '202007': '105.6',\n",
              "       '202008': '105.5',\n",
              "       '202009': '100.5',\n",
              "       '202010': '108.5',\n",
              "       '202011': '103.2',\n",
              "       '202012': '123.1',\n",
              "       '202101': '98.1',\n",
              "       '202102': '93.0',\n",
              "       '202103': '104.0',\n",
              "       '202104': '99.1',\n",
              "       '202105': '101.0',\n",
              "       '202106': '97.4',\n",
              "       '202107': '103.8',\n",
              "       '202108': '100.6'}}]}],\n",
              "  'unidade': 'Número-índice',\n",
              "  'variavel': 'Índice de volume de vendas no comércio varejista'}]"
            ]
          },
          "metadata": {},
          "execution_count": 28
        }
      ]
    },
    {
      "cell_type": "code",
      "metadata": {
        "id": "caad15c6"
      },
      "source": [
        "#Acessando os valores da série e salvando-os em um objeto\n",
        "data_list = list(pmc_alim[0]['resultados'][0]['series'][0]['serie'].items())"
      ],
      "id": "caad15c6",
      "execution_count": 29,
      "outputs": []
    },
    {
      "cell_type": "code",
      "metadata": {
        "id": "05e69fa4"
      },
      "source": [
        "#Transformando o objeto em um DataFrame\n",
        "base = pd.DataFrame(data_list)"
      ],
      "id": "05e69fa4",
      "execution_count": 30,
      "outputs": []
    },
    {
      "cell_type": "code",
      "metadata": {
        "colab": {
          "base_uri": "https://localhost:8080/",
          "height": 206
        },
        "id": "fc2c2a81",
        "outputId": "c7eaea26-f44b-4735-bda1-4aa2e4d19c69"
      },
      "source": [
        "#Verificando se saiu conforme o imaginado\n",
        "base.head()"
      ],
      "id": "fc2c2a81",
      "execution_count": 31,
      "outputs": [
        {
          "output_type": "execute_result",
          "data": {
            "text/html": [
              "<div>\n",
              "<style scoped>\n",
              "    .dataframe tbody tr th:only-of-type {\n",
              "        vertical-align: middle;\n",
              "    }\n",
              "\n",
              "    .dataframe tbody tr th {\n",
              "        vertical-align: top;\n",
              "    }\n",
              "\n",
              "    .dataframe thead th {\n",
              "        text-align: right;\n",
              "    }\n",
              "</style>\n",
              "<table border=\"1\" class=\"dataframe\">\n",
              "  <thead>\n",
              "    <tr style=\"text-align: right;\">\n",
              "      <th></th>\n",
              "      <th>0</th>\n",
              "      <th>1</th>\n",
              "    </tr>\n",
              "  </thead>\n",
              "  <tbody>\n",
              "    <tr>\n",
              "      <th>0</th>\n",
              "      <td>200001</td>\n",
              "      <td>54.3</td>\n",
              "    </tr>\n",
              "    <tr>\n",
              "      <th>1</th>\n",
              "      <td>200002</td>\n",
              "      <td>53.9</td>\n",
              "    </tr>\n",
              "    <tr>\n",
              "      <th>2</th>\n",
              "      <td>200003</td>\n",
              "      <td>57.2</td>\n",
              "    </tr>\n",
              "    <tr>\n",
              "      <th>3</th>\n",
              "      <td>200004</td>\n",
              "      <td>58.3</td>\n",
              "    </tr>\n",
              "    <tr>\n",
              "      <th>4</th>\n",
              "      <td>200005</td>\n",
              "      <td>55.8</td>\n",
              "    </tr>\n",
              "  </tbody>\n",
              "</table>\n",
              "</div>"
            ],
            "text/plain": [
              "        0     1\n",
              "0  200001  54.3\n",
              "1  200002  53.9\n",
              "2  200003  57.2\n",
              "3  200004  58.3\n",
              "4  200005  55.8"
            ]
          },
          "metadata": {},
          "execution_count": 31
        }
      ]
    },
    {
      "cell_type": "code",
      "metadata": {
        "id": "ae204b5e"
      },
      "source": [
        "#Renomeando as colunas\n",
        "base.columns = ['codigo_mes','pmc_alimentacao']"
      ],
      "id": "ae204b5e",
      "execution_count": 32,
      "outputs": []
    },
    {
      "cell_type": "code",
      "metadata": {
        "id": "84905d59"
      },
      "source": [
        "#Criando uma coluna para data, ano e mes\n",
        "base['data'] = pd.to_datetime(base['codigo_mes'], format ='%Y%m')\n",
        "base['ano'] = pd.DatetimeIndex(base['data']).year\n",
        "base['mes'] = pd.DatetimeIndex(base['data']).month"
      ],
      "id": "84905d59",
      "execution_count": 33,
      "outputs": []
    },
    {
      "cell_type": "code",
      "metadata": {
        "id": "abd091ec"
      },
      "source": [
        "#mesclando com o DataFrame \"desocupacao\"\n",
        "base = base.merge(desocupacao, on = 'data')"
      ],
      "id": "abd091ec",
      "execution_count": 34,
      "outputs": []
    },
    {
      "cell_type": "code",
      "metadata": {
        "id": "5a559006"
      },
      "source": [
        "#mesclando com o DataFrame \"tx_selic_fin\"\n",
        "base = base.merge(tx_selic_fin, on = 'data')"
      ],
      "id": "5a559006",
      "execution_count": 35,
      "outputs": []
    },
    {
      "cell_type": "code",
      "metadata": {
        "id": "00655efc"
      },
      "source": [
        "#Selecionando a data como index\n",
        "base.set_index('data', inplace = True)"
      ],
      "id": "00655efc",
      "execution_count": 36,
      "outputs": []
    },
    {
      "cell_type": "code",
      "metadata": {
        "colab": {
          "base_uri": "https://localhost:8080/",
          "height": 238
        },
        "id": "4cc3ab01",
        "outputId": "461f981b-8b1c-4ee6-b456-a4c790f7ca3b"
      },
      "source": [
        "#Por fim temos a base de dados final\n",
        "base.head()"
      ],
      "id": "4cc3ab01",
      "execution_count": 37,
      "outputs": [
        {
          "output_type": "execute_result",
          "data": {
            "text/html": [
              "<div>\n",
              "<style scoped>\n",
              "    .dataframe tbody tr th:only-of-type {\n",
              "        vertical-align: middle;\n",
              "    }\n",
              "\n",
              "    .dataframe tbody tr th {\n",
              "        vertical-align: top;\n",
              "    }\n",
              "\n",
              "    .dataframe thead th {\n",
              "        text-align: right;\n",
              "    }\n",
              "</style>\n",
              "<table border=\"1\" class=\"dataframe\">\n",
              "  <thead>\n",
              "    <tr style=\"text-align: right;\">\n",
              "      <th></th>\n",
              "      <th>codigo_mes</th>\n",
              "      <th>pmc_alimentacao</th>\n",
              "      <th>ano</th>\n",
              "      <th>mes</th>\n",
              "      <th>tx_desocup</th>\n",
              "      <th>selic</th>\n",
              "      <th>ano_s</th>\n",
              "      <th>mes_s</th>\n",
              "      <th>dia_s</th>\n",
              "      <th>coluna</th>\n",
              "    </tr>\n",
              "    <tr>\n",
              "      <th>data</th>\n",
              "      <th></th>\n",
              "      <th></th>\n",
              "      <th></th>\n",
              "      <th></th>\n",
              "      <th></th>\n",
              "      <th></th>\n",
              "      <th></th>\n",
              "      <th></th>\n",
              "      <th></th>\n",
              "      <th></th>\n",
              "    </tr>\n",
              "  </thead>\n",
              "  <tbody>\n",
              "    <tr>\n",
              "      <th>2012-03-01</th>\n",
              "      <td>201203</td>\n",
              "      <td>98.8</td>\n",
              "      <td>2012</td>\n",
              "      <td>3</td>\n",
              "      <td>7.9</td>\n",
              "      <td>10.40</td>\n",
              "      <td>2012.0</td>\n",
              "      <td>3.0</td>\n",
              "      <td>1.0</td>\n",
              "      <td>61</td>\n",
              "    </tr>\n",
              "    <tr>\n",
              "      <th>2012-04-01</th>\n",
              "      <td>201204</td>\n",
              "      <td>94.6</td>\n",
              "      <td>2012</td>\n",
              "      <td>4</td>\n",
              "      <td>7.7</td>\n",
              "      <td>9.65</td>\n",
              "      <td>2012.0</td>\n",
              "      <td>4.0</td>\n",
              "      <td>2.0</td>\n",
              "      <td>92</td>\n",
              "    </tr>\n",
              "    <tr>\n",
              "      <th>2012-05-01</th>\n",
              "      <td>201205</td>\n",
              "      <td>92.6</td>\n",
              "      <td>2012</td>\n",
              "      <td>5</td>\n",
              "      <td>7.6</td>\n",
              "      <td>8.90</td>\n",
              "      <td>2012.0</td>\n",
              "      <td>5.0</td>\n",
              "      <td>2.0</td>\n",
              "      <td>122</td>\n",
              "    </tr>\n",
              "    <tr>\n",
              "      <th>2012-06-01</th>\n",
              "      <td>201206</td>\n",
              "      <td>93.3</td>\n",
              "      <td>2012</td>\n",
              "      <td>6</td>\n",
              "      <td>7.5</td>\n",
              "      <td>8.39</td>\n",
              "      <td>2012.0</td>\n",
              "      <td>6.0</td>\n",
              "      <td>1.0</td>\n",
              "      <td>153</td>\n",
              "    </tr>\n",
              "    <tr>\n",
              "      <th>2012-07-01</th>\n",
              "      <td>201207</td>\n",
              "      <td>94.0</td>\n",
              "      <td>2012</td>\n",
              "      <td>7</td>\n",
              "      <td>7.4</td>\n",
              "      <td>8.39</td>\n",
              "      <td>2012.0</td>\n",
              "      <td>7.0</td>\n",
              "      <td>2.0</td>\n",
              "      <td>183</td>\n",
              "    </tr>\n",
              "  </tbody>\n",
              "</table>\n",
              "</div>"
            ],
            "text/plain": [
              "           codigo_mes pmc_alimentacao   ano  mes  ...   ano_s  mes_s  dia_s  coluna\n",
              "data                                              ...                              \n",
              "2012-03-01     201203            98.8  2012    3  ...  2012.0    3.0    1.0      61\n",
              "2012-04-01     201204            94.6  2012    4  ...  2012.0    4.0    2.0      92\n",
              "2012-05-01     201205            92.6  2012    5  ...  2012.0    5.0    2.0     122\n",
              "2012-06-01     201206            93.3  2012    6  ...  2012.0    6.0    1.0     153\n",
              "2012-07-01     201207            94.0  2012    7  ...  2012.0    7.0    2.0     183\n",
              "\n",
              "[5 rows x 10 columns]"
            ]
          },
          "metadata": {},
          "execution_count": 37
        }
      ]
    },
    {
      "cell_type": "code",
      "metadata": {
        "colab": {
          "base_uri": "https://localhost:8080/",
          "height": 238
        },
        "id": "6b7726a3",
        "outputId": "eee20366-8619-4eb3-983c-57180639c665"
      },
      "source": [
        "base.tail()"
      ],
      "id": "6b7726a3",
      "execution_count": 38,
      "outputs": [
        {
          "output_type": "execute_result",
          "data": {
            "text/html": [
              "<div>\n",
              "<style scoped>\n",
              "    .dataframe tbody tr th:only-of-type {\n",
              "        vertical-align: middle;\n",
              "    }\n",
              "\n",
              "    .dataframe tbody tr th {\n",
              "        vertical-align: top;\n",
              "    }\n",
              "\n",
              "    .dataframe thead th {\n",
              "        text-align: right;\n",
              "    }\n",
              "</style>\n",
              "<table border=\"1\" class=\"dataframe\">\n",
              "  <thead>\n",
              "    <tr style=\"text-align: right;\">\n",
              "      <th></th>\n",
              "      <th>codigo_mes</th>\n",
              "      <th>pmc_alimentacao</th>\n",
              "      <th>ano</th>\n",
              "      <th>mes</th>\n",
              "      <th>tx_desocup</th>\n",
              "      <th>selic</th>\n",
              "      <th>ano_s</th>\n",
              "      <th>mes_s</th>\n",
              "      <th>dia_s</th>\n",
              "      <th>coluna</th>\n",
              "    </tr>\n",
              "    <tr>\n",
              "      <th>data</th>\n",
              "      <th></th>\n",
              "      <th></th>\n",
              "      <th></th>\n",
              "      <th></th>\n",
              "      <th></th>\n",
              "      <th></th>\n",
              "      <th></th>\n",
              "      <th></th>\n",
              "      <th></th>\n",
              "      <th></th>\n",
              "    </tr>\n",
              "  </thead>\n",
              "  <tbody>\n",
              "    <tr>\n",
              "      <th>2021-04-01</th>\n",
              "      <td>202104</td>\n",
              "      <td>99.1</td>\n",
              "      <td>2021</td>\n",
              "      <td>4</td>\n",
              "      <td>14.7</td>\n",
              "      <td>2.65</td>\n",
              "      <td>2021.0</td>\n",
              "      <td>4.0</td>\n",
              "      <td>1.0</td>\n",
              "      <td>3379</td>\n",
              "    </tr>\n",
              "    <tr>\n",
              "      <th>2021-05-01</th>\n",
              "      <td>202105</td>\n",
              "      <td>101.0</td>\n",
              "      <td>2021</td>\n",
              "      <td>5</td>\n",
              "      <td>14.6</td>\n",
              "      <td>2.65</td>\n",
              "      <td>2021.0</td>\n",
              "      <td>5.0</td>\n",
              "      <td>3.0</td>\n",
              "      <td>3409</td>\n",
              "    </tr>\n",
              "    <tr>\n",
              "      <th>2021-06-01</th>\n",
              "      <td>202106</td>\n",
              "      <td>97.4</td>\n",
              "      <td>2021</td>\n",
              "      <td>6</td>\n",
              "      <td>14.1</td>\n",
              "      <td>3.40</td>\n",
              "      <td>2021.0</td>\n",
              "      <td>6.0</td>\n",
              "      <td>1.0</td>\n",
              "      <td>3440</td>\n",
              "    </tr>\n",
              "    <tr>\n",
              "      <th>2021-07-01</th>\n",
              "      <td>202107</td>\n",
              "      <td>103.8</td>\n",
              "      <td>2021</td>\n",
              "      <td>7</td>\n",
              "      <td>13.7</td>\n",
              "      <td>4.15</td>\n",
              "      <td>2021.0</td>\n",
              "      <td>7.0</td>\n",
              "      <td>1.0</td>\n",
              "      <td>3470</td>\n",
              "    </tr>\n",
              "    <tr>\n",
              "      <th>2021-08-01</th>\n",
              "      <td>202108</td>\n",
              "      <td>100.6</td>\n",
              "      <td>2021</td>\n",
              "      <td>8</td>\n",
              "      <td>13.2</td>\n",
              "      <td>4.15</td>\n",
              "      <td>2021.0</td>\n",
              "      <td>8.0</td>\n",
              "      <td>2.0</td>\n",
              "      <td>3501</td>\n",
              "    </tr>\n",
              "  </tbody>\n",
              "</table>\n",
              "</div>"
            ],
            "text/plain": [
              "           codigo_mes pmc_alimentacao   ano  mes  ...   ano_s  mes_s  dia_s  coluna\n",
              "data                                              ...                              \n",
              "2021-04-01     202104            99.1  2021    4  ...  2021.0    4.0    1.0    3379\n",
              "2021-05-01     202105           101.0  2021    5  ...  2021.0    5.0    3.0    3409\n",
              "2021-06-01     202106            97.4  2021    6  ...  2021.0    6.0    1.0    3440\n",
              "2021-07-01     202107           103.8  2021    7  ...  2021.0    7.0    1.0    3470\n",
              "2021-08-01     202108           100.6  2021    8  ...  2021.0    8.0    2.0    3501\n",
              "\n",
              "[5 rows x 10 columns]"
            ]
          },
          "metadata": {},
          "execution_count": 38
        }
      ]
    },
    {
      "cell_type": "code",
      "metadata": {
        "colab": {
          "base_uri": "https://localhost:8080/"
        },
        "id": "181719f6",
        "outputId": "d1c27c41-d895-4d38-f068-f0736a6ccb34"
      },
      "source": [
        "base.info()"
      ],
      "id": "181719f6",
      "execution_count": 39,
      "outputs": [
        {
          "output_type": "stream",
          "name": "stdout",
          "text": [
            "<class 'pandas.core.frame.DataFrame'>\n",
            "DatetimeIndex: 114 entries, 2012-03-01 to 2021-08-01\n",
            "Data columns (total 10 columns):\n",
            " #   Column           Non-Null Count  Dtype  \n",
            "---  ------           --------------  -----  \n",
            " 0   codigo_mes       114 non-null    object \n",
            " 1   pmc_alimentacao  114 non-null    object \n",
            " 2   ano              114 non-null    int64  \n",
            " 3   mes              114 non-null    int64  \n",
            " 4   tx_desocup       114 non-null    float64\n",
            " 5   selic            114 non-null    float64\n",
            " 6   ano_s            114 non-null    float64\n",
            " 7   mes_s            114 non-null    float64\n",
            " 8   dia_s            114 non-null    float64\n",
            " 9   coluna           114 non-null    int64  \n",
            "dtypes: float64(5), int64(3), object(2)\n",
            "memory usage: 9.8+ KB\n"
          ]
        }
      ]
    },
    {
      "cell_type": "code",
      "metadata": {
        "id": "f53d920c"
      },
      "source": [
        "#Transformando o tipo da coluna 'pmc_alimentacao' (os valores estão sendo lidos como strings)\n",
        "base['pmc_alimentacao'] = base['pmc_alimentacao'].astype('float64')"
      ],
      "id": "f53d920c",
      "execution_count": 40,
      "outputs": []
    },
    {
      "cell_type": "code",
      "metadata": {
        "id": "64c1e66e"
      },
      "source": [
        "#Dropando algumas colunas que não são mais necessárias\n",
        "base.drop(['codigo_mes','ano_s','mes_s','dia_s','coluna'], axis = 1, inplace = True)"
      ],
      "id": "64c1e66e",
      "execution_count": 41,
      "outputs": []
    },
    {
      "cell_type": "code",
      "metadata": {
        "id": "4b8c9501"
      },
      "source": [
        "#Dividindo os dados entre treino e teste. os últimos 12 meses serão os dados de teste.\n",
        "treino = base.iloc[:-12]\n",
        "teste = base.iloc[-12:]"
      ],
      "id": "4b8c9501",
      "execution_count": 42,
      "outputs": []
    },
    {
      "cell_type": "code",
      "metadata": {
        "colab": {
          "base_uri": "https://localhost:8080/"
        },
        "id": "75cf5e94",
        "outputId": "5c31b660-18c5-40a6-d604-db3eba2cbca8"
      },
      "source": [
        "treino.shape, teste.shape"
      ],
      "id": "75cf5e94",
      "execution_count": 43,
      "outputs": [
        {
          "output_type": "execute_result",
          "data": {
            "text/plain": [
              "((102, 5), (12, 5))"
            ]
          },
          "metadata": {},
          "execution_count": 43
        }
      ]
    },
    {
      "cell_type": "code",
      "metadata": {
        "colab": {
          "base_uri": "https://localhost:8080/",
          "height": 238
        },
        "id": "a4876ae5",
        "outputId": "f272486c-65fa-4652-9a17-cfa13b85afe0"
      },
      "source": [
        "treino.tail()"
      ],
      "id": "a4876ae5",
      "execution_count": 44,
      "outputs": [
        {
          "output_type": "execute_result",
          "data": {
            "text/html": [
              "<div>\n",
              "<style scoped>\n",
              "    .dataframe tbody tr th:only-of-type {\n",
              "        vertical-align: middle;\n",
              "    }\n",
              "\n",
              "    .dataframe tbody tr th {\n",
              "        vertical-align: top;\n",
              "    }\n",
              "\n",
              "    .dataframe thead th {\n",
              "        text-align: right;\n",
              "    }\n",
              "</style>\n",
              "<table border=\"1\" class=\"dataframe\">\n",
              "  <thead>\n",
              "    <tr style=\"text-align: right;\">\n",
              "      <th></th>\n",
              "      <th>pmc_alimentacao</th>\n",
              "      <th>ano</th>\n",
              "      <th>mes</th>\n",
              "      <th>tx_desocup</th>\n",
              "      <th>selic</th>\n",
              "    </tr>\n",
              "    <tr>\n",
              "      <th>data</th>\n",
              "      <th></th>\n",
              "      <th></th>\n",
              "      <th></th>\n",
              "      <th></th>\n",
              "      <th></th>\n",
              "    </tr>\n",
              "  </thead>\n",
              "  <tbody>\n",
              "    <tr>\n",
              "      <th>2020-04-01</th>\n",
              "      <td>100.9</td>\n",
              "      <td>2020</td>\n",
              "      <td>4</td>\n",
              "      <td>12.6</td>\n",
              "      <td>3.65</td>\n",
              "    </tr>\n",
              "    <tr>\n",
              "      <th>2020-05-01</th>\n",
              "      <td>105.5</td>\n",
              "      <td>2020</td>\n",
              "      <td>5</td>\n",
              "      <td>12.9</td>\n",
              "      <td>3.65</td>\n",
              "    </tr>\n",
              "    <tr>\n",
              "      <th>2020-06-01</th>\n",
              "      <td>100.5</td>\n",
              "      <td>2020</td>\n",
              "      <td>6</td>\n",
              "      <td>13.3</td>\n",
              "      <td>2.90</td>\n",
              "    </tr>\n",
              "    <tr>\n",
              "      <th>2020-07-01</th>\n",
              "      <td>105.6</td>\n",
              "      <td>2020</td>\n",
              "      <td>7</td>\n",
              "      <td>13.8</td>\n",
              "      <td>2.15</td>\n",
              "    </tr>\n",
              "    <tr>\n",
              "      <th>2020-08-01</th>\n",
              "      <td>105.5</td>\n",
              "      <td>2020</td>\n",
              "      <td>8</td>\n",
              "      <td>14.5</td>\n",
              "      <td>2.15</td>\n",
              "    </tr>\n",
              "  </tbody>\n",
              "</table>\n",
              "</div>"
            ],
            "text/plain": [
              "            pmc_alimentacao   ano  mes  tx_desocup  selic\n",
              "data                                                     \n",
              "2020-04-01            100.9  2020    4        12.6   3.65\n",
              "2020-05-01            105.5  2020    5        12.9   3.65\n",
              "2020-06-01            100.5  2020    6        13.3   2.90\n",
              "2020-07-01            105.6  2020    7        13.8   2.15\n",
              "2020-08-01            105.5  2020    8        14.5   2.15"
            ]
          },
          "metadata": {},
          "execution_count": 44
        }
      ]
    },
    {
      "cell_type": "code",
      "metadata": {
        "colab": {
          "base_uri": "https://localhost:8080/",
          "height": 238
        },
        "id": "eb680543",
        "outputId": "8d719739-93f7-4adb-dc91-b75e244fefca"
      },
      "source": [
        "teste.head()"
      ],
      "id": "eb680543",
      "execution_count": 45,
      "outputs": [
        {
          "output_type": "execute_result",
          "data": {
            "text/html": [
              "<div>\n",
              "<style scoped>\n",
              "    .dataframe tbody tr th:only-of-type {\n",
              "        vertical-align: middle;\n",
              "    }\n",
              "\n",
              "    .dataframe tbody tr th {\n",
              "        vertical-align: top;\n",
              "    }\n",
              "\n",
              "    .dataframe thead th {\n",
              "        text-align: right;\n",
              "    }\n",
              "</style>\n",
              "<table border=\"1\" class=\"dataframe\">\n",
              "  <thead>\n",
              "    <tr style=\"text-align: right;\">\n",
              "      <th></th>\n",
              "      <th>pmc_alimentacao</th>\n",
              "      <th>ano</th>\n",
              "      <th>mes</th>\n",
              "      <th>tx_desocup</th>\n",
              "      <th>selic</th>\n",
              "    </tr>\n",
              "    <tr>\n",
              "      <th>data</th>\n",
              "      <th></th>\n",
              "      <th></th>\n",
              "      <th></th>\n",
              "      <th></th>\n",
              "      <th></th>\n",
              "    </tr>\n",
              "  </thead>\n",
              "  <tbody>\n",
              "    <tr>\n",
              "      <th>2020-09-01</th>\n",
              "      <td>100.5</td>\n",
              "      <td>2020</td>\n",
              "      <td>9</td>\n",
              "      <td>14.6</td>\n",
              "      <td>1.9</td>\n",
              "    </tr>\n",
              "    <tr>\n",
              "      <th>2020-10-01</th>\n",
              "      <td>108.5</td>\n",
              "      <td>2020</td>\n",
              "      <td>10</td>\n",
              "      <td>14.3</td>\n",
              "      <td>1.9</td>\n",
              "    </tr>\n",
              "    <tr>\n",
              "      <th>2020-11-01</th>\n",
              "      <td>103.2</td>\n",
              "      <td>2020</td>\n",
              "      <td>11</td>\n",
              "      <td>14.1</td>\n",
              "      <td>1.9</td>\n",
              "    </tr>\n",
              "    <tr>\n",
              "      <th>2020-12-01</th>\n",
              "      <td>123.1</td>\n",
              "      <td>2020</td>\n",
              "      <td>12</td>\n",
              "      <td>13.9</td>\n",
              "      <td>1.9</td>\n",
              "    </tr>\n",
              "    <tr>\n",
              "      <th>2021-01-01</th>\n",
              "      <td>98.1</td>\n",
              "      <td>2021</td>\n",
              "      <td>1</td>\n",
              "      <td>14.2</td>\n",
              "      <td>1.9</td>\n",
              "    </tr>\n",
              "  </tbody>\n",
              "</table>\n",
              "</div>"
            ],
            "text/plain": [
              "            pmc_alimentacao   ano  mes  tx_desocup  selic\n",
              "data                                                     \n",
              "2020-09-01            100.5  2020    9        14.6    1.9\n",
              "2020-10-01            108.5  2020   10        14.3    1.9\n",
              "2020-11-01            103.2  2020   11        14.1    1.9\n",
              "2020-12-01            123.1  2020   12        13.9    1.9\n",
              "2021-01-01             98.1  2021    1        14.2    1.9"
            ]
          },
          "metadata": {},
          "execution_count": 45
        }
      ]
    },
    {
      "cell_type": "code",
      "metadata": {
        "scrolled": true,
        "colab": {
          "base_uri": "https://localhost:8080/",
          "height": 295
        },
        "id": "6c007abd",
        "outputId": "3df17e49-5df7-41a4-a73d-987d5ce486e9"
      },
      "source": [
        "#Plotando a série histórica já dividida em treino e teste\n",
        "plt.figure(figsize = (16,4))\n",
        "plt.plot(treino['pmc_alimentacao'], label = 'Treino', c = 'goldenrod')\n",
        "plt.plot(teste['pmc_alimentacao'], label = 'Teste', c = 'blueviolet')\n",
        "plt.title('Série histórica da PMC \"Alimentos e Bebidas\" (Março/2012 à Julho/2021)')\n",
        "plt.legend(loc = 'best')\n",
        "plt.xlabel('Anos')\n",
        "plt.ylabel('Valor PMC')\n",
        "plt.show()"
      ],
      "id": "6c007abd",
      "execution_count": 46,
      "outputs": [
        {
          "output_type": "display_data",
          "data": {
            "image/png": "[encoded data removed]",
            "text/plain": [
              "<Figure size 1152x288 with 1 Axes>"
            ]
          },
          "metadata": {
            "needs_background": "light"
          }
        }
      ]
    },
    {
      "cell_type": "markdown",
      "metadata": {
        "id": "7cf98fcf"
      },
      "source": [
        "## Análise Exploratória de Dados"
      ],
      "id": "7cf98fcf"
    },
    {
      "cell_type": "code",
      "metadata": {
        "colab": {
          "base_uri": "https://localhost:8080/",
          "height": 334
        },
        "id": "f25f005f",
        "outputId": "d3f1f51c-ad9d-4179-9f64-a4d37f549003"
      },
      "source": [
        "#Verificando a relação entre as variáveis\n",
        "fig, axes = plt.subplots(1,3, figsize = (15,5))\n",
        "axes[0].scatter(treino['tx_desocup'],treino['pmc_alimentacao'], c = 'seagreen')\n",
        "axes[0].set_xlabel('Desocupação (%)')\n",
        "axes[0].set_ylabel('PMC')\n",
        "\n",
        "axes[1].scatter(treino['selic'],treino['pmc_alimentacao'], c = 'mediumslateblue')\n",
        "axes[1].set_xlabel('SELIC (%)')\n",
        "axes[1].set_ylabel('PMC')\n",
        "\n",
        "axes[2].scatter(treino['tx_desocup'],treino['selic'], c = 'orange')\n",
        "axes[2].set_xlabel('Desocupação (%)')\n",
        "axes[2].set_ylabel('SELIC (%)')\n",
        "\n",
        "plt.show()"
      ],
      "id": "f25f005f",
      "execution_count": 47,
      "outputs": [
        {
          "output_type": "display_data",
          "data": {
            "image/png": "[encoded data removed]",
            "text/plain": [
              "<Figure size 1080x360 with 3 Axes>"
            ]
          },
          "metadata": {
            "needs_background": "light"
          }
        }
      ]
    },
    {
      "cell_type": "code",
      "metadata": {
        "colab": {
          "base_uri": "https://localhost:8080/",
          "height": 206
        },
        "id": "aadd775a",
        "outputId": "f2dad466-eabe-4b5a-c58b-040945be03c0"
      },
      "source": [
        "base.corr()"
      ],
      "id": "aadd775a",
      "execution_count": 48,
      "outputs": [
        {
          "output_type": "execute_result",
          "data": {
            "text/html": [
              "<div>\n",
              "<style scoped>\n",
              "    .dataframe tbody tr th:only-of-type {\n",
              "        vertical-align: middle;\n",
              "    }\n",
              "\n",
              "    .dataframe tbody tr th {\n",
              "        vertical-align: top;\n",
              "    }\n",
              "\n",
              "    .dataframe thead th {\n",
              "        text-align: right;\n",
              "    }\n",
              "</style>\n",
              "<table border=\"1\" class=\"dataframe\">\n",
              "  <thead>\n",
              "    <tr style=\"text-align: right;\">\n",
              "      <th></th>\n",
              "      <th>pmc_alimentacao</th>\n",
              "      <th>ano</th>\n",
              "      <th>mes</th>\n",
              "      <th>tx_desocup</th>\n",
              "      <th>selic</th>\n",
              "    </tr>\n",
              "  </thead>\n",
              "  <tbody>\n",
              "    <tr>\n",
              "      <th>pmc_alimentacao</th>\n",
              "      <td>1.000000</td>\n",
              "      <td>0.150447</td>\n",
              "      <td>0.509798</td>\n",
              "      <td>0.024913</td>\n",
              "      <td>-0.308958</td>\n",
              "    </tr>\n",
              "    <tr>\n",
              "      <th>ano</th>\n",
              "      <td>0.150447</td>\n",
              "      <td>1.000000</td>\n",
              "      <td>-0.110171</td>\n",
              "      <td>0.901707</td>\n",
              "      <td>-0.591518</td>\n",
              "    </tr>\n",
              "    <tr>\n",
              "      <th>mes</th>\n",
              "      <td>0.509798</td>\n",
              "      <td>-0.110171</td>\n",
              "      <td>1.000000</td>\n",
              "      <td>-0.085246</td>\n",
              "      <td>0.004091</td>\n",
              "    </tr>\n",
              "    <tr>\n",
              "      <th>tx_desocup</th>\n",
              "      <td>0.024913</td>\n",
              "      <td>0.901707</td>\n",
              "      <td>-0.085246</td>\n",
              "      <td>1.000000</td>\n",
              "      <td>-0.466514</td>\n",
              "    </tr>\n",
              "    <tr>\n",
              "      <th>selic</th>\n",
              "      <td>-0.308958</td>\n",
              "      <td>-0.591518</td>\n",
              "      <td>0.004091</td>\n",
              "      <td>-0.466514</td>\n",
              "      <td>1.000000</td>\n",
              "    </tr>\n",
              "  </tbody>\n",
              "</table>\n",
              "</div>"
            ],
            "text/plain": [
              "                 pmc_alimentacao       ano       mes  tx_desocup     selic\n",
              "pmc_alimentacao         1.000000  0.150447  0.509798    0.024913 -0.308958\n",
              "ano                     0.150447  1.000000 -0.110171    0.901707 -0.591518\n",
              "mes                     0.509798 -0.110171  1.000000   -0.085246  0.004091\n",
              "tx_desocup              0.024913  0.901707 -0.085246    1.000000 -0.466514\n",
              "selic                  -0.308958 -0.591518  0.004091   -0.466514  1.000000"
            ]
          },
          "metadata": {},
          "execution_count": 48
        }
      ]
    },
    {
      "cell_type": "markdown",
      "metadata": {
        "id": "fb55ca42"
      },
      "source": [
        "Quando olhamos para as correlações, vemos que a taxa de desocupação tem uma correlação muito fraca mas positiva com a PMC, indo contra a nossa intuição inicial. Já a relação entre a taxa SELIC e a PMC foi, mesmo fraca, negativa, corroborando nosso raciocínio. Além disso, também observamos a relação entre a taxa de desocupação e a SELIC,que aparenta ser uma função de máximo, onde para níveis iniciais ambas estão positivamente correlacionadas e após certo ponto passa a ter um comportamento indefinido/negativo.\n",
        "\n",
        "Em economia, algumas relações não são instantâneas, por isso, é necessário visualizar se há alguma correlação das variáveis com defasagem de tempo, ou seja, se uma variável x no períodoo t-1,t-2 ou t-3 possui relação com uma variável y no período t. Primeiro visualizemos essa relação entre a PMC e a taxa de desocupação."
      ],
      "id": "fb55ca42"
    },
    {
      "cell_type": "code",
      "metadata": {
        "colab": {
          "base_uri": "https://localhost:8080/",
          "height": 350
        },
        "id": "0f7ce303",
        "outputId": "d8c83a9b-415c-4452-eac2-dcadfbe8cb5a"
      },
      "source": [
        "#Verificando a relação a PMC e a taxa de desocupação (com lags)\n",
        "fig, axes = plt.subplots(2,3, figsize = (15,5), sharey = True)\n",
        "axes[0,0].scatter(treino['tx_desocup'].shift(1),treino['pmc_alimentacao'], c = 'seagreen')\n",
        "axes[0,0].set_ylabel('PMC')\n",
        "axes[0,0].set_xticks([])\n",
        "axes[0,0].set_title('PMC x desocupação (lag 1)')\n",
        "\n",
        "axes[0,1].scatter(treino['tx_desocup'].shift(2),treino['pmc_alimentacao'], c = 'seagreen')\n",
        "axes[0,1].set_xticks([])\n",
        "axes[0,1].set_title('PMC x desocupação (lag 2)')\n",
        "\n",
        "axes[0,2].scatter(treino['tx_desocup'].shift(3),treino['pmc_alimentacao'], c = 'seagreen')\n",
        "axes[0,2].set_xticks([])\n",
        "axes[0,2].set_title('PMC x desocupação (lag 3)')\n",
        "\n",
        "axes[1,0].scatter(treino['tx_desocup'].shift(4),treino['pmc_alimentacao'], c = 'seagreen')\n",
        "axes[1,0].set_xlabel('Desocupação (%)')\n",
        "axes[1,0].set_ylabel('PMC')\n",
        "axes[1,0].set_title('PMC x desocupação (lag 4)')\n",
        "\n",
        "axes[1,1].scatter(treino['tx_desocup'].shift(5),treino['pmc_alimentacao'], c = 'seagreen')\n",
        "axes[1,1].set_xlabel('Desocupação (%)')\n",
        "axes[1,1].set_title('PMC x desocupação (lag 5)')\n",
        "\n",
        "\n",
        "axes[1,2].scatter(treino['tx_desocup'].shift(6),treino['pmc_alimentacao'], c = 'seagreen')\n",
        "axes[1,2].set_xlabel('Desocupação (%)')\n",
        "axes[1,2].set_title('PMC x desocupação (lag 6)')\n",
        "\n",
        "plt.show()"
      ],
      "id": "0f7ce303",
      "execution_count": 49,
      "outputs": [
        {
          "output_type": "display_data",
          "data": {
            "image/png": "[encoded data removed]",
            "text/plain": [
              "<Figure size 1080x360 with 6 Axes>"
            ]
          },
          "metadata": {
            "needs_background": "light"
          }
        }
      ]
    },
    {
      "cell_type": "markdown",
      "metadata": {
        "id": "e6ee5d84"
      },
      "source": [
        "O que pode-se perceber com os plots anteriores é que há naturalmente a criação de clusters, um mais à esquerda, com Desocupação <10 e outro mais à direita.\n",
        "\n",
        "Realizando a mesma análise com a PMC e a SELIC temos:"
      ],
      "id": "e6ee5d84"
    },
    {
      "cell_type": "code",
      "metadata": {
        "colab": {
          "base_uri": "https://localhost:8080/",
          "height": 350
        },
        "id": "157dbf67",
        "outputId": "e833ee79-4277-4a91-c759-5c484eabf84a"
      },
      "source": [
        "#Verificando a relação a PMC e a Taxa SELIC (com lags)\n",
        "fig, axes = plt.subplots(2,3, figsize = (15,5), sharey = True)\n",
        "axes[0,0].scatter(treino['selic'].shift(1),treino['pmc_alimentacao'], c = 'mediumslateblue')\n",
        "axes[0,0].set_ylabel('PMC')\n",
        "axes[0,0].set_xticks([])\n",
        "axes[0,0].set_title('PMC x SELIC (lag 1)')\n",
        "\n",
        "axes[0,1].scatter(treino['selic'].shift(2),treino['pmc_alimentacao'], c = 'mediumslateblue')\n",
        "axes[0,1].set_xticks([])\n",
        "axes[0,1].set_title('PMC x SELIC (lag 2)')\n",
        "\n",
        "axes[0,2].scatter(treino['selic'].shift(3),treino['pmc_alimentacao'], c = 'mediumslateblue')\n",
        "axes[0,2].set_xticks([])\n",
        "axes[0,2].set_title('PMC x desocupação (lag 3)')\n",
        "\n",
        "axes[1,0].scatter(treino['selic'].shift(4),treino['pmc_alimentacao'], c = 'mediumslateblue')\n",
        "axes[1,0].set_xlabel('Taxa SELIC (%)')\n",
        "axes[1,0].set_ylabel('PMC')\n",
        "axes[1,0].set_title('PMC x SELIC (lag 4)')\n",
        "\n",
        "axes[1,1].scatter(treino['selic'].shift(5),treino['pmc_alimentacao'], c = 'mediumslateblue')\n",
        "axes[1,1].set_xlabel('Taxa SELIC (%)')\n",
        "axes[1,1].set_title('PMC x SELIC (lag 5)')\n",
        "\n",
        "\n",
        "axes[1,2].scatter(treino['selic'].shift(6),treino['pmc_alimentacao'], c = 'mediumslateblue')\n",
        "axes[1,2].set_xlabel('Taxa SELIC (%)')\n",
        "axes[1,2].set_title('PMC x SELIC (lag 6)')\n",
        "\n",
        "plt.show()"
      ],
      "id": "157dbf67",
      "execution_count": 50,
      "outputs": [
        {
          "output_type": "display_data",
          "data": {
            "image/png": "[encoded data removed]",
            "text/plain": [
              "<Figure size 1080x360 with 6 Axes>"
            ]
          },
          "metadata": {
            "needs_background": "light"
          }
        }
      ]
    },
    {
      "cell_type": "markdown",
      "metadata": {
        "id": "b929563a"
      },
      "source": [
        "O padrão não se altera muito, quando consideramos uma PMC< 110, percebe uma correlação negativa entre as variáveis, como era esperado.\n",
        "\n",
        "Além disso, podemos fazer uma análise ano a ano da variável-alvo para ver se conseguimos encontrar algum padrão de repetição, o que poderia indicar sazonalidade."
      ],
      "id": "b929563a"
    },
    {
      "cell_type": "code",
      "metadata": {
        "id": "d6492ae4"
      },
      "source": [
        "#Criando uma lista com os anos presentes nos dados\n",
        "years = treino.ano.unique()"
      ],
      "id": "d6492ae4",
      "execution_count": 51,
      "outputs": []
    },
    {
      "cell_type": "code",
      "metadata": {
        "colab": {
          "base_uri": "https://localhost:8080/",
          "height": 390
        },
        "id": "18a7b648",
        "outputId": "ca302477-a28c-4a41-ea50-2034388cc44d"
      },
      "source": [
        "#Plotando os valores da PMC mês a mês por ano\n",
        "pos_mes = np.arange(1,13)\n",
        "meses = ['Jan','Fev','Mar','Abr','Maio','Jun','Jul','Ago','Set','Out','Nov','Dez']\n",
        "plt.figure(figsize = (12,6))\n",
        "for i in years:\n",
        "    plt.plot('mes','pmc_alimentacao', data = treino[treino['ano'] == i], label = i)\n",
        "plt.title('Valores da PMC do segmento alimentos e bebidas mensal de 2012 à 2020')\n",
        "plt.legend(loc = 'best', bbox_to_anchor = (1,0.45))\n",
        "plt.xticks(pos_mes,meses)\n",
        "plt.ylabel('PMC')\n",
        "plt.show()"
      ],
      "id": "18a7b648",
      "execution_count": 52,
      "outputs": [
        {
          "output_type": "display_data",
          "data": {
            "image/png": "[encoded data removed]",
            "text/plain": [
              "<Figure size 864x432 with 1 Axes>"
            ]
          },
          "metadata": {
            "needs_background": "light"
          }
        }
      ]
    },
    {
      "cell_type": "markdown",
      "metadata": {
        "id": "363b07a8"
      },
      "source": [
        "Percebe-se que há padrão que se repete anualmente: O ano começa com a queda, em meados de março há um aumento, novamente seguid por queda, em agosto há uma nova ascensão, depois outra em outubro e como era de se esperar, dezembro o volume de vendas aumenta absurdamente."
      ],
      "id": "363b07a8"
    },
    {
      "cell_type": "code",
      "metadata": {
        "colab": {
          "base_uri": "https://localhost:8080/",
          "height": 499
        },
        "id": "948f4ea0",
        "outputId": "b7487d72-3c07-4f82-d666-901557009a7d"
      },
      "source": [
        "#Plotando a série histórica normal, com 1 lag e 12 lags, plots de autocorrelação e parcial autocorrelação\n",
        "fig2, axes2 = plt.subplots(3,3, figsize = (16,8))\n",
        "axes2[0,0].plot(treino['pmc_alimentacao'].reset_index(drop = True), c = 'limegreen'); axes2[0,0].set_title('Série histórica')\n",
        "axes2[1,0].plot(treino['pmc_alimentacao'].reset_index(drop = True).diff(1), c = 'limegreen'); axes2[1,0].set_title('Série com diferenciação (1 período)')\n",
        "axes2[2,0].plot(treino['pmc_alimentacao'].reset_index(drop = True).diff(12), c = 'limegreen'); axes2[2,0].set_title('Série com diferenciação (12 períodos)')\n",
        "plot_acf(treino['pmc_alimentacao'], ax = axes2[0,1], lags = 60, title = 'Autocorrelação')\n",
        "plot_acf(treino['pmc_alimentacao'].diff(1).dropna(), ax = axes2[1,1], lags = 60,title = 'Autocorrelação')\n",
        "plot_acf(treino['pmc_alimentacao'].diff(12).dropna(), ax = axes2[2,1], lags = 60, title = 'Autocorrelação')\n",
        "plot_pacf(treino['pmc_alimentacao'], ax = axes2[0,2], lags = 36, title = 'Autocorrelação parcial', c = 'mediumpurple', vlines_kwargs={'colors': 'mediumpurple'})\n",
        "plot_pacf(treino['pmc_alimentacao'].diff(1).dropna(), ax = axes2[1,2], lags = 36, title = 'Autocorrelação parcial', c = 'mediumpurple', vlines_kwargs={'colors': 'mediumpurple'})\n",
        "plot_pacf(treino['pmc_alimentacao'].diff(12).dropna(), ax = axes2[2,2], lags = 36, title = 'Autocorrelação parcial', c = 'mediumpurple', vlines_kwargs={'colors': 'mediumpurple'})\n",
        "axes2[0,0].set_xticks([]); axes2[1,0].set_xticks([])\n",
        "axes2[0,1].set_xticks([]); axes2[1,1].set_xticks([])\n",
        "axes2[0,2].set_xticks([]); axes2[1,2].set_xticks([])\n",
        "axes2[0,2].set(ylim=(-1,2));axes2[1,2].set(ylim=(-1,2));axes2[2,2].set(ylim=(-1,2))\n",
        "plt.show()"
      ],
      "id": "948f4ea0",
      "execution_count": 53,
      "outputs": [
        {
          "output_type": "display_data",
          "data": {
            "image/png": "[encoded data removed]",
            "text/plain": [
              "<Figure size 1152x576 with 9 Axes>"
            ]
          },
          "metadata": {
            "needs_background": "light"
          }
        }
      ]
    },
    {
      "cell_type": "markdown",
      "metadata": {
        "id": "69f6a114"
      },
      "source": [
        "Nos plots acima, percebe-se que a série quase não muda após uma diferença, mas quando fazemos a diferença considerando a sazonalidade anual, os padrões da série tornam mais claro, então é a partir disso que iremos basear nossa análise."
      ],
      "id": "69f6a114"
    },
    {
      "cell_type": "code",
      "metadata": {
        "id": "1252b93f",
        "colab": {
          "base_uri": "https://localhost:8080/"
        },
        "outputId": "fb2254de-db9d-40ad-cfa6-77d3f868f742"
      },
      "source": [
        "#Teste para verificar estacionariedade (série histórica)\n",
        "adfuller(treino['pmc_alimentacao'])"
      ],
      "id": "1252b93f",
      "execution_count": 54,
      "outputs": [
        {
          "output_type": "execute_result",
          "data": {
            "text/plain": [
              "(-0.6301640267237689,\n",
              " 0.8640195006967502,\n",
              " 13,\n",
              " 88,\n",
              " {'1%': -3.506944401824286,\n",
              "  '10%': -2.584614550619835,\n",
              "  '5%': -2.894989819214876},\n",
              " 476.80240854155034)"
            ]
          },
          "metadata": {},
          "execution_count": 54
        }
      ]
    },
    {
      "cell_type": "code",
      "metadata": {
        "id": "511a06de",
        "colab": {
          "base_uri": "https://localhost:8080/"
        },
        "outputId": "a1fbb657-0700-433a-dada-a0e2e276c4e1"
      },
      "source": [
        "#Teste para verificar estacionariedade (12 períodos de lag)\n",
        "adfuller(treino['pmc_alimentacao'].diff(12).dropna())"
      ],
      "id": "511a06de",
      "execution_count": 55,
      "outputs": [
        {
          "output_type": "execute_result",
          "data": {
            "text/plain": [
              "(-2.7102646497172547,\n",
              " 0.07227881699412195,\n",
              " 11,\n",
              " 78,\n",
              " {'1%': -3.517113604831504,\n",
              "  '10%': -2.5869547797501644,\n",
              "  '5%': -2.8993754262546574},\n",
              " 396.4801039429889)"
            ]
          },
          "metadata": {},
          "execution_count": 55
        }
      ]
    },
    {
      "cell_type": "code",
      "metadata": {
        "id": "8cd7f96c",
        "colab": {
          "base_uri": "https://localhost:8080/",
          "height": 855
        },
        "outputId": "14ca333c-cfc2-4e88-a483-7e9860173ba4"
      },
      "source": [
        "#PROCURANDO OS PARÂMETROS ÓTIMOS \n",
        "sarima = auto_arima(treino['pmc_alimentacao'], start_p=1, start_q=1,\n",
        "                         test='adf',\n",
        "                         max_p=3, max_q=3, m=12,\n",
        "                         start_P=0, seasonal=True,\n",
        "                         d=None, D=1, trace=True,\n",
        "                         error_action='ignore',  \n",
        "                         suppress_warnings=True, \n",
        "                         stepwise=True)\n",
        "\n",
        "sarima.summary()"
      ],
      "id": "8cd7f96c",
      "execution_count": 56,
      "outputs": [
        {
          "output_type": "stream",
          "name": "stdout",
          "text": [
            "Performing stepwise search to minimize aic\n",
            " ARIMA(1,1,1)(0,1,1)[12]             : AIC=inf, Time=0.79 sec\n",
            " ARIMA(0,1,0)(0,1,0)[12]             : AIC=515.942, Time=0.03 sec\n",
            " ARIMA(1,1,0)(1,1,0)[12]             : AIC=462.968, Time=0.10 sec\n",
            " ARIMA(0,1,1)(0,1,1)[12]             : AIC=inf, Time=0.62 sec\n",
            " ARIMA(1,1,0)(0,1,0)[12]             : AIC=482.457, Time=0.04 sec\n",
            " ARIMA(1,1,0)(2,1,0)[12]             : AIC=462.474, Time=0.25 sec\n",
            " ARIMA(1,1,0)(2,1,1)[12]             : AIC=inf, Time=2.25 sec\n",
            " ARIMA(1,1,0)(1,1,1)[12]             : AIC=inf, Time=0.74 sec\n",
            " ARIMA(0,1,0)(2,1,0)[12]             : AIC=493.752, Time=0.20 sec\n",
            " ARIMA(2,1,0)(2,1,0)[12]             : AIC=445.301, Time=0.37 sec\n",
            " ARIMA(2,1,0)(1,1,0)[12]             : AIC=447.137, Time=0.14 sec\n",
            " ARIMA(2,1,0)(2,1,1)[12]             : AIC=inf, Time=3.10 sec\n",
            " ARIMA(2,1,0)(1,1,1)[12]             : AIC=inf, Time=1.01 sec\n",
            " ARIMA(3,1,0)(2,1,0)[12]             : AIC=446.510, Time=0.39 sec\n",
            " ARIMA(2,1,1)(2,1,0)[12]             : AIC=446.321, Time=0.61 sec\n",
            " ARIMA(1,1,1)(2,1,0)[12]             : AIC=448.086, Time=0.39 sec\n",
            " ARIMA(3,1,1)(2,1,0)[12]             : AIC=448.302, Time=0.69 sec\n",
            " ARIMA(2,1,0)(2,1,0)[12] intercept   : AIC=446.904, Time=0.79 sec\n",
            "\n",
            "Best model:  ARIMA(2,1,0)(2,1,0)[12]          \n",
            "Total fit time: 12.535 seconds\n"
          ]
        },
        {
          "output_type": "execute_result",
          "data": {
            "text/html": [
              "<table class=\"simpletable\">\n",
              "<caption>SARIMAX Results</caption>\n",
              "<tr>\n",
              "  <th>Dep. Variable:</th>                  <td>y</td>               <th>  No. Observations:  </th>    <td>102</td>  \n",
              "</tr>\n",
              "<tr>\n",
              "  <th>Model:</th>           <td>SARIMAX(2, 1, 0)x(2, 1, 0, 12)</td> <th>  Log Likelihood     </th> <td>-217.650</td>\n",
              "</tr>\n",
              "<tr>\n",
              "  <th>Date:</th>                   <td>Mon, 22 Nov 2021</td>        <th>  AIC                </th>  <td>445.301</td>\n",
              "</tr>\n",
              "<tr>\n",
              "  <th>Time:</th>                       <td>11:47:47</td>            <th>  BIC                </th>  <td>457.744</td>\n",
              "</tr>\n",
              "<tr>\n",
              "  <th>Sample:</th>                         <td>0</td>               <th>  HQIC               </th>  <td>450.316</td>\n",
              "</tr>\n",
              "<tr>\n",
              "  <th></th>                             <td> - 102</td>             <th>                     </th>     <td> </td>   \n",
              "</tr>\n",
              "<tr>\n",
              "  <th>Covariance Type:</th>               <td>opg</td>              <th>                     </th>     <td> </td>   \n",
              "</tr>\n",
              "</table>\n",
              "<table class=\"simpletable\">\n",
              "<tr>\n",
              "      <td></td>        <th>coef</th>     <th>std err</th>      <th>z</th>      <th>P>|z|</th>  <th>[0.025</th>    <th>0.975]</th>  \n",
              "</tr>\n",
              "<tr>\n",
              "  <th>ar.L1</th>    <td>   -0.8089</td> <td>    0.108</td> <td>   -7.524</td> <td> 0.000</td> <td>   -1.020</td> <td>   -0.598</td>\n",
              "</tr>\n",
              "<tr>\n",
              "  <th>ar.L2</th>    <td>   -0.4470</td> <td>    0.106</td> <td>   -4.232</td> <td> 0.000</td> <td>   -0.654</td> <td>   -0.240</td>\n",
              "</tr>\n",
              "<tr>\n",
              "  <th>ar.S.L12</th> <td>   -0.6970</td> <td>    0.142</td> <td>   -4.911</td> <td> 0.000</td> <td>   -0.975</td> <td>   -0.419</td>\n",
              "</tr>\n",
              "<tr>\n",
              "  <th>ar.S.L24</th> <td>   -0.2402</td> <td>    0.161</td> <td>   -1.488</td> <td> 0.137</td> <td>   -0.557</td> <td>    0.076</td>\n",
              "</tr>\n",
              "<tr>\n",
              "  <th>sigma2</th>   <td>    7.2193</td> <td>    1.328</td> <td>    5.438</td> <td> 0.000</td> <td>    4.617</td> <td>    9.821</td>\n",
              "</tr>\n",
              "</table>\n",
              "<table class=\"simpletable\">\n",
              "<tr>\n",
              "  <th>Ljung-Box (L1) (Q):</th>     <td>0.11</td> <th>  Jarque-Bera (JB):  </th> <td>2.23</td>\n",
              "</tr>\n",
              "<tr>\n",
              "  <th>Prob(Q):</th>                <td>0.74</td> <th>  Prob(JB):          </th> <td>0.33</td>\n",
              "</tr>\n",
              "<tr>\n",
              "  <th>Heteroskedasticity (H):</th> <td>1.69</td> <th>  Skew:              </th> <td>0.33</td>\n",
              "</tr>\n",
              "<tr>\n",
              "  <th>Prob(H) (two-sided):</th>    <td>0.16</td> <th>  Kurtosis:          </th> <td>3.41</td>\n",
              "</tr>\n",
              "</table><br/><br/>Warnings:<br/>[1] Covariance matrix calculated using the outer product of gradients (complex-step)."
            ],
            "text/plain": [
              "<class 'statsmodels.iolib.summary.Summary'>\n",
              "\"\"\"\n",
              "                                     SARIMAX Results                                      \n",
              "==========================================================================================\n",
              "Dep. Variable:                                  y   No. Observations:                  102\n",
              "Model:             SARIMAX(2, 1, 0)x(2, 1, 0, 12)   Log Likelihood                -217.650\n",
              "Date:                            Mon, 22 Nov 2021   AIC                            445.301\n",
              "Time:                                    11:47:47   BIC                            457.744\n",
              "Sample:                                         0   HQIC                           450.316\n",
              "                                            - 102                                         \n",
              "Covariance Type:                              opg                                         \n",
              "==============================================================================\n",
              "                 coef    std err          z      P>|z|      [0.025      0.975]\n",
              "------------------------------------------------------------------------------\n",
              "ar.L1         -0.8089      0.108     -7.524      0.000      -1.020      -0.598\n",
              "ar.L2         -0.4470      0.106     -4.232      0.000      -0.654      -0.240\n",
              "ar.S.L12      -0.6970      0.142     -4.911      0.000      -0.975      -0.419\n",
              "ar.S.L24      -0.2402      0.161     -1.488      0.137      -0.557       0.076\n",
              "sigma2         7.2193      1.328      5.438      0.000       4.617       9.821\n",
              "===================================================================================\n",
              "Ljung-Box (L1) (Q):                   0.11   Jarque-Bera (JB):                 2.23\n",
              "Prob(Q):                              0.74   Prob(JB):                         0.33\n",
              "Heteroskedasticity (H):               1.69   Skew:                             0.33\n",
              "Prob(H) (two-sided):                  0.16   Kurtosis:                         3.41\n",
              "===================================================================================\n",
              "\n",
              "Warnings:\n",
              "[1] Covariance matrix calculated using the outer product of gradients (complex-step).\n",
              "\"\"\""
            ]
          },
          "metadata": {},
          "execution_count": 56
        }
      ]
    },
    {
      "cell_type": "markdown",
      "metadata": {
        "id": "d2ac0391"
      },
      "source": [
        "O algoritmo encontrou uma combinação que minimiza o AIC (Akaike Information Criterion - Mensura a qualidade e simplicidade de um algoritmo, quanto menor, melhor é o modelo), esses parâmetros foram:\n",
        "p = 2 \n",
        "d = 1 \n",
        "q = 0 \n",
        "P = 2\n",
        "D = 1\n",
        "Q = 0"
      ],
      "id": "d2ac0391"
    },
    {
      "cell_type": "code",
      "metadata": {
        "id": "6b5a0ea9",
        "colab": {
          "base_uri": "https://localhost:8080/"
        },
        "outputId": "8237a227-7776-47b0-f029-8fc8419563a3"
      },
      "source": [
        "model01 = SARIMAX(treino['pmc_alimentacao'], order =(2,1,0), seasonal_order = (2,1,0,12), freq = 'MS').fit()\n",
        "model02 = SARIMAX(treino['pmc_alimentacao'], exog = treino['tx_desocup'], order =(2,1,0), seasonal_order = (2,1,0,12), freq = 'MS').fit()\n",
        "model03 = SARIMAX(treino['pmc_alimentacao'], exog = treino['selic'], order =(2,1,0), seasonal_order = (2,1,0,12), freq = 'MS').fit()\n",
        "model04 = SARIMAX(treino['pmc_alimentacao'], exog = treino[['tx_desocup','selic']], order =(2,1,0), seasonal_order = (2,1,0,12), freq = 'MS').fit()"
      ],
      "id": "6b5a0ea9",
      "execution_count": 57,
      "outputs": [
        {
          "output_type": "stream",
          "name": "stderr",
          "text": [
            "/usr/local/lib/python3.7/dist-packages/statsmodels/tsa/base/tsa_model.py:539: ValueWarning: No frequency information was provided, so inferred frequency MS will be used.\n",
            "  % freq, ValueWarning)\n",
            "/usr/local/lib/python3.7/dist-packages/statsmodels/tsa/base/tsa_model.py:539: ValueWarning: No frequency information was provided, so inferred frequency MS will be used.\n",
            "  % freq, ValueWarning)\n",
            "/usr/local/lib/python3.7/dist-packages/statsmodels/tsa/base/tsa_model.py:539: ValueWarning: No frequency information was provided, so inferred frequency MS will be used.\n",
            "  % freq, ValueWarning)\n",
            "/usr/local/lib/python3.7/dist-packages/statsmodels/tsa/base/tsa_model.py:539: ValueWarning: No frequency information was provided, so inferred frequency MS will be used.\n",
            "  % freq, ValueWarning)\n"
          ]
        }
      ]
    },
    {
      "cell_type": "code",
      "metadata": {
        "id": "b8b17aeb"
      },
      "source": [
        "residuos01 = model01.resid\n",
        "residuos02 = model02.resid\n",
        "residuos03 = model03.resid\n",
        "residuos04 = model04.resid"
      ],
      "id": "b8b17aeb",
      "execution_count": 58,
      "outputs": []
    },
    {
      "cell_type": "code",
      "metadata": {
        "id": "faaa2096",
        "colab": {
          "base_uri": "https://localhost:8080/"
        },
        "outputId": "d80a9297-2a9e-4173-b672-ca1f3147c80b"
      },
      "source": [
        "#Teste para verificar a normalidade dos resíduos\n",
        "print(f'P-valor para a normalidade dos resíduos:\\nModelo 01: {shapiro(residuos01)[1]}')\n",
        "print(f'Modelo 02: {shapiro(residuos02)[1]}')\n",
        "print(f'Modelo 03: {shapiro(residuos03)[1]}')\n",
        "print(f'Modelo 04: {shapiro(residuos04)[1]}')"
      ],
      "id": "faaa2096",
      "execution_count": 59,
      "outputs": [
        {
          "output_type": "stream",
          "name": "stdout",
          "text": [
            "P-valor para a normalidade dos resíduos:\n",
            "Modelo 01: 1.0967233088152962e-18\n",
            "Modelo 02: 7.952688634001327e-19\n",
            "Modelo 03: 7.624576070298746e-19\n",
            "Modelo 04: 5.853319748978228e-19\n"
          ]
        }
      ]
    },
    {
      "cell_type": "markdown",
      "metadata": {
        "id": "3a603c6b"
      },
      "source": [
        "Todos os modelos possuem fortes indícios de possuem os erros das previsões normalmente distribuídos, então, temos embasamento para acreditar que o modelo foi bem especificado."
      ],
      "id": "3a603c6b"
    },
    {
      "cell_type": "code",
      "metadata": {
        "id": "f667e78a"
      },
      "source": [
        "#Fazendo a previsão de cada modelo e comparando os com os dados de teste\n",
        "y_predictlast = teste['pmc_alimentacao'].shift(-1) #Modelo baseline - último valor\n",
        "y_predict01 = model01.forecast(12)\n",
        "y_predict02 = model02.forecast(12, exog = teste['tx_desocup'])\n",
        "y_predict03 = model03.forecast(12, exog = teste['selic'])\n",
        "y_predict04 = model04.forecast(12, exog = teste[['tx_desocup','selic']])"
      ],
      "id": "f667e78a",
      "execution_count": 60,
      "outputs": []
    },
    {
      "cell_type": "code",
      "metadata": {
        "id": "b334e34f",
        "colab": {
          "base_uri": "https://localhost:8080/",
          "height": 404
        },
        "outputId": "d28b6408-81c7-4b57-c719-9ea609f6644d"
      },
      "source": [
        "pos_mes = pd.date_range(start = teste.index[0],end = teste.index[-1], freq = 'MS')\n",
        "meses = ['Set/20','Out/20','Nov/20','Dez/20','Jan/21','Fev/21','Mar/21','Abr/21','Maio/21','Jun/21','Jul/21','Ago/21']\n",
        "plt.figure( figsize = (12,6))\n",
        "plt.plot(y_predictlast, label = 'Last value (baseline)')\n",
        "plt.plot(y_predict01, label = 'SARIMA (2,1,0)')\n",
        "plt.plot(y_predict02, label = 'SARIMAX (desocup)')\n",
        "plt.plot(y_predict03, label = 'SARIMAX (SELIC)')\n",
        "plt.plot(y_predict04, label = 'SARIMAX (desocup + SELIC)')\n",
        "plt.plot(teste['pmc_alimentacao'], label = 'Real')\n",
        "plt.legend(loc = 'best', bbox_to_anchor = (1.30,0.35))\n",
        "plt.title('Previsto por alguns modelos x Real')\n",
        "plt.xlabel('Meses')\n",
        "plt.ylabel('PMC')\n",
        "plt.xticks(pos_mes,meses)\n",
        "plt.show()"
      ],
      "id": "b334e34f",
      "execution_count": 61,
      "outputs": [
        {
          "output_type": "display_data",
          "data": {
            "image/png": "[encoded data removed]",
            "text/plain": [
              "<Figure size 864x432 with 1 Axes>"
            ]
          },
          "metadata": {
            "needs_background": "light"
          }
        }
      ]
    },
    {
      "cell_type": "code",
      "metadata": {
        "id": "0f97371c"
      },
      "source": [
        "mape01 = mape(teste['pmc_alimentacao'],y_predict01)\n",
        "mape02 = mape(teste['pmc_alimentacao'],y_predict02)\n",
        "mape03 = mape(teste['pmc_alimentacao'],y_predict03)\n",
        "mape04 = mape(teste['pmc_alimentacao'],y_predict04)\n",
        "mapelast = mape(teste['pmc_alimentacao'].iloc[:-1], y_predictlast.iloc[:-1])"
      ],
      "id": "0f97371c",
      "execution_count": 62,
      "outputs": []
    },
    {
      "cell_type": "code",
      "metadata": {
        "id": "b5b7850b",
        "colab": {
          "base_uri": "https://localhost:8080/"
        },
        "outputId": "6e047581-6474-4bd5-b422-15ebf454a872"
      },
      "source": [
        "print(f'MAPE SARIMA (2,1,0): {mape01}%\\nMAPE SARIMAX (desocup): {mape02}%\\nMAPE SARIMAX (SELIC): {mape03}%\\nMAPE SARIMAX (desocup + SELIC): {mape04}%\\nMAPE Last value: {mapelast}%')"
      ],
      "id": "b5b7850b",
      "execution_count": 63,
      "outputs": [
        {
          "output_type": "stream",
          "name": "stdout",
          "text": [
            "MAPE SARIMA (2,1,0): 5.73%\n",
            "MAPE SARIMAX (desocup): 5.66%\n",
            "MAPE SARIMAX (SELIC): 5.12%\n",
            "MAPE SARIMAX (desocup + SELIC): 5.07%\n",
            "MAPE Last value: 8.19%\n"
          ]
        }
      ]
    },
    {
      "cell_type": "markdown",
      "metadata": {
        "id": "4cc0f9fa"
      },
      "source": [
        "O modelo que apresentou o melhor resultado (menor MAPE) foi o que leva em conta a SELIC, mas, para fins de previsão, iremos levar em conta apenas o modelo autoregressivo com sazonalidade (SARIMA)."
      ],
      "id": "4cc0f9fa"
    },
    {
      "cell_type": "markdown",
      "metadata": {
        "id": "7d7cab57"
      },
      "source": [
        "### Modelo final"
      ],
      "id": "7d7cab57"
    },
    {
      "cell_type": "code",
      "metadata": {
        "id": "b80b8dee",
        "colab": {
          "base_uri": "https://localhost:8080/"
        },
        "outputId": "4b364765-8423-4a85-c7dd-ba93bdafd783"
      },
      "source": [
        "modelfinal = SARIMAX(base['pmc_alimentacao'], order =(2,1,0), seasonal_order = (2,1,0,12), freq = 'MS').fit()"
      ],
      "id": "b80b8dee",
      "execution_count": 64,
      "outputs": [
        {
          "output_type": "stream",
          "name": "stderr",
          "text": [
            "/usr/local/lib/python3.7/dist-packages/statsmodels/tsa/base/tsa_model.py:539: ValueWarning: No frequency information was provided, so inferred frequency MS will be used.\n",
            "  % freq, ValueWarning)\n"
          ]
        }
      ]
    },
    {
      "cell_type": "code",
      "metadata": {
        "id": "2927d3f3"
      },
      "source": [
        "predict_final = modelfinal.forecast(6)"
      ],
      "id": "2927d3f3",
      "execution_count": 65,
      "outputs": []
    },
    {
      "cell_type": "code",
      "metadata": {
        "id": "1bba825d",
        "colab": {
          "base_uri": "https://localhost:8080/",
          "height": 473
        },
        "outputId": "73d833b9-0213-4b1b-d392-eb5532a8dff7"
      },
      "source": [
        "modelfinal.summary()"
      ],
      "id": "1bba825d",
      "execution_count": 66,
      "outputs": [
        {
          "output_type": "execute_result",
          "data": {
            "text/html": [
              "<table class=\"simpletable\">\n",
              "<caption>SARIMAX Results</caption>\n",
              "<tr>\n",
              "  <th>Dep. Variable:</th>           <td>pmc_alimentacao</td>        <th>  No. Observations:  </th>    <td>114</td>  \n",
              "</tr>\n",
              "<tr>\n",
              "  <th>Model:</th>           <td>SARIMAX(2, 1, 0)x(2, 1, 0, 12)</td> <th>  Log Likelihood     </th> <td>-249.000</td>\n",
              "</tr>\n",
              "<tr>\n",
              "  <th>Date:</th>                   <td>Mon, 22 Nov 2021</td>        <th>  AIC                </th>  <td>508.000</td>\n",
              "</tr>\n",
              "<tr>\n",
              "  <th>Time:</th>                       <td>11:47:51</td>            <th>  BIC                </th>  <td>521.076</td>\n",
              "</tr>\n",
              "<tr>\n",
              "  <th>Sample:</th>                    <td>03-01-2012</td>           <th>  HQIC               </th>  <td>513.294</td>\n",
              "</tr>\n",
              "<tr>\n",
              "  <th></th>                          <td>- 08-01-2021</td>          <th>                     </th>     <td> </td>   \n",
              "</tr>\n",
              "<tr>\n",
              "  <th>Covariance Type:</th>               <td>opg</td>              <th>                     </th>     <td> </td>   \n",
              "</tr>\n",
              "</table>\n",
              "<table class=\"simpletable\">\n",
              "<tr>\n",
              "      <td></td>        <th>coef</th>     <th>std err</th>      <th>z</th>      <th>P>|z|</th>  <th>[0.025</th>    <th>0.975]</th>  \n",
              "</tr>\n",
              "<tr>\n",
              "  <th>ar.L1</th>    <td>   -0.7952</td> <td>    0.100</td> <td>   -7.983</td> <td> 0.000</td> <td>   -0.990</td> <td>   -0.600</td>\n",
              "</tr>\n",
              "<tr>\n",
              "  <th>ar.L2</th>    <td>   -0.4293</td> <td>    0.097</td> <td>   -4.433</td> <td> 0.000</td> <td>   -0.619</td> <td>   -0.239</td>\n",
              "</tr>\n",
              "<tr>\n",
              "  <th>ar.S.L12</th> <td>   -0.5765</td> <td>    0.124</td> <td>   -4.649</td> <td> 0.000</td> <td>   -0.820</td> <td>   -0.333</td>\n",
              "</tr>\n",
              "<tr>\n",
              "  <th>ar.S.L24</th> <td>   -0.1724</td> <td>    0.155</td> <td>   -1.115</td> <td> 0.265</td> <td>   -0.475</td> <td>    0.131</td>\n",
              "</tr>\n",
              "<tr>\n",
              "  <th>sigma2</th>   <td>    7.7297</td> <td>    1.375</td> <td>    5.623</td> <td> 0.000</td> <td>    5.036</td> <td>   10.424</td>\n",
              "</tr>\n",
              "</table>\n",
              "<table class=\"simpletable\">\n",
              "<tr>\n",
              "  <th>Ljung-Box (L1) (Q):</th>     <td>0.01</td> <th>  Jarque-Bera (JB):  </th> <td>1.68</td>\n",
              "</tr>\n",
              "<tr>\n",
              "  <th>Prob(Q):</th>                <td>0.94</td> <th>  Prob(JB):          </th> <td>0.43</td>\n",
              "</tr>\n",
              "<tr>\n",
              "  <th>Heteroskedasticity (H):</th> <td>1.58</td> <th>  Skew:              </th> <td>0.27</td>\n",
              "</tr>\n",
              "<tr>\n",
              "  <th>Prob(H) (two-sided):</th>    <td>0.18</td> <th>  Kurtosis:          </th> <td>3.31</td>\n",
              "</tr>\n",
              "</table><br/><br/>Warnings:<br/>[1] Covariance matrix calculated using the outer product of gradients (complex-step)."
            ],
            "text/plain": [
              "<class 'statsmodels.iolib.summary.Summary'>\n",
              "\"\"\"\n",
              "                                     SARIMAX Results                                      \n",
              "==========================================================================================\n",
              "Dep. Variable:                    pmc_alimentacao   No. Observations:                  114\n",
              "Model:             SARIMAX(2, 1, 0)x(2, 1, 0, 12)   Log Likelihood                -249.000\n",
              "Date:                            Mon, 22 Nov 2021   AIC                            508.000\n",
              "Time:                                    11:47:51   BIC                            521.076\n",
              "Sample:                                03-01-2012   HQIC                           513.294\n",
              "                                     - 08-01-2021                                         \n",
              "Covariance Type:                              opg                                         \n",
              "==============================================================================\n",
              "                 coef    std err          z      P>|z|      [0.025      0.975]\n",
              "------------------------------------------------------------------------------\n",
              "ar.L1         -0.7952      0.100     -7.983      0.000      -0.990      -0.600\n",
              "ar.L2         -0.4293      0.097     -4.433      0.000      -0.619      -0.239\n",
              "ar.S.L12      -0.5765      0.124     -4.649      0.000      -0.820      -0.333\n",
              "ar.S.L24      -0.1724      0.155     -1.115      0.265      -0.475       0.131\n",
              "sigma2         7.7297      1.375      5.623      0.000       5.036      10.424\n",
              "===================================================================================\n",
              "Ljung-Box (L1) (Q):                   0.01   Jarque-Bera (JB):                 1.68\n",
              "Prob(Q):                              0.94   Prob(JB):                         0.43\n",
              "Heteroskedasticity (H):               1.58   Skew:                             0.27\n",
              "Prob(H) (two-sided):                  0.18   Kurtosis:                         3.31\n",
              "===================================================================================\n",
              "\n",
              "Warnings:\n",
              "[1] Covariance matrix calculated using the outer product of gradients (complex-step).\n",
              "\"\"\""
            ]
          },
          "metadata": {},
          "execution_count": 66
        }
      ]
    },
    {
      "cell_type": "code",
      "metadata": {
        "id": "14f1a0df",
        "colab": {
          "base_uri": "https://localhost:8080/",
          "height": 390
        },
        "outputId": "5d48fa26-ea73-446d-fb21-8851c817f03c"
      },
      "source": [
        "plt.figure(figsize= (16,6))\n",
        "plt.plot(base[base['ano']>=2020]['pmc_alimentacao'], label = 'Série histórica', c = 'goldenrod')\n",
        "plt.plot(predict_final, label = 'Previsão', c = 'blueviolet')\n",
        "plt.title('Série histórica da PMC Alimentação e Bebidas e previsão para os próximos 6 meses')\n",
        "plt.legend()\n",
        "plt.show()"
      ],
      "id": "14f1a0df",
      "execution_count": 67,
      "outputs": [
        {
          "output_type": "display_data",
          "data": {
            "image/png": "[encoded data removed]",
            "text/plain": [
              "<Figure size 1152x432 with 1 Axes>"
            ]
          },
          "metadata": {
            "needs_background": "light"
          }
        }
      ]
    },
    {
      "cell_type": "code",
      "metadata": {
        "id": "7e0ebcaa"
      },
      "source": [
        "pred_2021 = predict_final.reset_index(drop = True)"
      ],
      "id": "7e0ebcaa",
      "execution_count": 68,
      "outputs": []
    },
    {
      "cell_type": "code",
      "metadata": {
        "id": "7ac01653"
      },
      "source": [
        "#Salvando o index\n",
        "index = predict_final.index.month"
      ],
      "id": "7ac01653",
      "execution_count": 69,
      "outputs": []
    },
    {
      "cell_type": "code",
      "metadata": {
        "id": "213b7470"
      },
      "source": [
        "obs_2020 = teste['pmc_alimentacao'].head(6).reset_index(drop=True)"
      ],
      "id": "213b7470",
      "execution_count": 70,
      "outputs": []
    },
    {
      "cell_type": "code",
      "metadata": {
        "id": "2b750fc8"
      },
      "source": [
        "#Calculando a variação percentual em relação ao ano anterior\n",
        "var_per = np.round(((pred_2021 - obs_2020)/obs_2020)*100,4)"
      ],
      "id": "2b750fc8",
      "execution_count": 71,
      "outputs": []
    },
    {
      "cell_type": "code",
      "metadata": {
        "id": "2c18f0fa",
        "colab": {
          "base_uri": "https://localhost:8080/"
        },
        "outputId": "c5764642-46ee-4acc-9ffa-90b07bc41987"
      },
      "source": [
        "var_per"
      ],
      "id": "2c18f0fa",
      "execution_count": 72,
      "outputs": [
        {
          "output_type": "execute_result",
          "data": {
            "text/plain": [
              "0   -1.3540\n",
              "1   -3.5372\n",
              "2    0.0197\n",
              "3   -0.8530\n",
              "4    0.0803\n",
              "5    2.1448\n",
              "dtype: float64"
            ]
          },
          "metadata": {},
          "execution_count": 72
        }
      ]
    },
    {
      "cell_type": "code",
      "metadata": {
        "id": "90d4a4b7",
        "colab": {
          "base_uri": "https://localhost:8080/"
        },
        "outputId": "e3eea640-20bd-4e93-ed8f-8faeef62237d"
      },
      "source": [
        "for i in np.arange(0,6):\n",
        "    print(f'A variação prevista do mês {index[i]} em relação ao ano anterior é de {var_per[i]}%')"
      ],
      "id": "90d4a4b7",
      "execution_count": 73,
      "outputs": [
        {
          "output_type": "stream",
          "name": "stdout",
          "text": [
            "A variação prevista do mês 9 em relação ao ano anterior é de -1.354%\n",
            "A variação prevista do mês 10 em relação ao ano anterior é de -3.5372%\n",
            "A variação prevista do mês 11 em relação ao ano anterior é de 0.0197%\n",
            "A variação prevista do mês 12 em relação ao ano anterior é de -0.853%\n",
            "A variação prevista do mês 1 em relação ao ano anterior é de 0.0803%\n",
            "A variação prevista do mês 2 em relação ao ano anterior é de 2.1448%\n"
          ]
        }
      ]
    },
    {
      "cell_type": "markdown",
      "metadata": {
        "id": "8dee0149"
      },
      "source": [
        "Percebe-se então, que não há um padrão claro dos valores previsto em relação aos últimos valores. Lembrando que essa previsão é um valor médio, havendo margem para mais ou para menos."
      ],
      "id": "8dee0149"
    },
    {
      "cell_type": "markdown",
      "metadata": {
        "id": "4df0dd75"
      },
      "source": [
        "### Conclusão"
      ],
      "id": "4df0dd75"
    },
    {
      "cell_type": "markdown",
      "metadata": {
        "id": "c4a53419"
      },
      "source": [
        "Tendo uma noção do volume de vendas previsto para cada mês, pode-se planejar com um maior embasamento o estoque, a fim de otimizá-lo. Sugere-se para análises semelhantes, levar em conta a PMC de outros setores como variáveis exógenas para a previsão da PMC desse setor, já que muitas cadeias produtivas são interligadas entre si."
      ],
      "id": "c4a53419"
    }
  ]
}