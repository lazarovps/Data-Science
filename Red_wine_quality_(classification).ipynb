{
  "nbformat": 4,
  "nbformat_minor": 0,
  "metadata": {
    "colab": {
      "name": "Red wine quality (classification).ipynb",
      "provenance": [],
      "collapsed_sections": [],
      "include_colab_link": true
    },
    "kernelspec": {
      "display_name": "Python 3",
      "language": "python",
      "name": "python3"
    },
    "language_info": {
      "codemirror_mode": {
        "name": "ipython",
        "version": 3
      },
      "file_extension": ".py",
      "mimetype": "text/x-python",
      "name": "python",
      "nbconvert_exporter": "python",
      "pygments_lexer": "ipython3",
      "version": "3.8.5"
    }
  },
  "cells": [
    {
      "cell_type": "markdown",
      "metadata": {
        "id": "view-in-github",
        "colab_type": "text"
      },
      "source": [
        "<a href=\"https://colab.research.google.com/github/lazarovps/Data-Science/blob/main/Red_wine_quality_(classification).ipynb\" target=\"_parent\"><img src=\"https://colab.research.google.com/assets/colab-badge.svg\" alt=\"Open In Colab\"/></a>"
      ]
    },
    {
      "cell_type": "markdown",
      "metadata": {
        "id": "QzbVBTeQIsXm"
      },
      "source": [
        "\n",
        "\n",
        "# **Modelo de Machine Learning que prevê a qualidade de vinhos feito um especialista**\n",
        "\n"
      ]
    },
    {
      "cell_type": "markdown",
      "metadata": {
        "id": "TgjaJFXtJN1m"
      },
      "source": [
        "Para construção desse case hipotético, eu utilizei uma base de dados derivada de um estudo das propriedades físico-químicas de alguns vinhos da região do Minho, em Portugal. (dataset disponível em: https://archive.ics.uci.edu/ml/datasets/wine+quality ). Esse estudo possui 2 datasets, um de vinhos brancos e outro de vinhos vermelhos, eu estou utilizando o de vinhos vermelhos.\n",
        "\n",
        "O dataset estudado possui aproximadamente 1600 vinhos, com 12 propriedades físico-químicas de cada um e uma nota para cada vinho, (a nota considerada no estudo foi a mediana da nota de pelo menos 3 especialistas), meu objetivo é de através da análise dessas 12 propriedades, conseguir prever qual seria a avaliação dos especialistas."
      ]
    },
    {
      "cell_type": "markdown",
      "metadata": {
        "id": "vJ2LHoxUId4W"
      },
      "source": [
        "##Importação das bibliotecas necessárias"
      ]
    },
    {
      "cell_type": "code",
      "metadata": {
        "colab": {
          "base_uri": "https://localhost:8080/"
        },
        "id": "34dgVtFCIZjO",
        "outputId": "9bbafa1b-c41a-4195-9b4b-adb73f09b9ca"
      },
      "source": [
        "from google.colab import drive \n",
        "from imblearn.under_sampling import RandomUnderSampler\n",
        "from sklearn.model_selection import train_test_split\n",
        "from warnings import simplefilter\n",
        "simplefilter(action='ignore', category=FutureWarning)\n",
        "\n",
        "import csv\n",
        "import os\n",
        "import matplotlib.pyplot as plt\n",
        "import numpy as np\n",
        "import pandas as pd\n",
        "import seaborn as sns\n",
        "\n",
        "\n",
        "#configurando o diretório de trabalho\n",
        "drive.mount('/content/drive')\n",
        "%cd /content/drive/My Drive/Python"
      ],
      "execution_count": null,
      "outputs": [
        {
          "output_type": "stream",
          "text": [
            "Drive already mounted at /content/drive; to attempt to forcibly remount, call drive.mount(\"/content/drive\", force_remount=True).\n",
            "/content/drive/My Drive/Python\n"
          ],
          "name": "stdout"
        },
        {
          "output_type": "stream",
          "text": [
            "/usr/local/lib/python3.7/dist-packages/sklearn/externals/six.py:31: FutureWarning: The module is deprecated in version 0.21 and will be removed in version 0.23 since we've dropped support for Python 2.7. Please rely on the official version of six (https://pypi.org/project/six/).\n",
            "  \"(https://pypi.org/project/six/).\", FutureWarning)\n",
            "/usr/local/lib/python3.7/dist-packages/sklearn/utils/deprecation.py:144: FutureWarning: The sklearn.neighbors.base module is  deprecated in version 0.22 and will be removed in version 0.24. The corresponding classes / functions should instead be imported from sklearn.neighbors. Anything that cannot be imported from sklearn.neighbors is now part of the private API.\n",
            "  warnings.warn(message, FutureWarning)\n"
          ],
          "name": "stderr"
        }
      ]
    },
    {
      "cell_type": "markdown",
      "metadata": {
        "id": "_oXOgVMt8AYp"
      },
      "source": [
        "##Exploração do dataset"
      ]
    },
    {
      "cell_type": "code",
      "metadata": {
        "colab": {
          "base_uri": "https://localhost:8080/",
          "height": 221
        },
        "id": "q-je0emBIbdw",
        "outputId": "c4330afa-ce18-4e37-8b1f-b6931c6a9dee"
      },
      "source": [
        "base = pd.read_csv('winequality-red.csv')\n",
        "base.head(5)"
      ],
      "execution_count": null,
      "outputs": [
        {
          "output_type": "execute_result",
          "data": {
            "text/html": [
              "<div>\n",
              "<style scoped>\n",
              "    .dataframe tbody tr th:only-of-type {\n",
              "        vertical-align: middle;\n",
              "    }\n",
              "\n",
              "    .dataframe tbody tr th {\n",
              "        vertical-align: top;\n",
              "    }\n",
              "\n",
              "    .dataframe thead th {\n",
              "        text-align: right;\n",
              "    }\n",
              "</style>\n",
              "<table border=\"1\" class=\"dataframe\">\n",
              "  <thead>\n",
              "    <tr style=\"text-align: right;\">\n",
              "      <th></th>\n",
              "      <th>fixed acidity</th>\n",
              "      <th>volatile acidity</th>\n",
              "      <th>citric acid</th>\n",
              "      <th>residual sugar</th>\n",
              "      <th>chlorides</th>\n",
              "      <th>free sulfur dioxide</th>\n",
              "      <th>total sulfur dioxide</th>\n",
              "      <th>density</th>\n",
              "      <th>pH</th>\n",
              "      <th>sulphates</th>\n",
              "      <th>alcohol</th>\n",
              "      <th>quality</th>\n",
              "    </tr>\n",
              "  </thead>\n",
              "  <tbody>\n",
              "    <tr>\n",
              "      <th>0</th>\n",
              "      <td>7.4</td>\n",
              "      <td>0.70</td>\n",
              "      <td>0.00</td>\n",
              "      <td>1.9</td>\n",
              "      <td>0.076</td>\n",
              "      <td>11.0</td>\n",
              "      <td>34.0</td>\n",
              "      <td>0.9978</td>\n",
              "      <td>3.51</td>\n",
              "      <td>0.56</td>\n",
              "      <td>9.4</td>\n",
              "      <td>5</td>\n",
              "    </tr>\n",
              "    <tr>\n",
              "      <th>1</th>\n",
              "      <td>7.8</td>\n",
              "      <td>0.88</td>\n",
              "      <td>0.00</td>\n",
              "      <td>2.6</td>\n",
              "      <td>0.098</td>\n",
              "      <td>25.0</td>\n",
              "      <td>67.0</td>\n",
              "      <td>0.9968</td>\n",
              "      <td>3.20</td>\n",
              "      <td>0.68</td>\n",
              "      <td>9.8</td>\n",
              "      <td>5</td>\n",
              "    </tr>\n",
              "    <tr>\n",
              "      <th>2</th>\n",
              "      <td>7.8</td>\n",
              "      <td>0.76</td>\n",
              "      <td>0.04</td>\n",
              "      <td>2.3</td>\n",
              "      <td>0.092</td>\n",
              "      <td>15.0</td>\n",
              "      <td>54.0</td>\n",
              "      <td>0.9970</td>\n",
              "      <td>3.26</td>\n",
              "      <td>0.65</td>\n",
              "      <td>9.8</td>\n",
              "      <td>5</td>\n",
              "    </tr>\n",
              "    <tr>\n",
              "      <th>3</th>\n",
              "      <td>11.2</td>\n",
              "      <td>0.28</td>\n",
              "      <td>0.56</td>\n",
              "      <td>1.9</td>\n",
              "      <td>0.075</td>\n",
              "      <td>17.0</td>\n",
              "      <td>60.0</td>\n",
              "      <td>0.9980</td>\n",
              "      <td>3.16</td>\n",
              "      <td>0.58</td>\n",
              "      <td>9.8</td>\n",
              "      <td>6</td>\n",
              "    </tr>\n",
              "    <tr>\n",
              "      <th>4</th>\n",
              "      <td>7.4</td>\n",
              "      <td>0.70</td>\n",
              "      <td>0.00</td>\n",
              "      <td>1.9</td>\n",
              "      <td>0.076</td>\n",
              "      <td>11.0</td>\n",
              "      <td>34.0</td>\n",
              "      <td>0.9978</td>\n",
              "      <td>3.51</td>\n",
              "      <td>0.56</td>\n",
              "      <td>9.4</td>\n",
              "      <td>5</td>\n",
              "    </tr>\n",
              "  </tbody>\n",
              "</table>\n",
              "</div>"
            ],
            "text/plain": [
              "   fixed acidity  volatile acidity  citric acid  ...  sulphates  alcohol  quality\n",
              "0            7.4              0.70         0.00  ...       0.56      9.4        5\n",
              "1            7.8              0.88         0.00  ...       0.68      9.8        5\n",
              "2            7.8              0.76         0.04  ...       0.65      9.8        5\n",
              "3           11.2              0.28         0.56  ...       0.58      9.8        6\n",
              "4            7.4              0.70         0.00  ...       0.56      9.4        5\n",
              "\n",
              "[5 rows x 12 columns]"
            ]
          },
          "metadata": {
            "tags": []
          },
          "execution_count": 2
        }
      ]
    },
    {
      "cell_type": "code",
      "metadata": {
        "colab": {
          "base_uri": "https://localhost:8080/"
        },
        "id": "oXMQ6E_xwxO3",
        "outputId": "072d0e47-953e-4a8e-86dd-8329c6387ea5"
      },
      "source": [
        "#Verificando quantas linhas há na base de dados\n",
        "base.shape"
      ],
      "execution_count": null,
      "outputs": [
        {
          "output_type": "execute_result",
          "data": {
            "text/plain": [
              "(1599, 12)"
            ]
          },
          "metadata": {
            "tags": []
          },
          "execution_count": 3
        }
      ]
    },
    {
      "cell_type": "code",
      "metadata": {
        "colab": {
          "base_uri": "https://localhost:8080/",
          "height": 221
        },
        "id": "jU1QS4fIsz42",
        "outputId": "ba0c7a59-68b1-4365-d604-7c5196999a65"
      },
      "source": [
        "#A base de dados 1599 linhas e 12 coluns, que são entendidas como observações e variáveis, respectivamente. para verificar quais são, podemos visualizar as 5 primeiras linhas da base de dados\n",
        "base.head(5)"
      ],
      "execution_count": null,
      "outputs": [
        {
          "output_type": "execute_result",
          "data": {
            "text/html": [
              "<div>\n",
              "<style scoped>\n",
              "    .dataframe tbody tr th:only-of-type {\n",
              "        vertical-align: middle;\n",
              "    }\n",
              "\n",
              "    .dataframe tbody tr th {\n",
              "        vertical-align: top;\n",
              "    }\n",
              "\n",
              "    .dataframe thead th {\n",
              "        text-align: right;\n",
              "    }\n",
              "</style>\n",
              "<table border=\"1\" class=\"dataframe\">\n",
              "  <thead>\n",
              "    <tr style=\"text-align: right;\">\n",
              "      <th></th>\n",
              "      <th>fixed acidity</th>\n",
              "      <th>volatile acidity</th>\n",
              "      <th>citric acid</th>\n",
              "      <th>residual sugar</th>\n",
              "      <th>chlorides</th>\n",
              "      <th>free sulfur dioxide</th>\n",
              "      <th>total sulfur dioxide</th>\n",
              "      <th>density</th>\n",
              "      <th>pH</th>\n",
              "      <th>sulphates</th>\n",
              "      <th>alcohol</th>\n",
              "      <th>quality</th>\n",
              "    </tr>\n",
              "  </thead>\n",
              "  <tbody>\n",
              "    <tr>\n",
              "      <th>0</th>\n",
              "      <td>7.4</td>\n",
              "      <td>0.70</td>\n",
              "      <td>0.00</td>\n",
              "      <td>1.9</td>\n",
              "      <td>0.076</td>\n",
              "      <td>11.0</td>\n",
              "      <td>34.0</td>\n",
              "      <td>0.9978</td>\n",
              "      <td>3.51</td>\n",
              "      <td>0.56</td>\n",
              "      <td>9.4</td>\n",
              "      <td>5</td>\n",
              "    </tr>\n",
              "    <tr>\n",
              "      <th>1</th>\n",
              "      <td>7.8</td>\n",
              "      <td>0.88</td>\n",
              "      <td>0.00</td>\n",
              "      <td>2.6</td>\n",
              "      <td>0.098</td>\n",
              "      <td>25.0</td>\n",
              "      <td>67.0</td>\n",
              "      <td>0.9968</td>\n",
              "      <td>3.20</td>\n",
              "      <td>0.68</td>\n",
              "      <td>9.8</td>\n",
              "      <td>5</td>\n",
              "    </tr>\n",
              "    <tr>\n",
              "      <th>2</th>\n",
              "      <td>7.8</td>\n",
              "      <td>0.76</td>\n",
              "      <td>0.04</td>\n",
              "      <td>2.3</td>\n",
              "      <td>0.092</td>\n",
              "      <td>15.0</td>\n",
              "      <td>54.0</td>\n",
              "      <td>0.9970</td>\n",
              "      <td>3.26</td>\n",
              "      <td>0.65</td>\n",
              "      <td>9.8</td>\n",
              "      <td>5</td>\n",
              "    </tr>\n",
              "    <tr>\n",
              "      <th>3</th>\n",
              "      <td>11.2</td>\n",
              "      <td>0.28</td>\n",
              "      <td>0.56</td>\n",
              "      <td>1.9</td>\n",
              "      <td>0.075</td>\n",
              "      <td>17.0</td>\n",
              "      <td>60.0</td>\n",
              "      <td>0.9980</td>\n",
              "      <td>3.16</td>\n",
              "      <td>0.58</td>\n",
              "      <td>9.8</td>\n",
              "      <td>6</td>\n",
              "    </tr>\n",
              "    <tr>\n",
              "      <th>4</th>\n",
              "      <td>7.4</td>\n",
              "      <td>0.70</td>\n",
              "      <td>0.00</td>\n",
              "      <td>1.9</td>\n",
              "      <td>0.076</td>\n",
              "      <td>11.0</td>\n",
              "      <td>34.0</td>\n",
              "      <td>0.9978</td>\n",
              "      <td>3.51</td>\n",
              "      <td>0.56</td>\n",
              "      <td>9.4</td>\n",
              "      <td>5</td>\n",
              "    </tr>\n",
              "  </tbody>\n",
              "</table>\n",
              "</div>"
            ],
            "text/plain": [
              "   fixed acidity  volatile acidity  citric acid  ...  sulphates  alcohol  quality\n",
              "0            7.4              0.70         0.00  ...       0.56      9.4        5\n",
              "1            7.8              0.88         0.00  ...       0.68      9.8        5\n",
              "2            7.8              0.76         0.04  ...       0.65      9.8        5\n",
              "3           11.2              0.28         0.56  ...       0.58      9.8        6\n",
              "4            7.4              0.70         0.00  ...       0.56      9.4        5\n",
              "\n",
              "[5 rows x 12 columns]"
            ]
          },
          "metadata": {
            "tags": []
          },
          "execution_count": 4
        }
      ]
    },
    {
      "cell_type": "markdown",
      "metadata": {
        "id": "4mp3fv0czMG1"
      },
      "source": [
        "*Descrição das variáveis (não confio tanto no meu inglês assim para traduzi-las)*:\n",
        "\n",
        "\n",
        "\n",
        "**fixed acidity:** most acids involved with wine or fixed or nonvolatile (do not evaporate readily)\n",
        "\n",
        "**volatile acidity**: the amount of acetic acid in wine, which at too high of levels can lead to an unpleasant, vinegar taste\n",
        "\n",
        "**citric acid:** found in small quantities, citric acid can add 'freshness' and flavor to wines\n",
        "\n",
        "**residual sugar:** the amount of sugar remaining after fermentation stops, it's rare to find wines with less than 1 gram/liter and wines with greater than 45 grams/liter are considered sweet\n",
        "\n",
        "**chlorides:** the amount of salt in the wine\n",
        "\n",
        "**free sulfur dioxide:** the free form of SO2 exists in equilibrium between molecular SO2 (as a dissolved gas) and bisulfite ion; it prevents microbial growth and the oxidation of wine\n",
        "\n",
        "**total sulfur dioxide:** amount of free and bound forms of S02; in low concentrations, SO2 is mostly undetectable in wine, but at free SO2 concentrations over 50 ppm, SO2 becomes evident in the nose and taste of wine\n",
        "\n",
        "**density:** the density of water is close to that of water depending on the percent alcohol and sugar content\n",
        "\n",
        "**pH:** describes how acidic or basic a wine is on a scale from 0 (very acidic) to 14 (very basic); most wines are between 3-4 on the pH scale\n",
        "\n",
        "**sulphates:** a wine additive which can contribute to sulfur dioxide gas (S02) levels,wich acts as an antimicrobial and antioxidant\n",
        "\n",
        "**alcohol:** the percent alcohol content of the wine\n",
        "\n",
        "**quality:** (score between 0 and 10)\n",
        "\n",
        "\n",
        "---\n",
        "\n"
      ]
    },
    {
      "cell_type": "code",
      "metadata": {
        "colab": {
          "base_uri": "https://localhost:8080/"
        },
        "id": "4cNQFchcsz44",
        "outputId": "93add85e-017c-48d3-a0d9-3606ddbb9d12"
      },
      "source": [
        "#Algumas informações básicas das nossas variáveis:\n",
        "base.info()"
      ],
      "execution_count": null,
      "outputs": [
        {
          "output_type": "stream",
          "text": [
            "<class 'pandas.core.frame.DataFrame'>\n",
            "RangeIndex: 1599 entries, 0 to 1598\n",
            "Data columns (total 12 columns):\n",
            " #   Column                Non-Null Count  Dtype  \n",
            "---  ------                --------------  -----  \n",
            " 0   fixed acidity         1599 non-null   float64\n",
            " 1   volatile acidity      1599 non-null   float64\n",
            " 2   citric acid           1599 non-null   float64\n",
            " 3   residual sugar        1599 non-null   float64\n",
            " 4   chlorides             1599 non-null   float64\n",
            " 5   free sulfur dioxide   1599 non-null   float64\n",
            " 6   total sulfur dioxide  1599 non-null   float64\n",
            " 7   density               1599 non-null   float64\n",
            " 8   pH                    1599 non-null   float64\n",
            " 9   sulphates             1599 non-null   float64\n",
            " 10  alcohol               1599 non-null   float64\n",
            " 11  quality               1599 non-null   int64  \n",
            "dtypes: float64(11), int64(1)\n",
            "memory usage: 150.0 KB\n"
          ],
          "name": "stdout"
        }
      ]
    },
    {
      "cell_type": "markdown",
      "metadata": {
        "id": "Z9sp-a2RyFBk"
      },
      "source": [
        "\n",
        "A principal informação que pretendo extrair aqui é o tipo das variáveis e se há variáveis com alguma observação nula. Em relação ao tipo das variáveis, quase todas são numéricas, o que já evita uma possível transformação, caso fossem categóricas.\n",
        "\n",
        "O segundo ponto e que mais nos auxilia aqui, é que todas as variáveis possuem 1599 linhas \"non-null\" o que indica que não temos valores nulos.\n",
        "\n",
        "Serão utilizadas todas as variáveis, exceto \"quality\", como variáveis explicativas, ou seja, com base nessas variáveis pretende-se prever qual seria a avaliação de determinado vinho se fosse feita por um especialista. A variável explicada ( ou também conhecida como a variável alvo) será \"quality\"."
      ]
    },
    {
      "cell_type": "code",
      "metadata": {
        "colab": {
          "base_uri": "https://localhost:8080/",
          "height": 295
        },
        "id": "AczSImQpsz45",
        "scrolled": true,
        "outputId": "b61e20c2-fa4e-481c-dba6-ae3567fceb10"
      },
      "source": [
        "#É interessante analisarmos graficamente como está a distribuição da nossa variável alvo\n",
        "ax = sns.countplot(x = 'quality', data = base)\n",
        "plt.ylabel('Quant. de vinhos')\n",
        "plt.xlabel('Quality')\n",
        "plt.title('Avaliação dos críticos')\n",
        "plt.show()\n"
      ],
      "execution_count": null,
      "outputs": [
        {
          "output_type": "display_data",
          "data": {
            "image/png": "[encoded data removed]",
            "text/plain": [
              "<Figure size 432x288 with 1 Axes>"
            ]
          },
          "metadata": {
            "tags": [],
            "needs_background": "light"
          }
        }
      ]
    },
    {
      "cell_type": "markdown",
      "metadata": {
        "id": "USAG_8gUynrU"
      },
      "source": [
        "Vemos que nenhum dos quase 1600 vinhos foram avaliados com 9 ou 10, a maior parte ficou entre 5 e 7. Ao invés de tentarmos prever a nota de um vinho podemos querer saber apenas se um vinho seria avaliado como \"bom\" ou \"ruim\" pelos críticos, então para isso, iremos fazer uma transformação da variável alvo, onde:\n",
        "\n",
        "Um vinho com \"quality\" abaixo de 7 será considerado \"ruim\", caso \"quality\" seja maior ou igual a 7, o vinho será considerado \"bom\". Onde o primeiro argumento da função (np.where) seria a condição, nesse caso que quality seja menor que 7, o segundo argumento é o valor atribuído à linha caso a condição seja satisfeita (a 'quality' dos vinhos ruins será substituída por 0) e o terceiro é o valor atribuído à linha caso a condição não seja satisfeita (a 'quality' dos vinhos bons será substituída por 1). Logo em seguida. verificamos a distribuição da variável alvo após a transformação.\n",
        "\n",
        "\n",
        "\n"
      ]
    },
    {
      "cell_type": "code",
      "metadata": {
        "colab": {
          "base_uri": "https://localhost:8080/",
          "height": 295
        },
        "id": "9jMkWFaOsz46",
        "scrolled": true,
        "outputId": "10f667d5-dbdf-416c-d512-b32f7cd4db55"
      },
      "source": [
        "\n",
        "base['qualidade'] = np.where(base['quality']< 7, 0, 1)\n",
        "ax = sns.countplot(x = 'qualidade', data = base)\n",
        "plt.ylabel('Quant. de vinhos')\n",
        "plt.xlabel('Quality')\n",
        "plt.title('Avaliação dos críticos')\n",
        "plt.show()"
      ],
      "execution_count": null,
      "outputs": [
        {
          "output_type": "display_data",
          "data": {
            "image/png": "[encoded data removed]",
            "text/plain": [
              "<Figure size 432x288 with 1 Axes>"
            ]
          },
          "metadata": {
            "tags": [],
            "needs_background": "light"
          }
        }
      ]
    },
    {
      "cell_type": "code",
      "metadata": {
        "colab": {
          "base_uri": "https://localhost:8080/",
          "height": 452
        },
        "id": "DoBGfdE6ItFT",
        "outputId": "65163c22-e962-4090-9cce-f92f4cd1ada3"
      },
      "source": [
        "base.describe().T"
      ],
      "execution_count": null,
      "outputs": [
        {
          "output_type": "execute_result",
          "data": {
            "text/html": [
              "<div>\n",
              "<style scoped>\n",
              "    .dataframe tbody tr th:only-of-type {\n",
              "        vertical-align: middle;\n",
              "    }\n",
              "\n",
              "    .dataframe tbody tr th {\n",
              "        vertical-align: top;\n",
              "    }\n",
              "\n",
              "    .dataframe thead th {\n",
              "        text-align: right;\n",
              "    }\n",
              "</style>\n",
              "<table border=\"1\" class=\"dataframe\">\n",
              "  <thead>\n",
              "    <tr style=\"text-align: right;\">\n",
              "      <th></th>\n",
              "      <th>count</th>\n",
              "      <th>mean</th>\n",
              "      <th>std</th>\n",
              "      <th>min</th>\n",
              "      <th>25%</th>\n",
              "      <th>50%</th>\n",
              "      <th>75%</th>\n",
              "      <th>max</th>\n",
              "    </tr>\n",
              "  </thead>\n",
              "  <tbody>\n",
              "    <tr>\n",
              "      <th>fixed acidity</th>\n",
              "      <td>1599.0</td>\n",
              "      <td>8.319637</td>\n",
              "      <td>1.741096</td>\n",
              "      <td>4.60000</td>\n",
              "      <td>7.1000</td>\n",
              "      <td>7.90000</td>\n",
              "      <td>9.200000</td>\n",
              "      <td>15.90000</td>\n",
              "    </tr>\n",
              "    <tr>\n",
              "      <th>volatile acidity</th>\n",
              "      <td>1599.0</td>\n",
              "      <td>0.527821</td>\n",
              "      <td>0.179060</td>\n",
              "      <td>0.12000</td>\n",
              "      <td>0.3900</td>\n",
              "      <td>0.52000</td>\n",
              "      <td>0.640000</td>\n",
              "      <td>1.58000</td>\n",
              "    </tr>\n",
              "    <tr>\n",
              "      <th>citric acid</th>\n",
              "      <td>1599.0</td>\n",
              "      <td>0.270976</td>\n",
              "      <td>0.194801</td>\n",
              "      <td>0.00000</td>\n",
              "      <td>0.0900</td>\n",
              "      <td>0.26000</td>\n",
              "      <td>0.420000</td>\n",
              "      <td>1.00000</td>\n",
              "    </tr>\n",
              "    <tr>\n",
              "      <th>residual sugar</th>\n",
              "      <td>1599.0</td>\n",
              "      <td>2.538806</td>\n",
              "      <td>1.409928</td>\n",
              "      <td>0.90000</td>\n",
              "      <td>1.9000</td>\n",
              "      <td>2.20000</td>\n",
              "      <td>2.600000</td>\n",
              "      <td>15.50000</td>\n",
              "    </tr>\n",
              "    <tr>\n",
              "      <th>chlorides</th>\n",
              "      <td>1599.0</td>\n",
              "      <td>0.087467</td>\n",
              "      <td>0.047065</td>\n",
              "      <td>0.01200</td>\n",
              "      <td>0.0700</td>\n",
              "      <td>0.07900</td>\n",
              "      <td>0.090000</td>\n",
              "      <td>0.61100</td>\n",
              "    </tr>\n",
              "    <tr>\n",
              "      <th>free sulfur dioxide</th>\n",
              "      <td>1599.0</td>\n",
              "      <td>15.874922</td>\n",
              "      <td>10.460157</td>\n",
              "      <td>1.00000</td>\n",
              "      <td>7.0000</td>\n",
              "      <td>14.00000</td>\n",
              "      <td>21.000000</td>\n",
              "      <td>72.00000</td>\n",
              "    </tr>\n",
              "    <tr>\n",
              "      <th>total sulfur dioxide</th>\n",
              "      <td>1599.0</td>\n",
              "      <td>46.467792</td>\n",
              "      <td>32.895324</td>\n",
              "      <td>6.00000</td>\n",
              "      <td>22.0000</td>\n",
              "      <td>38.00000</td>\n",
              "      <td>62.000000</td>\n",
              "      <td>289.00000</td>\n",
              "    </tr>\n",
              "    <tr>\n",
              "      <th>density</th>\n",
              "      <td>1599.0</td>\n",
              "      <td>0.996747</td>\n",
              "      <td>0.001887</td>\n",
              "      <td>0.99007</td>\n",
              "      <td>0.9956</td>\n",
              "      <td>0.99675</td>\n",
              "      <td>0.997835</td>\n",
              "      <td>1.00369</td>\n",
              "    </tr>\n",
              "    <tr>\n",
              "      <th>pH</th>\n",
              "      <td>1599.0</td>\n",
              "      <td>3.311113</td>\n",
              "      <td>0.154386</td>\n",
              "      <td>2.74000</td>\n",
              "      <td>3.2100</td>\n",
              "      <td>3.31000</td>\n",
              "      <td>3.400000</td>\n",
              "      <td>4.01000</td>\n",
              "    </tr>\n",
              "    <tr>\n",
              "      <th>sulphates</th>\n",
              "      <td>1599.0</td>\n",
              "      <td>0.658149</td>\n",
              "      <td>0.169507</td>\n",
              "      <td>0.33000</td>\n",
              "      <td>0.5500</td>\n",
              "      <td>0.62000</td>\n",
              "      <td>0.730000</td>\n",
              "      <td>2.00000</td>\n",
              "    </tr>\n",
              "    <tr>\n",
              "      <th>alcohol</th>\n",
              "      <td>1599.0</td>\n",
              "      <td>10.422983</td>\n",
              "      <td>1.065668</td>\n",
              "      <td>8.40000</td>\n",
              "      <td>9.5000</td>\n",
              "      <td>10.20000</td>\n",
              "      <td>11.100000</td>\n",
              "      <td>14.90000</td>\n",
              "    </tr>\n",
              "    <tr>\n",
              "      <th>quality</th>\n",
              "      <td>1599.0</td>\n",
              "      <td>5.636023</td>\n",
              "      <td>0.807569</td>\n",
              "      <td>3.00000</td>\n",
              "      <td>5.0000</td>\n",
              "      <td>6.00000</td>\n",
              "      <td>6.000000</td>\n",
              "      <td>8.00000</td>\n",
              "    </tr>\n",
              "    <tr>\n",
              "      <th>qualidade</th>\n",
              "      <td>1599.0</td>\n",
              "      <td>0.135710</td>\n",
              "      <td>0.342587</td>\n",
              "      <td>0.00000</td>\n",
              "      <td>0.0000</td>\n",
              "      <td>0.00000</td>\n",
              "      <td>0.000000</td>\n",
              "      <td>1.00000</td>\n",
              "    </tr>\n",
              "  </tbody>\n",
              "</table>\n",
              "</div>"
            ],
            "text/plain": [
              "                       count       mean  ...        75%        max\n",
              "fixed acidity         1599.0   8.319637  ...   9.200000   15.90000\n",
              "volatile acidity      1599.0   0.527821  ...   0.640000    1.58000\n",
              "citric acid           1599.0   0.270976  ...   0.420000    1.00000\n",
              "residual sugar        1599.0   2.538806  ...   2.600000   15.50000\n",
              "chlorides             1599.0   0.087467  ...   0.090000    0.61100\n",
              "free sulfur dioxide   1599.0  15.874922  ...  21.000000   72.00000\n",
              "total sulfur dioxide  1599.0  46.467792  ...  62.000000  289.00000\n",
              "density               1599.0   0.996747  ...   0.997835    1.00369\n",
              "pH                    1599.0   3.311113  ...   3.400000    4.01000\n",
              "sulphates             1599.0   0.658149  ...   0.730000    2.00000\n",
              "alcohol               1599.0  10.422983  ...  11.100000   14.90000\n",
              "quality               1599.0   5.636023  ...   6.000000    8.00000\n",
              "qualidade             1599.0   0.135710  ...   0.000000    1.00000\n",
              "\n",
              "[13 rows x 8 columns]"
            ]
          },
          "metadata": {
            "tags": []
          },
          "execution_count": 8
        }
      ]
    },
    {
      "cell_type": "code",
      "metadata": {
        "colab": {
          "base_uri": "https://localhost:8080/",
          "height": 1000
        },
        "id": "S2iQv04NI8eV",
        "outputId": "5f6cb6bf-ee9f-4e07-c783-3897b4ac5f93"
      },
      "source": [
        "colunas = base.drop(['quality', 'qualidade'], axis=1).columns\n",
        "base_ruim = base[base.qualidade == 0]\n",
        "base_bom = base[base.qualidade == 1]\n",
        "\n",
        "fig, ax = plt.subplots(nrows=3, ncols=4, figsize=(15,15))\n",
        "fig.subplots_adjust(hspace=1, wspace=1)\n",
        "\n",
        "idx = 0\n",
        "for col in colunas:\n",
        "    idx += 1\n",
        "    plt.subplot(3, 4, idx)\n",
        "    sns.kdeplot(base_ruim[col])\n",
        "    sns.kdeplot(base_bom[col])\n",
        "    plt.title(col, fontsize=10)\n",
        "    plt.legend(['ruim','bom'])\n",
        "plt.tight_layout()"
      ],
      "execution_count": null,
      "outputs": [
        {
          "output_type": "display_data",
          "data": {
            "image/png": "[encoded data removed]",
            "text/plain": [
              "<Figure size 1080x1080 with 12 Axes>"
            ]
          },
          "metadata": {
            "tags": [],
            "needs_background": "light"
          }
        }
      ]
    },
    {
      "cell_type": "markdown",
      "metadata": {
        "id": "BQ2znXindmbb"
      },
      "source": [
        "A primeiro momento percebemos que as variáveis que mais divergem de um vinho ruim e um bom são fixed acidity, volatile acidity, citric acid e principalmente alcohol. Esperamos que essas sejam as features com maior importância no modelo.\n",
        "\n",
        "Para ver a correlação entre as variáveis, é interessante plotar um heatmap."
      ]
    },
    {
      "cell_type": "code",
      "metadata": {
        "colab": {
          "base_uri": "https://localhost:8080/",
          "height": 349
        },
        "id": "KuQEueYeiYvl",
        "outputId": "9423da25-498e-4ef7-d9b6-f9b5707a2d1c"
      },
      "source": [
        "mask = np.zeros_like(base.corr())\n",
        "mask[np.triu_indices_from(mask)] = True\n",
        "ax = sns.heatmap(base.corr(),linewidths=.5, mask = mask, cmap = 'RdBu')"
      ],
      "execution_count": null,
      "outputs": [
        {
          "output_type": "display_data",
          "data": {
            "image/png": "[encoded data removed]",
            "text/plain": [
              "<Figure size 432x288 with 2 Axes>"
            ]
          },
          "metadata": {
            "tags": [],
            "needs_background": "light"
          }
        }
      ]
    },
    {
      "cell_type": "markdown",
      "metadata": {
        "id": "hYk6RncqjWFS"
      },
      "source": [
        "Olhando primeiramente para a relação entre as variáveis preditoras:\n",
        "\n",
        "*   fixed acidity tem correlação significativa com citric acid (positiva), density(positiva) e com pH (negativa)\n",
        "*   volatile possui correlação positiva com citric acid.\n",
        "*   citric acid possui relação positiva com pH\n",
        "*   total sulfur dioxide possui relação positiva com free sulfur dioxide\n",
        "*   Alcohol possui relação negativa com density\n",
        "\n",
        "Quando olhamos em relação à variável alvo, temos apenas alcohol com uma correlação (positiva) significante.\n",
        "\n",
        "\n",
        "Após ter uma noção de como está a base de dados, começamos à prepará-la para o modelo.\n",
        "\n",
        "Primeiro, dividimos-a em variáveis independentes (X) e dependentes(y).\n",
        "\n"
      ]
    },
    {
      "cell_type": "code",
      "metadata": {
        "id": "VU4tdpFhsz46"
      },
      "source": [
        "X = base.drop(['quality','qualidade'], axis = 1)\n",
        "y = base['qualidade']"
      ],
      "execution_count": null,
      "outputs": []
    },
    {
      "cell_type": "code",
      "metadata": {
        "colab": {
          "base_uri": "https://localhost:8080/",
          "height": 204
        },
        "id": "WeXxP8_hsz47",
        "outputId": "f6f93050-8080-47e9-cc2a-0c652ebc92fd"
      },
      "source": [
        "#verificando as 5 primeiras linhas da base de dados com as variáveis previsoras\n",
        "X.head(5)"
      ],
      "execution_count": null,
      "outputs": [
        {
          "output_type": "execute_result",
          "data": {
            "text/html": [
              "<div>\n",
              "<style scoped>\n",
              "    .dataframe tbody tr th:only-of-type {\n",
              "        vertical-align: middle;\n",
              "    }\n",
              "\n",
              "    .dataframe tbody tr th {\n",
              "        vertical-align: top;\n",
              "    }\n",
              "\n",
              "    .dataframe thead th {\n",
              "        text-align: right;\n",
              "    }\n",
              "</style>\n",
              "<table border=\"1\" class=\"dataframe\">\n",
              "  <thead>\n",
              "    <tr style=\"text-align: right;\">\n",
              "      <th></th>\n",
              "      <th>fixed acidity</th>\n",
              "      <th>volatile acidity</th>\n",
              "      <th>citric acid</th>\n",
              "      <th>residual sugar</th>\n",
              "      <th>chlorides</th>\n",
              "      <th>free sulfur dioxide</th>\n",
              "      <th>total sulfur dioxide</th>\n",
              "      <th>density</th>\n",
              "      <th>pH</th>\n",
              "      <th>sulphates</th>\n",
              "      <th>alcohol</th>\n",
              "    </tr>\n",
              "  </thead>\n",
              "  <tbody>\n",
              "    <tr>\n",
              "      <th>0</th>\n",
              "      <td>7.4</td>\n",
              "      <td>0.70</td>\n",
              "      <td>0.00</td>\n",
              "      <td>1.9</td>\n",
              "      <td>0.076</td>\n",
              "      <td>11.0</td>\n",
              "      <td>34.0</td>\n",
              "      <td>0.9978</td>\n",
              "      <td>3.51</td>\n",
              "      <td>0.56</td>\n",
              "      <td>9.4</td>\n",
              "    </tr>\n",
              "    <tr>\n",
              "      <th>1</th>\n",
              "      <td>7.8</td>\n",
              "      <td>0.88</td>\n",
              "      <td>0.00</td>\n",
              "      <td>2.6</td>\n",
              "      <td>0.098</td>\n",
              "      <td>25.0</td>\n",
              "      <td>67.0</td>\n",
              "      <td>0.9968</td>\n",
              "      <td>3.20</td>\n",
              "      <td>0.68</td>\n",
              "      <td>9.8</td>\n",
              "    </tr>\n",
              "    <tr>\n",
              "      <th>2</th>\n",
              "      <td>7.8</td>\n",
              "      <td>0.76</td>\n",
              "      <td>0.04</td>\n",
              "      <td>2.3</td>\n",
              "      <td>0.092</td>\n",
              "      <td>15.0</td>\n",
              "      <td>54.0</td>\n",
              "      <td>0.9970</td>\n",
              "      <td>3.26</td>\n",
              "      <td>0.65</td>\n",
              "      <td>9.8</td>\n",
              "    </tr>\n",
              "    <tr>\n",
              "      <th>3</th>\n",
              "      <td>11.2</td>\n",
              "      <td>0.28</td>\n",
              "      <td>0.56</td>\n",
              "      <td>1.9</td>\n",
              "      <td>0.075</td>\n",
              "      <td>17.0</td>\n",
              "      <td>60.0</td>\n",
              "      <td>0.9980</td>\n",
              "      <td>3.16</td>\n",
              "      <td>0.58</td>\n",
              "      <td>9.8</td>\n",
              "    </tr>\n",
              "    <tr>\n",
              "      <th>4</th>\n",
              "      <td>7.4</td>\n",
              "      <td>0.70</td>\n",
              "      <td>0.00</td>\n",
              "      <td>1.9</td>\n",
              "      <td>0.076</td>\n",
              "      <td>11.0</td>\n",
              "      <td>34.0</td>\n",
              "      <td>0.9978</td>\n",
              "      <td>3.51</td>\n",
              "      <td>0.56</td>\n",
              "      <td>9.4</td>\n",
              "    </tr>\n",
              "  </tbody>\n",
              "</table>\n",
              "</div>"
            ],
            "text/plain": [
              "   fixed acidity  volatile acidity  citric acid  ...    pH  sulphates  alcohol\n",
              "0            7.4              0.70         0.00  ...  3.51       0.56      9.4\n",
              "1            7.8              0.88         0.00  ...  3.20       0.68      9.8\n",
              "2            7.8              0.76         0.04  ...  3.26       0.65      9.8\n",
              "3           11.2              0.28         0.56  ...  3.16       0.58      9.8\n",
              "4            7.4              0.70         0.00  ...  3.51       0.56      9.4\n",
              "\n",
              "[5 rows x 11 columns]"
            ]
          },
          "metadata": {
            "tags": []
          },
          "execution_count": 12
        }
      ]
    },
    {
      "cell_type": "code",
      "metadata": {
        "colab": {
          "base_uri": "https://localhost:8080/"
        },
        "id": "zwpvMRmNsz47",
        "outputId": "14a2279b-ed23-4ede-8b8f-739762a2d17b"
      },
      "source": [
        "#O mesmo para a variável alvo (que se tornou variável binária)\n",
        "y.head(5)"
      ],
      "execution_count": null,
      "outputs": [
        {
          "output_type": "execute_result",
          "data": {
            "text/plain": [
              "0    0\n",
              "1    0\n",
              "2    0\n",
              "3    0\n",
              "4    0\n",
              "Name: qualidade, dtype: int64"
            ]
          },
          "metadata": {
            "tags": []
          },
          "execution_count": 13
        }
      ]
    },
    {
      "cell_type": "code",
      "metadata": {
        "colab": {
          "base_uri": "https://localhost:8080/"
        },
        "id": "XxmuV_aQmNfX",
        "outputId": "5d027fa2-1f9f-468b-86f4-f1d9ce7c118e"
      },
      "source": [
        "y.value_counts()"
      ],
      "execution_count": null,
      "outputs": [
        {
          "output_type": "execute_result",
          "data": {
            "text/plain": [
              "0    1382\n",
              "1     217\n",
              "Name: qualidade, dtype: int64"
            ]
          },
          "metadata": {
            "tags": []
          },
          "execution_count": 14
        }
      ]
    },
    {
      "cell_type": "markdown",
      "metadata": {
        "id": "dymzzmoCm2uD"
      },
      "source": [
        "Os vinhos classificados como ruins representam 13,6 % dos dados, com isso, o nosso modelo tenderia a classificar bem mais vinhos como ruins do que como bons, por não ter tido exemplos o suficiente da outra classe, então, é aconselhável o balanceamento das classes."
      ]
    },
    {
      "cell_type": "code",
      "metadata": {
        "id": "03qOQZ9asz48"
      },
      "source": [
        "balanceador = RandomUnderSampler(random_state = 1, sampling_strategy= 0.75)\n",
        "x_bal, y_bal = balanceador.fit_resample(X,y)\n",
        "\n",
        "#O argumento \"random_state\" é uma forma de \"escolher\" a aleatoriedade, é uma forma de possibilitar a replicabilidade \n",
        "#dos resultados."
      ],
      "execution_count": null,
      "outputs": []
    },
    {
      "cell_type": "code",
      "metadata": {
        "colab": {
          "base_uri": "https://localhost:8080/"
        },
        "id": "KL27NXLjsz48",
        "outputId": "a5c20335-131d-4232-f8c8-f926873c3622"
      },
      "source": [
        "#Verificando as linhas e colunas da nossa nova base de dados\n",
        "x_bal.shape, y_bal.shape"
      ],
      "execution_count": null,
      "outputs": [
        {
          "output_type": "execute_result",
          "data": {
            "text/plain": [
              "((506, 11), (506,))"
            ]
          },
          "metadata": {
            "tags": []
          },
          "execution_count": 16
        }
      ]
    },
    {
      "cell_type": "code",
      "metadata": {
        "colab": {
          "base_uri": "https://localhost:8080/"
        },
        "id": "6KRdr6JJsz48",
        "outputId": "8f0501b3-2265-4ef2-9912-7812158dc827"
      },
      "source": [
        "#Verificando a distribuição da nova variável alvo\n",
        "pd.DataFrame(y_bal).value_counts()"
      ],
      "execution_count": null,
      "outputs": [
        {
          "output_type": "execute_result",
          "data": {
            "text/plain": [
              "0    289\n",
              "1    217\n",
              "dtype: int64"
            ]
          },
          "metadata": {
            "tags": []
          },
          "execution_count": 17
        }
      ]
    },
    {
      "cell_type": "markdown",
      "metadata": {
        "id": "BZXZaY711nEl"
      },
      "source": [
        "Agora, nossa base de dados possui apenas as informações de 506 vinhos (descartamos mais de 1000 !), podemos ver que a base está perfeitamente razoavelmente balanceada, essa diferença provavelmente não nos causará problemas mas nos deixa com um pouco mais de informação.\n",
        "\n",
        "Para podermos simular as previsões, deveremos dividir nossa base de dados em \"base de treino\" e \"base de teste\".Na base de treino, nosso modelo aprenderá os padrões das avaliações, podendo aprender a avaliar de maneira semelhante à um crítico, se o algoritmo aprender corretamente, ele poderá prever a classificação de um vinho como bom ou ruim apenas olhando suas características (sem precisar provar rsrs),que são as variáveis previsoras (X).\n",
        "\n",
        "Para verificarmos o poder de previsão do algoritmo, iremos simular que a base de teste é na verdade os vinhos que ainda não conhecemos a avaliação, e então poderemos prever e comparar com as reais avaliações."
      ]
    },
    {
      "cell_type": "markdown",
      "metadata": {
        "id": "bzmoa7EZ2D4V"
      },
      "source": [
        "Na função \"train_test_split\" passaremos os argumentos X e y, escolheremos também o tamanho da nossa base de dados \"teste\", nesse caso será de 0.3 (ou 30 %) do total dos dados e por fim \"escolhemos\" a aleatoriedade com qual os dados serão divididos entre treino e teste"
      ]
    },
    {
      "cell_type": "code",
      "metadata": {
        "id": "Jh_k44ITsz49"
      },
      "source": [
        "#Realizando a divisão da nossa base de dados entre treino e teste\n",
        "x_treino, x_teste, y_treino, y_teste = train_test_split(x_bal, y_bal, test_size = 0.3, random_state = 1)"
      ],
      "execution_count": null,
      "outputs": []
    },
    {
      "cell_type": "markdown",
      "metadata": {
        "id": "FMyaN9wP2IkF"
      },
      "source": [
        "Com isso, geramos 4 objetos:\n",
        "x_treino e y_treino será onde o modelo vai \"aprender\" quais são os aspectos que influenciam na opinião de um crítico sobre determinado vinho, será com base nas informações de x_teste que o modelo fará a previsão e y_teste será a verdadeira avaliação, aqui é que iremos comparar o quão boa foi a previsão do modelo"
      ]
    },
    {
      "cell_type": "markdown",
      "metadata": {
        "id": "3e8Ee8cW8Jfo"
      },
      "source": [
        "##Modelo de regressão logística e Random Forest (sem tuning)"
      ]
    },
    {
      "cell_type": "code",
      "metadata": {
        "colab": {
          "base_uri": "https://localhost:8080/"
        },
        "id": "vXwxl486sz49",
        "outputId": "0963ac21-618b-4f3c-f2cf-4eb8e01ef8d2"
      },
      "source": [
        "#Após a divisão entre treino e teste, iremos criar o modelo ou algoritmo que irá tentar captar os padrões nas avaliações\n",
        "#Importando a biblioteca necessária\n",
        "from sklearn.linear_model import LogisticRegression\n",
        "logreg = LogisticRegression(solver= 'liblinear')\n",
        "\n",
        "#O algoritmo Logistic Regression (Regressão Logística) é comumente utilizado para prever a probabilide de um evento ocorrer,\n",
        "#Nesse caso, iremos utiliza-lo para classificar um evento, que no nosso caso, é se o vinho será ruim (0) ou bom (1)\n",
        "\n",
        "#\"Ensinando\" o algoritmo os padrões das avaliações dos críticos\n",
        "logreg.fit(x_treino,y_treino)"
      ],
      "execution_count": null,
      "outputs": [
        {
          "output_type": "execute_result",
          "data": {
            "text/plain": [
              "LogisticRegression(C=1.0, class_weight=None, dual=False, fit_intercept=True,\n",
              "                   intercept_scaling=1, l1_ratio=None, max_iter=100,\n",
              "                   multi_class='auto', n_jobs=None, penalty='l2',\n",
              "                   random_state=None, solver='liblinear', tol=0.0001, verbose=0,\n",
              "                   warm_start=False)"
            ]
          },
          "metadata": {
            "tags": []
          },
          "execution_count": 19
        }
      ]
    },
    {
      "cell_type": "code",
      "metadata": {
        "id": "InO8IoKKsz4-"
      },
      "source": [
        "#Após ensinarmos os padrões das avaliações, podemos tentar prever a classificação de novos vinhos\n",
        "y_previsto = logreg.predict(x_teste)"
      ],
      "execution_count": null,
      "outputs": []
    },
    {
      "cell_type": "markdown",
      "metadata": {
        "id": "f-LWAbJq2Q2O"
      },
      "source": [
        "Criamos um objeto chamado 'y_previsto' nele estão as previsões do algoritmo para os vinhos da base \"x_treino\", agora podemos comparar essas previsões com as reais classificações dadas pelos críticos à esses(com a base de dados \"y_teste\") e então saberemos o quão próximo está nosso algoritmo da avaliação de um crítico,para isso, devemos ter alguma forma de mensurar essa proximidade, que nesse caso será pela métrica conhecida como acurácia. \n",
        "A acurácia é entendida como a quantidade de previsões corretas dividida pela quantidade total de previsões, por exemplo, se fizermos 100 previsões e acertamos 70, nossa acurácia será de 70/100, ou, 70%, então, nosso objetivo nesse caso é ter uma boa capacidade de previsão, que será entendida como obter uma acurácia o mais próxima possível de 1."
      ]
    },
    {
      "cell_type": "code",
      "metadata": {
        "colab": {
          "base_uri": "https://localhost:8080/"
        },
        "id": "CPLD4ZTisz4-",
        "outputId": "5f2a82b5-ed97-447b-bad2-289c5c77b1ad"
      },
      "source": [
        "#importando uma biblioteca para verificar a acurácia do algoritmo\n",
        "from sklearn.metrics import accuracy_score\n",
        "accuracy_score(y_teste, y_previsto)"
      ],
      "execution_count": null,
      "outputs": [
        {
          "output_type": "execute_result",
          "data": {
            "text/plain": [
              "0.8157894736842105"
            ]
          },
          "metadata": {
            "tags": []
          },
          "execution_count": 21
        }
      ]
    },
    {
      "cell_type": "markdown",
      "metadata": {
        "id": "MisOTHWGxWFe"
      },
      "source": [
        "O desempenho do nosso modelo não teve um resultado tão satisfatório, então, testemos outro tipo de método: Random Forest.\n",
        "\n",
        "Sem realizar qualquer tipo de tuning de hiperparâmetros, temos:"
      ]
    },
    {
      "cell_type": "code",
      "metadata": {
        "colab": {
          "base_uri": "https://localhost:8080/"
        },
        "id": "46frtDFgwv3P",
        "outputId": "9882f105-d9c9-45f2-ae43-86089b4f66d1"
      },
      "source": [
        "from sklearn.ensemble import RandomForestClassifier\n",
        "rfc = RandomForestClassifier(random_state=0)\n",
        "rfc.fit(x_treino,y_treino)\n",
        "y_previsto2 = rfc.predict(x_teste)\n",
        "accuracy_score(y_teste,y_previsto2)"
      ],
      "execution_count": null,
      "outputs": [
        {
          "output_type": "execute_result",
          "data": {
            "text/plain": [
              "0.868421052631579"
            ]
          },
          "metadata": {
            "tags": []
          },
          "execution_count": 25
        }
      ]
    },
    {
      "cell_type": "markdown",
      "metadata": {
        "id": "Cb6tR8gk2iJA"
      },
      "source": [
        "Com o resultado, vemos que o nosso algoritmo acertou 86,8% das previsões que ele fez, o que pode ser considerado um valor muito bom, considerando que usamos um dos mais simples algoritmo de aprendizado de máquina."
      ]
    },
    {
      "cell_type": "markdown",
      "metadata": {
        "id": "j-e1J2AE8jY-"
      },
      "source": [
        "##Prevendo classificações"
      ]
    },
    {
      "cell_type": "markdown",
      "metadata": {
        "id": "80TR4OaY8tat"
      },
      "source": [
        "Podemos criar exemplos e ver qual seria a previsão do algoritmo, para isso, seria necessário ter todas as caracterísitcas que nosso algoritmo utilizou para aprender a classificar.(tecnicamente não precisaria de todas, mas ignoremos isso)."
      ]
    },
    {
      "cell_type": "code",
      "metadata": {
        "colab": {
          "base_uri": "https://localhost:8080/",
          "height": 128
        },
        "id": "FDDlmgx-sz4_",
        "outputId": "9f97a014-3e11-40f6-bad7-20625eea75aa"
      },
      "source": [
        "#Consideremos o exemplo (valores atribuídos aleatoriamente):\n",
        "vinhos = pd.DataFrame(np.array([[8,0.35,0.4,3,0.09,13,29,0.99230,3.3,0.7,11.7],\n",
        "                            [9.5,0.44,0.23,4,0.16,19,45,0.98700,4.1,0.54,9.2]]), \n",
        "                      columns = X.columns, index = ['quintas_do_morgado','vinho_quentinho'])\n",
        "\n",
        "vinhos"
      ],
      "execution_count": null,
      "outputs": [
        {
          "output_type": "execute_result",
          "data": {
            "text/html": [
              "<div>\n",
              "<style scoped>\n",
              "    .dataframe tbody tr th:only-of-type {\n",
              "        vertical-align: middle;\n",
              "    }\n",
              "\n",
              "    .dataframe tbody tr th {\n",
              "        vertical-align: top;\n",
              "    }\n",
              "\n",
              "    .dataframe thead th {\n",
              "        text-align: right;\n",
              "    }\n",
              "</style>\n",
              "<table border=\"1\" class=\"dataframe\">\n",
              "  <thead>\n",
              "    <tr style=\"text-align: right;\">\n",
              "      <th></th>\n",
              "      <th>fixed acidity</th>\n",
              "      <th>volatile acidity</th>\n",
              "      <th>citric acid</th>\n",
              "      <th>residual sugar</th>\n",
              "      <th>chlorides</th>\n",
              "      <th>free sulfur dioxide</th>\n",
              "      <th>total sulfur dioxide</th>\n",
              "      <th>density</th>\n",
              "      <th>pH</th>\n",
              "      <th>sulphates</th>\n",
              "      <th>alcohol</th>\n",
              "    </tr>\n",
              "  </thead>\n",
              "  <tbody>\n",
              "    <tr>\n",
              "      <th>quintas_do_morgado</th>\n",
              "      <td>8.0</td>\n",
              "      <td>0.35</td>\n",
              "      <td>0.40</td>\n",
              "      <td>3.0</td>\n",
              "      <td>0.09</td>\n",
              "      <td>13.0</td>\n",
              "      <td>29.0</td>\n",
              "      <td>0.9923</td>\n",
              "      <td>3.3</td>\n",
              "      <td>0.70</td>\n",
              "      <td>11.7</td>\n",
              "    </tr>\n",
              "    <tr>\n",
              "      <th>vinho_quentinho</th>\n",
              "      <td>9.5</td>\n",
              "      <td>0.44</td>\n",
              "      <td>0.23</td>\n",
              "      <td>4.0</td>\n",
              "      <td>0.16</td>\n",
              "      <td>19.0</td>\n",
              "      <td>45.0</td>\n",
              "      <td>0.9870</td>\n",
              "      <td>4.1</td>\n",
              "      <td>0.54</td>\n",
              "      <td>9.2</td>\n",
              "    </tr>\n",
              "  </tbody>\n",
              "</table>\n",
              "</div>"
            ],
            "text/plain": [
              "                    fixed acidity  volatile acidity  ...  sulphates  alcohol\n",
              "quintas_do_morgado            8.0              0.35  ...       0.70     11.7\n",
              "vinho_quentinho               9.5              0.44  ...       0.54      9.2\n",
              "\n",
              "[2 rows x 11 columns]"
            ]
          },
          "metadata": {
            "tags": []
          },
          "execution_count": 23
        }
      ]
    },
    {
      "cell_type": "code",
      "metadata": {
        "colab": {
          "base_uri": "https://localhost:8080/"
        },
        "id": "ct9fBlhUsz4_",
        "outputId": "4c29750d-b9cf-4f08-c5e0-f280169c9ee4"
      },
      "source": [
        "#Agora podemos prever qual seria a classificação dos críticos para cada um dos vinhos que acabamos de criar\n",
        "rfc.predict(vinhos)"
      ],
      "execution_count": null,
      "outputs": [
        {
          "output_type": "execute_result",
          "data": {
            "text/plain": [
              "array([1, 0])"
            ]
          },
          "metadata": {
            "tags": []
          },
          "execution_count": 24
        }
      ]
    },
    {
      "cell_type": "markdown",
      "metadata": {
        "id": "WR68hAjV2u3E"
      },
      "source": [
        "O resultado mostra que o primeiro vinho da base de dados, no nosso caso o vinho 'quintas_do_morgado' seria classificado como bom (valor = 1) pelos críticos, enquanto que o 'vinho_quentinho' seria tido com ruim (valor = 0), lembrando que nem sempre a acurácia é uma boa métrica e que há possibilidades de ajuste dos hiperparâmetros."
      ]
    }
  ]
}