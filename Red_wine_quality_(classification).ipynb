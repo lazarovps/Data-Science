{
  "nbformat": 4,
  "nbformat_minor": 0,
  "metadata": {
    "kernelspec": {
      "display_name": "Python 3",
      "language": "python",
      "name": "python3"
    },
    "language_info": {
      "codemirror_mode": {
        "name": "ipython",
        "version": 3
      },
      "file_extension": ".py",
      "mimetype": "text/x-python",
      "name": "python",
      "nbconvert_exporter": "python",
      "pygments_lexer": "ipython3",
      "version": "3.8.5"
    },
    "colab": {
      "name": "Red wine quality (classification).ipynb",
      "provenance": [],
      "collapsed_sections": [],
      "include_colab_link": true
    }
  },
  "cells": [
    {
      "cell_type": "markdown",
      "metadata": {
        "id": "view-in-github",
        "colab_type": "text"
      },
      "source": [
        "<a href=\"https://colab.research.google.com/github/lazarovps/Data-Science/blob/main/Red_wine_quality_(classification).ipynb\" target=\"_parent\"><img src=\"https://colab.research.google.com/assets/colab-badge.svg\" alt=\"Open In Colab\"/></a>"
      ]
    },
    {
      "cell_type": "markdown",
      "metadata": {
        "id": "QzbVBTeQIsXm"
      },
      "source": [
        "\n",
        "\n",
        "# **Modelo de Machine Learning que prevê a qualidade de vinhos feito um especialista**\n",
        "\n"
      ]
    },
    {
      "cell_type": "markdown",
      "metadata": {
        "id": "TgjaJFXtJN1m"
      },
      "source": [
        "Para construção desse case hipotético, eu utilizei uma base de dados derivada de um estudo das propriedades físico-químicas de alguns vinhos da região do Minho, em Portugal. (dataset disponível em: https://archive.ics.uci.edu/ml/datasets/wine+quality ). Esse estudo possui 2 datasets, um de vinhos brancos e outro de vinhos vermelhos, eu estou utilizando o de vinhos vermelhos.\n",
        "\n",
        "O dataset estudado possui aproximadamente 1600 vinhos, com 12 propriedades físico-químicas de cada um e uma nota para cada vinho, (a nota considerada no estudo foi a mediana da nota de pelo menos 3 especialistas), meu objetivo é de através da análise dessas 12 propriedades, conseguir prever qual seria a avaliação dos especialistas."
      ]
    },
    {
      "cell_type": "markdown",
      "metadata": {
        "id": "vJ2LHoxUId4W"
      },
      "source": [
        "#Importação das bibliotecas necessárias"
      ]
    },
    {
      "cell_type": "code",
      "metadata": {
        "colab": {
          "base_uri": "https://localhost:8080/"
        },
        "id": "34dgVtFCIZjO",
        "outputId": "7fabbde2-194f-4095-88d7-a6d881452125"
      },
      "source": [
        "from imblearn.under_sampling import RandomUnderSampler\n",
        "from sklearn.model_selection import train_test_split\n",
        "from warnings import simplefilter\n",
        "simplefilter(action='ignore', category=FutureWarning)\n",
        "\n",
        "import csv\n",
        "import os\n",
        "import matplotlib.pyplot as plt\n",
        "import numpy as np\n",
        "import pandas as pd\n",
        "import seaborn as sns\n",
        "\n",
        "\n",
        "#configurando o diretório de trabalho\n",
        "\n",
        "%cd /content/drive/My Drive/Python\n"
      ],
      "execution_count": 60,
      "outputs": [
        {
          "output_type": "stream",
          "text": [
            "/content/drive/My Drive/Python\n"
          ],
          "name": "stdout"
        }
      ]
    },
    {
      "cell_type": "code",
      "metadata": {
        "colab": {
          "base_uri": "https://localhost:8080/",
          "height": 221
        },
        "id": "q-je0emBIbdw",
        "outputId": "5cf2eb54-05bf-4bc0-d0fe-6365d9676307"
      },
      "source": [
        "base = pd.read_csv('winequality-red.csv')\n",
        "base.head(5)"
      ],
      "execution_count": 61,
      "outputs": [
        {
          "output_type": "execute_result",
          "data": {
            "text/html": [
              "<div>\n",
              "<style scoped>\n",
              "    .dataframe tbody tr th:only-of-type {\n",
              "        vertical-align: middle;\n",
              "    }\n",
              "\n",
              "    .dataframe tbody tr th {\n",
              "        vertical-align: top;\n",
              "    }\n",
              "\n",
              "    .dataframe thead th {\n",
              "        text-align: right;\n",
              "    }\n",
              "</style>\n",
              "<table border=\"1\" class=\"dataframe\">\n",
              "  <thead>\n",
              "    <tr style=\"text-align: right;\">\n",
              "      <th></th>\n",
              "      <th>fixed acidity</th>\n",
              "      <th>volatile acidity</th>\n",
              "      <th>citric acid</th>\n",
              "      <th>residual sugar</th>\n",
              "      <th>chlorides</th>\n",
              "      <th>free sulfur dioxide</th>\n",
              "      <th>total sulfur dioxide</th>\n",
              "      <th>density</th>\n",
              "      <th>pH</th>\n",
              "      <th>sulphates</th>\n",
              "      <th>alcohol</th>\n",
              "      <th>quality</th>\n",
              "    </tr>\n",
              "  </thead>\n",
              "  <tbody>\n",
              "    <tr>\n",
              "      <th>0</th>\n",
              "      <td>7.4</td>\n",
              "      <td>0.70</td>\n",
              "      <td>0.00</td>\n",
              "      <td>1.9</td>\n",
              "      <td>0.076</td>\n",
              "      <td>11.0</td>\n",
              "      <td>34.0</td>\n",
              "      <td>0.9978</td>\n",
              "      <td>3.51</td>\n",
              "      <td>0.56</td>\n",
              "      <td>9.4</td>\n",
              "      <td>5</td>\n",
              "    </tr>\n",
              "    <tr>\n",
              "      <th>1</th>\n",
              "      <td>7.8</td>\n",
              "      <td>0.88</td>\n",
              "      <td>0.00</td>\n",
              "      <td>2.6</td>\n",
              "      <td>0.098</td>\n",
              "      <td>25.0</td>\n",
              "      <td>67.0</td>\n",
              "      <td>0.9968</td>\n",
              "      <td>3.20</td>\n",
              "      <td>0.68</td>\n",
              "      <td>9.8</td>\n",
              "      <td>5</td>\n",
              "    </tr>\n",
              "    <tr>\n",
              "      <th>2</th>\n",
              "      <td>7.8</td>\n",
              "      <td>0.76</td>\n",
              "      <td>0.04</td>\n",
              "      <td>2.3</td>\n",
              "      <td>0.092</td>\n",
              "      <td>15.0</td>\n",
              "      <td>54.0</td>\n",
              "      <td>0.9970</td>\n",
              "      <td>3.26</td>\n",
              "      <td>0.65</td>\n",
              "      <td>9.8</td>\n",
              "      <td>5</td>\n",
              "    </tr>\n",
              "    <tr>\n",
              "      <th>3</th>\n",
              "      <td>11.2</td>\n",
              "      <td>0.28</td>\n",
              "      <td>0.56</td>\n",
              "      <td>1.9</td>\n",
              "      <td>0.075</td>\n",
              "      <td>17.0</td>\n",
              "      <td>60.0</td>\n",
              "      <td>0.9980</td>\n",
              "      <td>3.16</td>\n",
              "      <td>0.58</td>\n",
              "      <td>9.8</td>\n",
              "      <td>6</td>\n",
              "    </tr>\n",
              "    <tr>\n",
              "      <th>4</th>\n",
              "      <td>7.4</td>\n",
              "      <td>0.70</td>\n",
              "      <td>0.00</td>\n",
              "      <td>1.9</td>\n",
              "      <td>0.076</td>\n",
              "      <td>11.0</td>\n",
              "      <td>34.0</td>\n",
              "      <td>0.9978</td>\n",
              "      <td>3.51</td>\n",
              "      <td>0.56</td>\n",
              "      <td>9.4</td>\n",
              "      <td>5</td>\n",
              "    </tr>\n",
              "  </tbody>\n",
              "</table>\n",
              "</div>"
            ],
            "text/plain": [
              "   fixed acidity  volatile acidity  citric acid  ...  sulphates  alcohol  quality\n",
              "0            7.4              0.70         0.00  ...       0.56      9.4        5\n",
              "1            7.8              0.88         0.00  ...       0.68      9.8        5\n",
              "2            7.8              0.76         0.04  ...       0.65      9.8        5\n",
              "3           11.2              0.28         0.56  ...       0.58      9.8        6\n",
              "4            7.4              0.70         0.00  ...       0.56      9.4        5\n",
              "\n",
              "[5 rows x 12 columns]"
            ]
          },
          "metadata": {
            "tags": []
          },
          "execution_count": 61
        }
      ]
    },
    {
      "cell_type": "code",
      "metadata": {
        "colab": {
          "base_uri": "https://localhost:8080/"
        },
        "id": "oXMQ6E_xwxO3",
        "outputId": "3d6fd6f5-92ee-44a2-9aba-2f007c88ac96"
      },
      "source": [
        "#Verificando quantas linhas há na base de dados\n",
        "base.shape"
      ],
      "execution_count": 27,
      "outputs": [
        {
          "output_type": "execute_result",
          "data": {
            "text/plain": [
              "(1599, 12)"
            ]
          },
          "metadata": {
            "tags": []
          },
          "execution_count": 27
        }
      ]
    },
    {
      "cell_type": "code",
      "metadata": {
        "colab": {
          "base_uri": "https://localhost:8080/",
          "height": 221
        },
        "id": "jU1QS4fIsz42",
        "outputId": "9b73e2ba-d65e-4871-df48-4d03fd8e8743"
      },
      "source": [
        "#A base de dados 1599 linhas e 12 coluns, que são entendidas como observações e variáveis, respectivamente. para verificar quais são, podemos visualizar as 5 primeiras linhas da base de dados\n",
        "base.head(5)"
      ],
      "execution_count": 28,
      "outputs": [
        {
          "output_type": "execute_result",
          "data": {
            "text/html": [
              "<div>\n",
              "<style scoped>\n",
              "    .dataframe tbody tr th:only-of-type {\n",
              "        vertical-align: middle;\n",
              "    }\n",
              "\n",
              "    .dataframe tbody tr th {\n",
              "        vertical-align: top;\n",
              "    }\n",
              "\n",
              "    .dataframe thead th {\n",
              "        text-align: right;\n",
              "    }\n",
              "</style>\n",
              "<table border=\"1\" class=\"dataframe\">\n",
              "  <thead>\n",
              "    <tr style=\"text-align: right;\">\n",
              "      <th></th>\n",
              "      <th>fixed acidity</th>\n",
              "      <th>volatile acidity</th>\n",
              "      <th>citric acid</th>\n",
              "      <th>residual sugar</th>\n",
              "      <th>chlorides</th>\n",
              "      <th>free sulfur dioxide</th>\n",
              "      <th>total sulfur dioxide</th>\n",
              "      <th>density</th>\n",
              "      <th>pH</th>\n",
              "      <th>sulphates</th>\n",
              "      <th>alcohol</th>\n",
              "      <th>quality</th>\n",
              "    </tr>\n",
              "  </thead>\n",
              "  <tbody>\n",
              "    <tr>\n",
              "      <th>0</th>\n",
              "      <td>7.4</td>\n",
              "      <td>0.70</td>\n",
              "      <td>0.00</td>\n",
              "      <td>1.9</td>\n",
              "      <td>0.076</td>\n",
              "      <td>11.0</td>\n",
              "      <td>34.0</td>\n",
              "      <td>0.9978</td>\n",
              "      <td>3.51</td>\n",
              "      <td>0.56</td>\n",
              "      <td>9.4</td>\n",
              "      <td>5</td>\n",
              "    </tr>\n",
              "    <tr>\n",
              "      <th>1</th>\n",
              "      <td>7.8</td>\n",
              "      <td>0.88</td>\n",
              "      <td>0.00</td>\n",
              "      <td>2.6</td>\n",
              "      <td>0.098</td>\n",
              "      <td>25.0</td>\n",
              "      <td>67.0</td>\n",
              "      <td>0.9968</td>\n",
              "      <td>3.20</td>\n",
              "      <td>0.68</td>\n",
              "      <td>9.8</td>\n",
              "      <td>5</td>\n",
              "    </tr>\n",
              "    <tr>\n",
              "      <th>2</th>\n",
              "      <td>7.8</td>\n",
              "      <td>0.76</td>\n",
              "      <td>0.04</td>\n",
              "      <td>2.3</td>\n",
              "      <td>0.092</td>\n",
              "      <td>15.0</td>\n",
              "      <td>54.0</td>\n",
              "      <td>0.9970</td>\n",
              "      <td>3.26</td>\n",
              "      <td>0.65</td>\n",
              "      <td>9.8</td>\n",
              "      <td>5</td>\n",
              "    </tr>\n",
              "    <tr>\n",
              "      <th>3</th>\n",
              "      <td>11.2</td>\n",
              "      <td>0.28</td>\n",
              "      <td>0.56</td>\n",
              "      <td>1.9</td>\n",
              "      <td>0.075</td>\n",
              "      <td>17.0</td>\n",
              "      <td>60.0</td>\n",
              "      <td>0.9980</td>\n",
              "      <td>3.16</td>\n",
              "      <td>0.58</td>\n",
              "      <td>9.8</td>\n",
              "      <td>6</td>\n",
              "    </tr>\n",
              "    <tr>\n",
              "      <th>4</th>\n",
              "      <td>7.4</td>\n",
              "      <td>0.70</td>\n",
              "      <td>0.00</td>\n",
              "      <td>1.9</td>\n",
              "      <td>0.076</td>\n",
              "      <td>11.0</td>\n",
              "      <td>34.0</td>\n",
              "      <td>0.9978</td>\n",
              "      <td>3.51</td>\n",
              "      <td>0.56</td>\n",
              "      <td>9.4</td>\n",
              "      <td>5</td>\n",
              "    </tr>\n",
              "  </tbody>\n",
              "</table>\n",
              "</div>"
            ],
            "text/plain": [
              "   fixed acidity  volatile acidity  citric acid  ...  sulphates  alcohol  quality\n",
              "0            7.4              0.70         0.00  ...       0.56      9.4        5\n",
              "1            7.8              0.88         0.00  ...       0.68      9.8        5\n",
              "2            7.8              0.76         0.04  ...       0.65      9.8        5\n",
              "3           11.2              0.28         0.56  ...       0.58      9.8        6\n",
              "4            7.4              0.70         0.00  ...       0.56      9.4        5\n",
              "\n",
              "[5 rows x 12 columns]"
            ]
          },
          "metadata": {
            "tags": []
          },
          "execution_count": 28
        }
      ]
    },
    {
      "cell_type": "markdown",
      "metadata": {
        "id": "4mp3fv0czMG1"
      },
      "source": [
        "*Descrição das variáveis (não confio tanto no meu inglês assim para traduzi-las)*:\n",
        "\n",
        "\n",
        "\n",
        "**fixed acidity:** most acids involved with wine or fixed or nonvolatile (do not evaporate readily)\n",
        "\n",
        "**volatile acidity**: the amount of acetic acid in wine, which at too high of levels can lead to an unpleasant, vinegar taste\n",
        "\n",
        "**citric acid:** found in small quantities, citric acid can add 'freshness' and flavor to wines\n",
        "\n",
        "**residual sugar:** the amount of sugar remaining after fermentation stops, it's rare to find wines with less than 1 gram/liter and wines with greater than 45 grams/liter are considered sweet\n",
        "\n",
        "**chlorides:** the amount of salt in the wine\n",
        "\n",
        "**free sulfur dioxide:** the free form of SO2 exists in equilibrium between molecular SO2 (as a dissolved gas) and bisulfite ion; it prevents microbial growth and the oxidation of wine\n",
        "\n",
        "**total sulfur dioxide:** amount of free and bound forms of S02; in low concentrations, SO2 is mostly undetectable in wine, but at free SO2 concentrations over 50 ppm, SO2 becomes evident in the nose and taste of wine\n",
        "\n",
        "**density:** the density of water is close to that of water depending on the percent alcohol and sugar content\n",
        "\n",
        "**pH:** describes how acidic or basic a wine is on a scale from 0 (very acidic) to 14 (very basic); most wines are between 3-4 on the pH scale\n",
        "\n",
        "**sulphates:** a wine additive which can contribute to sulfur dioxide gas (S02) levels,wich acts as an antimicrobial and antioxidant\n",
        "\n",
        "**alcohol:** the percent alcohol content of the wine\n",
        "\n",
        "**quality:** (score between 0 and 10)\n",
        "\n",
        "\n",
        "---\n",
        "\n"
      ]
    },
    {
      "cell_type": "code",
      "metadata": {
        "colab": {
          "base_uri": "https://localhost:8080/"
        },
        "id": "4cNQFchcsz44",
        "outputId": "79171675-36ec-4538-8654-6be767a46474"
      },
      "source": [
        "#Algumas informações básicas das nossas variáveis:\n",
        "base.info()"
      ],
      "execution_count": 29,
      "outputs": [
        {
          "output_type": "stream",
          "text": [
            "<class 'pandas.core.frame.DataFrame'>\n",
            "RangeIndex: 1599 entries, 0 to 1598\n",
            "Data columns (total 12 columns):\n",
            " #   Column                Non-Null Count  Dtype  \n",
            "---  ------                --------------  -----  \n",
            " 0   fixed acidity         1599 non-null   float64\n",
            " 1   volatile acidity      1599 non-null   float64\n",
            " 2   citric acid           1599 non-null   float64\n",
            " 3   residual sugar        1599 non-null   float64\n",
            " 4   chlorides             1599 non-null   float64\n",
            " 5   free sulfur dioxide   1599 non-null   float64\n",
            " 6   total sulfur dioxide  1599 non-null   float64\n",
            " 7   density               1599 non-null   float64\n",
            " 8   pH                    1599 non-null   float64\n",
            " 9   sulphates             1599 non-null   float64\n",
            " 10  alcohol               1599 non-null   float64\n",
            " 11  quality               1599 non-null   int64  \n",
            "dtypes: float64(11), int64(1)\n",
            "memory usage: 150.0 KB\n"
          ],
          "name": "stdout"
        }
      ]
    },
    {
      "cell_type": "markdown",
      "metadata": {
        "id": "Z9sp-a2RyFBk"
      },
      "source": [
        "\n",
        "A principal informação que pretendo extrair aqui é o tipo das variáveis e se há variáveis com alguma observação nula. Em relação ao tipo das variáveis, quase todas são numéricas, o que já evita uma possível transformação, caso fossem categóricas.\n",
        "\n",
        "O segundo ponto e que mais nos auxilia aqui, é que todas as variáveis possuem 1599 linhas \"non-null\" o que indica que não temos valores nulos.\n",
        "\n",
        "Serão utilizadas todas as variáveis, exceto \"quality\", como variáveis explicativas, ou seja, com base nessas variáveis pretende-se prever qual seria a avaliação de determinado vinho se fosse feita por um especialista. A variável explicada ( ou também conhecida como a variável alvo) será \"quality\"."
      ]
    },
    {
      "cell_type": "code",
      "metadata": {
        "scrolled": true,
        "colab": {
          "base_uri": "https://localhost:8080/",
          "height": 295
        },
        "id": "AczSImQpsz45",
        "outputId": "48894b7d-a2f9-4d5e-f1c7-01b396069fb4"
      },
      "source": [
        "#É interessante analisarmos graficamente como está a distribuição da nossa variável alvo\n",
        "ax = sns.countplot(x = 'quality', data = base)\n",
        "plt.ylabel('Quant. de vinhos')\n",
        "plt.xlabel('Quality')\n",
        "plt.title('Avaliação dos críticos')\n",
        "plt.show()\n"
      ],
      "execution_count": 30,
      "outputs": [
        {
          "output_type": "display_data",
          "data": {
            "image/png": "[encoded data removed]",
            "text/plain": [
              "<Figure size 432x288 with 1 Axes>"
            ]
          },
          "metadata": {
            "tags": [],
            "needs_background": "light"
          }
        }
      ]
    },
    {
      "cell_type": "markdown",
      "metadata": {
        "id": "USAG_8gUynrU"
      },
      "source": [
        "Vemos que nenhum dos quase 1600 vinhos foram avaliados com 9 ou 10, a maior parte ficou entre 5 e 7. Ao invés de tentarmos prever a nota de um vinho podemos querer saber apenas se um vinho seria avaliado como \"bom\" ou \"ruim\" pelos críticos, então para isso, iremos fazer uma transformação da variável alvo, onde:\n",
        "\n",
        "Um vinho com \"quality\" abaixo de 7 será considerado \"ruim\", caso \"quality\" seja maior ou igual a 7, o vinho será considerado \"bom\". Onde o primeiro argumento da função (np.where) seria a condição, nesse caso que quality seja menor que 7, o segundo argumento é o valor atribuído à linha caso a condição seja satisfeita (a 'quality' dos vinhos ruins será substituída por 0) e o terceiro é o valor atribuído à linha caso a condição não seja satisfeita (a 'quality' dos vinhos bons será substituída por 1). Logo em seguida. verificamos a distribuição da variável alvo após a transformação.\n",
        "\n",
        "\n",
        "\n"
      ]
    },
    {
      "cell_type": "code",
      "metadata": {
        "scrolled": true,
        "colab": {
          "base_uri": "https://localhost:8080/",
          "height": 295
        },
        "id": "9jMkWFaOsz46",
        "outputId": "abbad25b-69b9-4416-cbc6-00191df713bd"
      },
      "source": [
        "\n",
        "base['qualidade'] = np.where(base['quality']< 7, 0, 1)\n",
        "ax = sns.countplot(x = 'qualidade', data = base)\n",
        "plt.ylabel('Quant. de vinhos')\n",
        "plt.xlabel('Quality')\n",
        "plt.title('Avaliação dos críticos')\n",
        "plt.show()"
      ],
      "execution_count": 31,
      "outputs": [
        {
          "output_type": "display_data",
          "data": {
            "image/png": "[encoded data removed]",
            "text/plain": [
              "<Figure size 432x288 with 1 Axes>"
            ]
          },
          "metadata": {
            "tags": [],
            "needs_background": "light"
          }
        }
      ]
    },
    {
      "cell_type": "code",
      "metadata": {
        "id": "VU4tdpFhsz46"
      },
      "source": [
        "X = base.drop(['quality','qualidade'], axis = 1)\n",
        "y = base['qualidade']"
      ],
      "execution_count": 32,
      "outputs": []
    },
    {
      "cell_type": "code",
      "metadata": {
        "colab": {
          "base_uri": "https://localhost:8080/",
          "height": 204
        },
        "id": "WeXxP8_hsz47",
        "outputId": "d8e75886-2ac3-4734-cc56-d24b7f6a25d0"
      },
      "source": [
        "#verificando as 5 primeiras linhas da base de dados com as variáveis previsoras\n",
        "X.head(5)"
      ],
      "execution_count": 33,
      "outputs": [
        {
          "output_type": "execute_result",
          "data": {
            "text/html": [
              "<div>\n",
              "<style scoped>\n",
              "    .dataframe tbody tr th:only-of-type {\n",
              "        vertical-align: middle;\n",
              "    }\n",
              "\n",
              "    .dataframe tbody tr th {\n",
              "        vertical-align: top;\n",
              "    }\n",
              "\n",
              "    .dataframe thead th {\n",
              "        text-align: right;\n",
              "    }\n",
              "</style>\n",
              "<table border=\"1\" class=\"dataframe\">\n",
              "  <thead>\n",
              "    <tr style=\"text-align: right;\">\n",
              "      <th></th>\n",
              "      <th>fixed acidity</th>\n",
              "      <th>volatile acidity</th>\n",
              "      <th>citric acid</th>\n",
              "      <th>residual sugar</th>\n",
              "      <th>chlorides</th>\n",
              "      <th>free sulfur dioxide</th>\n",
              "      <th>total sulfur dioxide</th>\n",
              "      <th>density</th>\n",
              "      <th>pH</th>\n",
              "      <th>sulphates</th>\n",
              "      <th>alcohol</th>\n",
              "    </tr>\n",
              "  </thead>\n",
              "  <tbody>\n",
              "    <tr>\n",
              "      <th>0</th>\n",
              "      <td>7.4</td>\n",
              "      <td>0.70</td>\n",
              "      <td>0.00</td>\n",
              "      <td>1.9</td>\n",
              "      <td>0.076</td>\n",
              "      <td>11.0</td>\n",
              "      <td>34.0</td>\n",
              "      <td>0.9978</td>\n",
              "      <td>3.51</td>\n",
              "      <td>0.56</td>\n",
              "      <td>9.4</td>\n",
              "    </tr>\n",
              "    <tr>\n",
              "      <th>1</th>\n",
              "      <td>7.8</td>\n",
              "      <td>0.88</td>\n",
              "      <td>0.00</td>\n",
              "      <td>2.6</td>\n",
              "      <td>0.098</td>\n",
              "      <td>25.0</td>\n",
              "      <td>67.0</td>\n",
              "      <td>0.9968</td>\n",
              "      <td>3.20</td>\n",
              "      <td>0.68</td>\n",
              "      <td>9.8</td>\n",
              "    </tr>\n",
              "    <tr>\n",
              "      <th>2</th>\n",
              "      <td>7.8</td>\n",
              "      <td>0.76</td>\n",
              "      <td>0.04</td>\n",
              "      <td>2.3</td>\n",
              "      <td>0.092</td>\n",
              "      <td>15.0</td>\n",
              "      <td>54.0</td>\n",
              "      <td>0.9970</td>\n",
              "      <td>3.26</td>\n",
              "      <td>0.65</td>\n",
              "      <td>9.8</td>\n",
              "    </tr>\n",
              "    <tr>\n",
              "      <th>3</th>\n",
              "      <td>11.2</td>\n",
              "      <td>0.28</td>\n",
              "      <td>0.56</td>\n",
              "      <td>1.9</td>\n",
              "      <td>0.075</td>\n",
              "      <td>17.0</td>\n",
              "      <td>60.0</td>\n",
              "      <td>0.9980</td>\n",
              "      <td>3.16</td>\n",
              "      <td>0.58</td>\n",
              "      <td>9.8</td>\n",
              "    </tr>\n",
              "    <tr>\n",
              "      <th>4</th>\n",
              "      <td>7.4</td>\n",
              "      <td>0.70</td>\n",
              "      <td>0.00</td>\n",
              "      <td>1.9</td>\n",
              "      <td>0.076</td>\n",
              "      <td>11.0</td>\n",
              "      <td>34.0</td>\n",
              "      <td>0.9978</td>\n",
              "      <td>3.51</td>\n",
              "      <td>0.56</td>\n",
              "      <td>9.4</td>\n",
              "    </tr>\n",
              "  </tbody>\n",
              "</table>\n",
              "</div>"
            ],
            "text/plain": [
              "   fixed acidity  volatile acidity  citric acid  ...    pH  sulphates  alcohol\n",
              "0            7.4              0.70         0.00  ...  3.51       0.56      9.4\n",
              "1            7.8              0.88         0.00  ...  3.20       0.68      9.8\n",
              "2            7.8              0.76         0.04  ...  3.26       0.65      9.8\n",
              "3           11.2              0.28         0.56  ...  3.16       0.58      9.8\n",
              "4            7.4              0.70         0.00  ...  3.51       0.56      9.4\n",
              "\n",
              "[5 rows x 11 columns]"
            ]
          },
          "metadata": {
            "tags": []
          },
          "execution_count": 33
        }
      ]
    },
    {
      "cell_type": "code",
      "metadata": {
        "colab": {
          "base_uri": "https://localhost:8080/"
        },
        "id": "zwpvMRmNsz47",
        "outputId": "b919050d-794d-4c54-c816-a61965485810"
      },
      "source": [
        "#O mesmo para a variável alvo (que se tornou variável binária)\n",
        "y.head(5)"
      ],
      "execution_count": 34,
      "outputs": [
        {
          "output_type": "execute_result",
          "data": {
            "text/plain": [
              "0    0\n",
              "1    0\n",
              "2    0\n",
              "3    0\n",
              "4    0\n",
              "Name: qualidade, dtype: int64"
            ]
          },
          "metadata": {
            "tags": []
          },
          "execution_count": 34
        }
      ]
    },
    {
      "cell_type": "code",
      "metadata": {
        "id": "03qOQZ9asz48"
      },
      "source": [
        "#Iremos descartar aleatoriamente alguns exemplos de vinhos ruins\n",
        "balanceador = RandomUnderSampler(random_state = 1)\n",
        "x_bal, y_bal = balanceador.fit_resample(X,y)\n",
        "\n",
        "#O argumento \"random_state\" é uma forma de \"escolher\" a aleatoriedade, é uma forma de possibilitar a replicabilidade \n",
        "#dos resultados."
      ],
      "execution_count": 47,
      "outputs": []
    },
    {
      "cell_type": "code",
      "metadata": {
        "colab": {
          "base_uri": "https://localhost:8080/"
        },
        "id": "KL27NXLjsz48",
        "outputId": "576befc8-492b-41e3-e194-69521803d77e"
      },
      "source": [
        "#Verificando as linhas e colunas da nossa nova base de dados\n",
        "x_bal.shape, y_bal.shape"
      ],
      "execution_count": 50,
      "outputs": [
        {
          "output_type": "execute_result",
          "data": {
            "text/plain": [
              "((434, 11), (434,))"
            ]
          },
          "metadata": {
            "tags": []
          },
          "execution_count": 50
        }
      ]
    },
    {
      "cell_type": "code",
      "metadata": {
        "colab": {
          "base_uri": "https://localhost:8080/"
        },
        "id": "6KRdr6JJsz48",
        "outputId": "1a3ba6e0-4478-40f3-9536-4276ea458a31"
      },
      "source": [
        "#Verificando a distribuição da nova variável alvo\n",
        "pd.DataFrame(y_bal).value_counts()"
      ],
      "execution_count": 59,
      "outputs": [
        {
          "output_type": "execute_result",
          "data": {
            "text/plain": [
              "1    217\n",
              "0    217\n",
              "dtype: int64"
            ]
          },
          "metadata": {
            "tags": []
          },
          "execution_count": 59
        }
      ]
    },
    {
      "cell_type": "markdown",
      "metadata": {
        "id": "BZXZaY711nEl"
      },
      "source": [
        "Agora, nossa base de dados possui apenas as informações de 434 vinhos (descartamos mais de 1100 !), podemos ver que a base está perfeitamente balanceada, com 217 exemplos de vinhos bons e 217 exemplos de vinhos ruins.\n",
        "\n",
        "Para podermos simular as previsões, deveremos dividir nossa base de dados em \"base de treino\" e \"base de teste\".Na base de treino, nosso modelo aprenderá os padrões das avaliações, podendo aprender a avaliar de maneira semelhante à um crítico, se o algoritmo aprender corretamente, ele poderá prever a classificação de um vinho como bom ou ruim apenas olhando suas características (sem precisar provar rsrs),que são as variáveis previsoras (X).\n",
        "\n",
        "Para verificarmos o poder de previsão do algoritmo, iremos simular que a base de teste é na verdade os vinhos que ainda não conhecemos a avaliação, e então poderemos prever e comparar com as reais avaliações."
      ]
    },
    {
      "cell_type": "markdown",
      "metadata": {
        "id": "bzmoa7EZ2D4V"
      },
      "source": [
        "Na função \"train_test_split\" passaremos os argumentos X e y, escolheremos também o tamanho da nossa base de dados \"teste\", nesse caso será de 0.3 (ou 30 %) do total dos dados e por fim \"escolhemos\" a aleatoriedade com qual os dados serão divididos entre treino e teste"
      ]
    },
    {
      "cell_type": "code",
      "metadata": {
        "id": "Jh_k44ITsz49"
      },
      "source": [
        "#Realizando a divisão da nossa base de dados entre treino e teste\n",
        "x_treino, x_teste, y_treino, y_teste = train_test_split(x_bal, y_bal, test_size = 0.3, random_state = 1)"
      ],
      "execution_count": 40,
      "outputs": []
    },
    {
      "cell_type": "markdown",
      "metadata": {
        "id": "FMyaN9wP2IkF"
      },
      "source": [
        "Com isso, geramos 4 objetos:\n",
        "x_treino e y_treino será onde o modelo vai \"aprender\" quais são os aspectos que influenciam na opinião de um crítico sobre determinado vinho, será com base nas informações de x_teste que o modelo fará a previsão e y_teste será a verdadeira avaliação, aqui é que iremos comparar o quão boa foi a previsão do modelo"
      ]
    },
    {
      "cell_type": "code",
      "metadata": {
        "colab": {
          "base_uri": "https://localhost:8080/"
        },
        "id": "vXwxl486sz49",
        "outputId": "a03c128d-9bfd-47de-fe8b-5e86a599ccc8"
      },
      "source": [
        "#Após a divisão entre treino e teste, iremos criar o modelo ou algoritmo que irá tentar captar os padrões nas avaliações\n",
        "#Importando a biblioteca necessária\n",
        "from sklearn.linear_model import LogisticRegression\n",
        "logreg = LogisticRegression(solver= 'liblinear')\n",
        "\n",
        "#O algoritmo Logistic Regression (Regressão Logística) é comumente utilizado para prever a probabilide de um evento ocorrer,\n",
        "#Nesse caso, iremos utiliza-lo para classificar um evento, que no nosso caso, é se o vinho será ruim (0) ou bom (1)\n",
        "\n",
        "#\"Ensinando\" o algoritmo os padrões das avaliações dos críticos\n",
        "logreg.fit(x_treino,y_treino)"
      ],
      "execution_count": 41,
      "outputs": [
        {
          "output_type": "execute_result",
          "data": {
            "text/plain": [
              "LogisticRegression(C=1.0, class_weight=None, dual=False, fit_intercept=True,\n",
              "                   intercept_scaling=1, l1_ratio=None, max_iter=100,\n",
              "                   multi_class='auto', n_jobs=None, penalty='l2',\n",
              "                   random_state=None, solver='liblinear', tol=0.0001, verbose=0,\n",
              "                   warm_start=False)"
            ]
          },
          "metadata": {
            "tags": []
          },
          "execution_count": 41
        }
      ]
    },
    {
      "cell_type": "code",
      "metadata": {
        "id": "InO8IoKKsz4-"
      },
      "source": [
        "#Após ensinarmos os padrões das avaliações, podemos tentar prever a classificação de novos vinhos\n",
        "y_previsto = logreg.predict(x_teste)"
      ],
      "execution_count": 42,
      "outputs": []
    },
    {
      "cell_type": "markdown",
      "metadata": {
        "id": "f-LWAbJq2Q2O"
      },
      "source": [
        "Criamos um objeto chamado 'y_previsto' nele estão as previsões do algoritmo para os vinhos da base \"x_treino\", agora podemos comparar essas previsões com as reais classificações dadas pelos críticos à esses(com a base de dados \"y_teste\") e então saberemos o quão próximo está nosso algoritmo da avaliação de um crítico,para isso, devemos ter alguma forma de mensurar essa proximidade, que nesse caso será pela métrica conhecida como acurácia. \n",
        "A acurácia é entendida como a quantidade de previsões corretas dividida pela quantidade total de previsões, por exemplo, se fizermos 100 previsões e acertamos 70, nossa acurácia será de 70/100, ou, 70%, então, nosso objetivo nesse caso é ter uma boa capacidade de previsão, que será entendida como obter uma acurácia o mais próxima possível de 1."
      ]
    },
    {
      "cell_type": "code",
      "metadata": {
        "colab": {
          "base_uri": "https://localhost:8080/"
        },
        "id": "CPLD4ZTisz4-",
        "outputId": "5cd94c4d-0c40-42fe-9e67-9a380dc71daf"
      },
      "source": [
        "#importando uma biblioteca para verificar a acurácia do algoritmo\n",
        "from sklearn.metrics import accuracy_score\n",
        "accuracy_score(y_previsto, y_teste)"
      ],
      "execution_count": 43,
      "outputs": [
        {
          "output_type": "execute_result",
          "data": {
            "text/plain": [
              "0.8549618320610687"
            ]
          },
          "metadata": {
            "tags": []
          },
          "execution_count": 43
        }
      ]
    },
    {
      "cell_type": "markdown",
      "metadata": {
        "id": "Cb6tR8gk2iJA"
      },
      "source": [
        "Com o resultado, vemos que o nosso algoritmo acertou 85% das previsões que ele fez, o que pode ser considerado um valor muito bom, considerando que usamos um dos mais simples algoritmo de aprendizado de máquina.\n",
        "\n",
        "Podemos criar exemplos e ver qual seria a previsão do algoritmo, para isso, seria necessário ter todas as caracterísitcas que nosso algoritmo utilizou para aprender a classificar.(tecnicamente não precisaria de todas, mas ignoremos isso)."
      ]
    },
    {
      "cell_type": "code",
      "metadata": {
        "colab": {
          "base_uri": "https://localhost:8080/",
          "height": 128
        },
        "id": "FDDlmgx-sz4_",
        "outputId": "b9fb44e4-1eb4-4048-a932-ec6e749eb887"
      },
      "source": [
        "#Consideremos o exemplo (valores atribuídos aleatoriamente):\n",
        "vinhos = pd.DataFrame(np.array([[8,0.35,0.4,3,0.09,13,29,0.99230,3.3,0.7,11.7],\n",
        "                            [9.5,0.44,0.23,4,0.16,19,45,0.98700,4.1,0.54,9.2]]), \n",
        "                      columns = X.columns, index = ['quintas_do_morgado','vinho_quentinho'])\n",
        "\n",
        "vinhos"
      ],
      "execution_count": 44,
      "outputs": [
        {
          "output_type": "execute_result",
          "data": {
            "text/html": [
              "<div>\n",
              "<style scoped>\n",
              "    .dataframe tbody tr th:only-of-type {\n",
              "        vertical-align: middle;\n",
              "    }\n",
              "\n",
              "    .dataframe tbody tr th {\n",
              "        vertical-align: top;\n",
              "    }\n",
              "\n",
              "    .dataframe thead th {\n",
              "        text-align: right;\n",
              "    }\n",
              "</style>\n",
              "<table border=\"1\" class=\"dataframe\">\n",
              "  <thead>\n",
              "    <tr style=\"text-align: right;\">\n",
              "      <th></th>\n",
              "      <th>fixed acidity</th>\n",
              "      <th>volatile acidity</th>\n",
              "      <th>citric acid</th>\n",
              "      <th>residual sugar</th>\n",
              "      <th>chlorides</th>\n",
              "      <th>free sulfur dioxide</th>\n",
              "      <th>total sulfur dioxide</th>\n",
              "      <th>density</th>\n",
              "      <th>pH</th>\n",
              "      <th>sulphates</th>\n",
              "      <th>alcohol</th>\n",
              "    </tr>\n",
              "  </thead>\n",
              "  <tbody>\n",
              "    <tr>\n",
              "      <th>quintas_do_morgado</th>\n",
              "      <td>8.0</td>\n",
              "      <td>0.35</td>\n",
              "      <td>0.40</td>\n",
              "      <td>3.0</td>\n",
              "      <td>0.09</td>\n",
              "      <td>13.0</td>\n",
              "      <td>29.0</td>\n",
              "      <td>0.9923</td>\n",
              "      <td>3.3</td>\n",
              "      <td>0.70</td>\n",
              "      <td>11.7</td>\n",
              "    </tr>\n",
              "    <tr>\n",
              "      <th>vinho_quentinho</th>\n",
              "      <td>9.5</td>\n",
              "      <td>0.44</td>\n",
              "      <td>0.23</td>\n",
              "      <td>4.0</td>\n",
              "      <td>0.16</td>\n",
              "      <td>19.0</td>\n",
              "      <td>45.0</td>\n",
              "      <td>0.9870</td>\n",
              "      <td>4.1</td>\n",
              "      <td>0.54</td>\n",
              "      <td>9.2</td>\n",
              "    </tr>\n",
              "  </tbody>\n",
              "</table>\n",
              "</div>"
            ],
            "text/plain": [
              "                    fixed acidity  volatile acidity  ...  sulphates  alcohol\n",
              "quintas_do_morgado            8.0              0.35  ...       0.70     11.7\n",
              "vinho_quentinho               9.5              0.44  ...       0.54      9.2\n",
              "\n",
              "[2 rows x 11 columns]"
            ]
          },
          "metadata": {
            "tags": []
          },
          "execution_count": 44
        }
      ]
    },
    {
      "cell_type": "code",
      "metadata": {
        "colab": {
          "base_uri": "https://localhost:8080/"
        },
        "id": "ct9fBlhUsz4_",
        "outputId": "12515ea1-fa5d-4e22-f888-0f67c27a2389"
      },
      "source": [
        "#Agora podemos prever qual seria a classificação dos críticos para cada um dos vinhos que acabamos de criar\n",
        "logreg.predict(vinhos)"
      ],
      "execution_count": 45,
      "outputs": [
        {
          "output_type": "execute_result",
          "data": {
            "text/plain": [
              "array([1, 0])"
            ]
          },
          "metadata": {
            "tags": []
          },
          "execution_count": 45
        }
      ]
    },
    {
      "cell_type": "markdown",
      "metadata": {
        "id": "WR68hAjV2u3E"
      },
      "source": [
        "O resultado mostra que o primeiro vinho da base de dados, no nosso caso o vinho 'quintas_do_morgado' seria classificado como bom (valor = 1) pelos críticos, enquanto que o 'vinho_quentinho' seria tido com ruim (valor = 0), lembrando que, é possível obter uma acurácia maior com algoritmos mais complexos. Pretendo um dia refazer esse projeto com um algoritmo mais robusto, a fim de obter maior acurácia."
      ]
    }
  ]
}