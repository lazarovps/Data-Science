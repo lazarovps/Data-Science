{
  "nbformat": 4,
  "nbformat_minor": 0,
  "metadata": {
    "colab": {
      "name": "Santander Customer Satisfaction.ipynb",
      "provenance": [],
      "collapsed_sections": [],
      "authorship_tag": "ABX9TyNymViW8zhp3tW6XY8RSBCb",
      "include_colab_link": true
    },
    "kernelspec": {
      "display_name": "Python 3",
      "name": "python3"
    },
    "language_info": {
      "name": "python"
    }
  },
  "cells": [
    {
      "cell_type": "markdown",
      "metadata": {
        "id": "view-in-github",
        "colab_type": "text"
      },
      "source": [
        "<a href=\"https://colab.research.google.com/github/lazarovps/Data-Science/blob/main/Santander_Customer_Satisfaction.ipynb\" target=\"_parent\"><img src=\"https://colab.research.google.com/assets/colab-badge.svg\" alt=\"Open In Colab\"/></a>"
      ]
    },
    {
      "cell_type": "markdown",
      "metadata": {
        "id": "KuW6Xhj9bugi"
      },
      "source": [
        "#Santander Customer Satisfaction - Previsão de Churn"
      ]
    },
    {
      "cell_type": "markdown",
      "metadata": {
        "id": "ri0vcQZqdfQ-"
      },
      "source": [
        "Um dos problemas enfrentados por empresas que oferecem serviços com cobrança periodíca é o cancelamento do serviço, conhecido com \"churn\", que afeta a capacidade de faturamento da empresa no curto e longo prazo. \n",
        "Com base nisso, é desejável para qualquer empresa prever quem são os clientes mais propensos à churn, para que possa tentar entender a dor desse cliente e se possível fazê-lo ficar, evitando assim a perda de receita.\n",
        "\n",
        "Esse trabalho pretende, através de Machine Learning, prever quais são os possíveis clientes que irão \"churnar\" com a empresa em um período próximo.\n",
        "Esse case foi baseado no desafio posto no Kaggle pelo Banco Santander para a identificação dos clientes insatisfeitos."
      ]
    },
    {
      "cell_type": "markdown",
      "metadata": {
        "id": "97boTnVUf6d0"
      },
      "source": [
        "#Importação das bibliotecas principais e dos dados"
      ]
    },
    {
      "cell_type": "code",
      "metadata": {
        "colab": {
          "base_uri": "https://localhost:8080/"
        },
        "id": "deFgtXt4OndO",
        "outputId": "a3908664-188c-4dae-fbad-95ae9628aa58"
      },
      "source": [
        "import numpy as np\n",
        "import pandas as pd\n",
        "import matplotlib.pyplot as plt\n",
        "import seaborn as sns\n",
        "import warnings\n",
        "from google.colab import drive \n",
        "warnings.filterwarnings(\"ignore\")\n",
        "drive.mount('/content/drive')\n",
        "%cd /content/drive/My Drive/Python\n"
      ],
      "execution_count": 1,
      "outputs": [
        {
          "output_type": "stream",
          "name": "stdout",
          "text": [
            "Drive already mounted at /content/drive; to attempt to forcibly remount, call drive.mount(\"/content/drive\", force_remount=True).\n",
            "/content/drive/My Drive/Python\n"
          ]
        }
      ]
    },
    {
      "cell_type": "code",
      "metadata": {
        "id": "gblG9krsWI1Z"
      },
      "source": [
        "train = pd.read_csv('train_santander.csv')"
      ],
      "execution_count": 2,
      "outputs": []
    },
    {
      "cell_type": "markdown",
      "metadata": {
        "id": "y19eik8vgH2z"
      },
      "source": [
        "#Análise exploratória e manipulação dos dados"
      ]
    },
    {
      "cell_type": "code",
      "metadata": {
        "colab": {
          "base_uri": "https://localhost:8080/"
        },
        "id": "5GQA4xeVWXrO",
        "outputId": "5ce84939-bcf2-4e31-e370-168a3c3ce579"
      },
      "source": [
        "train.shape\n",
        "#A base de dados (dataset) possui 76 mil linhas e 371 colunas"
      ],
      "execution_count": 3,
      "outputs": [
        {
          "output_type": "execute_result",
          "data": {
            "text/plain": [
              "(76020, 371)"
            ]
          },
          "metadata": {},
          "execution_count": 3
        }
      ]
    },
    {
      "cell_type": "code",
      "metadata": {
        "colab": {
          "base_uri": "https://localhost:8080/",
          "height": 191
        },
        "id": "zgTwGQs-QCnB",
        "outputId": "af97315a-34ec-4ee2-e718-aa9b590dc87f"
      },
      "source": [
        "#visualização das 3 primeiras linhas do dataset\n",
        "train.head(3)"
      ],
      "execution_count": 4,
      "outputs": [
        {
          "output_type": "execute_result",
          "data": {
            "text/html": [
              "<div>\n",
              "<style scoped>\n",
              "    .dataframe tbody tr th:only-of-type {\n",
              "        vertical-align: middle;\n",
              "    }\n",
              "\n",
              "    .dataframe tbody tr th {\n",
              "        vertical-align: top;\n",
              "    }\n",
              "\n",
              "    .dataframe thead th {\n",
              "        text-align: right;\n",
              "    }\n",
              "</style>\n",
              "<table border=\"1\" class=\"dataframe\">\n",
              "  <thead>\n",
              "    <tr style=\"text-align: right;\">\n",
              "      <th></th>\n",
              "      <th>ID</th>\n",
              "      <th>var3</th>\n",
              "      <th>var15</th>\n",
              "      <th>imp_ent_var16_ult1</th>\n",
              "      <th>imp_op_var39_comer_ult1</th>\n",
              "      <th>imp_op_var39_comer_ult3</th>\n",
              "      <th>imp_op_var40_comer_ult1</th>\n",
              "      <th>imp_op_var40_comer_ult3</th>\n",
              "      <th>imp_op_var40_efect_ult1</th>\n",
              "      <th>imp_op_var40_efect_ult3</th>\n",
              "      <th>imp_op_var40_ult1</th>\n",
              "      <th>imp_op_var41_comer_ult1</th>\n",
              "      <th>imp_op_var41_comer_ult3</th>\n",
              "      <th>imp_op_var41_efect_ult1</th>\n",
              "      <th>imp_op_var41_efect_ult3</th>\n",
              "      <th>imp_op_var41_ult1</th>\n",
              "      <th>imp_op_var39_efect_ult1</th>\n",
              "      <th>imp_op_var39_efect_ult3</th>\n",
              "      <th>imp_op_var39_ult1</th>\n",
              "      <th>imp_sal_var16_ult1</th>\n",
              "      <th>ind_var1_0</th>\n",
              "      <th>ind_var1</th>\n",
              "      <th>ind_var2_0</th>\n",
              "      <th>ind_var2</th>\n",
              "      <th>ind_var5_0</th>\n",
              "      <th>ind_var5</th>\n",
              "      <th>ind_var6_0</th>\n",
              "      <th>ind_var6</th>\n",
              "      <th>ind_var8_0</th>\n",
              "      <th>ind_var8</th>\n",
              "      <th>ind_var12_0</th>\n",
              "      <th>ind_var12</th>\n",
              "      <th>ind_var13_0</th>\n",
              "      <th>ind_var13_corto_0</th>\n",
              "      <th>ind_var13_corto</th>\n",
              "      <th>ind_var13_largo_0</th>\n",
              "      <th>ind_var13_largo</th>\n",
              "      <th>ind_var13_medio_0</th>\n",
              "      <th>ind_var13_medio</th>\n",
              "      <th>ind_var13</th>\n",
              "      <th>...</th>\n",
              "      <th>saldo_medio_var5_ult1</th>\n",
              "      <th>saldo_medio_var5_ult3</th>\n",
              "      <th>saldo_medio_var8_hace2</th>\n",
              "      <th>saldo_medio_var8_hace3</th>\n",
              "      <th>saldo_medio_var8_ult1</th>\n",
              "      <th>saldo_medio_var8_ult3</th>\n",
              "      <th>saldo_medio_var12_hace2</th>\n",
              "      <th>saldo_medio_var12_hace3</th>\n",
              "      <th>saldo_medio_var12_ult1</th>\n",
              "      <th>saldo_medio_var12_ult3</th>\n",
              "      <th>saldo_medio_var13_corto_hace2</th>\n",
              "      <th>saldo_medio_var13_corto_hace3</th>\n",
              "      <th>saldo_medio_var13_corto_ult1</th>\n",
              "      <th>saldo_medio_var13_corto_ult3</th>\n",
              "      <th>saldo_medio_var13_largo_hace2</th>\n",
              "      <th>saldo_medio_var13_largo_hace3</th>\n",
              "      <th>saldo_medio_var13_largo_ult1</th>\n",
              "      <th>saldo_medio_var13_largo_ult3</th>\n",
              "      <th>saldo_medio_var13_medio_hace2</th>\n",
              "      <th>saldo_medio_var13_medio_hace3</th>\n",
              "      <th>saldo_medio_var13_medio_ult1</th>\n",
              "      <th>saldo_medio_var13_medio_ult3</th>\n",
              "      <th>saldo_medio_var17_hace2</th>\n",
              "      <th>saldo_medio_var17_hace3</th>\n",
              "      <th>saldo_medio_var17_ult1</th>\n",
              "      <th>saldo_medio_var17_ult3</th>\n",
              "      <th>saldo_medio_var29_hace2</th>\n",
              "      <th>saldo_medio_var29_hace3</th>\n",
              "      <th>saldo_medio_var29_ult1</th>\n",
              "      <th>saldo_medio_var29_ult3</th>\n",
              "      <th>saldo_medio_var33_hace2</th>\n",
              "      <th>saldo_medio_var33_hace3</th>\n",
              "      <th>saldo_medio_var33_ult1</th>\n",
              "      <th>saldo_medio_var33_ult3</th>\n",
              "      <th>saldo_medio_var44_hace2</th>\n",
              "      <th>saldo_medio_var44_hace3</th>\n",
              "      <th>saldo_medio_var44_ult1</th>\n",
              "      <th>saldo_medio_var44_ult3</th>\n",
              "      <th>var38</th>\n",
              "      <th>TARGET</th>\n",
              "    </tr>\n",
              "  </thead>\n",
              "  <tbody>\n",
              "    <tr>\n",
              "      <th>0</th>\n",
              "      <td>1</td>\n",
              "      <td>2</td>\n",
              "      <td>23</td>\n",
              "      <td>0.0</td>\n",
              "      <td>0.0</td>\n",
              "      <td>0.0</td>\n",
              "      <td>0.0</td>\n",
              "      <td>0.0</td>\n",
              "      <td>0.0</td>\n",
              "      <td>0.0</td>\n",
              "      <td>0.0</td>\n",
              "      <td>0.0</td>\n",
              "      <td>0.0</td>\n",
              "      <td>0.0</td>\n",
              "      <td>0.0</td>\n",
              "      <td>0.0</td>\n",
              "      <td>0.0</td>\n",
              "      <td>0.0</td>\n",
              "      <td>0.0</td>\n",
              "      <td>0.0</td>\n",
              "      <td>0</td>\n",
              "      <td>0</td>\n",
              "      <td>0</td>\n",
              "      <td>0</td>\n",
              "      <td>1</td>\n",
              "      <td>0</td>\n",
              "      <td>0</td>\n",
              "      <td>0</td>\n",
              "      <td>0</td>\n",
              "      <td>0</td>\n",
              "      <td>0</td>\n",
              "      <td>0</td>\n",
              "      <td>0</td>\n",
              "      <td>0</td>\n",
              "      <td>0</td>\n",
              "      <td>0</td>\n",
              "      <td>0</td>\n",
              "      <td>0</td>\n",
              "      <td>0</td>\n",
              "      <td>0</td>\n",
              "      <td>...</td>\n",
              "      <td>0.0</td>\n",
              "      <td>0.00</td>\n",
              "      <td>0.0</td>\n",
              "      <td>0.0</td>\n",
              "      <td>0.0</td>\n",
              "      <td>0.0</td>\n",
              "      <td>0.0</td>\n",
              "      <td>0.0</td>\n",
              "      <td>0.0</td>\n",
              "      <td>0.0</td>\n",
              "      <td>0.0</td>\n",
              "      <td>0.00</td>\n",
              "      <td>0.0</td>\n",
              "      <td>0.00</td>\n",
              "      <td>0.0</td>\n",
              "      <td>0.0</td>\n",
              "      <td>0.0</td>\n",
              "      <td>0.0</td>\n",
              "      <td>0.0</td>\n",
              "      <td>0</td>\n",
              "      <td>0</td>\n",
              "      <td>0.0</td>\n",
              "      <td>0.0</td>\n",
              "      <td>0.0</td>\n",
              "      <td>0.0</td>\n",
              "      <td>0.0</td>\n",
              "      <td>0.0</td>\n",
              "      <td>0.0</td>\n",
              "      <td>0.0</td>\n",
              "      <td>0.0</td>\n",
              "      <td>0.0</td>\n",
              "      <td>0.0</td>\n",
              "      <td>0.0</td>\n",
              "      <td>0.0</td>\n",
              "      <td>0.0</td>\n",
              "      <td>0.0</td>\n",
              "      <td>0.0</td>\n",
              "      <td>0.0</td>\n",
              "      <td>39205.17</td>\n",
              "      <td>0</td>\n",
              "    </tr>\n",
              "    <tr>\n",
              "      <th>1</th>\n",
              "      <td>3</td>\n",
              "      <td>2</td>\n",
              "      <td>34</td>\n",
              "      <td>0.0</td>\n",
              "      <td>0.0</td>\n",
              "      <td>0.0</td>\n",
              "      <td>0.0</td>\n",
              "      <td>0.0</td>\n",
              "      <td>0.0</td>\n",
              "      <td>0.0</td>\n",
              "      <td>0.0</td>\n",
              "      <td>0.0</td>\n",
              "      <td>0.0</td>\n",
              "      <td>0.0</td>\n",
              "      <td>0.0</td>\n",
              "      <td>0.0</td>\n",
              "      <td>0.0</td>\n",
              "      <td>0.0</td>\n",
              "      <td>0.0</td>\n",
              "      <td>0.0</td>\n",
              "      <td>0</td>\n",
              "      <td>0</td>\n",
              "      <td>0</td>\n",
              "      <td>0</td>\n",
              "      <td>1</td>\n",
              "      <td>0</td>\n",
              "      <td>0</td>\n",
              "      <td>0</td>\n",
              "      <td>0</td>\n",
              "      <td>0</td>\n",
              "      <td>0</td>\n",
              "      <td>0</td>\n",
              "      <td>1</td>\n",
              "      <td>1</td>\n",
              "      <td>1</td>\n",
              "      <td>0</td>\n",
              "      <td>0</td>\n",
              "      <td>0</td>\n",
              "      <td>0</td>\n",
              "      <td>1</td>\n",
              "      <td>...</td>\n",
              "      <td>0.0</td>\n",
              "      <td>0.00</td>\n",
              "      <td>0.0</td>\n",
              "      <td>0.0</td>\n",
              "      <td>0.0</td>\n",
              "      <td>0.0</td>\n",
              "      <td>0.0</td>\n",
              "      <td>0.0</td>\n",
              "      <td>0.0</td>\n",
              "      <td>0.0</td>\n",
              "      <td>300.0</td>\n",
              "      <td>122.22</td>\n",
              "      <td>300.0</td>\n",
              "      <td>240.75</td>\n",
              "      <td>0.0</td>\n",
              "      <td>0.0</td>\n",
              "      <td>0.0</td>\n",
              "      <td>0.0</td>\n",
              "      <td>0.0</td>\n",
              "      <td>0</td>\n",
              "      <td>0</td>\n",
              "      <td>0.0</td>\n",
              "      <td>0.0</td>\n",
              "      <td>0.0</td>\n",
              "      <td>0.0</td>\n",
              "      <td>0.0</td>\n",
              "      <td>0.0</td>\n",
              "      <td>0.0</td>\n",
              "      <td>0.0</td>\n",
              "      <td>0.0</td>\n",
              "      <td>0.0</td>\n",
              "      <td>0.0</td>\n",
              "      <td>0.0</td>\n",
              "      <td>0.0</td>\n",
              "      <td>0.0</td>\n",
              "      <td>0.0</td>\n",
              "      <td>0.0</td>\n",
              "      <td>0.0</td>\n",
              "      <td>49278.03</td>\n",
              "      <td>0</td>\n",
              "    </tr>\n",
              "    <tr>\n",
              "      <th>2</th>\n",
              "      <td>4</td>\n",
              "      <td>2</td>\n",
              "      <td>23</td>\n",
              "      <td>0.0</td>\n",
              "      <td>0.0</td>\n",
              "      <td>0.0</td>\n",
              "      <td>0.0</td>\n",
              "      <td>0.0</td>\n",
              "      <td>0.0</td>\n",
              "      <td>0.0</td>\n",
              "      <td>0.0</td>\n",
              "      <td>0.0</td>\n",
              "      <td>0.0</td>\n",
              "      <td>0.0</td>\n",
              "      <td>0.0</td>\n",
              "      <td>0.0</td>\n",
              "      <td>0.0</td>\n",
              "      <td>0.0</td>\n",
              "      <td>0.0</td>\n",
              "      <td>0.0</td>\n",
              "      <td>0</td>\n",
              "      <td>0</td>\n",
              "      <td>0</td>\n",
              "      <td>0</td>\n",
              "      <td>1</td>\n",
              "      <td>1</td>\n",
              "      <td>0</td>\n",
              "      <td>0</td>\n",
              "      <td>0</td>\n",
              "      <td>0</td>\n",
              "      <td>0</td>\n",
              "      <td>0</td>\n",
              "      <td>0</td>\n",
              "      <td>0</td>\n",
              "      <td>0</td>\n",
              "      <td>0</td>\n",
              "      <td>0</td>\n",
              "      <td>0</td>\n",
              "      <td>0</td>\n",
              "      <td>0</td>\n",
              "      <td>...</td>\n",
              "      <td>3.0</td>\n",
              "      <td>2.07</td>\n",
              "      <td>0.0</td>\n",
              "      <td>0.0</td>\n",
              "      <td>0.0</td>\n",
              "      <td>0.0</td>\n",
              "      <td>0.0</td>\n",
              "      <td>0.0</td>\n",
              "      <td>0.0</td>\n",
              "      <td>0.0</td>\n",
              "      <td>0.0</td>\n",
              "      <td>0.00</td>\n",
              "      <td>0.0</td>\n",
              "      <td>0.00</td>\n",
              "      <td>0.0</td>\n",
              "      <td>0.0</td>\n",
              "      <td>0.0</td>\n",
              "      <td>0.0</td>\n",
              "      <td>0.0</td>\n",
              "      <td>0</td>\n",
              "      <td>0</td>\n",
              "      <td>0.0</td>\n",
              "      <td>0.0</td>\n",
              "      <td>0.0</td>\n",
              "      <td>0.0</td>\n",
              "      <td>0.0</td>\n",
              "      <td>0.0</td>\n",
              "      <td>0.0</td>\n",
              "      <td>0.0</td>\n",
              "      <td>0.0</td>\n",
              "      <td>0.0</td>\n",
              "      <td>0.0</td>\n",
              "      <td>0.0</td>\n",
              "      <td>0.0</td>\n",
              "      <td>0.0</td>\n",
              "      <td>0.0</td>\n",
              "      <td>0.0</td>\n",
              "      <td>0.0</td>\n",
              "      <td>67333.77</td>\n",
              "      <td>0</td>\n",
              "    </tr>\n",
              "  </tbody>\n",
              "</table>\n",
              "<p>3 rows × 371 columns</p>\n",
              "</div>"
            ],
            "text/plain": [
              "   ID  var3  var15  ...  saldo_medio_var44_ult3     var38  TARGET\n",
              "0   1     2     23  ...                     0.0  39205.17       0\n",
              "1   3     2     34  ...                     0.0  49278.03       0\n",
              "2   4     2     23  ...                     0.0  67333.77       0\n",
              "\n",
              "[3 rows x 371 columns]"
            ]
          },
          "metadata": {},
          "execution_count": 4
        }
      ]
    },
    {
      "cell_type": "code",
      "metadata": {
        "id": "VtWGvOF_QE2-"
      },
      "source": [
        "#Separação da variável alvo (TARGET) das variáveis preditoras\n",
        "y_train = train[['TARGET']]\n",
        "train = train.drop('TARGET', axis = 1)"
      ],
      "execution_count": 5,
      "outputs": []
    },
    {
      "cell_type": "code",
      "metadata": {
        "colab": {
          "base_uri": "https://localhost:8080/",
          "height": 419
        },
        "id": "oBQXnavMW6O1",
        "outputId": "b67b30a5-a786-4103-eb9c-10dfd75da1db"
      },
      "source": [
        "train.describe().T"
      ],
      "execution_count": 6,
      "outputs": [
        {
          "output_type": "execute_result",
          "data": {
            "text/html": [
              "<div>\n",
              "<style scoped>\n",
              "    .dataframe tbody tr th:only-of-type {\n",
              "        vertical-align: middle;\n",
              "    }\n",
              "\n",
              "    .dataframe tbody tr th {\n",
              "        vertical-align: top;\n",
              "    }\n",
              "\n",
              "    .dataframe thead th {\n",
              "        text-align: right;\n",
              "    }\n",
              "</style>\n",
              "<table border=\"1\" class=\"dataframe\">\n",
              "  <thead>\n",
              "    <tr style=\"text-align: right;\">\n",
              "      <th></th>\n",
              "      <th>count</th>\n",
              "      <th>mean</th>\n",
              "      <th>std</th>\n",
              "      <th>min</th>\n",
              "      <th>25%</th>\n",
              "      <th>50%</th>\n",
              "      <th>75%</th>\n",
              "      <th>max</th>\n",
              "    </tr>\n",
              "  </thead>\n",
              "  <tbody>\n",
              "    <tr>\n",
              "      <th>ID</th>\n",
              "      <td>76020.0</td>\n",
              "      <td>75964.050723</td>\n",
              "      <td>43781.947379</td>\n",
              "      <td>1.00</td>\n",
              "      <td>38104.7500</td>\n",
              "      <td>76043.00</td>\n",
              "      <td>113748.7500</td>\n",
              "      <td>151838.00</td>\n",
              "    </tr>\n",
              "    <tr>\n",
              "      <th>var3</th>\n",
              "      <td>76020.0</td>\n",
              "      <td>-1523.199277</td>\n",
              "      <td>39033.462364</td>\n",
              "      <td>-999999.00</td>\n",
              "      <td>2.0000</td>\n",
              "      <td>2.00</td>\n",
              "      <td>2.0000</td>\n",
              "      <td>238.00</td>\n",
              "    </tr>\n",
              "    <tr>\n",
              "      <th>var15</th>\n",
              "      <td>76020.0</td>\n",
              "      <td>33.212865</td>\n",
              "      <td>12.956486</td>\n",
              "      <td>5.00</td>\n",
              "      <td>23.0000</td>\n",
              "      <td>28.00</td>\n",
              "      <td>40.0000</td>\n",
              "      <td>105.00</td>\n",
              "    </tr>\n",
              "    <tr>\n",
              "      <th>imp_ent_var16_ult1</th>\n",
              "      <td>76020.0</td>\n",
              "      <td>86.208265</td>\n",
              "      <td>1614.757313</td>\n",
              "      <td>0.00</td>\n",
              "      <td>0.0000</td>\n",
              "      <td>0.00</td>\n",
              "      <td>0.0000</td>\n",
              "      <td>210000.00</td>\n",
              "    </tr>\n",
              "    <tr>\n",
              "      <th>imp_op_var39_comer_ult1</th>\n",
              "      <td>76020.0</td>\n",
              "      <td>72.363067</td>\n",
              "      <td>339.315831</td>\n",
              "      <td>0.00</td>\n",
              "      <td>0.0000</td>\n",
              "      <td>0.00</td>\n",
              "      <td>0.0000</td>\n",
              "      <td>12888.03</td>\n",
              "    </tr>\n",
              "    <tr>\n",
              "      <th>...</th>\n",
              "      <td>...</td>\n",
              "      <td>...</td>\n",
              "      <td>...</td>\n",
              "      <td>...</td>\n",
              "      <td>...</td>\n",
              "      <td>...</td>\n",
              "      <td>...</td>\n",
              "      <td>...</td>\n",
              "    </tr>\n",
              "    <tr>\n",
              "      <th>saldo_medio_var44_hace2</th>\n",
              "      <td>76020.0</td>\n",
              "      <td>31.505324</td>\n",
              "      <td>2013.125393</td>\n",
              "      <td>0.00</td>\n",
              "      <td>0.0000</td>\n",
              "      <td>0.00</td>\n",
              "      <td>0.0000</td>\n",
              "      <td>438329.22</td>\n",
              "    </tr>\n",
              "    <tr>\n",
              "      <th>saldo_medio_var44_hace3</th>\n",
              "      <td>76020.0</td>\n",
              "      <td>1.858575</td>\n",
              "      <td>147.786584</td>\n",
              "      <td>0.00</td>\n",
              "      <td>0.0000</td>\n",
              "      <td>0.00</td>\n",
              "      <td>0.0000</td>\n",
              "      <td>24650.01</td>\n",
              "    </tr>\n",
              "    <tr>\n",
              "      <th>saldo_medio_var44_ult1</th>\n",
              "      <td>76020.0</td>\n",
              "      <td>76.026165</td>\n",
              "      <td>4040.337842</td>\n",
              "      <td>0.00</td>\n",
              "      <td>0.0000</td>\n",
              "      <td>0.00</td>\n",
              "      <td>0.0000</td>\n",
              "      <td>681462.90</td>\n",
              "    </tr>\n",
              "    <tr>\n",
              "      <th>saldo_medio_var44_ult3</th>\n",
              "      <td>76020.0</td>\n",
              "      <td>56.614351</td>\n",
              "      <td>2852.579397</td>\n",
              "      <td>0.00</td>\n",
              "      <td>0.0000</td>\n",
              "      <td>0.00</td>\n",
              "      <td>0.0000</td>\n",
              "      <td>397884.30</td>\n",
              "    </tr>\n",
              "    <tr>\n",
              "      <th>var38</th>\n",
              "      <td>76020.0</td>\n",
              "      <td>117235.809430</td>\n",
              "      <td>182664.598503</td>\n",
              "      <td>5163.75</td>\n",
              "      <td>67870.6125</td>\n",
              "      <td>106409.16</td>\n",
              "      <td>118756.2525</td>\n",
              "      <td>22034738.76</td>\n",
              "    </tr>\n",
              "  </tbody>\n",
              "</table>\n",
              "<p>370 rows × 8 columns</p>\n",
              "</div>"
            ],
            "text/plain": [
              "                           count           mean  ...          75%          max\n",
              "ID                       76020.0   75964.050723  ...  113748.7500    151838.00\n",
              "var3                     76020.0   -1523.199277  ...       2.0000       238.00\n",
              "var15                    76020.0      33.212865  ...      40.0000       105.00\n",
              "imp_ent_var16_ult1       76020.0      86.208265  ...       0.0000    210000.00\n",
              "imp_op_var39_comer_ult1  76020.0      72.363067  ...       0.0000     12888.03\n",
              "...                          ...            ...  ...          ...          ...\n",
              "saldo_medio_var44_hace2  76020.0      31.505324  ...       0.0000    438329.22\n",
              "saldo_medio_var44_hace3  76020.0       1.858575  ...       0.0000     24650.01\n",
              "saldo_medio_var44_ult1   76020.0      76.026165  ...       0.0000    681462.90\n",
              "saldo_medio_var44_ult3   76020.0      56.614351  ...       0.0000    397884.30\n",
              "var38                    76020.0  117235.809430  ...  118756.2525  22034738.76\n",
              "\n",
              "[370 rows x 8 columns]"
            ]
          },
          "metadata": {},
          "execution_count": 6
        }
      ]
    },
    {
      "cell_type": "markdown",
      "metadata": {
        "id": "hq8H7mEtg0ia"
      },
      "source": [
        "Ao verificar as estatísticas descritivas das variáveis, percebe-se que a variável \"var3\" está com valores mínimos de -999999, o que provavelmente representa valores nulos, para evitar problemas nos modelos, iremos substituir todos os valores que estiverem assim por 0, diminuindo o impacto desses no resultado final.\n",
        "\n",
        "Além disso, iremos remover a coluna 'ID', já que essa é apenas uma forma de identificação de cada indivíduo."
      ]
    },
    {
      "cell_type": "code",
      "metadata": {
        "id": "_02bMCflTM1I"
      },
      "source": [
        "train = train.replace(-999999,0)\n",
        "train = train.drop('ID', axis = 1)"
      ],
      "execution_count": 7,
      "outputs": []
    },
    {
      "cell_type": "code",
      "metadata": {
        "colab": {
          "base_uri": "https://localhost:8080/"
        },
        "id": "XS6tshIRXieu",
        "outputId": "dce28ac0-9dbe-4725-fee8-a043985ef023"
      },
      "source": [
        "train.info()"
      ],
      "execution_count": 8,
      "outputs": [
        {
          "output_type": "stream",
          "name": "stdout",
          "text": [
            "<class 'pandas.core.frame.DataFrame'>\n",
            "RangeIndex: 76020 entries, 0 to 76019\n",
            "Columns: 369 entries, var3 to var38\n",
            "dtypes: float64(111), int64(258)\n",
            "memory usage: 214.0 MB\n"
          ]
        }
      ]
    },
    {
      "cell_type": "markdown",
      "metadata": {
        "id": "2SXaV3tjUnyX"
      },
      "source": [
        "Ao olharmos o dtype, percebemos que há 111 variáveis do tipo flutuantes e 258 do tipo inteiro. Portanto, não temos a necessidade de fazer transformação de variáveis categóricas."
      ]
    },
    {
      "cell_type": "code",
      "metadata": {
        "colab": {
          "base_uri": "https://localhost:8080/",
          "height": 419
        },
        "id": "j03B8v5SZZYh",
        "outputId": "8d5ca05b-b96f-48ca-96e3-8c0dcba0d148"
      },
      "source": [
        "y_train"
      ],
      "execution_count": 9,
      "outputs": [
        {
          "output_type": "execute_result",
          "data": {
            "text/html": [
              "<div>\n",
              "<style scoped>\n",
              "    .dataframe tbody tr th:only-of-type {\n",
              "        vertical-align: middle;\n",
              "    }\n",
              "\n",
              "    .dataframe tbody tr th {\n",
              "        vertical-align: top;\n",
              "    }\n",
              "\n",
              "    .dataframe thead th {\n",
              "        text-align: right;\n",
              "    }\n",
              "</style>\n",
              "<table border=\"1\" class=\"dataframe\">\n",
              "  <thead>\n",
              "    <tr style=\"text-align: right;\">\n",
              "      <th></th>\n",
              "      <th>TARGET</th>\n",
              "    </tr>\n",
              "  </thead>\n",
              "  <tbody>\n",
              "    <tr>\n",
              "      <th>0</th>\n",
              "      <td>0</td>\n",
              "    </tr>\n",
              "    <tr>\n",
              "      <th>1</th>\n",
              "      <td>0</td>\n",
              "    </tr>\n",
              "    <tr>\n",
              "      <th>2</th>\n",
              "      <td>0</td>\n",
              "    </tr>\n",
              "    <tr>\n",
              "      <th>3</th>\n",
              "      <td>0</td>\n",
              "    </tr>\n",
              "    <tr>\n",
              "      <th>4</th>\n",
              "      <td>0</td>\n",
              "    </tr>\n",
              "    <tr>\n",
              "      <th>...</th>\n",
              "      <td>...</td>\n",
              "    </tr>\n",
              "    <tr>\n",
              "      <th>76015</th>\n",
              "      <td>0</td>\n",
              "    </tr>\n",
              "    <tr>\n",
              "      <th>76016</th>\n",
              "      <td>0</td>\n",
              "    </tr>\n",
              "    <tr>\n",
              "      <th>76017</th>\n",
              "      <td>0</td>\n",
              "    </tr>\n",
              "    <tr>\n",
              "      <th>76018</th>\n",
              "      <td>0</td>\n",
              "    </tr>\n",
              "    <tr>\n",
              "      <th>76019</th>\n",
              "      <td>0</td>\n",
              "    </tr>\n",
              "  </tbody>\n",
              "</table>\n",
              "<p>76020 rows × 1 columns</p>\n",
              "</div>"
            ],
            "text/plain": [
              "       TARGET\n",
              "0           0\n",
              "1           0\n",
              "2           0\n",
              "3           0\n",
              "4           0\n",
              "...       ...\n",
              "76015       0\n",
              "76016       0\n",
              "76017       0\n",
              "76018       0\n",
              "76019       0\n",
              "\n",
              "[76020 rows x 1 columns]"
            ]
          },
          "metadata": {},
          "execution_count": 9
        }
      ]
    },
    {
      "cell_type": "code",
      "metadata": {
        "colab": {
          "base_uri": "https://localhost:8080/",
          "height": 296
        },
        "id": "KwsiENozYMYg",
        "outputId": "3b166e50-0aa0-42f2-b511-ffe1ec3293a8"
      },
      "source": [
        "sns.countplot( x= 'TARGET', data = y_train, palette = 'Set1')"
      ],
      "execution_count": 10,
      "outputs": [
        {
          "output_type": "execute_result",
          "data": {
            "text/plain": [
              "<matplotlib.axes._subplots.AxesSubplot at 0x7fd1f1475990>"
            ]
          },
          "metadata": {},
          "execution_count": 10
        },
        {
          "output_type": "display_data",
          "data": {
            "image/png": "[encoded data removed]",
            "text/plain": [
              "<Figure size 432x288 with 1 Axes>"
            ]
          },
          "metadata": {
            "needs_background": "light"
          }
        }
      ]
    },
    {
      "cell_type": "code",
      "metadata": {
        "colab": {
          "base_uri": "https://localhost:8080/"
        },
        "id": "aD0u9E36bi18",
        "outputId": "fc006131-c885-4357-94c0-191a9307dd00"
      },
      "source": [
        "y_train['TARGET'].value_counts(normalize = True)"
      ],
      "execution_count": 11,
      "outputs": [
        {
          "output_type": "execute_result",
          "data": {
            "text/plain": [
              "0    0.960431\n",
              "1    0.039569\n",
              "Name: TARGET, dtype: float64"
            ]
          },
          "metadata": {},
          "execution_count": 11
        }
      ]
    },
    {
      "cell_type": "code",
      "metadata": {
        "colab": {
          "base_uri": "https://localhost:8080/"
        },
        "id": "mBP0jKEPkV0v",
        "outputId": "abfedbb0-4d11-4855-b106-81dc0c15ec6a"
      },
      "source": [
        "y_train['TARGET'].value_counts()"
      ],
      "execution_count": 12,
      "outputs": [
        {
          "output_type": "execute_result",
          "data": {
            "text/plain": [
              "0    73012\n",
              "1     3008\n",
              "Name: TARGET, dtype: int64"
            ]
          },
          "metadata": {},
          "execution_count": 12
        }
      ]
    },
    {
      "cell_type": "markdown",
      "metadata": {
        "id": "RnLFFtYgiagf"
      },
      "source": [
        "Verificando a distribuição da variável alvo percebemos que o dataset está muito desbalanceado, com indivíduos que não deram churn em 96% dos dados, nesses casos, antes de modelarmos, é extremamente necessário deixar os dados balanceados, para que o nosso modelo não tenda à prever de maneira equivocada.\n",
        "\n",
        "Para balancear os dados, iremos utilizar a técnica Synthetic Minority Oversampling Technique (SMOTE), que gera nova instâncias de dados a partir da proximidade das variáveis de dados semelhantes. Essa técnica está presente no pacote imblearn.\n",
        "\n",
        "O único argumento que iremos utilizar é o \"sampling_strategy\" que representa a razão que queremos da classe minoritária sobre a classe majoritária, escolhendo a razão de 0.50, significa que a quantidade de exemplos da classe minoritária será 50% da classe majoritária (atualmente esse valor é de 4 %)\n",
        "\n"
      ]
    },
    {
      "cell_type": "code",
      "metadata": {
        "id": "8ve3zszVYqvm"
      },
      "source": [
        "from imblearn.over_sampling import SMOTE\n",
        "smote = SMOTE(sampling_strategy=0.50)"
      ],
      "execution_count": 13,
      "outputs": []
    },
    {
      "cell_type": "code",
      "metadata": {
        "id": "q4MWeexJYyiU"
      },
      "source": [
        "x_train, y_train = smote.fit_resample(train,y_train)"
      ],
      "execution_count": 14,
      "outputs": []
    },
    {
      "cell_type": "code",
      "metadata": {
        "colab": {
          "base_uri": "https://localhost:8080/"
        },
        "id": "ItS2Ot2PlIjU",
        "outputId": "96a4069a-d439-444e-c1e6-04b1adfe3816"
      },
      "source": [
        "x_train.shape, y_train.shape"
      ],
      "execution_count": 15,
      "outputs": [
        {
          "output_type": "execute_result",
          "data": {
            "text/plain": [
              "((109518, 369), (109518,))"
            ]
          },
          "metadata": {},
          "execution_count": 15
        }
      ]
    },
    {
      "cell_type": "markdown",
      "metadata": {
        "id": "6TD3A92-VQY7"
      },
      "source": [
        "Percebemos que agora nosso dataset possui mais de 109 mil observações, ou seja, geramos 33 mil \"individuos sinteticos\", todos com a variável alvo igual a 1. Agora, temos 36 mil que \"churnaram\" contra 73 mil que não \"churnaram\""
      ]
    },
    {
      "cell_type": "code",
      "metadata": {
        "colab": {
          "base_uri": "https://localhost:8080/"
        },
        "id": "87GuZR01ZUDJ",
        "outputId": "e48701c7-1264-4115-d9da-cd6c5313aed0"
      },
      "source": [
        "y_train.sum()"
      ],
      "execution_count": 16,
      "outputs": [
        {
          "output_type": "execute_result",
          "data": {
            "text/plain": [
              "36506"
            ]
          },
          "metadata": {},
          "execution_count": 16
        }
      ]
    },
    {
      "cell_type": "markdown",
      "metadata": {
        "id": "JUAyTZN4kzDY"
      },
      "source": [
        "Além desse procedimento, podemos eliminar alguns dados da classe majoritária. Esse método não é muito indicado quando há poucos dados, já que estaremos perdendo informação, mas nesse caso é aplicável. A forma que vamos eliminar os exemplos será aleatória, com o Random Under Sampler, também do imblearn."
      ]
    },
    {
      "cell_type": "code",
      "metadata": {
        "id": "YMOHqMWZ7nwE"
      },
      "source": [
        "from imblearn.under_sampling import RandomUnderSampler\n",
        "rus = RandomUnderSampler(sampling_strategy = 0.90, random_state = 12)"
      ],
      "execution_count": 17,
      "outputs": []
    },
    {
      "cell_type": "markdown",
      "metadata": {
        "id": "6agW2PdfrUgG"
      },
      "source": [
        "Para preservar o máximo de informação possível, podemos fazer com que a classe minoritária seja 90% da classe majoritária, essa diferença não prejudicará os resultados do modelo."
      ]
    },
    {
      "cell_type": "code",
      "metadata": {
        "id": "0ac_mJZgcn4Z"
      },
      "source": [
        "x_train,y_train = rus.fit_resample(x_train,y_train)"
      ],
      "execution_count": 18,
      "outputs": []
    },
    {
      "cell_type": "code",
      "metadata": {
        "colab": {
          "base_uri": "https://localhost:8080/"
        },
        "id": "ow71WqbyrthJ",
        "outputId": "6ae28e77-cd45-4345-fa02-29541daf89e2"
      },
      "source": [
        "x_train.shape"
      ],
      "execution_count": 19,
      "outputs": [
        {
          "output_type": "execute_result",
          "data": {
            "text/plain": [
              "(77068, 369)"
            ]
          },
          "metadata": {},
          "execution_count": 19
        }
      ]
    },
    {
      "cell_type": "markdown",
      "metadata": {
        "id": "ypc5te7hr2Xr"
      },
      "source": [
        "Agora possuimos 77 mil individuos, mas dessa vez as classes estão quase qu perfeitamente balanceadas.\n",
        "\n",
        "Após isso, podemos dividir entre dados em treino e validação, onde o conjunto de treino serve para o algoritmo aprender os padrões das variáveis e o conjunto de validação, como o nome sugere, serve para avaliarmos se o algoritmo \"aprendeu bem\". \n",
        "\n",
        "A divisão será em 70% dados de treino e 30% dados de validação."
      ]
    },
    {
      "cell_type": "code",
      "metadata": {
        "id": "k-CK8c0CPhK5"
      },
      "source": [
        "from sklearn.model_selection import train_test_split as tts\n",
        "x_train, x_valid, y_train, y_valid = tts(x_train,y_train, test_size = 0.30, random_state = 12)"
      ],
      "execution_count": 20,
      "outputs": []
    },
    {
      "cell_type": "code",
      "metadata": {
        "colab": {
          "base_uri": "https://localhost:8080/"
        },
        "id": "z7Geq1_TQbsw",
        "outputId": "6dd37c0f-de2a-458b-f472-1b21981dd67f"
      },
      "source": [
        "x_train.shape, x_valid.shape"
      ],
      "execution_count": 21,
      "outputs": [
        {
          "output_type": "execute_result",
          "data": {
            "text/plain": [
              "((53947, 369), (23121, 369))"
            ]
          },
          "metadata": {},
          "execution_count": 21
        }
      ]
    },
    {
      "cell_type": "code",
      "metadata": {
        "colab": {
          "base_uri": "https://localhost:8080/"
        },
        "id": "3SrsYIgW2AND",
        "outputId": "780fdf64-e6a2-4662-a275-210a03e4a617"
      },
      "source": [
        "y_train.shape, y_valid.shape"
      ],
      "execution_count": 22,
      "outputs": [
        {
          "output_type": "execute_result",
          "data": {
            "text/plain": [
              "((53947,), (23121,))"
            ]
          },
          "metadata": {},
          "execution_count": 22
        }
      ]
    },
    {
      "cell_type": "markdown",
      "metadata": {
        "id": "Thlkq9plshHB"
      },
      "source": [
        "Após a divisão, iremos padronizar as variáveis, deixando todas na mesma escala, já que a escala inapropriada das variáveis acaba afetando negativamente os resultados de muitos algoritmos de Machine Learning."
      ]
    },
    {
      "cell_type": "code",
      "metadata": {
        "id": "fyMAaXwB4ibq"
      },
      "source": [
        "from sklearn.preprocessing import StandardScaler\n",
        "scaler = StandardScaler()"
      ],
      "execution_count": 23,
      "outputs": []
    },
    {
      "cell_type": "code",
      "metadata": {
        "id": "v175-LH472L2"
      },
      "source": [
        "x_train_scaled = scaler.fit_transform(x_train)\n",
        "x_valid_scaled = scaler.transform(x_valid)"
      ],
      "execution_count": 24,
      "outputs": []
    },
    {
      "cell_type": "markdown",
      "metadata": {
        "id": "VxBOSC9oMoYW"
      },
      "source": [
        "#Seleção das variáveis"
      ]
    },
    {
      "cell_type": "markdown",
      "metadata": {
        "id": "Zplam_AG-GTb"
      },
      "source": [
        "Após a padronização podemos começar o processo de seleção das variáveis, por possuir mais de 360, é provável que muitas dessas sejam bastante correlacionadas, o que também prejudica o aprendizado da máquina, para evitar isso podemos fazer uma seleção das melhores variáveis de acordo com algum critério.\n",
        "\n",
        "O método que foi pensado para essa seleção será o Principal Components Analysis(PCA), basicamente, ele procura reduzir a dimensionalidade de um conjunto de dados mantendo a maior quantidade de informação (variância dos dados) possível. \n",
        "\n"
      ]
    },
    {
      "cell_type": "code",
      "metadata": {
        "id": "IdkCMtYj9oq7"
      },
      "source": [
        "from sklearn.decomposition import PCA\n",
        "pca = PCA()"
      ],
      "execution_count": 25,
      "outputs": []
    },
    {
      "cell_type": "code",
      "metadata": {
        "colab": {
          "base_uri": "https://localhost:8080/"
        },
        "id": "xcziGCti90Xg",
        "outputId": "f158b9bf-4470-49dd-b062-265a47de6266"
      },
      "source": [
        "pca.fit(x_train_scaled)"
      ],
      "execution_count": 26,
      "outputs": [
        {
          "output_type": "execute_result",
          "data": {
            "text/plain": [
              "PCA(copy=True, iterated_power='auto', n_components=None, random_state=None,\n",
              "    svd_solver='auto', tol=0.0, whiten=False)"
            ]
          },
          "metadata": {},
          "execution_count": 26
        }
      ]
    },
    {
      "cell_type": "markdown",
      "metadata": {
        "id": "So8gkh0XHM5M"
      },
      "source": [
        "Ao fitarmos o algoritmo, teremos um valor para cada uma das dimensões, esse valor representa o quanto aquela dimensão explica a variância do conjunto de dados, então, queremos manter as dimensões que mais explicam a variância. o método \"explained_variance_ratio_\" ordena esses valores do maior para menor, e sua soma será 1 (ou 100%)."
      ]
    },
    {
      "cell_type": "code",
      "metadata": {
        "colab": {
          "base_uri": "https://localhost:8080/"
        },
        "id": "2POWGeHqGzB1",
        "outputId": "c0256198-2fd1-49b7-c746-1edcfc4b0f36"
      },
      "source": [
        "pca.explained_variance_ratio_"
      ],
      "execution_count": 27,
      "outputs": [
        {
          "output_type": "execute_result",
          "data": {
            "text/plain": [
              "array([9.35588655e-02, 5.28809617e-02, 4.07535519e-02, 3.68942818e-02,\n",
              "       3.62399225e-02, 3.53587911e-02, 3.20670909e-02, 3.14342677e-02,\n",
              "       2.88217397e-02, 2.77829234e-02, 2.47108114e-02, 2.33295680e-02,\n",
              "       2.16500230e-02, 2.06348341e-02, 1.69014688e-02, 1.56170739e-02,\n",
              "       1.44673537e-02, 1.36254043e-02, 1.32379534e-02, 1.31109716e-02,\n",
              "       1.28261584e-02, 1.23551548e-02, 1.23056977e-02, 1.19489867e-02,\n",
              "       1.11845031e-02, 1.10323208e-02, 1.02276314e-02, 1.01732678e-02,\n",
              "       9.94456268e-03, 9.65964660e-03, 9.35362281e-03, 9.10623929e-03,\n",
              "       9.02246945e-03, 8.81232176e-03, 8.66635675e-03, 7.96674334e-03,\n",
              "       7.19013777e-03, 6.91602337e-03, 6.81838490e-03, 6.65558990e-03,\n",
              "       6.62681035e-03, 6.36196975e-03, 6.14449836e-03, 5.91180383e-03,\n",
              "       5.85503049e-03, 5.67688971e-03, 5.59795575e-03, 5.18409360e-03,\n",
              "       5.10058220e-03, 4.84611938e-03, 4.71374019e-03, 4.55959928e-03,\n",
              "       4.46638181e-03, 4.38190199e-03, 4.18000396e-03, 3.88773996e-03,\n",
              "       3.73050786e-03, 3.64580519e-03, 3.57273213e-03, 3.45385227e-03,\n",
              "       3.38585310e-03, 3.17733580e-03, 3.08253765e-03, 3.02727043e-03,\n",
              "       2.98885907e-03, 2.94714345e-03, 2.89566896e-03, 2.85411029e-03,\n",
              "       2.79037520e-03, 2.71372618e-03, 2.68001341e-03, 2.57715152e-03,\n",
              "       2.50114569e-03, 2.43880950e-03, 2.40253122e-03, 2.30421186e-03,\n",
              "       2.26521145e-03, 2.22488832e-03, 2.14594048e-03, 2.09892291e-03,\n",
              "       2.07034722e-03, 2.04620280e-03, 1.93516330e-03, 1.91535351e-03,\n",
              "       1.87108946e-03, 1.83282922e-03, 1.74877651e-03, 1.68311490e-03,\n",
              "       1.60802850e-03, 1.57350904e-03, 1.56406571e-03, 1.53569197e-03,\n",
              "       1.41403324e-03, 1.36073971e-03, 1.26427165e-03, 1.22611933e-03,\n",
              "       1.19705284e-03, 1.18611539e-03, 1.14545449e-03, 1.14185730e-03,\n",
              "       1.08399692e-03, 1.05718415e-03, 1.03444648e-03, 1.02379787e-03,\n",
              "       9.74341092e-04, 9.43658278e-04, 9.15369838e-04, 8.98583327e-04,\n",
              "       8.85738219e-04, 8.78490491e-04, 8.65861823e-04, 8.29913471e-04,\n",
              "       7.62881329e-04, 7.46031686e-04, 7.27635872e-04, 6.73304112e-04,\n",
              "       6.63998631e-04, 6.56257026e-04, 6.35980803e-04, 6.22989685e-04,\n",
              "       6.14030642e-04, 6.09071998e-04, 5.84073579e-04, 5.80804466e-04,\n",
              "       5.72584309e-04, 5.56371490e-04, 5.07380133e-04, 4.81318654e-04,\n",
              "       4.73108897e-04, 4.57336415e-04, 4.45232627e-04, 4.30879259e-04,\n",
              "       4.09341683e-04, 3.95650994e-04, 3.64820315e-04, 3.41781448e-04,\n",
              "       3.27655695e-04, 3.07742444e-04, 3.02134843e-04, 2.88089050e-04,\n",
              "       2.79152439e-04, 2.75815428e-04, 2.52695699e-04, 2.44057351e-04,\n",
              "       2.42389837e-04, 2.29989675e-04, 2.23334963e-04, 2.12786716e-04,\n",
              "       2.09172720e-04, 2.02448411e-04, 1.96146101e-04, 1.93704647e-04,\n",
              "       1.91532759e-04, 1.89995715e-04, 1.83807043e-04, 1.65117722e-04,\n",
              "       1.61228811e-04, 1.55528011e-04, 1.42680902e-04, 1.41851467e-04,\n",
              "       1.38402378e-04, 1.24534107e-04, 1.20468668e-04, 1.12382742e-04,\n",
              "       1.10482095e-04, 9.96406559e-05, 9.80615630e-05, 9.15034045e-05,\n",
              "       8.15005189e-05, 7.28096541e-05, 6.64592488e-05, 6.26750100e-05,\n",
              "       6.06143430e-05, 5.39967999e-05, 4.96557319e-05, 4.88018644e-05,\n",
              "       4.72906350e-05, 4.54659580e-05, 4.30123171e-05, 4.24454587e-05,\n",
              "       3.95683462e-05, 3.87766012e-05, 3.46499705e-05, 3.09117131e-05,\n",
              "       2.68081556e-05, 2.27105841e-05, 2.19710083e-05, 2.11884558e-05,\n",
              "       1.77269131e-05, 1.60011890e-05, 1.57239947e-05, 1.43178634e-05,\n",
              "       1.37119623e-05, 1.31630169e-05, 1.29560022e-05, 1.25806175e-05,\n",
              "       1.15757285e-05, 1.09755513e-05, 1.00015244e-05, 8.07959674e-06,\n",
              "       7.84356431e-06, 7.51273672e-06, 5.52126121e-06, 5.41949033e-06,\n",
              "       5.01988041e-06, 3.87005632e-06, 3.25623411e-06, 3.23011710e-06,\n",
              "       2.26303418e-06, 1.68159812e-06, 1.26379602e-06, 1.20345863e-06,\n",
              "       9.24985374e-07, 6.18908848e-07, 2.17279671e-07, 2.66892237e-08,\n",
              "       2.26543046e-24, 8.50627035e-25, 2.95085821e-25, 1.09037899e-30,\n",
              "       5.25869190e-31, 2.96355711e-32, 2.39756639e-32, 2.24199849e-32,\n",
              "       2.22102474e-32, 1.57203801e-32, 9.42228461e-33, 7.24443164e-33,\n",
              "       5.63119377e-33, 4.81774071e-33, 4.52599629e-33, 4.21654007e-33,\n",
              "       3.96986535e-33, 3.84979269e-33, 3.47772484e-33, 3.27338431e-33,\n",
              "       2.69922033e-33, 2.38663849e-33, 2.35645808e-33, 2.25006943e-33,\n",
              "       2.13626598e-33, 2.03071731e-33, 1.91225122e-33, 1.79119118e-33,\n",
              "       1.51545711e-33, 1.49438090e-33, 1.41992919e-33, 1.40409249e-33,\n",
              "       1.15768425e-33, 1.08275611e-33, 1.00157588e-33, 7.41792548e-34,\n",
              "       6.56018207e-34, 6.29396354e-34, 5.49001345e-34, 4.63117837e-34,\n",
              "       3.91303214e-34, 3.91303214e-34, 3.91303214e-34, 3.91303214e-34,\n",
              "       3.91303214e-34, 3.91303214e-34, 3.91303214e-34, 3.91303214e-34,\n",
              "       3.91303214e-34, 3.91303214e-34, 3.91303214e-34, 3.91303214e-34,\n",
              "       3.91303214e-34, 3.91303214e-34, 3.91303214e-34, 3.91303214e-34,\n",
              "       3.91303214e-34, 3.91303214e-34, 3.91303214e-34, 3.91303214e-34,\n",
              "       3.91303214e-34, 3.91303214e-34, 3.91303214e-34, 3.91303214e-34,\n",
              "       3.91303214e-34, 3.91303214e-34, 3.91303214e-34, 3.91303214e-34,\n",
              "       3.91303214e-34, 3.91303214e-34, 3.91303214e-34, 3.91303214e-34,\n",
              "       3.91303214e-34, 3.91303214e-34, 3.91303214e-34, 3.91303214e-34,\n",
              "       3.91303214e-34, 3.91303214e-34, 3.91303214e-34, 3.91303214e-34,\n",
              "       3.91303214e-34, 3.91303214e-34, 3.91303214e-34, 3.91303214e-34,\n",
              "       3.91303214e-34, 3.91303214e-34, 3.91303214e-34, 3.91303214e-34,\n",
              "       3.91303214e-34, 3.91303214e-34, 3.91303214e-34, 3.91303214e-34,\n",
              "       3.91303214e-34, 3.91303214e-34, 3.91303214e-34, 3.91303214e-34,\n",
              "       3.91303214e-34, 3.91303214e-34, 3.91303214e-34, 3.91303214e-34,\n",
              "       3.91303214e-34, 3.91303214e-34, 3.91303214e-34, 3.91303214e-34,\n",
              "       3.91303214e-34, 3.91303214e-34, 3.91303214e-34, 3.91303214e-34,\n",
              "       3.91303214e-34, 3.91303214e-34, 3.91303214e-34, 3.91303214e-34,\n",
              "       3.91303214e-34, 3.91303214e-34, 3.91303214e-34, 3.91303214e-34,\n",
              "       3.91303214e-34, 3.91303214e-34, 3.91303214e-34, 3.91303214e-34,\n",
              "       3.91303214e-34, 3.91303214e-34, 3.91303214e-34, 3.91303214e-34,\n",
              "       3.91303214e-34, 3.91303214e-34, 3.91303214e-34, 3.91303214e-34,\n",
              "       3.91303214e-34, 3.91303214e-34, 3.91303214e-34, 3.91303214e-34,\n",
              "       3.91303214e-34, 3.91303214e-34, 3.91303214e-34, 3.91303214e-34,\n",
              "       3.91303214e-34, 3.91303214e-34, 3.91303214e-34, 3.91303214e-34,\n",
              "       3.91303214e-34, 3.91303214e-34, 3.91303214e-34, 3.76245345e-34,\n",
              "       3.42526583e-34, 2.61732506e-34, 1.56508354e-34, 1.03578671e-34,\n",
              "       8.51315575e-35, 5.88016414e-35, 5.66480128e-35, 2.29737146e-35,\n",
              "       1.40167101e-36])"
            ]
          },
          "metadata": {},
          "execution_count": 27
        }
      ]
    },
    {
      "cell_type": "code",
      "metadata": {
        "colab": {
          "base_uri": "https://localhost:8080/"
        },
        "id": "5hNeKtVh-qiG",
        "outputId": "743ada08-651d-4df4-cc28-d745845b7738"
      },
      "source": [
        "np.sum(pca.explained_variance_ratio_)"
      ],
      "execution_count": 28,
      "outputs": [
        {
          "output_type": "execute_result",
          "data": {
            "text/plain": [
              "0.9999999999999999"
            ]
          },
          "metadata": {},
          "execution_count": 28
        }
      ]
    },
    {
      "cell_type": "markdown",
      "metadata": {
        "id": "srxZI3iCIlSr"
      },
      "source": [
        "Para uma melhor intuição, podemos plotar o \"poder explicativo\" das 10 principais dimensões (ou componentes)"
      ]
    },
    {
      "cell_type": "code",
      "metadata": {
        "id": "BGS11jnMDTWq"
      },
      "source": [
        "var_pca = pca.explained_variance_ratio_"
      ],
      "execution_count": 29,
      "outputs": []
    },
    {
      "cell_type": "code",
      "metadata": {
        "id": "a03KU2CqN0yR"
      },
      "source": [
        "first_10 = np.arange(1,11)"
      ],
      "execution_count": 30,
      "outputs": []
    },
    {
      "cell_type": "code",
      "metadata": {
        "colab": {
          "base_uri": "https://localhost:8080/",
          "height": 327
        },
        "id": "3iWZ_LtkOG95",
        "outputId": "e1351dcc-4faf-4dae-d066-12f69148eb0d"
      },
      "source": [
        "sns.barplot(x = first_10, y = var_pca[0:10])\n",
        "plt.title(\"Razão da variância explicada das 10 maiores componentes\\n\")\n",
        "plt.xlabel(\"Principais Componentes\")\n",
        "plt.ylabel(\"Razão da variância explicada\")"
      ],
      "execution_count": 31,
      "outputs": [
        {
          "output_type": "execute_result",
          "data": {
            "text/plain": [
              "Text(0, 0.5, 'Razão da variância explicada')"
            ]
          },
          "metadata": {},
          "execution_count": 31
        },
        {
          "output_type": "display_data",
          "data": {
            "image/png": "[encoded data removed]",
            "text/plain": [
              "<Figure size 432x288 with 1 Axes>"
            ]
          },
          "metadata": {
            "needs_background": "light"
          }
        }
      ]
    },
    {
      "cell_type": "markdown",
      "metadata": {
        "id": "3_fY0YRrI1gy"
      },
      "source": [
        "Com isso vemos que a componente 1 explica aproximadamente 9% da variância dos dados, a componente 2 explica 5 % e assim sucessivamente. O objetivo então, é manter o mínimo de componentes possível mas mantendo boa parte da explicação da variância"
      ]
    },
    {
      "cell_type": "code",
      "metadata": {
        "id": "MIhrSLVgOVA4"
      },
      "source": [
        "pc = np.arange(10,210,10)"
      ],
      "execution_count": 32,
      "outputs": []
    },
    {
      "cell_type": "code",
      "metadata": {
        "colab": {
          "base_uri": "https://localhost:8080/"
        },
        "id": "4HkcpA9NOebq",
        "outputId": "457ac221-f7d2-45d3-b5dc-d9308c901dd6"
      },
      "source": [
        "for i in pc:\n",
        "  print(\"Com as {} maiores componentes, capta-se cerca de {} % da variância dos dados\".format(i,np.round((var_pca[0:i].sum()*100),2)))"
      ],
      "execution_count": 33,
      "outputs": [
        {
          "output_type": "stream",
          "name": "stdout",
          "text": [
            "Com as 10 maiores componentes, capta-se cerca de 41.58 % da variância dos dados\n",
            "Com as 20 maiores componentes, capta-se cerca de 59.31 % da variância dos dados\n",
            "Com as 30 maiores componentes, capta-se cerca de 70.47 % da variância dos dados\n",
            "Com as 40 maiores componentes, capta-se cerca de 78.52 % da variância dos dados\n",
            "Com as 50 maiores componentes, capta-se cerca de 84.25 % da variância dos dados\n",
            "Com as 60 maiores componentes, capta-se cerca de 88.31 % da variância dos dados\n",
            "Com as 70 maiores componentes, capta-se cerca de 91.3 % da variância dos dados\n",
            "Com as 80 maiores componentes, capta-se cerca de 93.66 % da variância dos dados\n",
            "Com as 90 maiores componentes, capta-se cerca de 95.49 % da variância dos dados\n",
            "Com as 100 maiores componentes, capta-se cerca de 96.8 % da variância dos dados\n",
            "Com as 110 maiores componentes, capta-se cerca de 97.77 % da variância dos dados\n",
            "Com as 120 maiores componentes, capta-se cerca de 98.48 % da variância dos dados\n",
            "Com as 130 maiores componentes, capta-se cerca de 99.03 % da variância dos dados\n",
            "Com as 140 maiores componentes, capta-se cerca de 99.39 % da variância dos dados\n",
            "Com as 150 maiores componentes, capta-se cerca de 99.63 % da variância dos dados\n",
            "Com as 160 maiores componentes, capta-se cerca de 99.8 % da variância dos dados\n",
            "Com as 170 maiores componentes, capta-se cerca de 99.9 % da variância dos dados\n",
            "Com as 180 maiores componentes, capta-se cerca de 99.96 % da variância dos dados\n",
            "Com as 190 maiores componentes, capta-se cerca de 99.98 % da variância dos dados\n",
            "Com as 200 maiores componentes, capta-se cerca de 100.0 % da variância dos dados\n"
          ]
        }
      ]
    },
    {
      "cell_type": "markdown",
      "metadata": {
        "id": "IUCF02BtQult"
      },
      "source": [
        "Percebemos que o retorno marginal de 10 componentes a mais é cada vez menor, a fim de simplificar o máximo o conjunto de dados, podemos deixar apenas as 100 maiores componentes, que explicam aproximadamente 97% da variância dos dados.\n",
        "\n",
        "Então novamente fitamos o PCA, mas escolhendo 100 no argumento \"n_components\", dessa forma, todos os nossos dados serão representados em apenas 100 dimensões (tínhamos aproxidamente 370)"
      ]
    },
    {
      "cell_type": "code",
      "metadata": {
        "id": "76fWQyEIRKDZ"
      },
      "source": [
        "pca = PCA(n_components=100)"
      ],
      "execution_count": 34,
      "outputs": []
    },
    {
      "cell_type": "code",
      "metadata": {
        "id": "YgHWk2fwRO9r"
      },
      "source": [
        "x_pca_train = pca.fit_transform(x_train_scaled)\n",
        "x_pca_valid = pca.transform(x_valid_scaled)"
      ],
      "execution_count": 35,
      "outputs": []
    },
    {
      "cell_type": "code",
      "metadata": {
        "colab": {
          "base_uri": "https://localhost:8080/"
        },
        "id": "Yxl2F5L8RdCT",
        "outputId": "00cb1304-288b-4f71-c1f0-3200594b66cf"
      },
      "source": [
        "x_pca_train.shape, x_pca_valid.shape"
      ],
      "execution_count": 36,
      "outputs": [
        {
          "output_type": "execute_result",
          "data": {
            "text/plain": [
              "((53947, 100), (23121, 100))"
            ]
          },
          "metadata": {},
          "execution_count": 36
        }
      ]
    },
    {
      "cell_type": "code",
      "metadata": {
        "colab": {
          "base_uri": "https://localhost:8080/"
        },
        "id": "bi6I7gGMKMpM",
        "outputId": "f76fe3f6-bf1c-4006-8c78-3a30b12c86c4"
      },
      "source": [
        "x_pca_train"
      ],
      "execution_count": 37,
      "outputs": [
        {
          "output_type": "execute_result",
          "data": {
            "text/plain": [
              "array([[-2.62197823e+00, -1.27542195e+00,  1.81145379e-01, ...,\n",
              "        -2.96580777e-02,  9.62482379e-03, -6.02559378e-02],\n",
              "       [-2.57074433e+00, -1.24322105e+00,  1.80554242e-01, ...,\n",
              "        -1.58888836e-01, -1.35440576e-01,  6.48386604e-02],\n",
              "       [-2.61930427e+00, -1.26578516e+00,  1.79127338e-01, ...,\n",
              "        -3.74122449e-02,  1.98472968e-02, -4.30906553e-02],\n",
              "       ...,\n",
              "       [-1.72354096e+00, -3.96442415e-01,  4.46661343e-02, ...,\n",
              "         4.64074275e-01, -2.95808446e-02,  2.94374553e-01],\n",
              "       [-3.20819245e+00, -1.66590610e+00,  3.61546606e-01, ...,\n",
              "        -4.25371341e-02,  1.51626459e-02, -8.03507168e-02],\n",
              "       [-2.52231148e+00, -1.13513366e+00,  1.71116062e-01, ...,\n",
              "         3.85537721e-04,  1.34705971e-01, -1.89806429e-02]])"
            ]
          },
          "metadata": {},
          "execution_count": 37
        }
      ]
    },
    {
      "cell_type": "markdown",
      "metadata": {
        "id": "Mfygr6eWKUOj"
      },
      "source": [
        "Um ponto negativo da redução de dimensionalidade é que as variáveis restantes não posssuem mais interpretação lógica.\n",
        "\n",
        "Após todo esse processo, podemos enfim tentar prever o Churn. Os modelos que serão utilizados são a Regressão Logística e a Random Forest Classifier."
      ]
    },
    {
      "cell_type": "markdown",
      "metadata": {
        "id": "1p0ymq4dMt5V"
      },
      "source": [
        "#Modelo 1 - Regressão Logística"
      ]
    },
    {
      "cell_type": "code",
      "metadata": {
        "id": "IVwVPzO3W3fL"
      },
      "source": [
        "from sklearn.linear_model import LogisticRegression\n",
        "log = LogisticRegression()"
      ],
      "execution_count": 38,
      "outputs": []
    },
    {
      "cell_type": "code",
      "metadata": {
        "colab": {
          "base_uri": "https://localhost:8080/"
        },
        "id": "Fg2YQ8CjXaIK",
        "outputId": "34f1f131-d446-486d-d873-99c538bb54c4"
      },
      "source": [
        "log.fit(x_pca_train,y_train)"
      ],
      "execution_count": 39,
      "outputs": [
        {
          "output_type": "execute_result",
          "data": {
            "text/plain": [
              "LogisticRegression(C=1.0, class_weight=None, dual=False, fit_intercept=True,\n",
              "                   intercept_scaling=1, l1_ratio=None, max_iter=100,\n",
              "                   multi_class='auto', n_jobs=None, penalty='l2',\n",
              "                   random_state=None, solver='lbfgs', tol=0.0001, verbose=0,\n",
              "                   warm_start=False)"
            ]
          },
          "metadata": {},
          "execution_count": 39
        }
      ]
    },
    {
      "cell_type": "code",
      "metadata": {
        "id": "FJv_w8_XXc9W"
      },
      "source": [
        "y_predict_log = log.predict(x_pca_valid)"
      ],
      "execution_count": 40,
      "outputs": []
    },
    {
      "cell_type": "markdown",
      "metadata": {
        "id": "R0yK_IAQNUqh"
      },
      "source": [
        "Ao fitarmos e prevermos os valores para os dados de validação, devemos escolher por qual métrica iremos olhar o resultado. As que serão utilizadas nesse caso serão:\n",
        "\n",
        "Precisão (Precision score) - pode ser entendida como a pergunta \"Dos exemplos que foram classificados como positivo (Churn), quantos realmente são?\"\n",
        "\n",
        "Revocação (Recall score) - Pode ser entendida pela pergunta \"Dos exemplos positivos (Churn), quantos foram previstos?\"\n",
        "\n",
        "F1 (F1 score) - essa métrica é uma ponderação das anteriores, ela é especificamente definida como 2 * ((precisão * revocação)/(precisão + revocação))\n",
        "\n",
        "Todas essas métricas estão no intervalo entre 0 e 1, onde 0 indica que nosso modelo não acerta nenhuma previsão e 1 (100%) que ele acerta todas. No fim, desejamos um valor suficiente próximo de 1.\n",
        "\n"
      ]
    },
    {
      "cell_type": "code",
      "metadata": {
        "id": "QoSa0iCObpue"
      },
      "source": [
        "from sklearn.metrics import precision_score, recall_score, f1_score"
      ],
      "execution_count": 41,
      "outputs": []
    },
    {
      "cell_type": "code",
      "metadata": {
        "id": "sjTdLrhkyyfv"
      },
      "source": [
        "precision_log = precision_score(y_valid,y_predict_log)\n",
        "recall_log = recall_score(y_valid,y_predict_log)\n",
        "f1_log = f1_score(y_valid,y_predict_log)"
      ],
      "execution_count": 42,
      "outputs": []
    },
    {
      "cell_type": "markdown",
      "metadata": {
        "id": "jgwIXH-5M01n"
      },
      "source": [
        "#Modelo 2 - Random Forest Classifier"
      ]
    },
    {
      "cell_type": "code",
      "metadata": {
        "id": "bJOhcKhdXjjn"
      },
      "source": [
        "from sklearn.ensemble import RandomForestClassifier\n",
        "rfc = RandomForestClassifier()"
      ],
      "execution_count": 43,
      "outputs": []
    },
    {
      "cell_type": "code",
      "metadata": {
        "colab": {
          "base_uri": "https://localhost:8080/"
        },
        "id": "sDIQ9sSRRRLX",
        "outputId": "dae503bc-101f-4378-f46d-c9db674777c2"
      },
      "source": [
        "rfc.fit(x_pca_train,y_train)"
      ],
      "execution_count": 44,
      "outputs": [
        {
          "output_type": "execute_result",
          "data": {
            "text/plain": [
              "RandomForestClassifier(bootstrap=True, ccp_alpha=0.0, class_weight=None,\n",
              "                       criterion='gini', max_depth=None, max_features='auto',\n",
              "                       max_leaf_nodes=None, max_samples=None,\n",
              "                       min_impurity_decrease=0.0, min_impurity_split=None,\n",
              "                       min_samples_leaf=1, min_samples_split=2,\n",
              "                       min_weight_fraction_leaf=0.0, n_estimators=100,\n",
              "                       n_jobs=None, oob_score=False, random_state=None,\n",
              "                       verbose=0, warm_start=False)"
            ]
          },
          "metadata": {},
          "execution_count": 44
        }
      ]
    },
    {
      "cell_type": "code",
      "metadata": {
        "id": "mW4SmWsiaIvY"
      },
      "source": [
        "y_predict_rfc = rfc.predict(x_pca_valid)"
      ],
      "execution_count": 45,
      "outputs": []
    },
    {
      "cell_type": "code",
      "metadata": {
        "id": "K8ZV9bdn8X9I"
      },
      "source": [
        "precision_rfc = precision_score(y_valid,y_predict_rfc)\n",
        "recall_rfc = recall_score(y_valid,y_predict_rfc)\n",
        "f1_rfc = f1_score(y_valid,y_predict_rfc)"
      ],
      "execution_count": 46,
      "outputs": []
    },
    {
      "cell_type": "markdown",
      "metadata": {
        "id": "fnJ6EBI3M91G"
      },
      "source": [
        "#Resultados"
      ]
    },
    {
      "cell_type": "markdown",
      "metadata": {
        "id": "MMq5S5J9Qu_S"
      },
      "source": [
        "Enfim, podemos comparar o resultado dos 2 modelos:"
      ]
    },
    {
      "cell_type": "code",
      "metadata": {
        "colab": {
          "base_uri": "https://localhost:8080/"
        },
        "id": "EdhCcKaX8SLI",
        "outputId": "248cb2c1-1a8b-4e39-db94-79e28362ecf2"
      },
      "source": [
        "print(\"Resultados da Regressão Logística\\n\")\n",
        "print(\"Precision score:{}\".format(precision_log))\n",
        "print(\"Recall score:{}\".format(recall_log))\n",
        "print(\"F1 score:{}\\n\".format(f1_log))\n",
        "\n",
        "print(\"Resultados da Random Forest\\n\")\n",
        "print(\"Precision score:{}\".format(precision_rfc))\n",
        "print(\"Recall score:{}\".format(recall_rfc))\n",
        "print(\"F1 score:{}\".format(f1_rfc))"
      ],
      "execution_count": 47,
      "outputs": [
        {
          "output_type": "stream",
          "name": "stdout",
          "text": [
            "Resultados da Regressão Logística\n",
            "\n",
            "Precision score:0.6984262016163335\n",
            "Recall score:0.7475188928343804\n",
            "F1 score:0.7221391503210485\n",
            "\n",
            "Resultados da Random Forest\n",
            "\n",
            "Precision score:0.9194369849060098\n",
            "Recall score:0.9040335063279614\n",
            "F1 score:0.9116701863924341\n"
          ]
        }
      ]
    },
    {
      "cell_type": "markdown",
      "metadata": {
        "id": "VgeSeSvJQ3jh"
      },
      "source": [
        "Em todas as métricas observadas, os valores do algoritmo de Random Forest é maior que o de Regressão Logística, sugerindo que esse primeiro possui um maior poder preditivo.\n",
        "\n",
        "Finalmente iremos prever o Churn para os clientes dos dados de teste.\n",
        "\n",
        "Então, devemos transformar os dados da forma que fizemos com os dados de treino e de validação:"
      ]
    },
    {
      "cell_type": "code",
      "metadata": {
        "id": "iPtXO8tVkBJa"
      },
      "source": [
        "#Leitura dos dados\n",
        "x_test = pd.read_csv('test_santander.csv')\n",
        "\n",
        "#Substituição dos dados \"nulos\" por 0 e remoção da coluna 'ID\n",
        "x_test = x_test.replace(-999999,0)\n",
        "x_test = x_test.drop('ID', axis = 1)\n",
        "\n",
        "#Padronização e seleção das variáveis\n",
        "x_test_scaled = scaler.transform(x_test)\n",
        "x_pca_test = pca.transform(x_test_scaled)"
      ],
      "execution_count": 48,
      "outputs": []
    },
    {
      "cell_type": "code",
      "metadata": {
        "id": "CcuJ3zRTWmLO"
      },
      "source": [
        "#Predição\n",
        "y_test_predict = rfc.predict(x_pca_test)"
      ],
      "execution_count": 49,
      "outputs": []
    },
    {
      "cell_type": "code",
      "metadata": {
        "colab": {
          "base_uri": "https://localhost:8080/"
        },
        "id": "xtgJtdEyW0xw",
        "outputId": "129a5844-a6bc-40b5-d3fc-e5de82285a07"
      },
      "source": [
        "y_test_predict.shape"
      ],
      "execution_count": 50,
      "outputs": [
        {
          "output_type": "execute_result",
          "data": {
            "text/plain": [
              "(75818,)"
            ]
          },
          "metadata": {},
          "execution_count": 50
        }
      ]
    },
    {
      "cell_type": "code",
      "metadata": {
        "colab": {
          "base_uri": "https://localhost:8080/"
        },
        "id": "32St_8O4W6js",
        "outputId": "910ce3a6-92dc-4708-d612-9dcf375c4bb8"
      },
      "source": [
        "y_test_predict.sum()"
      ],
      "execution_count": 51,
      "outputs": [
        {
          "output_type": "execute_result",
          "data": {
            "text/plain": [
              "6006"
            ]
          },
          "metadata": {},
          "execution_count": 51
        }
      ]
    },
    {
      "cell_type": "markdown",
      "metadata": {
        "id": "pb6_bbhjSRa1"
      },
      "source": [
        "Pelo fato de não termos os reais resultados para os dados de teste, não temos como utilizar as métricas definidas anteriormente para o avaliarmos, mas, esperamos que os resultados sejam semelhantes aos dados de validação. Podemos observar que dos aproximadamente 76 mil valores previstos, 6 mil foram previstos como clientes de potencial Churn, ficando à cargo do setor de Marketing, a tentativa de evitar isso."
      ]
    }
  ]
}