{
  "nbformat": 4,
  "nbformat_minor": 0,
  "metadata": {
    "colab": {
      "name": "brazilian_houses_to_rent (aluguel).ipynb",
      "provenance": [],
      "collapsed_sections": [
        "PoXhnJgGhQ3I",
        "Q15VtImJhVbK",
        "ekxfa3rkDxg4"
      ],
      "authorship_tag": "ABX9TyPCkr6bdt3jvM6amAONFFB/",
      "include_colab_link": true
    },
    "kernelspec": {
      "name": "python3",
      "display_name": "Python 3"
    },
    "language_info": {
      "name": "python"
    }
  },
  "cells": [
    {
      "cell_type": "markdown",
      "metadata": {
        "id": "view-in-github",
        "colab_type": "text"
      },
      "source": [
        "<a href=\"https://colab.research.google.com/github/lazarovps/Data-Science/blob/main/brazilian_houses_to_rent_(aluguel).ipynb\" target=\"_parent\"><img src=\"https://colab.research.google.com/assets/colab-badge.svg\" alt=\"Open In Colab\"/></a>"
      ]
    },
    {
      "cell_type": "markdown",
      "metadata": {
        "id": "HOyRWvpAhIo5"
      },
      "source": [
        "##Prevendo valores de aluguel de apartamentos"
      ]
    },
    {
      "cell_type": "markdown",
      "metadata": {
        "id": "M0kgJtmoIx-O"
      },
      "source": [
        "Dado o amplo mercado imobiliário do país, pensou-se na possibilidade de união desse com Machine Learning, então, esse projeto visa prever os valores de aluguéis de apartamento em algumas regiões no país com base em algumas características desses. Outras aplicações de modelos semelhantes poderia ser para precificar os imóveis para a venda/financiamento."
      ]
    },
    {
      "cell_type": "markdown",
      "metadata": {
        "id": "PoXhnJgGhQ3I"
      },
      "source": [
        "#Importação de bibliotecas e dos dados"
      ]
    },
    {
      "cell_type": "code",
      "metadata": {
        "colab": {
          "base_uri": "https://localhost:8080/"
        },
        "id": "wYjPbulblkgG",
        "outputId": "672d9234-e80e-4616-b043-fb147b3d9ce5"
      },
      "source": [
        "import numpy as np\n",
        "import pandas as pd\n",
        "import matplotlib.pyplot as plt\n",
        "import seaborn as sns\n",
        "import warnings\n",
        "from google.colab import drive \n",
        "warnings.filterwarnings(\"ignore\")\n",
        "drive.mount('/content/drive')\n",
        "%cd /content/drive/My Drive/Python"
      ],
      "execution_count": 1,
      "outputs": [
        {
          "output_type": "stream",
          "name": "stdout",
          "text": [
            "Drive already mounted at /content/drive; to attempt to forcibly remount, call drive.mount(\"/content/drive\", force_remount=True).\n",
            "/content/drive/My Drive/Python\n"
          ]
        }
      ]
    },
    {
      "cell_type": "code",
      "metadata": {
        "id": "wZRaIjHAlpoX"
      },
      "source": [
        "base = pd.read_csv(\"houses_to_rent.csv\")"
      ],
      "execution_count": 2,
      "outputs": []
    },
    {
      "cell_type": "code",
      "metadata": {
        "colab": {
          "base_uri": "https://localhost:8080/",
          "height": 193
        },
        "id": "ZQl_89wkrYmU",
        "outputId": "d776ae05-a446-41cf-9e91-5ee2eda5dcea"
      },
      "source": [
        "base.head(3)"
      ],
      "execution_count": 3,
      "outputs": [
        {
          "output_type": "execute_result",
          "data": {
            "text/html": [
              "<div>\n",
              "<style scoped>\n",
              "    .dataframe tbody tr th:only-of-type {\n",
              "        vertical-align: middle;\n",
              "    }\n",
              "\n",
              "    .dataframe tbody tr th {\n",
              "        vertical-align: top;\n",
              "    }\n",
              "\n",
              "    .dataframe thead th {\n",
              "        text-align: right;\n",
              "    }\n",
              "</style>\n",
              "<table border=\"1\" class=\"dataframe\">\n",
              "  <thead>\n",
              "    <tr style=\"text-align: right;\">\n",
              "      <th></th>\n",
              "      <th>city</th>\n",
              "      <th>area</th>\n",
              "      <th>rooms</th>\n",
              "      <th>bathroom</th>\n",
              "      <th>parking spaces</th>\n",
              "      <th>floor</th>\n",
              "      <th>animal</th>\n",
              "      <th>furniture</th>\n",
              "      <th>hoa (R$)</th>\n",
              "      <th>rent amount (R$)</th>\n",
              "      <th>property tax (R$)</th>\n",
              "      <th>fire insurance (R$)</th>\n",
              "      <th>total (R$)</th>\n",
              "    </tr>\n",
              "  </thead>\n",
              "  <tbody>\n",
              "    <tr>\n",
              "      <th>0</th>\n",
              "      <td>São Paulo</td>\n",
              "      <td>70</td>\n",
              "      <td>2</td>\n",
              "      <td>1</td>\n",
              "      <td>1</td>\n",
              "      <td>7</td>\n",
              "      <td>acept</td>\n",
              "      <td>furnished</td>\n",
              "      <td>2065</td>\n",
              "      <td>3300</td>\n",
              "      <td>211</td>\n",
              "      <td>42</td>\n",
              "      <td>5618</td>\n",
              "    </tr>\n",
              "    <tr>\n",
              "      <th>1</th>\n",
              "      <td>São Paulo</td>\n",
              "      <td>320</td>\n",
              "      <td>4</td>\n",
              "      <td>4</td>\n",
              "      <td>0</td>\n",
              "      <td>20</td>\n",
              "      <td>acept</td>\n",
              "      <td>not furnished</td>\n",
              "      <td>1200</td>\n",
              "      <td>4960</td>\n",
              "      <td>1750</td>\n",
              "      <td>63</td>\n",
              "      <td>7973</td>\n",
              "    </tr>\n",
              "    <tr>\n",
              "      <th>2</th>\n",
              "      <td>Porto Alegre</td>\n",
              "      <td>80</td>\n",
              "      <td>1</td>\n",
              "      <td>1</td>\n",
              "      <td>1</td>\n",
              "      <td>6</td>\n",
              "      <td>acept</td>\n",
              "      <td>not furnished</td>\n",
              "      <td>1000</td>\n",
              "      <td>2800</td>\n",
              "      <td>0</td>\n",
              "      <td>41</td>\n",
              "      <td>3841</td>\n",
              "    </tr>\n",
              "  </tbody>\n",
              "</table>\n",
              "</div>"
            ],
            "text/plain": [
              "           city  area  ...  fire insurance (R$)  total (R$)\n",
              "0     São Paulo    70  ...                   42        5618\n",
              "1     São Paulo   320  ...                   63        7973\n",
              "2  Porto Alegre    80  ...                   41        3841\n",
              "\n",
              "[3 rows x 13 columns]"
            ]
          },
          "metadata": {},
          "execution_count": 3
        }
      ]
    },
    {
      "cell_type": "code",
      "metadata": {
        "colab": {
          "base_uri": "https://localhost:8080/"
        },
        "id": "kAjfulzSTg-4",
        "outputId": "cde3a64a-504c-4917-adb8-409ab7e35ccd"
      },
      "source": [
        "base.shape"
      ],
      "execution_count": 4,
      "outputs": [
        {
          "output_type": "execute_result",
          "data": {
            "text/plain": [
              "(10692, 13)"
            ]
          },
          "metadata": {},
          "execution_count": 4
        }
      ]
    },
    {
      "cell_type": "code",
      "metadata": {
        "id": "cdpZci53rrmS"
      },
      "source": [
        "#Antes de iniciarmos o tratamento e manipulação dos dados, vamos renomear as colunas para facilitar na hora de referenciar\n",
        "base.columns = ['cidade', 'area','quartos', 'banheiros', 'vagas_garagem','andar','aceita_pet','mobilia','condominio','aluguel','iptu','seguro_incendio','total']"
      ],
      "execution_count": 5,
      "outputs": []
    },
    {
      "cell_type": "code",
      "metadata": {
        "colab": {
          "base_uri": "https://localhost:8080/",
          "height": 142
        },
        "id": "A_2nesxNtNjf",
        "outputId": "92913dbd-b172-41e9-fc93-d403d814cb70"
      },
      "source": [
        "base.head(3)"
      ],
      "execution_count": 6,
      "outputs": [
        {
          "output_type": "execute_result",
          "data": {
            "text/html": [
              "<div>\n",
              "<style scoped>\n",
              "    .dataframe tbody tr th:only-of-type {\n",
              "        vertical-align: middle;\n",
              "    }\n",
              "\n",
              "    .dataframe tbody tr th {\n",
              "        vertical-align: top;\n",
              "    }\n",
              "\n",
              "    .dataframe thead th {\n",
              "        text-align: right;\n",
              "    }\n",
              "</style>\n",
              "<table border=\"1\" class=\"dataframe\">\n",
              "  <thead>\n",
              "    <tr style=\"text-align: right;\">\n",
              "      <th></th>\n",
              "      <th>cidade</th>\n",
              "      <th>area</th>\n",
              "      <th>quartos</th>\n",
              "      <th>banheiros</th>\n",
              "      <th>vagas_garagem</th>\n",
              "      <th>andar</th>\n",
              "      <th>aceita_pet</th>\n",
              "      <th>mobilia</th>\n",
              "      <th>condominio</th>\n",
              "      <th>aluguel</th>\n",
              "      <th>iptu</th>\n",
              "      <th>seguro_incendio</th>\n",
              "      <th>total</th>\n",
              "    </tr>\n",
              "  </thead>\n",
              "  <tbody>\n",
              "    <tr>\n",
              "      <th>0</th>\n",
              "      <td>São Paulo</td>\n",
              "      <td>70</td>\n",
              "      <td>2</td>\n",
              "      <td>1</td>\n",
              "      <td>1</td>\n",
              "      <td>7</td>\n",
              "      <td>acept</td>\n",
              "      <td>furnished</td>\n",
              "      <td>2065</td>\n",
              "      <td>3300</td>\n",
              "      <td>211</td>\n",
              "      <td>42</td>\n",
              "      <td>5618</td>\n",
              "    </tr>\n",
              "    <tr>\n",
              "      <th>1</th>\n",
              "      <td>São Paulo</td>\n",
              "      <td>320</td>\n",
              "      <td>4</td>\n",
              "      <td>4</td>\n",
              "      <td>0</td>\n",
              "      <td>20</td>\n",
              "      <td>acept</td>\n",
              "      <td>not furnished</td>\n",
              "      <td>1200</td>\n",
              "      <td>4960</td>\n",
              "      <td>1750</td>\n",
              "      <td>63</td>\n",
              "      <td>7973</td>\n",
              "    </tr>\n",
              "    <tr>\n",
              "      <th>2</th>\n",
              "      <td>Porto Alegre</td>\n",
              "      <td>80</td>\n",
              "      <td>1</td>\n",
              "      <td>1</td>\n",
              "      <td>1</td>\n",
              "      <td>6</td>\n",
              "      <td>acept</td>\n",
              "      <td>not furnished</td>\n",
              "      <td>1000</td>\n",
              "      <td>2800</td>\n",
              "      <td>0</td>\n",
              "      <td>41</td>\n",
              "      <td>3841</td>\n",
              "    </tr>\n",
              "  </tbody>\n",
              "</table>\n",
              "</div>"
            ],
            "text/plain": [
              "         cidade  area  quartos  ...  iptu  seguro_incendio total\n",
              "0     São Paulo    70        2  ...   211               42  5618\n",
              "1     São Paulo   320        4  ...  1750               63  7973\n",
              "2  Porto Alegre    80        1  ...     0               41  3841\n",
              "\n",
              "[3 rows x 13 columns]"
            ]
          },
          "metadata": {},
          "execution_count": 6
        }
      ]
    },
    {
      "cell_type": "code",
      "metadata": {
        "id": "k57pXldIH-DB"
      },
      "source": [
        "#Pelo fato de 'total' ser a soma de todas as outras variáveis monetárias (condominio, aluguel, iptu e seguro) ela será descartada\n",
        "base.drop('total', axis = 1, inplace = True)"
      ],
      "execution_count": 7,
      "outputs": []
    },
    {
      "cell_type": "markdown",
      "metadata": {
        "id": "Q15VtImJhVbK"
      },
      "source": [
        "#Análise exploratória"
      ]
    },
    {
      "cell_type": "code",
      "metadata": {
        "colab": {
          "base_uri": "https://localhost:8080/",
          "height": 142
        },
        "id": "CyEJla4Jt2Id",
        "outputId": "964a329a-3616-4de5-b1c3-8b5024c33c4b"
      },
      "source": [
        "base.head(3)"
      ],
      "execution_count": 8,
      "outputs": [
        {
          "output_type": "execute_result",
          "data": {
            "text/html": [
              "<div>\n",
              "<style scoped>\n",
              "    .dataframe tbody tr th:only-of-type {\n",
              "        vertical-align: middle;\n",
              "    }\n",
              "\n",
              "    .dataframe tbody tr th {\n",
              "        vertical-align: top;\n",
              "    }\n",
              "\n",
              "    .dataframe thead th {\n",
              "        text-align: right;\n",
              "    }\n",
              "</style>\n",
              "<table border=\"1\" class=\"dataframe\">\n",
              "  <thead>\n",
              "    <tr style=\"text-align: right;\">\n",
              "      <th></th>\n",
              "      <th>cidade</th>\n",
              "      <th>area</th>\n",
              "      <th>quartos</th>\n",
              "      <th>banheiros</th>\n",
              "      <th>vagas_garagem</th>\n",
              "      <th>andar</th>\n",
              "      <th>aceita_pet</th>\n",
              "      <th>mobilia</th>\n",
              "      <th>condominio</th>\n",
              "      <th>aluguel</th>\n",
              "      <th>iptu</th>\n",
              "      <th>seguro_incendio</th>\n",
              "    </tr>\n",
              "  </thead>\n",
              "  <tbody>\n",
              "    <tr>\n",
              "      <th>0</th>\n",
              "      <td>São Paulo</td>\n",
              "      <td>70</td>\n",
              "      <td>2</td>\n",
              "      <td>1</td>\n",
              "      <td>1</td>\n",
              "      <td>7</td>\n",
              "      <td>acept</td>\n",
              "      <td>furnished</td>\n",
              "      <td>2065</td>\n",
              "      <td>3300</td>\n",
              "      <td>211</td>\n",
              "      <td>42</td>\n",
              "    </tr>\n",
              "    <tr>\n",
              "      <th>1</th>\n",
              "      <td>São Paulo</td>\n",
              "      <td>320</td>\n",
              "      <td>4</td>\n",
              "      <td>4</td>\n",
              "      <td>0</td>\n",
              "      <td>20</td>\n",
              "      <td>acept</td>\n",
              "      <td>not furnished</td>\n",
              "      <td>1200</td>\n",
              "      <td>4960</td>\n",
              "      <td>1750</td>\n",
              "      <td>63</td>\n",
              "    </tr>\n",
              "    <tr>\n",
              "      <th>2</th>\n",
              "      <td>Porto Alegre</td>\n",
              "      <td>80</td>\n",
              "      <td>1</td>\n",
              "      <td>1</td>\n",
              "      <td>1</td>\n",
              "      <td>6</td>\n",
              "      <td>acept</td>\n",
              "      <td>not furnished</td>\n",
              "      <td>1000</td>\n",
              "      <td>2800</td>\n",
              "      <td>0</td>\n",
              "      <td>41</td>\n",
              "    </tr>\n",
              "  </tbody>\n",
              "</table>\n",
              "</div>"
            ],
            "text/plain": [
              "         cidade  area  quartos  ...  aluguel  iptu seguro_incendio\n",
              "0     São Paulo    70        2  ...     3300   211              42\n",
              "1     São Paulo   320        4  ...     4960  1750              63\n",
              "2  Porto Alegre    80        1  ...     2800     0              41\n",
              "\n",
              "[3 rows x 12 columns]"
            ]
          },
          "metadata": {},
          "execution_count": 8
        }
      ]
    },
    {
      "cell_type": "code",
      "metadata": {
        "id": "lFVEVrEOsUCl"
      },
      "source": [
        "#Reordenando as colunas\n",
        "base = base.reindex(columns = ['cidade','aceita_pet','mobilia','area','andar','condominio','quartos','banheiros','vagas_garagem','iptu','seguro_incendio','aluguel'])"
      ],
      "execution_count": 9,
      "outputs": []
    },
    {
      "cell_type": "code",
      "metadata": {
        "colab": {
          "base_uri": "https://localhost:8080/"
        },
        "id": "hrpgkeYtt9gd",
        "outputId": "8cbc9866-7cf8-480d-b35d-ef9d6a17d994"
      },
      "source": [
        "#Verificando o tipo e se há valores nulos nos dados\n",
        "base.info()"
      ],
      "execution_count": 10,
      "outputs": [
        {
          "output_type": "stream",
          "name": "stdout",
          "text": [
            "<class 'pandas.core.frame.DataFrame'>\n",
            "RangeIndex: 10692 entries, 0 to 10691\n",
            "Data columns (total 12 columns):\n",
            " #   Column           Non-Null Count  Dtype \n",
            "---  ------           --------------  ----- \n",
            " 0   cidade           10692 non-null  object\n",
            " 1   aceita_pet       10692 non-null  object\n",
            " 2   mobilia          10692 non-null  object\n",
            " 3   area             10692 non-null  int64 \n",
            " 4   andar            10692 non-null  object\n",
            " 5   condominio       10692 non-null  int64 \n",
            " 6   quartos          10692 non-null  int64 \n",
            " 7   banheiros        10692 non-null  int64 \n",
            " 8   vagas_garagem    10692 non-null  int64 \n",
            " 9   iptu             10692 non-null  int64 \n",
            " 10  seguro_incendio  10692 non-null  int64 \n",
            " 11  aluguel          10692 non-null  int64 \n",
            "dtypes: int64(8), object(4)\n",
            "memory usage: 1002.5+ KB\n"
          ]
        }
      ]
    },
    {
      "cell_type": "code",
      "metadata": {
        "colab": {
          "base_uri": "https://localhost:8080/",
          "height": 297
        },
        "id": "pT7oFLapt6L6",
        "outputId": "90ebb1e1-7759-485d-b438-ac595f625613"
      },
      "source": [
        "#Verificando a estatística descritiva das variáveis numéricas\n",
        "base.describe().T"
      ],
      "execution_count": 11,
      "outputs": [
        {
          "output_type": "execute_result",
          "data": {
            "text/html": [
              "<div>\n",
              "<style scoped>\n",
              "    .dataframe tbody tr th:only-of-type {\n",
              "        vertical-align: middle;\n",
              "    }\n",
              "\n",
              "    .dataframe tbody tr th {\n",
              "        vertical-align: top;\n",
              "    }\n",
              "\n",
              "    .dataframe thead th {\n",
              "        text-align: right;\n",
              "    }\n",
              "</style>\n",
              "<table border=\"1\" class=\"dataframe\">\n",
              "  <thead>\n",
              "    <tr style=\"text-align: right;\">\n",
              "      <th></th>\n",
              "      <th>count</th>\n",
              "      <th>mean</th>\n",
              "      <th>std</th>\n",
              "      <th>min</th>\n",
              "      <th>25%</th>\n",
              "      <th>50%</th>\n",
              "      <th>75%</th>\n",
              "      <th>max</th>\n",
              "    </tr>\n",
              "  </thead>\n",
              "  <tbody>\n",
              "    <tr>\n",
              "      <th>area</th>\n",
              "      <td>10692.0</td>\n",
              "      <td>149.217920</td>\n",
              "      <td>537.016942</td>\n",
              "      <td>11.0</td>\n",
              "      <td>56.0</td>\n",
              "      <td>90.0</td>\n",
              "      <td>182.0</td>\n",
              "      <td>46335.0</td>\n",
              "    </tr>\n",
              "    <tr>\n",
              "      <th>condominio</th>\n",
              "      <td>10692.0</td>\n",
              "      <td>1174.021698</td>\n",
              "      <td>15592.305248</td>\n",
              "      <td>0.0</td>\n",
              "      <td>170.0</td>\n",
              "      <td>560.0</td>\n",
              "      <td>1237.5</td>\n",
              "      <td>1117000.0</td>\n",
              "    </tr>\n",
              "    <tr>\n",
              "      <th>quartos</th>\n",
              "      <td>10692.0</td>\n",
              "      <td>2.506079</td>\n",
              "      <td>1.171266</td>\n",
              "      <td>1.0</td>\n",
              "      <td>2.0</td>\n",
              "      <td>2.0</td>\n",
              "      <td>3.0</td>\n",
              "      <td>13.0</td>\n",
              "    </tr>\n",
              "    <tr>\n",
              "      <th>banheiros</th>\n",
              "      <td>10692.0</td>\n",
              "      <td>2.236813</td>\n",
              "      <td>1.407198</td>\n",
              "      <td>1.0</td>\n",
              "      <td>1.0</td>\n",
              "      <td>2.0</td>\n",
              "      <td>3.0</td>\n",
              "      <td>10.0</td>\n",
              "    </tr>\n",
              "    <tr>\n",
              "      <th>vagas_garagem</th>\n",
              "      <td>10692.0</td>\n",
              "      <td>1.609147</td>\n",
              "      <td>1.589521</td>\n",
              "      <td>0.0</td>\n",
              "      <td>0.0</td>\n",
              "      <td>1.0</td>\n",
              "      <td>2.0</td>\n",
              "      <td>12.0</td>\n",
              "    </tr>\n",
              "    <tr>\n",
              "      <th>iptu</th>\n",
              "      <td>10692.0</td>\n",
              "      <td>366.704358</td>\n",
              "      <td>3107.832321</td>\n",
              "      <td>0.0</td>\n",
              "      <td>38.0</td>\n",
              "      <td>125.0</td>\n",
              "      <td>375.0</td>\n",
              "      <td>313700.0</td>\n",
              "    </tr>\n",
              "    <tr>\n",
              "      <th>seguro_incendio</th>\n",
              "      <td>10692.0</td>\n",
              "      <td>53.300879</td>\n",
              "      <td>47.768031</td>\n",
              "      <td>3.0</td>\n",
              "      <td>21.0</td>\n",
              "      <td>36.0</td>\n",
              "      <td>68.0</td>\n",
              "      <td>677.0</td>\n",
              "    </tr>\n",
              "    <tr>\n",
              "      <th>aluguel</th>\n",
              "      <td>10692.0</td>\n",
              "      <td>3896.247194</td>\n",
              "      <td>3408.545518</td>\n",
              "      <td>450.0</td>\n",
              "      <td>1530.0</td>\n",
              "      <td>2661.0</td>\n",
              "      <td>5000.0</td>\n",
              "      <td>45000.0</td>\n",
              "    </tr>\n",
              "  </tbody>\n",
              "</table>\n",
              "</div>"
            ],
            "text/plain": [
              "                   count         mean           std  ...     50%     75%        max\n",
              "area             10692.0   149.217920    537.016942  ...    90.0   182.0    46335.0\n",
              "condominio       10692.0  1174.021698  15592.305248  ...   560.0  1237.5  1117000.0\n",
              "quartos          10692.0     2.506079      1.171266  ...     2.0     3.0       13.0\n",
              "banheiros        10692.0     2.236813      1.407198  ...     2.0     3.0       10.0\n",
              "vagas_garagem    10692.0     1.609147      1.589521  ...     1.0     2.0       12.0\n",
              "iptu             10692.0   366.704358   3107.832321  ...   125.0   375.0   313700.0\n",
              "seguro_incendio  10692.0    53.300879     47.768031  ...    36.0    68.0      677.0\n",
              "aluguel          10692.0  3896.247194   3408.545518  ...  2661.0  5000.0    45000.0\n",
              "\n",
              "[8 rows x 8 columns]"
            ]
          },
          "metadata": {},
          "execution_count": 11
        }
      ]
    },
    {
      "cell_type": "code",
      "metadata": {
        "colab": {
          "base_uri": "https://localhost:8080/",
          "height": 269
        },
        "id": "UU3-R344Rcez",
        "outputId": "7f1e8652-21be-4535-8576-860482680b44"
      },
      "source": [
        "#Verificando a distribuição dos valores de 'aluguel'\n",
        "sns.boxplot(y = 'aluguel', data = base)"
      ],
      "execution_count": 12,
      "outputs": [
        {
          "output_type": "execute_result",
          "data": {
            "text/plain": [
              "<matplotlib.axes._subplots.AxesSubplot at 0x7f5c77b13b10>"
            ]
          },
          "metadata": {},
          "execution_count": 12
        },
        {
          "output_type": "display_data",
          "data": {
            "image/png": "[encoded data removed]",
            "text/plain": [
              "<Figure size 432x288 with 1 Axes>"
            ]
          },
          "metadata": {
            "needs_background": "light"
          }
        }
      ]
    },
    {
      "cell_type": "markdown",
      "metadata": {
        "id": "G_r1R8Y9h4_H"
      },
      "source": [
        "Ao olharmos para a variável alvo em um boxplot, podemos facilmente verificar os valores que são atípicos (outliers), para que o nosso modelo possa aprender corretamente é interessante eliminarmos esses valores discrepantes.\n",
        "\n",
        "Faremos isso por meio do *Z score*. Seja Z~(0,1), cada observação possuirá um valor z calculado.\n",
        "\n",
        "Um valor será considerado outlier se |z_calc|> 3  \n",
        "De outra forma, um valor é outlier se ele estiver há uma distância de mais de 3 desvios padrões da média."
      ]
    },
    {
      "cell_type": "code",
      "metadata": {
        "id": "QsQmUMSaSTcv"
      },
      "source": [
        "#Importando a biblioteca necessária para o cálculo do Z score\n",
        "from scipy import stats"
      ],
      "execution_count": 13,
      "outputs": []
    },
    {
      "cell_type": "code",
      "metadata": {
        "id": "GudRhIrWSVBL"
      },
      "source": [
        "#Criamos uma coluna no dataset com o valor Z calculado para cada uma das observações\n",
        "base['z_score'] = np.abs(stats.zscore(base['aluguel']))"
      ],
      "execution_count": 14,
      "outputs": []
    },
    {
      "cell_type": "code",
      "metadata": {
        "colab": {
          "base_uri": "https://localhost:8080/",
          "height": 419
        },
        "id": "rcu42zsok9r_",
        "outputId": "c30c27e5-e210-422b-fb81-fcc86de1abbc"
      },
      "source": [
        "#Verificando os valores outliers\n",
        "base[base['z_score'] > 3]"
      ],
      "execution_count": 15,
      "outputs": [
        {
          "output_type": "execute_result",
          "data": {
            "text/html": [
              "<div>\n",
              "<style scoped>\n",
              "    .dataframe tbody tr th:only-of-type {\n",
              "        vertical-align: middle;\n",
              "    }\n",
              "\n",
              "    .dataframe tbody tr th {\n",
              "        vertical-align: top;\n",
              "    }\n",
              "\n",
              "    .dataframe thead th {\n",
              "        text-align: right;\n",
              "    }\n",
              "</style>\n",
              "<table border=\"1\" class=\"dataframe\">\n",
              "  <thead>\n",
              "    <tr style=\"text-align: right;\">\n",
              "      <th></th>\n",
              "      <th>cidade</th>\n",
              "      <th>aceita_pet</th>\n",
              "      <th>mobilia</th>\n",
              "      <th>area</th>\n",
              "      <th>andar</th>\n",
              "      <th>condominio</th>\n",
              "      <th>quartos</th>\n",
              "      <th>banheiros</th>\n",
              "      <th>vagas_garagem</th>\n",
              "      <th>iptu</th>\n",
              "      <th>seguro_incendio</th>\n",
              "      <th>aluguel</th>\n",
              "      <th>z_score</th>\n",
              "    </tr>\n",
              "  </thead>\n",
              "  <tbody>\n",
              "    <tr>\n",
              "      <th>8</th>\n",
              "      <td>São Paulo</td>\n",
              "      <td>acept</td>\n",
              "      <td>furnished</td>\n",
              "      <td>152</td>\n",
              "      <td>3</td>\n",
              "      <td>1000</td>\n",
              "      <td>2</td>\n",
              "      <td>2</td>\n",
              "      <td>1</td>\n",
              "      <td>250</td>\n",
              "      <td>191</td>\n",
              "      <td>15000</td>\n",
              "      <td>3.257774</td>\n",
              "    </tr>\n",
              "    <tr>\n",
              "      <th>131</th>\n",
              "      <td>São Paulo</td>\n",
              "      <td>acept</td>\n",
              "      <td>not furnished</td>\n",
              "      <td>900</td>\n",
              "      <td>-</td>\n",
              "      <td>0</td>\n",
              "      <td>4</td>\n",
              "      <td>6</td>\n",
              "      <td>8</td>\n",
              "      <td>4417</td>\n",
              "      <td>226</td>\n",
              "      <td>15000</td>\n",
              "      <td>3.257774</td>\n",
              "    </tr>\n",
              "    <tr>\n",
              "      <th>157</th>\n",
              "      <td>São Paulo</td>\n",
              "      <td>acept</td>\n",
              "      <td>furnished</td>\n",
              "      <td>660</td>\n",
              "      <td>12</td>\n",
              "      <td>4800</td>\n",
              "      <td>4</td>\n",
              "      <td>5</td>\n",
              "      <td>5</td>\n",
              "      <td>1750</td>\n",
              "      <td>254</td>\n",
              "      <td>20000</td>\n",
              "      <td>4.724744</td>\n",
              "    </tr>\n",
              "    <tr>\n",
              "      <th>176</th>\n",
              "      <td>São Paulo</td>\n",
              "      <td>acept</td>\n",
              "      <td>not furnished</td>\n",
              "      <td>500</td>\n",
              "      <td>-</td>\n",
              "      <td>0</td>\n",
              "      <td>4</td>\n",
              "      <td>5</td>\n",
              "      <td>8</td>\n",
              "      <td>1850</td>\n",
              "      <td>226</td>\n",
              "      <td>15000</td>\n",
              "      <td>3.257774</td>\n",
              "    </tr>\n",
              "    <tr>\n",
              "      <th>180</th>\n",
              "      <td>São Paulo</td>\n",
              "      <td>not acept</td>\n",
              "      <td>furnished</td>\n",
              "      <td>384</td>\n",
              "      <td>3</td>\n",
              "      <td>3500</td>\n",
              "      <td>4</td>\n",
              "      <td>6</td>\n",
              "      <td>4</td>\n",
              "      <td>344</td>\n",
              "      <td>191</td>\n",
              "      <td>15000</td>\n",
              "      <td>3.257774</td>\n",
              "    </tr>\n",
              "    <tr>\n",
              "      <th>...</th>\n",
              "      <td>...</td>\n",
              "      <td>...</td>\n",
              "      <td>...</td>\n",
              "      <td>...</td>\n",
              "      <td>...</td>\n",
              "      <td>...</td>\n",
              "      <td>...</td>\n",
              "      <td>...</td>\n",
              "      <td>...</td>\n",
              "      <td>...</td>\n",
              "      <td>...</td>\n",
              "      <td>...</td>\n",
              "      <td>...</td>\n",
              "    </tr>\n",
              "    <tr>\n",
              "      <th>10581</th>\n",
              "      <td>São Paulo</td>\n",
              "      <td>acept</td>\n",
              "      <td>furnished</td>\n",
              "      <td>350</td>\n",
              "      <td>2</td>\n",
              "      <td>5000</td>\n",
              "      <td>4</td>\n",
              "      <td>5</td>\n",
              "      <td>4</td>\n",
              "      <td>0</td>\n",
              "      <td>191</td>\n",
              "      <td>15000</td>\n",
              "      <td>3.257774</td>\n",
              "    </tr>\n",
              "    <tr>\n",
              "      <th>10583</th>\n",
              "      <td>São Paulo</td>\n",
              "      <td>not acept</td>\n",
              "      <td>furnished</td>\n",
              "      <td>431</td>\n",
              "      <td>8</td>\n",
              "      <td>6200</td>\n",
              "      <td>3</td>\n",
              "      <td>3</td>\n",
              "      <td>2</td>\n",
              "      <td>1370</td>\n",
              "      <td>191</td>\n",
              "      <td>15000</td>\n",
              "      <td>3.257774</td>\n",
              "    </tr>\n",
              "    <tr>\n",
              "      <th>10620</th>\n",
              "      <td>Rio de Janeiro</td>\n",
              "      <td>acept</td>\n",
              "      <td>not furnished</td>\n",
              "      <td>400</td>\n",
              "      <td>-</td>\n",
              "      <td>2000</td>\n",
              "      <td>4</td>\n",
              "      <td>4</td>\n",
              "      <td>2</td>\n",
              "      <td>917</td>\n",
              "      <td>229</td>\n",
              "      <td>15000</td>\n",
              "      <td>3.257774</td>\n",
              "    </tr>\n",
              "    <tr>\n",
              "      <th>10633</th>\n",
              "      <td>Rio de Janeiro</td>\n",
              "      <td>acept</td>\n",
              "      <td>not furnished</td>\n",
              "      <td>290</td>\n",
              "      <td>-</td>\n",
              "      <td>0</td>\n",
              "      <td>4</td>\n",
              "      <td>4</td>\n",
              "      <td>0</td>\n",
              "      <td>750</td>\n",
              "      <td>229</td>\n",
              "      <td>15000</td>\n",
              "      <td>3.257774</td>\n",
              "    </tr>\n",
              "    <tr>\n",
              "      <th>10688</th>\n",
              "      <td>São Paulo</td>\n",
              "      <td>acept</td>\n",
              "      <td>not furnished</td>\n",
              "      <td>285</td>\n",
              "      <td>17</td>\n",
              "      <td>3100</td>\n",
              "      <td>4</td>\n",
              "      <td>4</td>\n",
              "      <td>4</td>\n",
              "      <td>973</td>\n",
              "      <td>191</td>\n",
              "      <td>15000</td>\n",
              "      <td>3.257774</td>\n",
              "    </tr>\n",
              "  </tbody>\n",
              "</table>\n",
              "<p>256 rows × 13 columns</p>\n",
              "</div>"
            ],
            "text/plain": [
              "               cidade aceita_pet  ... aluguel   z_score\n",
              "8           São Paulo      acept  ...   15000  3.257774\n",
              "131         São Paulo      acept  ...   15000  3.257774\n",
              "157         São Paulo      acept  ...   20000  4.724744\n",
              "176         São Paulo      acept  ...   15000  3.257774\n",
              "180         São Paulo  not acept  ...   15000  3.257774\n",
              "...               ...        ...  ...     ...       ...\n",
              "10581       São Paulo      acept  ...   15000  3.257774\n",
              "10583       São Paulo  not acept  ...   15000  3.257774\n",
              "10620  Rio de Janeiro      acept  ...   15000  3.257774\n",
              "10633  Rio de Janeiro      acept  ...   15000  3.257774\n",
              "10688       São Paulo      acept  ...   15000  3.257774\n",
              "\n",
              "[256 rows x 13 columns]"
            ]
          },
          "metadata": {},
          "execution_count": 15
        }
      ]
    },
    {
      "cell_type": "code",
      "metadata": {
        "colab": {
          "base_uri": "https://localhost:8080/"
        },
        "id": "qGoYcbx7lp06",
        "outputId": "1965a02d-e441-4ee8-8b6a-f5226314d0c0"
      },
      "source": [
        "base['aluguel'].max(), base['z_score'].max()"
      ],
      "execution_count": 16,
      "outputs": [
        {
          "output_type": "execute_result",
          "data": {
            "text/plain": [
              "(45000, 12.059594011822531)"
            ]
          },
          "metadata": {},
          "execution_count": 16
        }
      ]
    },
    {
      "cell_type": "code",
      "metadata": {
        "id": "M6IJO924TPVr"
      },
      "source": [
        "#O maior aluguel da nossa lista é de 45 mil reais e está há 12 desvios padrões da média.\n",
        "\n",
        "#Eliminando os outliers\n",
        "base = base[base['z_score']< 3]"
      ],
      "execution_count": 17,
      "outputs": []
    },
    {
      "cell_type": "code",
      "metadata": {
        "colab": {
          "base_uri": "https://localhost:8080/",
          "height": 269
        },
        "id": "3xA3OQccaQLa",
        "outputId": "e56c84a6-4dd0-48f2-910c-e70212052c87"
      },
      "source": [
        "sns.boxplot(y = 'aluguel', data = base)"
      ],
      "execution_count": 18,
      "outputs": [
        {
          "output_type": "execute_result",
          "data": {
            "text/plain": [
              "<matplotlib.axes._subplots.AxesSubplot at 0x7f5c763063d0>"
            ]
          },
          "metadata": {},
          "execution_count": 18
        },
        {
          "output_type": "display_data",
          "data": {
            "image/png": "[encoded data removed]",
            "text/plain": [
              "<Figure size 432x288 with 1 Axes>"
            ]
          },
          "metadata": {
            "needs_background": "light"
          }
        }
      ]
    },
    {
      "cell_type": "code",
      "metadata": {
        "colab": {
          "base_uri": "https://localhost:8080/"
        },
        "id": "YC2RuL6flt16",
        "outputId": "6c95a4d2-d9a6-42c6-f48d-2a53301fb61c"
      },
      "source": [
        "base['aluguel'].max(), base['z_score'].max()"
      ],
      "execution_count": 19,
      "outputs": [
        {
          "output_type": "execute_result",
          "data": {
            "text/plain": [
              "(14080, 2.987851861976575)"
            ]
          },
          "metadata": {},
          "execution_count": 19
        }
      ]
    },
    {
      "cell_type": "code",
      "metadata": {
        "id": "Pvo30FZAmL8g"
      },
      "source": [
        "#Agora, nosso maior valor é de \"apenas\" 14 mil, estando há menos de 3 desvios padrões de distância da média"
      ],
      "execution_count": 20,
      "outputs": []
    },
    {
      "cell_type": "code",
      "metadata": {
        "colab": {
          "base_uri": "https://localhost:8080/"
        },
        "id": "lu4TVLcgTdyR",
        "outputId": "f341723c-15f4-4005-bf34-14c2296ca039"
      },
      "source": [
        "base.shape"
      ],
      "execution_count": 21,
      "outputs": [
        {
          "output_type": "execute_result",
          "data": {
            "text/plain": [
              "(10436, 13)"
            ]
          },
          "metadata": {},
          "execution_count": 21
        }
      ]
    },
    {
      "cell_type": "code",
      "metadata": {
        "id": "APBzoQP8mYVl"
      },
      "source": [
        "#Verificando o shape dos dados, constatamos que eliminamos aproximadamente 250 valores discrepantes\n",
        "\n",
        "#Explorando a relação entre as outras variáveis com 'aluguel'"
      ],
      "execution_count": 22,
      "outputs": []
    },
    {
      "cell_type": "code",
      "metadata": {
        "colab": {
          "base_uri": "https://localhost:8080/",
          "height": 312
        },
        "id": "oRBow27UuLpN",
        "outputId": "fea26c50-7f9f-486f-979c-097e522b75f1"
      },
      "source": [
        "sns.boxplot(x = 'cidade', y = 'aluguel', palette = 'terrain', data = base).set_title(\"Distribuição do aluguel por cidade\")"
      ],
      "execution_count": 23,
      "outputs": [
        {
          "output_type": "execute_result",
          "data": {
            "text/plain": [
              "Text(0.5, 1.0, 'Distribuição do aluguel por cidade')"
            ]
          },
          "metadata": {},
          "execution_count": 23
        },
        {
          "output_type": "display_data",
          "data": {
            "image/png": "[encoded data removed]",
            "text/plain": [
              "<Figure size 432x288 with 1 Axes>"
            ]
          },
          "metadata": {
            "needs_background": "light"
          }
        }
      ]
    },
    {
      "cell_type": "code",
      "metadata": {
        "id": "gAItqwTQnPN8"
      },
      "source": [
        "#Conseguimos perceber uma ordinalidade nas cidades, sendo que os maiores valores do aluguel são em média em São Paulo."
      ],
      "execution_count": 24,
      "outputs": []
    },
    {
      "cell_type": "code",
      "metadata": {
        "colab": {
          "base_uri": "https://localhost:8080/"
        },
        "id": "2qGstm7m4YX8",
        "outputId": "79565765-3485-401a-b4e6-6883f6083e32"
      },
      "source": [
        "base.aceita_pet.value_counts()"
      ],
      "execution_count": 25,
      "outputs": [
        {
          "output_type": "execute_result",
          "data": {
            "text/plain": [
              "acept        8104\n",
              "not acept    2332\n",
              "Name: aceita_pet, dtype: int64"
            ]
          },
          "metadata": {},
          "execution_count": 25
        }
      ]
    },
    {
      "cell_type": "code",
      "metadata": {
        "colab": {
          "base_uri": "https://localhost:8080/",
          "height": 313
        },
        "id": "Dg2b0tAOByyq",
        "outputId": "5e59d4c9-2c9f-458f-ca52-d0dbcc30d560"
      },
      "source": [
        "sns.barplot(x = 'aceita_pet', y = 'aluguel', palette = 'terrain', data = base).set_title(\"Valor médio do aluguel dos apartamentos que aceitam e que não aceitam pets\")"
      ],
      "execution_count": 26,
      "outputs": [
        {
          "output_type": "execute_result",
          "data": {
            "text/plain": [
              "Text(0.5, 1.0, 'Valor médio do aluguel dos apartamentos que aceitam e que não aceitam pets')"
            ]
          },
          "metadata": {},
          "execution_count": 26
        },
        {
          "output_type": "display_data",
          "data": {
            "image/png": "[encoded data removed]",
            "text/plain": [
              "<Figure size 432x288 with 1 Axes>"
            ]
          },
          "metadata": {
            "needs_background": "light"
          }
        }
      ]
    },
    {
      "cell_type": "markdown",
      "metadata": {
        "id": "YhLq97A70yCE"
      },
      "source": [
        "Aparentemente, os apartamentos que aceitam pet têm maiores alugueis, para embasar nossa conclusão, podemos realizar um teste t \n",
        "como as seguintes hipóteses:\n",
        "\n",
        "*H0*: µ aceita = µ nao_aceita               \n",
        "*H1*: µ aceita != µ nao_aceita         \n",
        "Onde a letra grega µ (mi) representa a média dos aluguéis.\n",
        "\n",
        "Para a = 0,01 e g.l = 2331, rejeita-se H0 se:\n",
        "\n",
        "|t_calc| < 2,576 \n",
        "\n",
        "Importando o pacote necessário e realizando o teste temos:\n"
      ]
    },
    {
      "cell_type": "code",
      "metadata": {
        "id": "lz27FxtY37bF"
      },
      "source": [
        "from scipy.stats import ttest_ind"
      ],
      "execution_count": 27,
      "outputs": []
    },
    {
      "cell_type": "code",
      "metadata": {
        "id": "KTgFxMRNCwMR"
      },
      "source": [
        "aceita = base[base['aceita_pet'] == 'acept']\n",
        "nao_aceita = base[base['aceita_pet'] != 'acept']"
      ],
      "execution_count": 28,
      "outputs": []
    },
    {
      "cell_type": "code",
      "metadata": {
        "colab": {
          "base_uri": "https://localhost:8080/"
        },
        "id": "32pJVMzYC3BW",
        "outputId": "c7875414-8f40-49a4-b961-5534dfc2dfcb"
      },
      "source": [
        "aceita.shape, nao_aceita.shape"
      ],
      "execution_count": 29,
      "outputs": [
        {
          "output_type": "execute_result",
          "data": {
            "text/plain": [
              "((8104, 13), (2332, 13))"
            ]
          },
          "metadata": {},
          "execution_count": 29
        }
      ]
    },
    {
      "cell_type": "code",
      "metadata": {
        "colab": {
          "base_uri": "https://localhost:8080/"
        },
        "id": "Yc8uyigD3-9_",
        "outputId": "425e0218-c8e3-4a98-fee5-c819eda52ad6"
      },
      "source": [
        "ttest_ind(aceita['aluguel'],nao_aceita['aluguel'],equal_var= False )"
      ],
      "execution_count": 30,
      "outputs": [
        {
          "output_type": "execute_result",
          "data": {
            "text/plain": [
              "Ttest_indResult(statistic=7.3025437134560685, pvalue=3.3843153778640536e-13)"
            ]
          },
          "metadata": {},
          "execution_count": 30
        }
      ]
    },
    {
      "cell_type": "markdown",
      "metadata": {
        "id": "RMvvePGEDmtb"
      },
      "source": [
        "O T calculado foi de 7,30, então, temos fortes evidências para acreditar que há diferença entre a média dos alugueis dos condomínios que aceitam e os que não aceitam pets.\n",
        "\n",
        "Agora iremos verificar o aluguel pela variável 'mobilia'\n"
      ]
    },
    {
      "cell_type": "code",
      "metadata": {
        "colab": {
          "base_uri": "https://localhost:8080/",
          "height": 312
        },
        "id": "p6fmy5qBB5r1",
        "outputId": "18ea5f50-2fcd-4ba6-aa2b-0810fd0bcf3c"
      },
      "source": [
        "sns.barplot(x = 'mobilia', y = 'aluguel', palette = 'terrain', data = base).set_title(\"Valor médio do aluguel dos apartamentos mobilhados e não mobilhados\")"
      ],
      "execution_count": 31,
      "outputs": [
        {
          "output_type": "execute_result",
          "data": {
            "text/plain": [
              "Text(0.5, 1.0, 'Valor médio do aluguel dos apartamentos mobilhados e não mobilhados')"
            ]
          },
          "metadata": {},
          "execution_count": 31
        },
        {
          "output_type": "display_data",
          "data": {
            "image/png": "[encoded data removed]",
            "text/plain": [
              "<Figure size 432x288 with 1 Axes>"
            ]
          },
          "metadata": {
            "needs_background": "light"
          }
        }
      ]
    },
    {
      "cell_type": "code",
      "metadata": {
        "colab": {
          "base_uri": "https://localhost:8080/"
        },
        "id": "E-mz3nU5EJWm",
        "outputId": "47cb0aba-adec-45b0-ab03-9c52db8b89b8"
      },
      "source": [
        "base.mobilia.value_counts()"
      ],
      "execution_count": 32,
      "outputs": [
        {
          "output_type": "execute_result",
          "data": {
            "text/plain": [
              "not furnished    7925\n",
              "furnished        2511\n",
              "Name: mobilia, dtype: int64"
            ]
          },
          "metadata": {},
          "execution_count": 32
        }
      ]
    },
    {
      "cell_type": "markdown",
      "metadata": {
        "id": "_D5mAjw1D4Zm"
      },
      "source": [
        "Semelhante ao caso anterior, queremos verificar se há diferença nos preços dos apartamentos mobilhados e não mobilhados, como hipóteses temos:\n",
        "\n",
        "*H0*: µ mobilhado = µ nao_mobilhado               \n",
        "*H1*: µ mobilhado != µ nao_mobilhado         \n",
        "Onde a letra grega µ (mi) representa a média dos aluguéis.\n",
        "\n",
        "Para a = 0,01 e g.l = 2510, rejeita-se H0 se:\n",
        "\n",
        "|t_calc| < 2,576 \n",
        "\n",
        "Realizando o teste temos:"
      ]
    },
    {
      "cell_type": "code",
      "metadata": {
        "id": "gHKFeIZfEoCN"
      },
      "source": [
        "mobilhado = base[base['mobilia'] == 'furnished']\n",
        "nao_mobilhado = base[base['mobilia'] != 'furnished']"
      ],
      "execution_count": 33,
      "outputs": []
    },
    {
      "cell_type": "code",
      "metadata": {
        "colab": {
          "base_uri": "https://localhost:8080/"
        },
        "id": "0JmCQfQME1GA",
        "outputId": "0b11307b-b0e0-4dc8-fbcd-2b08e1c27c74"
      },
      "source": [
        "mobilhado.shape, nao_mobilhado.shape"
      ],
      "execution_count": 34,
      "outputs": [
        {
          "output_type": "execute_result",
          "data": {
            "text/plain": [
              "((2511, 13), (7925, 13))"
            ]
          },
          "metadata": {},
          "execution_count": 34
        }
      ]
    },
    {
      "cell_type": "code",
      "metadata": {
        "colab": {
          "base_uri": "https://localhost:8080/"
        },
        "id": "9DjcXct9E32P",
        "outputId": "28530f8e-5bee-43fb-c83b-d42f5a499213"
      },
      "source": [
        "ttest_ind(mobilhado['aluguel'],nao_mobilhado['aluguel'],equal_var= False )"
      ],
      "execution_count": 35,
      "outputs": [
        {
          "output_type": "execute_result",
          "data": {
            "text/plain": [
              "Ttest_indResult(statistic=16.91350816888735, pvalue=5.233004238733494e-62)"
            ]
          },
          "metadata": {},
          "execution_count": 35
        }
      ]
    },
    {
      "cell_type": "markdown",
      "metadata": {
        "id": "R5rett5lFJQH"
      },
      "source": [
        "Como já era esperado, a estatística do teste foi altíssima, nos dando embasamento para acreditar que os apartamentos mobilhados possuem, em média, maiores alugueis.\n",
        "\n",
        "Dando sequência à análise, olha-se agora para a relação 'area' x 'aluguel'"
      ]
    },
    {
      "cell_type": "code",
      "metadata": {
        "colab": {
          "base_uri": "https://localhost:8080/",
          "height": 312
        },
        "id": "NQ649NZ78yNr",
        "outputId": "91676a5d-2616-4d18-ce32-c50e504ea279"
      },
      "source": [
        "sns.scatterplot(x = 'area', y = 'aluguel', color = 'red', data = base).set_title((\"Distribuição aluguel x area\"))"
      ],
      "execution_count": 36,
      "outputs": [
        {
          "output_type": "execute_result",
          "data": {
            "text/plain": [
              "Text(0.5, 1.0, 'Distribuição aluguel x area')"
            ]
          },
          "metadata": {},
          "execution_count": 36
        },
        {
          "output_type": "display_data",
          "data": {
            "image/png": "[encoded data removed]",
            "text/plain": [
              "<Figure size 432x288 with 1 Axes>"
            ]
          },
          "metadata": {
            "needs_background": "light"
          }
        }
      ]
    },
    {
      "cell_type": "markdown",
      "metadata": {
        "id": "I8L0Aw6Em36T"
      },
      "source": [
        "Mesmo com a eliminação dos outliers de 'aluguel', algumas observações estão com valores discrepantes em 'area'. Para evitar descartamos mais valores por causa de outliers em variáveis explicativas (não queremos prever seus valores), iremos apenas fazer um filtro rapidamente para conferir a distribuição entre as variáveis.\n",
        "\n",
        "\n",
        "Plotando o mesmo gráfico mas com valores de 'area' menroes que 10.000, temos: "
      ]
    },
    {
      "cell_type": "code",
      "metadata": {
        "colab": {
          "base_uri": "https://localhost:8080/",
          "height": 312
        },
        "id": "sDLMQsZU8-tW",
        "outputId": "3b7195d3-e249-458a-bf81-88bdf04ff092"
      },
      "source": [
        "sns.scatterplot(x = 'area', y = 'aluguel', color = 'red', data = base[base['area'] < 10000]).set_title(\"Distribuição do aluguel x área (ajustado)\")"
      ],
      "execution_count": 37,
      "outputs": [
        {
          "output_type": "execute_result",
          "data": {
            "text/plain": [
              "Text(0.5, 1.0, 'Distribuição do aluguel x área (ajustado)')"
            ]
          },
          "metadata": {},
          "execution_count": 37
        },
        {
          "output_type": "display_data",
          "data": {
            "image/png": "[encoded data removed]",
            "text/plain": [
              "<Figure size 432x288 with 1 Axes>"
            ]
          },
          "metadata": {
            "needs_background": "light"
          }
        }
      ]
    },
    {
      "cell_type": "markdown",
      "metadata": {
        "id": "bmp2DFzhX33e"
      },
      "source": [
        "Enfim, percebemos que não há nenhum padrão claro.\n",
        "\n"
      ]
    },
    {
      "cell_type": "code",
      "metadata": {
        "colab": {
          "base_uri": "https://localhost:8080/",
          "height": 312
        },
        "id": "Bpy0I3oaBlP-",
        "outputId": "a44fe3e2-bfcd-4a0a-eaf5-ee5a47c52e72"
      },
      "source": [
        "sns.scatterplot(x = 'andar', y = 'aluguel', color = 'red', data = base).set_title('Distribuição aluguel x andar')"
      ],
      "execution_count": 38,
      "outputs": [
        {
          "output_type": "execute_result",
          "data": {
            "text/plain": [
              "Text(0.5, 1.0, 'Distribuição aluguel x andar')"
            ]
          },
          "metadata": {},
          "execution_count": 38
        },
        {
          "output_type": "display_data",
          "data": {
            "image/png": "[encoded data removed]",
            "text/plain": [
              "<Figure size 432x288 with 1 Axes>"
            ]
          },
          "metadata": {
            "needs_background": "light"
          }
        }
      ]
    },
    {
      "cell_type": "markdown",
      "metadata": {
        "id": "Ci76rOH6YEzu"
      },
      "source": [
        "Não há padrão claro em o valor do aluguel e o andar do apartamento."
      ]
    },
    {
      "cell_type": "code",
      "metadata": {
        "colab": {
          "base_uri": "https://localhost:8080/",
          "height": 312
        },
        "id": "11_06Am0tYDX",
        "outputId": "45e3d41c-e890-4aab-a5be-bb09fcca7b19"
      },
      "source": [
        "sns.scatterplot(x = 'condominio', y = 'aluguel', color = 'red', data = base).set_title('Distribuição aluguel x taxa de condomínio')"
      ],
      "execution_count": 39,
      "outputs": [
        {
          "output_type": "execute_result",
          "data": {
            "text/plain": [
              "Text(0.5, 1.0, 'Distribuição aluguel x taxa de condomínio')"
            ]
          },
          "metadata": {},
          "execution_count": 39
        },
        {
          "output_type": "display_data",
          "data": {
            "image/png": "[encoded data removed]",
            "text/plain": [
              "<Figure size 432x288 with 1 Axes>"
            ]
          },
          "metadata": {
            "needs_background": "light"
          }
        }
      ]
    },
    {
      "cell_type": "markdown",
      "metadata": {
        "id": "V3rpoCErYHp8"
      },
      "source": [
        "Mesmo caso da variável 'andar', nesse caso iremos filtrar para valores menores que 30.000"
      ]
    },
    {
      "cell_type": "code",
      "metadata": {
        "colab": {
          "base_uri": "https://localhost:8080/",
          "height": 312
        },
        "id": "PD7FNYgEuRCK",
        "outputId": "07693caa-5d73-4926-ed8e-61a113b9676f"
      },
      "source": [
        "sns.scatterplot(x = 'condominio', y = 'aluguel', color = 'red', data = base[base['condominio']<30000]).set_title('Distribuição aluguel x taxa de condomínio (ajustado)')"
      ],
      "execution_count": 40,
      "outputs": [
        {
          "output_type": "execute_result",
          "data": {
            "text/plain": [
              "Text(0.5, 1.0, 'Distribuição aluguel x taxa de condomínio (ajustado)')"
            ]
          },
          "metadata": {},
          "execution_count": 40
        },
        {
          "output_type": "display_data",
          "data": {
            "image/png": "[encoded data removed]",
            "text/plain": [
              "<Figure size 432x288 with 1 Axes>"
            ]
          },
          "metadata": {
            "needs_background": "light"
          }
        }
      ]
    },
    {
      "cell_type": "markdown",
      "metadata": {
        "id": "k4-Tm1WeYMZs"
      },
      "source": [
        "Após o filtro ainda não conseguimos ver nenhum padrão definido na relação 'aluguel' x 'condominio'."
      ]
    },
    {
      "cell_type": "code",
      "metadata": {
        "colab": {
          "base_uri": "https://localhost:8080/",
          "height": 312
        },
        "id": "E6-1Lbde9cvU",
        "outputId": "16735cf8-4155-42c8-98c4-9c56b94b7d78"
      },
      "source": [
        "sns.barplot(x = 'quartos', y = 'aluguel', palette = 'inferno', data = base).set_title(\"Distribuição do aluguel x quartos\")"
      ],
      "execution_count": 41,
      "outputs": [
        {
          "output_type": "execute_result",
          "data": {
            "text/plain": [
              "Text(0.5, 1.0, 'Distribuição do aluguel x quartos')"
            ]
          },
          "metadata": {},
          "execution_count": 41
        },
        {
          "output_type": "display_data",
          "data": {
            "image/png": "[encoded data removed]",
            "text/plain": [
              "<Figure size 432x288 with 1 Axes>"
            ]
          },
          "metadata": {
            "needs_background": "light"
          }
        }
      ]
    },
    {
      "cell_type": "markdown",
      "metadata": {
        "id": "Kc0oclKQYXCc"
      },
      "source": [
        "Conseguimos perceber que há uma relação entre a quantidade de quartos e os valores de aluguel, para verificar a intensidade dessa relação, é interessante calcular a correlação entre as variáveis, ela vai nos retornar um valor entre -1 e 1 que indicará se as variáveis variam na mesma direção ou não e a intensidade desse movimento. Correlação negativa indica que quando uma variável aumenta a outra tende a diminuir.\n",
        "\n",
        "Para a intensidade, usualmente define-se o seguinte:\n",
        "\n",
        "Se a correlação (desconsiderando o sinal)  for < 0.3 considera-se uma correlação fraca\n",
        "Se a correlação (desconsiderando o sinal) estiver entre 0.3 e 0.7 considera-se uma correlação normal\n",
        "Se a correlação (desconsiderando o sinal) for > 0.7 considera-se uma correlação forte\n"
      ]
    },
    {
      "cell_type": "code",
      "metadata": {
        "id": "bfxK41akdjMr"
      },
      "source": [
        "from scipy.stats import pearsonr"
      ],
      "execution_count": 42,
      "outputs": []
    },
    {
      "cell_type": "code",
      "metadata": {
        "colab": {
          "base_uri": "https://localhost:8080/"
        },
        "id": "3-tgVrYafL3O",
        "outputId": "3c9d5409-428a-427f-c550-09d6cc73ff16"
      },
      "source": [
        "pearsonr(base['quartos'],base['aluguel'])"
      ],
      "execution_count": 43,
      "outputs": [
        {
          "output_type": "execute_result",
          "data": {
            "text/plain": [
              "(0.5382505589820639, 0.0)"
            ]
          },
          "metadata": {},
          "execution_count": 43
        }
      ]
    },
    {
      "cell_type": "markdown",
      "metadata": {
        "id": "M3mEqVtpfqEA"
      },
      "source": [
        "O resultado do comando anterior retorna a correlação entre as variáveis, que nesse caso foi normal e positiva, e a probabilidade de se obter essa correlação aleatoriamente, nesse caso, temos fortes evidencias para acreditar nessa relação entre as variáveis."
      ]
    },
    {
      "cell_type": "code",
      "metadata": {
        "colab": {
          "base_uri": "https://localhost:8080/",
          "height": 312
        },
        "id": "njFDDm0B-BgY",
        "outputId": "d2bb3673-828a-443c-f0eb-9cc4630c074e"
      },
      "source": [
        "sns.barplot(x = 'banheiros', y = 'aluguel', palette = 'inferno', data = base).set_title(\"Distribuição do aluguel x banheiros\")"
      ],
      "execution_count": 44,
      "outputs": [
        {
          "output_type": "execute_result",
          "data": {
            "text/plain": [
              "Text(0.5, 1.0, 'Distribuição do aluguel x banheiros')"
            ]
          },
          "metadata": {},
          "execution_count": 44
        },
        {
          "output_type": "display_data",
          "data": {
            "image/png": "[encoded data removed]",
            "text/plain": [
              "<Figure size 432x288 with 1 Axes>"
            ]
          },
          "metadata": {
            "needs_background": "light"
          }
        }
      ]
    },
    {
      "cell_type": "markdown",
      "metadata": {
        "id": "YGEQXpw-gDs1"
      },
      "source": [
        "Semelhante à análise anterior, há claramente um padrão entre a quantidade de banheiros e o valor do aluguel. Verificando a correlação entre as variáveis:"
      ]
    },
    {
      "cell_type": "code",
      "metadata": {
        "colab": {
          "base_uri": "https://localhost:8080/"
        },
        "id": "jVOiJO6egUG_",
        "outputId": "2a9b2d93-dcc9-419e-b7a0-b0d8a27666a0"
      },
      "source": [
        "pearsonr(base['banheiros'],base['aluguel'])"
      ],
      "execution_count": 45,
      "outputs": [
        {
          "output_type": "execute_result",
          "data": {
            "text/plain": [
              "(0.6649468923575896, 0.0)"
            ]
          },
          "metadata": {},
          "execution_count": 45
        }
      ]
    },
    {
      "cell_type": "markdown",
      "metadata": {
        "id": "mqbz6VBXgZRI"
      },
      "source": [
        "A correlação entre as variáveis é um pouco mais forte que antes e a chance desse valor se dá ao acaso é 0 também, corroborando o resultado observado."
      ]
    },
    {
      "cell_type": "code",
      "metadata": {
        "colab": {
          "base_uri": "https://localhost:8080/",
          "height": 312
        },
        "id": "7xOBav-J-Uew",
        "outputId": "e8ef9214-50b4-4b3a-92ed-eb336811da2d"
      },
      "source": [
        "sns.barplot(x = 'vagas_garagem', y = 'aluguel', palette = 'inferno', data = base).set_title(\"Distribuição do aluguel x vagas de garagem\")"
      ],
      "execution_count": 46,
      "outputs": [
        {
          "output_type": "execute_result",
          "data": {
            "text/plain": [
              "Text(0.5, 1.0, 'Distribuição do aluguel x vagas de garagem')"
            ]
          },
          "metadata": {},
          "execution_count": 46
        },
        {
          "output_type": "display_data",
          "data": {
            "image/png": "[encoded data removed]",
            "text/plain": [
              "<Figure size 432x288 with 1 Axes>"
            ]
          },
          "metadata": {
            "needs_background": "light"
          }
        }
      ]
    },
    {
      "cell_type": "code",
      "metadata": {
        "colab": {
          "base_uri": "https://localhost:8080/"
        },
        "id": "QxzA9OpQgzbt",
        "outputId": "4ba636d1-2eda-496c-bb3c-8e5be49d3402"
      },
      "source": [
        "pearsonr(base['vagas_garagem'],base['aluguel'])"
      ],
      "execution_count": 47,
      "outputs": [
        {
          "output_type": "execute_result",
          "data": {
            "text/plain": [
              "(0.5753296739158724, 0.0)"
            ]
          },
          "metadata": {},
          "execution_count": 47
        }
      ]
    },
    {
      "cell_type": "markdown",
      "metadata": {
        "id": "3Yoh8jQxgw_P"
      },
      "source": [
        "A mesma relação pode ser observada com as vagas de garagem. \n",
        "\n",
        "Verificando a relação 'iptu' x 'aluguel'"
      ]
    },
    {
      "cell_type": "code",
      "metadata": {
        "colab": {
          "base_uri": "https://localhost:8080/",
          "height": 312
        },
        "id": "QOFzowdOt34p",
        "outputId": "aee72ae7-c8a6-40f3-bed2-daaeb4bfef41"
      },
      "source": [
        "sns.scatterplot(x = 'iptu', y = 'aluguel', color='red', data = base).set_title(\"Distribuição do aluguel x iptu\")"
      ],
      "execution_count": 48,
      "outputs": [
        {
          "output_type": "execute_result",
          "data": {
            "text/plain": [
              "Text(0.5, 1.0, 'Distribuição do aluguel x iptu')"
            ]
          },
          "metadata": {},
          "execution_count": 48
        },
        {
          "output_type": "display_data",
          "data": {
            "image/png": "[encoded data removed]",
            "text/plain": [
              "<Figure size 432x288 with 1 Axes>"
            ]
          },
          "metadata": {
            "needs_background": "light"
          }
        }
      ]
    },
    {
      "cell_type": "code",
      "metadata": {
        "id": "sx8TyPQ6qk2y"
      },
      "source": [
        "#Mesmo caso que já vimos, faremos um filtro para valores de iptu menores que 300.000"
      ],
      "execution_count": 49,
      "outputs": []
    },
    {
      "cell_type": "code",
      "metadata": {
        "colab": {
          "base_uri": "https://localhost:8080/",
          "height": 312
        },
        "id": "OrEyg4WWu6V9",
        "outputId": "ce2ed863-a935-4579-c687-f6a92ec18dcf"
      },
      "source": [
        "sns.scatterplot(x = 'iptu', y = 'aluguel', color = 'red', data = base[base['iptu']<300000]).set_title(\"Distribuição do aluguel x iptu (ajustado)\")"
      ],
      "execution_count": 50,
      "outputs": [
        {
          "output_type": "execute_result",
          "data": {
            "text/plain": [
              "Text(0.5, 1.0, 'Distribuição do aluguel x iptu (ajustado)')"
            ]
          },
          "metadata": {},
          "execution_count": 50
        },
        {
          "output_type": "display_data",
          "data": {
            "image/png": "[encoded data removed]",
            "text/plain": [
              "<Figure size 432x288 with 1 Axes>"
            ]
          },
          "metadata": {
            "needs_background": "light"
          }
        }
      ]
    },
    {
      "cell_type": "markdown",
      "metadata": {
        "id": "anrlyigLhVci"
      },
      "source": [
        "Também não encontramos padrões definidos para esse relação."
      ]
    },
    {
      "cell_type": "code",
      "metadata": {
        "colab": {
          "base_uri": "https://localhost:8080/",
          "height": 313
        },
        "id": "cb2kH_qCt5cX",
        "outputId": "88db7ab3-083f-423b-9602-ac42f2ef29bb"
      },
      "source": [
        "sns.scatterplot(x = 'seguro_incendio', y = 'aluguel', color = 'red', data = base).set_title(\"Distribuição do aluguel x seguro de incêndio\")"
      ],
      "execution_count": 51,
      "outputs": [
        {
          "output_type": "execute_result",
          "data": {
            "text/plain": [
              "Text(0.5, 1.0, 'Distribuição do aluguel x seguro de incêndio')"
            ]
          },
          "metadata": {},
          "execution_count": 51
        },
        {
          "output_type": "display_data",
          "data": {
            "image/png": "[encoded data removed]",
            "text/plain": [
              "<Figure size 432x288 with 1 Axes>"
            ]
          },
          "metadata": {
            "needs_background": "light"
          }
        }
      ]
    },
    {
      "cell_type": "markdown",
      "metadata": {
        "id": "qOogmbOjhar7"
      },
      "source": [
        "Percebe-se claramente que o aluguel e o valor do seguro de incêndio possuem correlação forte e positiva. Calculando a correlação formalmente temos:"
      ]
    },
    {
      "cell_type": "code",
      "metadata": {
        "colab": {
          "base_uri": "https://localhost:8080/"
        },
        "id": "CmtjavHrhhQe",
        "outputId": "5f1bc1d6-70ee-4e27-f48b-35957aaba8c1"
      },
      "source": [
        "pearsonr(base['seguro_incendio'],base['aluguel'])"
      ],
      "execution_count": 52,
      "outputs": [
        {
          "output_type": "execute_result",
          "data": {
            "text/plain": [
              "(0.9864915295608025, 0.0)"
            ]
          },
          "metadata": {},
          "execution_count": 52
        }
      ]
    },
    {
      "cell_type": "markdown",
      "metadata": {
        "id": "sDsh2QRphvrk"
      },
      "source": [
        "Percebemos que 'seguro_incendio' possui uma correlação muito forte com o valor do aluguel.\n",
        "\n",
        "Para visualizarmos melhor todas essas correlações podemos plotar uma matriz de correlação das variáveis.\n",
        "Pelo a característica comumativa da matriz de correlação, podemos plotar apenas o triângulo inferior, já que os valores são espelhados.\n",
        "\n",
        "Antes disso, iremos remover a coluna 'z_score' que criamos no começo.\n"
      ]
    },
    {
      "cell_type": "code",
      "metadata": {
        "colab": {
          "base_uri": "https://localhost:8080/",
          "height": 370
        },
        "id": "zv3k3Y7Oy2L6",
        "outputId": "88e0c83f-ea7c-4c2e-c5b3-5cef0ad3a99b"
      },
      "source": [
        "base.drop('z_score', axis =1 , inplace = True)\n",
        "mask_corr = np.triu(base.corr(), k = 1)\n",
        "sns.heatmap(base.corr(), mask = mask_corr,  cmap = 'viridis').set_title(\"Distribuição do aluguel x quartos\")"
      ],
      "execution_count": 53,
      "outputs": [
        {
          "output_type": "execute_result",
          "data": {
            "text/plain": [
              "Text(0.5, 1.0, 'Distribuição do aluguel x quartos')"
            ]
          },
          "metadata": {},
          "execution_count": 53
        },
        {
          "output_type": "display_data",
          "data": {
            "image/png": "[encoded data removed]",
            "text/plain": [
              "<Figure size 432x288 with 2 Axes>"
            ]
          },
          "metadata": {
            "needs_background": "light"
          }
        }
      ]
    },
    {
      "cell_type": "markdown",
      "metadata": {
        "id": "uqnysI6Yw2F4"
      },
      "source": [
        "Após a análise exploratória, podemos definir as variáveis que serão utilizadas pelos algoritmos. O critério será de manter apenas as que aparentaram possuir algum tipo de relação com a variável alvo.\n",
        "As variáveis que não encontramos nenhum padrão claro e por isso iremos eliminar do modelo preditivo são:\n",
        "\n",
        "\n",
        "* *area*\n",
        "* *andar*\n",
        "* *condominio*\n",
        "* *iptu*\n",
        "\n",
        "Podemos então já dividir em X (variáveis explicativas) e y (variável alvo)\n"
      ]
    },
    {
      "cell_type": "code",
      "metadata": {
        "id": "j334sFXm6tb8"
      },
      "source": [
        "X = base.drop(['area','andar','condominio','iptu','aluguel'], axis = 1)\n",
        "y = base['aluguel']"
      ],
      "execution_count": 54,
      "outputs": []
    },
    {
      "cell_type": "markdown",
      "metadata": {
        "id": "ekxfa3rkDxg4"
      },
      "source": [
        "#Manipulação das variáveis"
      ]
    },
    {
      "cell_type": "code",
      "metadata": {
        "colab": {
          "base_uri": "https://localhost:8080/"
        },
        "id": "pg2m2KwAxy9g",
        "outputId": "24b6f651-200b-4684-b053-d7d5e69ac734"
      },
      "source": [
        "X.info()"
      ],
      "execution_count": 55,
      "outputs": [
        {
          "output_type": "stream",
          "name": "stdout",
          "text": [
            "<class 'pandas.core.frame.DataFrame'>\n",
            "Int64Index: 10436 entries, 0 to 10691\n",
            "Data columns (total 7 columns):\n",
            " #   Column           Non-Null Count  Dtype \n",
            "---  ------           --------------  ----- \n",
            " 0   cidade           10436 non-null  object\n",
            " 1   aceita_pet       10436 non-null  object\n",
            " 2   mobilia          10436 non-null  object\n",
            " 3   quartos          10436 non-null  int64 \n",
            " 4   banheiros        10436 non-null  int64 \n",
            " 5   vagas_garagem    10436 non-null  int64 \n",
            " 6   seguro_incendio  10436 non-null  int64 \n",
            "dtypes: int64(4), object(3)\n",
            "memory usage: 972.2+ KB\n"
          ]
        }
      ]
    },
    {
      "cell_type": "markdown",
      "metadata": {
        "id": "bMEmiQjXySEU"
      },
      "source": [
        "Para as variáveis 'aceita_pet' e 'mobilia', podemos apenas converter 'acept' e 'furnished', respectivamente, em 1, assim o algoritmo consegue levá-las em conta"
      ]
    },
    {
      "cell_type": "code",
      "metadata": {
        "colab": {
          "base_uri": "https://localhost:8080/"
        },
        "id": "7SutxaijuOye",
        "outputId": "e88322ea-d3f3-4bdf-9250-b1b569bf57e4"
      },
      "source": [
        "X.aceita_pet.value_counts()"
      ],
      "execution_count": 56,
      "outputs": [
        {
          "output_type": "execute_result",
          "data": {
            "text/plain": [
              "acept        8104\n",
              "not acept    2332\n",
              "Name: aceita_pet, dtype: int64"
            ]
          },
          "metadata": {},
          "execution_count": 56
        }
      ]
    },
    {
      "cell_type": "code",
      "metadata": {
        "id": "VNfSksRo1Trj",
        "colab": {
          "base_uri": "https://localhost:8080/"
        },
        "outputId": "2b6a9f22-2837-42e2-be17-671f8bcc781e"
      },
      "source": [
        "X['aceita_pet'] = X['aceita_pet'].replace({'acept':1,'not acept':0})\n",
        "X.aceita_pet.value_counts()"
      ],
      "execution_count": 57,
      "outputs": [
        {
          "output_type": "execute_result",
          "data": {
            "text/plain": [
              "1    8104\n",
              "0    2332\n",
              "Name: aceita_pet, dtype: int64"
            ]
          },
          "metadata": {},
          "execution_count": 57
        }
      ]
    },
    {
      "cell_type": "code",
      "metadata": {
        "colab": {
          "base_uri": "https://localhost:8080/"
        },
        "id": "_T1JOywYubLq",
        "outputId": "72825359-e3b0-48f4-e835-3bc39188b7b2"
      },
      "source": [
        "X.mobilia.value_counts()"
      ],
      "execution_count": 58,
      "outputs": [
        {
          "output_type": "execute_result",
          "data": {
            "text/plain": [
              "not furnished    7925\n",
              "furnished        2511\n",
              "Name: mobilia, dtype: int64"
            ]
          },
          "metadata": {},
          "execution_count": 58
        }
      ]
    },
    {
      "cell_type": "code",
      "metadata": {
        "id": "4bszAsxludg-",
        "colab": {
          "base_uri": "https://localhost:8080/"
        },
        "outputId": "ac83bf0d-6b69-4c44-ce9c-5f398ee08e3d"
      },
      "source": [
        "X['mobilia'] = X['mobilia'].replace({'furnished':1, 'not furnished':0})\n",
        "X.mobilia.value_counts()"
      ],
      "execution_count": 59,
      "outputs": [
        {
          "output_type": "execute_result",
          "data": {
            "text/plain": [
              "0    7925\n",
              "1    2511\n",
              "Name: mobilia, dtype: int64"
            ]
          },
          "metadata": {},
          "execution_count": 59
        }
      ]
    },
    {
      "cell_type": "markdown",
      "metadata": {
        "id": "WDDIj2bqyV_1"
      },
      "source": [
        "Para a variável 'cidade', além de transformar seu rótulos, devemos transformá-las em diversas colunas, onde cada coluna será binária"
      ]
    },
    {
      "cell_type": "code",
      "metadata": {
        "colab": {
          "base_uri": "https://localhost:8080/"
        },
        "id": "jeAIkRIx5naU",
        "outputId": "14cada76-58de-4f65-9a2d-4e18d9311ad2"
      },
      "source": [
        "X.cidade.value_counts()"
      ],
      "execution_count": 60,
      "outputs": [
        {
          "output_type": "execute_result",
          "data": {
            "text/plain": [
              "São Paulo         5702\n",
              "Rio de Janeiro    1478\n",
              "Belo Horizonte    1220\n",
              "Porto Alegre      1186\n",
              "Campinas           850\n",
              "Name: cidade, dtype: int64"
            ]
          },
          "metadata": {},
          "execution_count": 60
        }
      ]
    },
    {
      "cell_type": "code",
      "metadata": {
        "id": "GK4cd5635ovw"
      },
      "source": [
        "X['cidade'] = X['cidade'].replace({'São Paulo': 'sp', 'Rio de Janeiro':'rj','Belo Horizonte':'bh','Porto Alegre':'pa','Campinas':'cam'})\n",
        "X = pd.get_dummies(X)"
      ],
      "execution_count": 61,
      "outputs": []
    },
    {
      "cell_type": "code",
      "metadata": {
        "colab": {
          "base_uri": "https://localhost:8080/",
          "height": 0
        },
        "id": "Y_B7qe3iHWqj",
        "outputId": "55bc0c65-f002-44b3-c57d-afc92207d090"
      },
      "source": [
        "X.head(3)"
      ],
      "execution_count": 62,
      "outputs": [
        {
          "output_type": "execute_result",
          "data": {
            "text/html": [
              "<div>\n",
              "<style scoped>\n",
              "    .dataframe tbody tr th:only-of-type {\n",
              "        vertical-align: middle;\n",
              "    }\n",
              "\n",
              "    .dataframe tbody tr th {\n",
              "        vertical-align: top;\n",
              "    }\n",
              "\n",
              "    .dataframe thead th {\n",
              "        text-align: right;\n",
              "    }\n",
              "</style>\n",
              "<table border=\"1\" class=\"dataframe\">\n",
              "  <thead>\n",
              "    <tr style=\"text-align: right;\">\n",
              "      <th></th>\n",
              "      <th>aceita_pet</th>\n",
              "      <th>mobilia</th>\n",
              "      <th>quartos</th>\n",
              "      <th>banheiros</th>\n",
              "      <th>vagas_garagem</th>\n",
              "      <th>seguro_incendio</th>\n",
              "      <th>cidade_bh</th>\n",
              "      <th>cidade_cam</th>\n",
              "      <th>cidade_pa</th>\n",
              "      <th>cidade_rj</th>\n",
              "      <th>cidade_sp</th>\n",
              "    </tr>\n",
              "  </thead>\n",
              "  <tbody>\n",
              "    <tr>\n",
              "      <th>0</th>\n",
              "      <td>1</td>\n",
              "      <td>1</td>\n",
              "      <td>2</td>\n",
              "      <td>1</td>\n",
              "      <td>1</td>\n",
              "      <td>42</td>\n",
              "      <td>0</td>\n",
              "      <td>0</td>\n",
              "      <td>0</td>\n",
              "      <td>0</td>\n",
              "      <td>1</td>\n",
              "    </tr>\n",
              "    <tr>\n",
              "      <th>1</th>\n",
              "      <td>1</td>\n",
              "      <td>0</td>\n",
              "      <td>4</td>\n",
              "      <td>4</td>\n",
              "      <td>0</td>\n",
              "      <td>63</td>\n",
              "      <td>0</td>\n",
              "      <td>0</td>\n",
              "      <td>0</td>\n",
              "      <td>0</td>\n",
              "      <td>1</td>\n",
              "    </tr>\n",
              "    <tr>\n",
              "      <th>2</th>\n",
              "      <td>1</td>\n",
              "      <td>0</td>\n",
              "      <td>1</td>\n",
              "      <td>1</td>\n",
              "      <td>1</td>\n",
              "      <td>41</td>\n",
              "      <td>0</td>\n",
              "      <td>0</td>\n",
              "      <td>1</td>\n",
              "      <td>0</td>\n",
              "      <td>0</td>\n",
              "    </tr>\n",
              "  </tbody>\n",
              "</table>\n",
              "</div>"
            ],
            "text/plain": [
              "   aceita_pet  mobilia  quartos  ...  cidade_pa  cidade_rj  cidade_sp\n",
              "0           1        1        2  ...          0          0          1\n",
              "1           1        0        4  ...          0          0          1\n",
              "2           1        0        1  ...          1          0          0\n",
              "\n",
              "[3 rows x 11 columns]"
            ]
          },
          "metadata": {},
          "execution_count": 62
        }
      ]
    },
    {
      "cell_type": "markdown",
      "metadata": {
        "id": "svVDYCeyy-I_"
      },
      "source": [
        "Nesse caso, cada coluna representará uma cidade e quando o apartamento for de uma dessas, a coluna relativa terá o valor 1.\n",
        "\n",
        "Por fim, podemos dividir os dados em dados de treino e dados de teste, a porcentagem utilizada para cada um dos conjuntos será de 75% e 25%, respectivamente."
      ]
    },
    {
      "cell_type": "code",
      "metadata": {
        "id": "T68y6hvi0BMZ",
        "colab": {
          "base_uri": "https://localhost:8080/"
        },
        "outputId": "00226cac-c086-4111-da59-afbe6d6e0a2b"
      },
      "source": [
        "X.info()"
      ],
      "execution_count": 63,
      "outputs": [
        {
          "output_type": "stream",
          "name": "stdout",
          "text": [
            "<class 'pandas.core.frame.DataFrame'>\n",
            "Int64Index: 10436 entries, 0 to 10691\n",
            "Data columns (total 11 columns):\n",
            " #   Column           Non-Null Count  Dtype\n",
            "---  ------           --------------  -----\n",
            " 0   aceita_pet       10436 non-null  int64\n",
            " 1   mobilia          10436 non-null  int64\n",
            " 2   quartos          10436 non-null  int64\n",
            " 3   banheiros        10436 non-null  int64\n",
            " 4   vagas_garagem    10436 non-null  int64\n",
            " 5   seguro_incendio  10436 non-null  int64\n",
            " 6   cidade_bh        10436 non-null  uint8\n",
            " 7   cidade_cam       10436 non-null  uint8\n",
            " 8   cidade_pa        10436 non-null  uint8\n",
            " 9   cidade_rj        10436 non-null  uint8\n",
            " 10  cidade_sp        10436 non-null  uint8\n",
            "dtypes: int64(6), uint8(5)\n",
            "memory usage: 941.7 KB\n"
          ]
        }
      ]
    },
    {
      "cell_type": "markdown",
      "metadata": {
        "id": "0y_6bddR0ALG"
      },
      "source": [
        "#Implementação dos modelos"
      ]
    },
    {
      "cell_type": "code",
      "metadata": {
        "id": "IurRDBav60J2"
      },
      "source": [
        "from sklearn.model_selection import train_test_split as tts\n",
        "X_train,X_test, y_train, y_test = tts(X,y, random_state = 10, test_size = 0.25)"
      ],
      "execution_count": 64,
      "outputs": []
    },
    {
      "cell_type": "code",
      "metadata": {
        "colab": {
          "base_uri": "https://localhost:8080/"
        },
        "id": "AzZ7mFVd69xi",
        "outputId": "c07119a7-d030-4722-e7a6-b682268a035d"
      },
      "source": [
        "X_train.shape, X_test.shape, y_train.shape, y_test.shape"
      ],
      "execution_count": 65,
      "outputs": [
        {
          "output_type": "execute_result",
          "data": {
            "text/plain": [
              "((7827, 11), (2609, 11), (7827,), (2609,))"
            ]
          },
          "metadata": {},
          "execution_count": 65
        }
      ]
    },
    {
      "cell_type": "markdown",
      "metadata": {
        "id": "hQ8BtjKb0xXp"
      },
      "source": [
        "Para avaliarmos o desempenho de um modelo de Machine Learning, devemos olhar para alguma(s) métrica(s), as que foram escolhidas para esse trabalho foram:\n",
        "\n",
        "R² score;\n",
        "Mean Squared Error;\n",
        "Mean Absolute Error;\n",
        "Mean Percentage Error;"
      ]
    },
    {
      "cell_type": "code",
      "metadata": {
        "id": "F49QdGfu7Stu"
      },
      "source": [
        "from sklearn.metrics import r2_score, mean_squared_error, mean_absolute_error"
      ],
      "execution_count": 66,
      "outputs": []
    },
    {
      "cell_type": "code",
      "metadata": {
        "id": "iRRaZdihFiH8"
      },
      "source": [
        "#Criando a função para o MAPE (Mean Absolute Percentage Error)\n",
        "def mape(real,predict):\n",
        "  real, predict = np.array(real), np.array(predict)\n",
        "  return np.mean(np.abs((real - predict)/real)*100)"
      ],
      "execution_count": 67,
      "outputs": []
    },
    {
      "cell_type": "markdown",
      "metadata": {
        "id": "_ZGmrN8SzXwX"
      },
      "source": [
        "Após a divisão do conjunto de dados, podemos enfim instanciar e rodar alguns algoritmos.\n",
        "\n",
        "\n",
        "Modelo 1 - Regressão Linear"
      ]
    },
    {
      "cell_type": "code",
      "metadata": {
        "id": "UTc5a0b_7JyF"
      },
      "source": [
        "from sklearn.linear_model import LinearRegression\n",
        "reg = LinearRegression()"
      ],
      "execution_count": 68,
      "outputs": []
    },
    {
      "cell_type": "code",
      "metadata": {
        "id": "0JNzTnyD7NjR"
      },
      "source": [
        "#Fitando e prevendo valores com o modelo 1\n",
        "reg.fit(X_train,y_train)\n",
        "y_predict = reg.predict(X_test)"
      ],
      "execution_count": 69,
      "outputs": []
    },
    {
      "cell_type": "code",
      "metadata": {
        "id": "C2NXq0jK7Xxz"
      },
      "source": [
        "#Métricas para o modelo 1\n",
        "r2 = round(r2_score(y_test,y_predict),4)\n",
        "MSE = round(mean_squared_error(y_test,y_predict),4)\n",
        "MAE = round(mean_absolute_error(y_test,y_predict),4)\n",
        "MAPE = round(mape(y_test,y_predict),4)"
      ],
      "execution_count": 70,
      "outputs": []
    },
    {
      "cell_type": "markdown",
      "metadata": {
        "id": "U5iIfpkq1M86"
      },
      "source": [
        "Modelo 2 - Regressão Linear com variáveis polinomiais"
      ]
    },
    {
      "cell_type": "code",
      "metadata": {
        "id": "LHLyB01F6doA"
      },
      "source": [
        "from sklearn.preprocessing import PolynomialFeatures\n",
        "polynomial = PolynomialFeatures(degree = 2)"
      ],
      "execution_count": 71,
      "outputs": []
    },
    {
      "cell_type": "code",
      "metadata": {
        "id": "oOBLjnMB1_kY"
      },
      "source": [
        "#Fitando e prevendo valores com o modelo 2\n",
        "X_train_poly = polynomial.fit_transform(X_train)\n",
        "X_test_poly = polynomial.fit_transform(X_test)\n",
        "reg.fit(X_train_poly,y_train)\n",
        "y_predict_poly = reg.predict(X_test_poly)"
      ],
      "execution_count": 72,
      "outputs": []
    },
    {
      "cell_type": "code",
      "metadata": {
        "id": "QMWyW2Ql7z5L"
      },
      "source": [
        "#Métricas para o modelo 2\n",
        "r2_poly = round(r2_score(y_test,y_predict_poly),4)\n",
        "MSE_poly = round(mean_squared_error(y_test,y_predict_poly),2)\n",
        "MAE_poly = round(mean_absolute_error(y_test,y_predict_poly),2)\n",
        "MAPE_poly = round(mape(y_test,y_predict_poly),4)"
      ],
      "execution_count": 73,
      "outputs": []
    },
    {
      "cell_type": "markdown",
      "metadata": {
        "id": "S2X5zCd_L8O5"
      },
      "source": [
        "Modelo 3 - Regressão linear (com variáveis padronizadas)"
      ]
    },
    {
      "cell_type": "code",
      "metadata": {
        "id": "5ViZv7PTHc5Y"
      },
      "source": [
        "from sklearn.preprocessing import StandardScaler\n",
        "scaler = StandardScaler()"
      ],
      "execution_count": 74,
      "outputs": []
    },
    {
      "cell_type": "code",
      "metadata": {
        "id": "BTy0q-bCHiDL"
      },
      "source": [
        "#Fitando e prevendo valores com o modelo 3\n",
        "X_train_scaled = scaler.fit_transform(X_train)\n",
        "X_test_scaled = scaler.transform(X_test)\n",
        "reg.fit(X_train_scaled,y_train)\n",
        "y_predict_scaled = reg.predict(X_test_scaled)"
      ],
      "execution_count": 75,
      "outputs": []
    },
    {
      "cell_type": "code",
      "metadata": {
        "id": "qImfBBmXLSau"
      },
      "source": [
        "#Métricas para o modelo 3\n",
        "r2_scaled = round(r2_score(y_test,y_predict_scaled),4)\n",
        "MSE_scaled = round(mean_squared_error(y_test,y_predict_scaled),2)\n",
        "MAE_scaled = round(mean_absolute_error(y_test,y_predict_scaled),2)\n",
        "MAPE_scaled = round(mape(y_test,y_predict_scaled),4)"
      ],
      "execution_count": 76,
      "outputs": []
    },
    {
      "cell_type": "markdown",
      "metadata": {
        "id": "ca3jXIK41cj_"
      },
      "source": [
        "Modelo 4 - Random Forest Regressor (com variáveis padronizadas)"
      ]
    },
    {
      "cell_type": "code",
      "metadata": {
        "id": "6uGJtCrpQmKu"
      },
      "source": [
        "from sklearn.ensemble import RandomForestRegressor\n",
        "rfr = RandomForestRegressor()"
      ],
      "execution_count": 77,
      "outputs": []
    },
    {
      "cell_type": "code",
      "metadata": {
        "id": "G7nV6SPaQqO2"
      },
      "source": [
        "#Fitando e prevendo valores com o modelo 4\n",
        "rfr.fit(X_train_scaled,y_train)\n",
        "y_predict_rfr = rfr.predict(X_test_scaled)"
      ],
      "execution_count": 78,
      "outputs": []
    },
    {
      "cell_type": "code",
      "metadata": {
        "id": "VNMx1Grb1uzG"
      },
      "source": [
        "#Métricas para o modelo 4\n",
        "r2_rfr = round(r2_score(y_test,y_predict_rfr),4)\n",
        "MSE_rfr = round(mean_squared_error(y_test,y_predict_rfr),2)\n",
        "MAE_rfr = round(mean_absolute_error(y_test,y_predict_rfr),2)\n",
        "MAPE_rfr = round(mape(y_test,y_predict_rfr),4)"
      ],
      "execution_count": 79,
      "outputs": []
    },
    {
      "cell_type": "markdown",
      "metadata": {
        "id": "uXY17_t21gsW"
      },
      "source": [
        "#Resultados"
      ]
    },
    {
      "cell_type": "code",
      "metadata": {
        "colab": {
          "base_uri": "https://localhost:8080/"
        },
        "id": "zB8PmnBp8YIv",
        "outputId": "5f83b3af-06d1-49ee-8036-1f7b767c5c5c"
      },
      "source": [
        "print(\"Regressão Linear:\\n\\nR2: {}\\nMSE: {}\\nMAE: {}\\nMAPE: {} %\\n\".format(r2,MSE,MAE, MAPE))\n",
        "print(\"Regressão Linear (Polinomial Features):\\n\\nR2: {}\\nMSE: {}\\nMAE: {}\\nMAPE: {} %\\n\".format(r2_poly,MSE_poly,MAE_poly, MAPE_poly))\n",
        "print(\"Regressão Linear(padronizado):\\n\\nR2: {}\\nMSE: {}\\nMAE: {}\\nMAPE: {} %\\n\".format(r2_scaled,MSE_scaled,MAE_scaled, MAPE_scaled))\n",
        "print(\"Random Forest Regressor (padronizado):\\n\\nR2: {}\\nMSE: {}\\nMAE: {}\\nMAPE: {} %\\n\".format(r2_rfr,MSE_rfr,MAE_rfr, MAPE_rfr))"
      ],
      "execution_count": 80,
      "outputs": [
        {
          "output_type": "stream",
          "name": "stdout",
          "text": [
            "Regressão Linear:\n",
            "\n",
            "R2: 0.9757\n",
            "MSE: 191631.2242\n",
            "MAE: 283.8128\n",
            "MAPE: 9.237 %\n",
            "\n",
            "Regressão Linear (Polinomial Features):\n",
            "\n",
            "R2: 0.9819\n",
            "MSE: 142618.5\n",
            "MAE: 209.15\n",
            "MAPE: 5.6647 %\n",
            "\n",
            "Regressão Linear(padronizado):\n",
            "\n",
            "R2: 0.9756\n",
            "MSE: 191893.24\n",
            "MAE: 284.57\n",
            "MAPE: 9.2859 %\n",
            "\n",
            "Random Forest Regressor (padronizado):\n",
            "\n",
            "R2: 0.9866\n",
            "MSE: 105629.03\n",
            "MAE: 154.64\n",
            "MAPE: 4.9706 %\n",
            "\n"
          ]
        }
      ]
    },
    {
      "cell_type": "markdown",
      "metadata": {
        "id": "djQCAw9T1i2F"
      },
      "source": [
        "#Conclusão"
      ]
    },
    {
      "cell_type": "markdown",
      "metadata": {
        "id": "eeVqzBLbisO9"
      },
      "source": [
        "Todos os algoritmos tiveram ótimo desempenho, mas o que se sobressaiu foi o Random Forest Regressor, que se distanciou apenas 5% do real valor do aluguel.\n",
        "\n",
        "Esse é um exemplo de algoritmo que poderia ser utilizado para a precificação de imóveis, definição de aluguel e até para algum tipo de financiamento imobiliário."
      ]
    }
  ]
}