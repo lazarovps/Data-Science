{
  "nbformat": 4,
  "nbformat_minor": 0,
  "metadata": {
    "colab": {
      "name": "covid PE microdados.ipynb",
      "provenance": [],
      "collapsed_sections": [
        "3fXC14gwdPsZ",
        "bxYV8bRddPse",
        "yv3NzkyuM9d6",
        "rVmCnh8t67lS"
      ],
      "include_colab_link": true
    },
    "kernelspec": {
      "display_name": "Python 3",
      "language": "python",
      "name": "python3"
    },
    "language_info": {
      "codemirror_mode": {
        "name": "ipython",
        "version": 3
      },
      "file_extension": ".py",
      "mimetype": "text/x-python",
      "name": "python",
      "nbconvert_exporter": "python",
      "pygments_lexer": "ipython3",
      "version": "3.8.5"
    }
  },
  "cells": [
    {
      "cell_type": "markdown",
      "metadata": {
        "id": "view-in-github",
        "colab_type": "text"
      },
      "source": [
        "<a href=\"https://colab.research.google.com/github/lazarovps/Data-Science/blob/main/covid_PE_microdados.ipynb\" target=\"_parent\"><img src=\"https://colab.research.google.com/assets/colab-badge.svg\" alt=\"Open In Colab\"/></a>"
      ]
    },
    {
      "cell_type": "markdown",
      "metadata": {
        "id": "hKdXk5QLY4Ww"
      },
      "source": [
        "# **ANÁLISE DO PERFIL  DOS RECUPERADOS E DOS MORTOS POR COVID-19 EM PERNAMBUCO**."
      ]
    },
    {
      "cell_type": "markdown",
      "metadata": {
        "id": "CcUuMN_gWcdT"
      },
      "source": [
        "# OBJETIVO"
      ]
    },
    {
      "cell_type": "markdown",
      "metadata": {
        "id": "7YBYJxokWe04"
      },
      "source": [
        "O objetivo dessa análise é de verificar se há e quais são as diferenças entre aqueles que se recuperaram e aqueles que morreram pelo COVID-19 em Pernambuco. Para isso, analisar-se-á os dados disponibilizados pela SEPLAG-PE sobre os casos registrados de covid no estado, a data da coleta das informações foi 05/08/2021 mas, provavelmente há a defasagem de alguns dias. A base de dados será dividida em recuperados e obitos e serão observados fatores demográficos, frequência determinados sintomas e comorbidades. Através de testes estatísticos, pretende-se observar se há diferença entre as proporções de determinados fatores entre os recuperados e que vieram à óbito. "
      ]
    },
    {
      "cell_type": "markdown",
      "metadata": {
        "id": "3fXC14gwdPsZ"
      },
      "source": [
        "# IMPORTAÇÃO DAS BIBLIOTECAS NECESSÁRIAS E LOAD DOS DADOS"
      ]
    },
    {
      "cell_type": "code",
      "metadata": {
        "id": "Q0fCmSaEdPsb",
        "colab": {
          "base_uri": "https://localhost:8080/"
        },
        "outputId": "213e8f98-eafc-45e4-b5f8-62ff6824a960"
      },
      "source": [
        "from google.colab import drive \n",
        "import numpy as np\n",
        "import pandas as pd\n",
        "import matplotlib.pyplot as plt\n",
        "import seaborn as sns\n",
        "import datetime as dt\n",
        "\n",
        "from sklearn.ensemble import RandomForestClassifier\n",
        "from sklearn.linear_model import LogisticRegression\n",
        "from sklearn.model_selection import train_test_split\n",
        "from sklearn.metrics import recall_score, precision_score, accuracy_score, confusion_matrix\n",
        "from warnings import simplefilter\n",
        "\n",
        "simplefilter(action='ignore', category=FutureWarning)\n",
        "#configurando o diretório de trabalho\n",
        "drive.mount('/content/drive')\n",
        "%cd /content/drive/My Drive/Python\n",
        "\n",
        "#Dados da seplag estadual https://dados.seplag.pe.gov.br/apps/corona_dados.html\n"
      ],
      "execution_count": null,
      "outputs": [
        {
          "output_type": "stream",
          "text": [
            "Drive already mounted at /content/drive; to attempt to forcibly remount, call drive.mount(\"/content/drive\", force_remount=True).\n",
            "/content/drive/My Drive/Python\n"
          ],
          "name": "stdout"
        }
      ]
    },
    {
      "cell_type": "code",
      "metadata": {
        "id": "sanbRSNadPsc",
        "colab": {
          "base_uri": "https://localhost:8080/"
        },
        "outputId": "31962d94-5bef-426f-9e77-69ac03532e36"
      },
      "source": [
        "base = pd.read_csv(\"covid_pe.csv\", sep = \";\")"
      ],
      "execution_count": null,
      "outputs": [
        {
          "output_type": "stream",
          "text": [
            "/usr/local/lib/python3.7/dist-packages/IPython/core/interactiveshell.py:2718: DtypeWarning: Columns (4,5,7,11) have mixed types.Specify dtype option on import or set low_memory=False.\n",
            "  interactivity=interactivity, compiler=compiler, result=result)\n"
          ],
          "name": "stderr"
        }
      ]
    },
    {
      "cell_type": "markdown",
      "metadata": {
        "id": "bxYV8bRddPse"
      },
      "source": [
        "# TRATAMENTO DOS DADOS"
      ]
    },
    {
      "cell_type": "code",
      "metadata": {
        "id": "Wok0sXZh7nMV",
        "colab": {
          "base_uri": "https://localhost:8080/"
        },
        "outputId": "073fdd15-c6a5-4c24-997e-94600e34f160"
      },
      "source": [
        "base.shape"
      ],
      "execution_count": null,
      "outputs": [
        {
          "output_type": "execute_result",
          "data": {
            "text/plain": [
              "(1745924, 15)"
            ]
          },
          "metadata": {
            "tags": []
          },
          "execution_count": 3
        }
      ]
    },
    {
      "cell_type": "markdown",
      "metadata": {
        "id": "YAREnH5TaldB"
      },
      "source": [
        "A base de dados importada possui aproximadamente 1,7 milhão de linhas e 15 colunas, cada linha representa, em teoria, um individuo, e cada coluna seria uma informação sobre esse indivíduo. Ao observarmos as primeira 3 linhas desses dados, podemos ter uma noção de quais são as informações disponibilizadas."
      ]
    },
    {
      "cell_type": "code",
      "metadata": {
        "id": "1AXkfMthdPsd",
        "colab": {
          "base_uri": "https://localhost:8080/",
          "height": 318
        },
        "outputId": "68679a7f-03f4-4b3a-83fe-14eef2221af9"
      },
      "source": [
        "base.head(3)"
      ],
      "execution_count": null,
      "outputs": [
        {
          "output_type": "execute_result",
          "data": {
            "text/html": [
              "<div>\n",
              "<style scoped>\n",
              "    .dataframe tbody tr th:only-of-type {\n",
              "        vertical-align: middle;\n",
              "    }\n",
              "\n",
              "    .dataframe tbody tr th {\n",
              "        vertical-align: top;\n",
              "    }\n",
              "\n",
              "    .dataframe thead th {\n",
              "        text-align: right;\n",
              "    }\n",
              "</style>\n",
              "<table border=\"1\" class=\"dataframe\">\n",
              "  <thead>\n",
              "    <tr style=\"text-align: right;\">\n",
              "      <th></th>\n",
              "      <th>dt_notificacao</th>\n",
              "      <th>Sexo</th>\n",
              "      <th>raca</th>\n",
              "      <th>municipio</th>\n",
              "      <th>dt_primeiros_sintomas</th>\n",
              "      <th>sintomas</th>\n",
              "      <th>comorbidades</th>\n",
              "      <th>hospitalizacao</th>\n",
              "      <th>classe</th>\n",
              "      <th>Resultado</th>\n",
              "      <th>evolucao</th>\n",
              "      <th>dt_obito</th>\n",
              "      <th>cd_municipio</th>\n",
              "      <th>faixa_etaria</th>\n",
              "      <th>tipo</th>\n",
              "    </tr>\n",
              "  </thead>\n",
              "  <tbody>\n",
              "    <tr>\n",
              "      <th>0</th>\n",
              "      <td>2020-04-23</td>\n",
              "      <td>FEMININO</td>\n",
              "      <td>NaN</td>\n",
              "      <td>RECIFE</td>\n",
              "      <td>2020-04-13</td>\n",
              "      <td>FEBRE  DOR DE GARGANTA  CEFALEIA PERDA DE OLFA...</td>\n",
              "      <td>NaN</td>\n",
              "      <td>NAO</td>\n",
              "      <td>EM INVESTIGACAO</td>\n",
              "      <td>AGUARDANDO RESULTADO</td>\n",
              "      <td>EM TRATAMENTO DOMICILIAR</td>\n",
              "      <td>NaN</td>\n",
              "      <td>261160</td>\n",
              "      <td>20-29 anos</td>\n",
              "      <td>grave</td>\n",
              "    </tr>\n",
              "    <tr>\n",
              "      <th>1</th>\n",
              "      <td>2020-04-20</td>\n",
              "      <td>FEMININO</td>\n",
              "      <td>NaN</td>\n",
              "      <td>RECIFE</td>\n",
              "      <td>2020-03-06</td>\n",
              "      <td>DOR DE GARGANTA FEBRE</td>\n",
              "      <td>NaN</td>\n",
              "      <td>NaN</td>\n",
              "      <td>EM INVESTIGACAO</td>\n",
              "      <td>NaN</td>\n",
              "      <td>NaN</td>\n",
              "      <td>NaN</td>\n",
              "      <td>261160</td>\n",
              "      <td>30-39 anos</td>\n",
              "      <td>leve</td>\n",
              "    </tr>\n",
              "    <tr>\n",
              "      <th>2</th>\n",
              "      <td>2020-04-23</td>\n",
              "      <td>FEMININO</td>\n",
              "      <td>NaN</td>\n",
              "      <td>RECIFE</td>\n",
              "      <td>2020-04-18</td>\n",
              "      <td>DOR DE GARGANTA OUTROS</td>\n",
              "      <td>NaN</td>\n",
              "      <td>NaN</td>\n",
              "      <td>EM INVESTIGACAO</td>\n",
              "      <td>NaN</td>\n",
              "      <td>NaN</td>\n",
              "      <td>NaN</td>\n",
              "      <td>261160</td>\n",
              "      <td>60-69 anos</td>\n",
              "      <td>leve</td>\n",
              "    </tr>\n",
              "  </tbody>\n",
              "</table>\n",
              "</div>"
            ],
            "text/plain": [
              "  dt_notificacao      Sexo raca  ... cd_municipio faixa_etaria   tipo\n",
              "0     2020-04-23  FEMININO  NaN  ...       261160   20-29 anos  grave\n",
              "1     2020-04-20  FEMININO  NaN  ...       261160   30-39 anos   leve\n",
              "2     2020-04-23  FEMININO  NaN  ...       261160   60-69 anos   leve\n",
              "\n",
              "[3 rows x 15 columns]"
            ]
          },
          "metadata": {
            "tags": []
          },
          "execution_count": 4
        }
      ]
    },
    {
      "cell_type": "markdown",
      "metadata": {
        "id": "4SWrZYai7c8m"
      },
      "source": [
        "Antes de dividir a base de dados em recuperados e óbitos, é interessante verificar,manipular algumas colunas, essa é a fase que nos faz melhor entender nossos dados.\n",
        "\n",
        "Um primeiro passo é a verificação de valores nulos, a contagem das células nulas é muito importante para termos uma noção da qualidade dos nossos dados, infelizmente há muitas células nulas nesses dados, mas há muita coisa que podemos analisar."
      ]
    },
    {
      "cell_type": "markdown",
      "metadata": {
        "id": "u85r7mGra_-r"
      },
      "source": [
        "Descartando algumas colunas que não serão utilizadas na análise, ficamos com apenas 7 colunas:"
      ]
    },
    {
      "cell_type": "code",
      "metadata": {
        "id": "ihmenEgEbwR3"
      },
      "source": [
        "base = base.drop(['dt_notificacao','municipio','dt_primeiros_sintomas','hospitalizacao','classe','Resultado', 'dt_obito','cd_municipio'], axis = 1)"
      ],
      "execution_count": null,
      "outputs": []
    },
    {
      "cell_type": "code",
      "metadata": {
        "colab": {
          "base_uri": "https://localhost:8080/",
          "height": 205
        },
        "id": "PhuLeXmzidJc",
        "outputId": "a94a6998-3da5-482c-82fc-67b81a8fa1c8"
      },
      "source": [
        "base.head(5)"
      ],
      "execution_count": null,
      "outputs": [
        {
          "output_type": "execute_result",
          "data": {
            "text/html": [
              "<div>\n",
              "<style scoped>\n",
              "    .dataframe tbody tr th:only-of-type {\n",
              "        vertical-align: middle;\n",
              "    }\n",
              "\n",
              "    .dataframe tbody tr th {\n",
              "        vertical-align: top;\n",
              "    }\n",
              "\n",
              "    .dataframe thead th {\n",
              "        text-align: right;\n",
              "    }\n",
              "</style>\n",
              "<table border=\"1\" class=\"dataframe\">\n",
              "  <thead>\n",
              "    <tr style=\"text-align: right;\">\n",
              "      <th></th>\n",
              "      <th>Sexo</th>\n",
              "      <th>raca</th>\n",
              "      <th>sintomas</th>\n",
              "      <th>comorbidades</th>\n",
              "      <th>evolucao</th>\n",
              "      <th>faixa_etaria</th>\n",
              "      <th>tipo</th>\n",
              "    </tr>\n",
              "  </thead>\n",
              "  <tbody>\n",
              "    <tr>\n",
              "      <th>0</th>\n",
              "      <td>FEMININO</td>\n",
              "      <td>NaN</td>\n",
              "      <td>FEBRE  DOR DE GARGANTA  CEFALEIA PERDA DE OLFA...</td>\n",
              "      <td>NaN</td>\n",
              "      <td>EM TRATAMENTO DOMICILIAR</td>\n",
              "      <td>20-29 anos</td>\n",
              "      <td>grave</td>\n",
              "    </tr>\n",
              "    <tr>\n",
              "      <th>1</th>\n",
              "      <td>FEMININO</td>\n",
              "      <td>NaN</td>\n",
              "      <td>DOR DE GARGANTA FEBRE</td>\n",
              "      <td>NaN</td>\n",
              "      <td>NaN</td>\n",
              "      <td>30-39 anos</td>\n",
              "      <td>leve</td>\n",
              "    </tr>\n",
              "    <tr>\n",
              "      <th>2</th>\n",
              "      <td>FEMININO</td>\n",
              "      <td>NaN</td>\n",
              "      <td>DOR DE GARGANTA OUTROS</td>\n",
              "      <td>NaN</td>\n",
              "      <td>NaN</td>\n",
              "      <td>60-69 anos</td>\n",
              "      <td>leve</td>\n",
              "    </tr>\n",
              "    <tr>\n",
              "      <th>3</th>\n",
              "      <td>MASCULINO</td>\n",
              "      <td>NaN</td>\n",
              "      <td>FEBRE TOSSE</td>\n",
              "      <td>NaN</td>\n",
              "      <td>NaN</td>\n",
              "      <td>30-39 anos</td>\n",
              "      <td>leve</td>\n",
              "    </tr>\n",
              "    <tr>\n",
              "      <th>4</th>\n",
              "      <td>FEMININO</td>\n",
              "      <td>NaN</td>\n",
              "      <td>NaN</td>\n",
              "      <td>NaN</td>\n",
              "      <td>EM TRATAMENTO DOMICILIAR</td>\n",
              "      <td>40-49 anos</td>\n",
              "      <td>grave</td>\n",
              "    </tr>\n",
              "  </tbody>\n",
              "</table>\n",
              "</div>"
            ],
            "text/plain": [
              "        Sexo raca  ... faixa_etaria   tipo\n",
              "0   FEMININO  NaN  ...   20-29 anos  grave\n",
              "1   FEMININO  NaN  ...   30-39 anos   leve\n",
              "2   FEMININO  NaN  ...   60-69 anos   leve\n",
              "3  MASCULINO  NaN  ...   30-39 anos   leve\n",
              "4   FEMININO  NaN  ...   40-49 anos  grave\n",
              "\n",
              "[5 rows x 7 columns]"
            ]
          },
          "metadata": {
            "tags": []
          },
          "execution_count": 6
        }
      ]
    },
    {
      "cell_type": "markdown",
      "metadata": {
        "id": "N0JWdaii8b-J"
      },
      "source": [
        "Realizados os primeiros descartes, é interessante verificar quantos valores distintos temos por coluna, que nos dirá a qualidade das informações que estamos analisando."
      ]
    },
    {
      "cell_type": "code",
      "metadata": {
        "colab": {
          "base_uri": "https://localhost:8080/"
        },
        "id": "3jf_q2VgdPsf",
        "outputId": "716bbc31-ae7f-4236-f254-045cb27f4e50"
      },
      "source": [
        "base.isnull().sum()"
      ],
      "execution_count": null,
      "outputs": [
        {
          "output_type": "execute_result",
          "data": {
            "text/plain": [
              "Sexo                  0\n",
              "raca              15181\n",
              "sintomas        1657490\n",
              "comorbidades    1572399\n",
              "evolucao         202126\n",
              "faixa_etaria        695\n",
              "tipo                  0\n",
              "dtype: int64"
            ]
          },
          "metadata": {
            "tags": []
          },
          "execution_count": 7
        }
      ]
    },
    {
      "cell_type": "markdown",
      "metadata": {
        "id": "lyI-wp1lcUzY"
      },
      "source": [
        "Percebe-se que há muitas céluas nulas em quase todas as colunas, o ideal seria o mínimo possível, mas ainda podemos fazer uma análise robusta.\n",
        "\n",
        "Verificando o tipo das colunas para então começar a manipulação de dados:"
      ]
    },
    {
      "cell_type": "code",
      "metadata": {
        "colab": {
          "base_uri": "https://localhost:8080/"
        },
        "id": "M3Q0SBGJJCtM",
        "outputId": "308e0ceb-e069-4648-9f72-b8ee4dbb6101"
      },
      "source": [
        "base.info()"
      ],
      "execution_count": null,
      "outputs": [
        {
          "output_type": "stream",
          "text": [
            "<class 'pandas.core.frame.DataFrame'>\n",
            "RangeIndex: 1745924 entries, 0 to 1745923\n",
            "Data columns (total 7 columns):\n",
            " #   Column        Dtype \n",
            "---  ------        ----- \n",
            " 0   Sexo          object\n",
            " 1   raca          object\n",
            " 2   sintomas      object\n",
            " 3   comorbidades  object\n",
            " 4   evolucao      object\n",
            " 5   faixa_etaria  object\n",
            " 6   tipo          object\n",
            "dtypes: object(7)\n",
            "memory usage: 93.2+ MB\n"
          ],
          "name": "stdout"
        }
      ]
    },
    {
      "cell_type": "code",
      "metadata": {
        "colab": {
          "base_uri": "https://localhost:8080/"
        },
        "id": "m9KjhssU6KQc",
        "outputId": "366e6488-da50-46cb-80be-44c13ae35dd4"
      },
      "source": [
        "#Começando por 'Sexo'\n",
        "base['Sexo'].value_counts()"
      ],
      "execution_count": null,
      "outputs": [
        {
          "output_type": "execute_result",
          "data": {
            "text/plain": [
              "FEMININO      939045\n",
              "MASCULINO     715953\n",
              "Masculino      46338\n",
              "Feminino       44091\n",
              "INDEFINIDO       493\n",
              "Ignorado           4\n",
              "Name: Sexo, dtype: int64"
            ]
          },
          "metadata": {
            "tags": []
          },
          "execution_count": 9
        }
      ]
    },
    {
      "cell_type": "markdown",
      "metadata": {
        "id": "r6qWvbpF9Jo4"
      },
      "source": [
        "O Python é sensitive case, então, FEMININO é diferente de Feminino, então padronizemos para todo o texto ficar minúsculo."
      ]
    },
    {
      "cell_type": "code",
      "metadata": {
        "id": "jy9-_iJk6ulh"
      },
      "source": [
        "base['Sexo'] = base['Sexo'].str.lower()"
      ],
      "execution_count": null,
      "outputs": []
    },
    {
      "cell_type": "code",
      "metadata": {
        "colab": {
          "base_uri": "https://localhost:8080/"
        },
        "id": "fb1ZXr1sdPsj",
        "outputId": "6d3ea7d2-aa9e-4fda-e1ff-02a32f3a8768"
      },
      "source": [
        "base['raca'].value_counts()"
      ],
      "execution_count": null,
      "outputs": [
        {
          "output_type": "execute_result",
          "data": {
            "text/plain": [
              "PARDA       861028\n",
              "BRANCA      373477\n",
              "IGNORADO    345277\n",
              "AMARELA      84172\n",
              "PRETA        59761\n",
              "INDIGENA      7028\n",
              "Name: raca, dtype: int64"
            ]
          },
          "metadata": {
            "tags": []
          },
          "execution_count": 11
        }
      ]
    },
    {
      "cell_type": "markdown",
      "metadata": {
        "id": "BkBQD-IB_cTn"
      },
      "source": [
        "A variável raça aparentemente está sem problemas."
      ]
    },
    {
      "cell_type": "markdown",
      "metadata": {
        "id": "2usNFQwLRmm8"
      },
      "source": [
        "Agora partindo para a coluna de sintomas, que possui incríveis 6 mil valores distintos!!"
      ]
    },
    {
      "cell_type": "code",
      "metadata": {
        "id": "QAogUnzARy1J"
      },
      "source": [
        "#CLASSES DOS SINTOMAS:\n",
        "\n",
        "#dispneia\n",
        "#desconforto respiratorio\n",
        "#aperto toracico\n",
        "#saturacao 02 < 95\n",
        "#febre\n",
        "#coriza\n",
        "#congestao nasal\n",
        "#cansacofadiga\n",
        "#mialgia\n",
        "#cefaleia\n",
        "#diarreia\n",
        "#dor de garganta"
      ],
      "execution_count": null,
      "outputs": []
    },
    {
      "cell_type": "code",
      "metadata": {
        "colab": {
          "base_uri": "https://localhost:8080/"
        },
        "id": "9Qvfz6zsdPtJ",
        "outputId": "bf7894f8-b8c2-496c-edc7-83c7cb1dd0a6"
      },
      "source": [
        "base['sintomas'].value_counts()"
      ],
      "execution_count": null,
      "outputs": [
        {
          "output_type": "execute_result",
          "data": {
            "text/plain": [
              "FEBRE TOSSE DISPNEIA SATURACAO O2 < 95                                                                                                       6391\n",
              "FEBRE TOSSE DISPNEIA                                                                                                                         4982\n",
              "FEBRE TOSSE DISPNEIA DESCONFORTO RESPIRATORIO  APERTO TORACICO SATURACAO O2 < 95                                                             4472\n",
              "TOSSE DISPNEIA SATURACAO O2 < 95                                                                                                             2185\n",
              "FEBRE TOSSE                                                                                                                                  2149\n",
              "                                                                                                                                             ... \n",
              "VOMITO FEBRE TOSSE DESCONFORTO RESPIRATORIO  APERTO TORACICO SATURACAO O2 < 95                                                                  1\n",
              "FEBRE DISPNEIA CORIZA  CONGESTAO NASAL CANSACOFADIGA DESCONFORTO RESPIRATORIO  APERTO TORACICO MIALGIA CEFALEIA SATURACAO O2 < 95 CIANOSE       1\n",
              "FEBRE CANSACOFADIGA ALTERACAOPERDA DE OLFATO EOU PALADAR SATURACAO O2 < 95 DISPNEIA DESCONFORTO RESPIRATORIO  APERTO TORACICO                   1\n",
              "TOSSE SATURACAO O2 < 95 MIALGIA                                                                                                                 1\n",
              "FEBRE TOSSE DISPNEIA DOR DE GARGANTA CANSACOFADIGA MIALGIA CEFALEIA NAUSEA VOMITO DIARREIA                                                      1\n",
              "Name: sintomas, Length: 6536, dtype: int64"
            ]
          },
          "metadata": {
            "tags": []
          },
          "execution_count": 13
        }
      ]
    },
    {
      "cell_type": "markdown",
      "metadata": {
        "id": "ajfRw-GmSWdn"
      },
      "source": [
        "Após fazer uma breve análise de alguns valores dessa coluna, podemos constatar que na verdade essa informação provavelmente era coletada em formada de caixa de seleção, então o agente de saúde marcava várias opções e quando essa informação foi para o sistema cada seleção foi convertida em texto, para sabermos de fato quantas pessoas tiveram cada tipo de sintoma, é necessário separá-los por colunas.\n",
        "\n",
        "As \"classes\" de sintomas que aparentemente foram mais presentes são:\n",
        "\n",
        "* Alteração e/ou perda de olfato e/ou paladar\n",
        "* aperto torácico\n",
        "* cansaço/fadiga\n",
        "* cefaleia\n",
        "* congestão nasal\n",
        "* coriza\n",
        "* diarreia\n",
        "* desconforto respiratório\n",
        "* dispnéia\n",
        "* dor de garganta\n",
        "* edema mãos e/ou pés\n",
        "* febre\n",
        "* mialgia\n",
        "* naúsea\n",
        "* saturação de 0² < 95\n",
        "\n",
        "\n",
        "Transformando a coluna 'sintomas' em diversas colunas:"
      ]
    },
    {
      "cell_type": "code",
      "metadata": {
        "id": "9dga020edPtK"
      },
      "source": [
        "base['alteracao_olfato_paladar'] = base['sintomas'].str.extract('(ALTERACAOPERDA DE OLFATO EOU PALADAR)', expand = False).str.strip()\n",
        "base['aperto_toracico'] = base['sintomas'].str.extract('(APERTO TORACICO)', expand = False).str.strip()\n",
        "base['cansaco'] = base['sintomas'].str.extract('(CANSACOFADIGA)', expand = False).str.strip()\n",
        "base['cefaleia'] = base['sintomas'].str.extract('(CEFALEIA)', expand = False).str.strip()\n",
        "base['congestao_nasal'] = base['sintomas'].str.extract('(CONGESTAO NASAL)', expand = False).str.strip()\n",
        "base['coriza'] = base['sintomas'].str.extract('(CORIZA)', expand = False).str.strip()\n",
        "base['diarreia'] = base['sintomas'].str.extract('(DIARREIA)', expand = False).str.strip()\n",
        "base['descon_resp'] = base['sintomas'].str.extract('(DESCONFORTO RESPIRATORIO)', expand = False).str.strip()\n",
        "base['dispneia'] = base['sintomas'].str.extract('(DISPNEIA)', expand = False).str.strip()\n",
        "base['dor_de_garganta'] = base['sintomas'].str.extract('(DOR DE GARGANTA)', expand = False).str.strip()\n",
        "base['edema'] = base['sintomas'].str.extract('(EDEMA MAOSPES)', expand = False).str.strip()\n",
        "base['febre'] = base['sintomas'].str.extract('(FEBRE)', expand = False).str.strip()\n",
        "base['mialgia'] = base['sintomas'].str.extract('(MIALGIA)', expand = False).str.strip()\n",
        "base['nausea'] = base['sintomas'].str.extract('(NAUSEA)', expand = False).str.strip()\n",
        "base['saturacao<95'] = base['sintomas'].str.extract('(SATURACAO O2 < 95)', expand = False).str.strip()\n",
        "base.iloc[:,-15:] = np.where(base.iloc[:,-15:].isna(),0,1)"
      ],
      "execution_count": null,
      "outputs": []
    },
    {
      "cell_type": "code",
      "metadata": {
        "colab": {
          "base_uri": "https://localhost:8080/"
        },
        "id": "VQSYyXlgY9t1",
        "outputId": "c36ed7e5-19c7-4079-b94d-7bcfd7bdab40"
      },
      "source": [
        "base.iloc[:,-15:].sum()"
      ],
      "execution_count": null,
      "outputs": [
        {
          "output_type": "execute_result",
          "data": {
            "text/plain": [
              "alteracao_olfato_paladar     6743.0\n",
              "aperto_toracico             32062.0\n",
              "cansaco                     10984.0\n",
              "cefaleia                    11215.0\n",
              "congestao_nasal              7401.0\n",
              "coriza                       7407.0\n",
              "diarreia                     8921.0\n",
              "descon_resp                 32377.0\n",
              "dispneia                    63548.0\n",
              "dor_de_garganta             14188.0\n",
              "edema                         504.0\n",
              "febre                       59060.0\n",
              "mialgia                     10526.0\n",
              "nausea                       2444.0\n",
              "saturacao<95                50112.0\n",
              "dtype: float64"
            ]
          },
          "metadata": {
            "tags": []
          },
          "execution_count": 15
        }
      ]
    },
    {
      "cell_type": "code",
      "metadata": {
        "colab": {
          "base_uri": "https://localhost:8080/"
        },
        "id": "x5_VgPHbdPtM",
        "outputId": "390f0592-7a37-40a5-cd03-f0dcc38826b9"
      },
      "source": [
        "base['comorbidades'].value_counts()"
      ],
      "execution_count": null,
      "outputs": [
        {
          "output_type": "execute_result",
          "data": {
            "text/plain": [
              "DOENCAS CARDIACAS CRONICAS                       39120\n",
              "DIABETES                                         27075\n",
              "GESTANTE                                         22381\n",
              "DOENCAS RESPIRATORIAS CRONICAS DESCOMPENSADAS    18516\n",
              "DOENCAS CARDIACAS OU VASCULARES                  10024\n",
              "                                                 ...  \n",
              "SECRECAO CONJUNTIVAL                                 1\n",
              "262000381994                                         1\n",
              "DESORIENTACAO                                        1\n",
              "262000407550                                         1\n",
              "262000385612                                         1\n",
              "Name: comorbidades, Length: 974, dtype: int64"
            ]
          },
          "metadata": {
            "tags": []
          },
          "execution_count": 16
        }
      ]
    },
    {
      "cell_type": "markdown",
      "metadata": {
        "id": "BStfSoK3Zv54"
      },
      "source": [
        "Semelhante à coluna 'sintomas', a coluna 'comorbidades' necessita de manipulação, as classes aparentemente são:\n",
        "\n",
        "* cefaleia e fadiga (será descartada, já que são sintomas)\n",
        "* diabetes\n",
        "* doenças cardíacas ou vasculares\n",
        "* doenças hepáticas crônicas\n",
        "* doenças renais crônicas\n",
        "* doenças respiratórias\n",
        "* gestação\n",
        "* imunosupressão\n",
        "* portador de doenças cromossômicas\n",
        "* sobrepeso/obesidade\n"
      ]
    },
    {
      "cell_type": "code",
      "metadata": {
        "id": "DQUkNxl0dPtM"
      },
      "source": [
        "base['diabetes'] = base['comorbidades'].str.extract('(DIABETES)', expand = False).str.strip()\n",
        "base['card_or_vasc'] = base['comorbidades'].str.extract('(DOENCAS CARDIACAS OU VASCULARES)', expand = False).str.strip()\n",
        "base['hepatic_cronic'] = base['comorbidades'].str.extract('(DOENCA HEPATICA CRONICA)', expand = False).str.strip()\n",
        "base['renais_cronic'] = base['comorbidades'].str.extract('(DOENCAS RENAIS CRONICAS)', expand = False).str.strip()\n",
        "base['resp_cronic'] = base['comorbidades'].str.extract('(DOENCAS RESPIRATORIAS CRONICAS)', expand = False).str.strip()\n",
        "base['gestacao'] = base['comorbidades'].str.extract('(GESTACAO)', expand = False).str.strip()\n",
        "base['imunossupressao'] = base['comorbidades'].str.extract('(IMUNOSSUPRESSAO)', expand = False).str.strip()\n",
        "base['cromossomicas'] = base['comorbidades'].str.extract('(PORTADOR DE DOENCAS CROMOSSOMICAS)', expand = False).str.strip()\n",
        "base['obesidade'] = base['comorbidades'].str.extract('(SOBREPESOOBESIDADE)', expand = False).str.strip()\n",
        "base.iloc[:,-9:] = np.where(base.iloc[:,-9:].isna(),0,1)"
      ],
      "execution_count": null,
      "outputs": []
    },
    {
      "cell_type": "code",
      "metadata": {
        "colab": {
          "base_uri": "https://localhost:8080/"
        },
        "id": "H3p87pCz5DBq",
        "outputId": "b8c6cfe4-1a27-43b5-fb12-d9df4f160f03"
      },
      "source": [
        "base.iloc[:,-9:].sum()"
      ],
      "execution_count": null,
      "outputs": [
        {
          "output_type": "execute_result",
          "data": {
            "text/plain": [
              "diabetes           53146.0\n",
              "card_or_vasc       22224.0\n",
              "hepatic_cronic       687.0\n",
              "renais_cronic       6379.0\n",
              "resp_cronic        27102.0\n",
              "gestacao             345.0\n",
              "imunossupressao     8071.0\n",
              "cromossomicas       2585.0\n",
              "obesidade           4548.0\n",
              "dtype: float64"
            ]
          },
          "metadata": {
            "tags": []
          },
          "execution_count": 18
        }
      ]
    },
    {
      "cell_type": "code",
      "metadata": {
        "colab": {
          "base_uri": "https://localhost:8080/"
        },
        "id": "RjdkkvpkbzEe",
        "outputId": "178a97aa-6d28-4122-fbdb-c616dd75cf9f"
      },
      "source": [
        "#Consultando novamente as colunas do nosso dataframe\n",
        "base.info()"
      ],
      "execution_count": null,
      "outputs": [
        {
          "output_type": "stream",
          "text": [
            "<class 'pandas.core.frame.DataFrame'>\n",
            "RangeIndex: 1745924 entries, 0 to 1745923\n",
            "Data columns (total 31 columns):\n",
            " #   Column                    Dtype \n",
            "---  ------                    ----- \n",
            " 0   Sexo                      object\n",
            " 1   raca                      object\n",
            " 2   sintomas                  object\n",
            " 3   comorbidades              object\n",
            " 4   evolucao                  object\n",
            " 5   faixa_etaria              object\n",
            " 6   tipo                      object\n",
            " 7   alteracao_olfato_paladar  object\n",
            " 8   aperto_toracico           object\n",
            " 9   cansaco                   object\n",
            " 10  cefaleia                  object\n",
            " 11  congestao_nasal           object\n",
            " 12  coriza                    object\n",
            " 13  diarreia                  object\n",
            " 14  descon_resp               object\n",
            " 15  dispneia                  object\n",
            " 16  dor_de_garganta           object\n",
            " 17  edema                     object\n",
            " 18  febre                     object\n",
            " 19  mialgia                   object\n",
            " 20  nausea                    object\n",
            " 21  saturacao<95              object\n",
            " 22  diabetes                  object\n",
            " 23  card_or_vasc              object\n",
            " 24  hepatic_cronic            object\n",
            " 25  renais_cronic             object\n",
            " 26  resp_cronic               object\n",
            " 27  gestacao                  object\n",
            " 28  imunossupressao           object\n",
            " 29  cromossomicas             object\n",
            " 30  obesidade                 object\n",
            "dtypes: object(31)\n",
            "memory usage: 412.9+ MB\n"
          ],
          "name": "stdout"
        }
      ]
    },
    {
      "cell_type": "code",
      "metadata": {
        "colab": {
          "base_uri": "https://localhost:8080/"
        },
        "id": "-UffMN63gk88",
        "outputId": "14578be8-531d-4e6c-e760-059df675f1a8"
      },
      "source": [
        "base['evolucao'].value_counts()"
      ],
      "execution_count": null,
      "outputs": [
        {
          "output_type": "execute_result",
          "data": {
            "text/plain": [
              "RECUPERADO                       1461130\n",
              "OBITO                              26734\n",
              "IGNORADO                           24685\n",
              "INTERNADO LEITO DE ISOLAMENTO      16699\n",
              "EM TRATAMENTO DOMICILIAR           13411\n",
              "INTERNADO UTI                       1139\n",
              "Name: evolucao, dtype: int64"
            ]
          },
          "metadata": {
            "tags": []
          },
          "execution_count": 20
        }
      ]
    },
    {
      "cell_type": "code",
      "metadata": {
        "colab": {
          "base_uri": "https://localhost:8080/"
        },
        "id": "Mib4KGWqdPtF",
        "outputId": "40f510d3-01aa-46a1-d931-6af1f41a265a"
      },
      "source": [
        "base['faixa_etaria'].value_counts()"
      ],
      "execution_count": null,
      "outputs": [
        {
          "output_type": "execute_result",
          "data": {
            "text/plain": [
              "30-39 anos    400323\n",
              "20-29 anos    334504\n",
              "40-49 anos    325849\n",
              "50-59 anos    234151\n",
              "60-69 anos    134135\n",
              "10-19 anos    122319\n",
              "0-9 anos       84957\n",
              "70-79 anos     69698\n",
              "80+ anos       39293\n",
              "Name: faixa_etaria, dtype: int64"
            ]
          },
          "metadata": {
            "tags": []
          },
          "execution_count": 21
        }
      ]
    },
    {
      "cell_type": "code",
      "metadata": {
        "colab": {
          "base_uri": "https://localhost:8080/"
        },
        "id": "a2wZqGxV-5mJ",
        "outputId": "8a13985d-679e-4136-8381-5598e01b7d90"
      },
      "source": [
        "base['tipo'].value_counts()"
      ],
      "execution_count": null,
      "outputs": [
        {
          "output_type": "execute_result",
          "data": {
            "text/plain": [
              "leve     1654669\n",
              "grave      91255\n",
              "Name: tipo, dtype: int64"
            ]
          },
          "metadata": {
            "tags": []
          },
          "execution_count": 22
        }
      ]
    },
    {
      "cell_type": "code",
      "metadata": {
        "colab": {
          "base_uri": "https://localhost:8080/"
        },
        "id": "KNQQP02HEVAe",
        "outputId": "b352c44d-de8f-4233-e474-bc43681fd5f1"
      },
      "source": [
        "base.info()"
      ],
      "execution_count": null,
      "outputs": [
        {
          "output_type": "stream",
          "text": [
            "<class 'pandas.core.frame.DataFrame'>\n",
            "RangeIndex: 1745924 entries, 0 to 1745923\n",
            "Data columns (total 31 columns):\n",
            " #   Column                    Dtype \n",
            "---  ------                    ----- \n",
            " 0   Sexo                      object\n",
            " 1   raca                      object\n",
            " 2   sintomas                  object\n",
            " 3   comorbidades              object\n",
            " 4   evolucao                  object\n",
            " 5   faixa_etaria              object\n",
            " 6   tipo                      object\n",
            " 7   alteracao_olfato_paladar  object\n",
            " 8   aperto_toracico           object\n",
            " 9   cansaco                   object\n",
            " 10  cefaleia                  object\n",
            " 11  congestao_nasal           object\n",
            " 12  coriza                    object\n",
            " 13  diarreia                  object\n",
            " 14  descon_resp               object\n",
            " 15  dispneia                  object\n",
            " 16  dor_de_garganta           object\n",
            " 17  edema                     object\n",
            " 18  febre                     object\n",
            " 19  mialgia                   object\n",
            " 20  nausea                    object\n",
            " 21  saturacao<95              object\n",
            " 22  diabetes                  object\n",
            " 23  card_or_vasc              object\n",
            " 24  hepatic_cronic            object\n",
            " 25  renais_cronic             object\n",
            " 26  resp_cronic               object\n",
            " 27  gestacao                  object\n",
            " 28  imunossupressao           object\n",
            " 29  cromossomicas             object\n",
            " 30  obesidade                 object\n",
            "dtypes: object(31)\n",
            "memory usage: 412.9+ MB\n"
          ],
          "name": "stdout"
        }
      ]
    },
    {
      "cell_type": "markdown",
      "metadata": {
        "id": "yv3NzkyuM9d6"
      },
      "source": [
        "# COMPARAÇÃO ENTRE RECUPERADOS E ÓBITOS"
      ]
    },
    {
      "cell_type": "markdown",
      "metadata": {
        "id": "hDERKDM-UvFT"
      },
      "source": [
        "Quando criamos novas colunas com base em algumas já existentes, acabamos atribuindo valores às células que estavam sem informação (por exemplo, a coluna sintomas tinha relativamente poucos valores não-nulos e todas as colunas que foram derivadas dessas estão sem valores nulo, significa então que \"criamos\" informação), como o objetivo desse estudo é de verificar a proporção de algumas características, é necessário descartar essas informações que criamos, então, para cada característica analisada, será criado um subgrupo de valores não-nulos de sua coluna inicial."
      ]
    },
    {
      "cell_type": "code",
      "metadata": {
        "id": "kIk30uU5PLvN"
      },
      "source": [
        "recuperados = base[base['evolucao'] == 'RECUPERADO']\n",
        "obitos = base[base['evolucao'] == 'OBITO']"
      ],
      "execution_count": null,
      "outputs": []
    },
    {
      "cell_type": "code",
      "metadata": {
        "colab": {
          "base_uri": "https://localhost:8080/"
        },
        "id": "uPPkCnZa-KQM",
        "outputId": "13101f63-bc78-4b8a-e893-2449e5959752"
      },
      "source": [
        "recuperados.shape, obitos.shape"
      ],
      "execution_count": null,
      "outputs": [
        {
          "output_type": "execute_result",
          "data": {
            "text/plain": [
              "((1461130, 31), (26734, 31))"
            ]
          },
          "metadata": {
            "tags": []
          },
          "execution_count": 45
        }
      ]
    },
    {
      "cell_type": "markdown",
      "metadata": {
        "id": "efCEJYDzoTzQ"
      },
      "source": [
        "Ao separarmos em recuperados e óbitos, vemos que os números são bem discrepantes, então sempre olharemos para as proporções, que são medidas relativas.\n",
        "\n",
        "Vendo a proporção dos sexos para cada um dos grupos temos:"
      ]
    },
    {
      "cell_type": "code",
      "metadata": {
        "colab": {
          "base_uri": "https://localhost:8080/"
        },
        "id": "_aCmng4W97JC",
        "outputId": "4df92458-ac0b-49c6-8a56-bf733ad4c9fc"
      },
      "source": [
        "print(\"Proporção dos sexos de 'recuperados' \\n\\n\",recuperados['Sexo'].value_counts(normalize = True), end= '\\n\\n')\n",
        "print(\"Proporção dos sexos de 'obitos' \\n\\n\",obitos['Sexo'].value_counts(normalize= True))"
      ],
      "execution_count": null,
      "outputs": [
        {
          "output_type": "stream",
          "text": [
            "Proporção dos sexos de 'recuperados' \n",
            "\n",
            " feminino      0.566352\n",
            "masculino     0.433331\n",
            "indefinido    0.000317\n",
            "Name: Sexo, dtype: float64\n",
            "\n",
            "Proporção dos sexos de 'obitos' \n",
            "\n",
            " masculino    0.535236\n",
            "feminino     0.464764\n",
            "Name: Sexo, dtype: float64\n"
          ],
          "name": "stdout"
        }
      ]
    },
    {
      "cell_type": "markdown",
      "metadata": {
        "id": "bXG5FhayotTu"
      },
      "source": [
        "Interessante observar que enquanto no grupo 'recuperados' as mulheres representam aproximadamente 57 %, no grupo 'obitos' esse percentual cai para 46%.\n",
        "Analogamente, o percentual de homens é de 10%p.p maior no sgrupo 'obitos'´do que no grupo 'recuperados'.\n",
        "\n",
        "\n",
        "\n",
        "Para vermos essas proporções em relação à cor/raça, temos que dropar os valores que estão como 'IGNORADO'. Realizando essa operação nesses grupos que criamos:"
      ]
    },
    {
      "cell_type": "code",
      "metadata": {
        "id": "zm2LTRHDyRyg"
      },
      "source": [
        "recuperados_raca = recuperados[recuperados['raca'] != 'IGNORADO']\n",
        "obitos_raca = obitos[obitos['raca'] != 'IGNORADO']"
      ],
      "execution_count": null,
      "outputs": []
    },
    {
      "cell_type": "code",
      "metadata": {
        "colab": {
          "base_uri": "https://localhost:8080/"
        },
        "id": "PXkI2GzV-GXM",
        "outputId": "98337d59-862f-4ca7-e92a-27d736ad4d46"
      },
      "source": [
        "print(\"Proporção da cor/raça de 'recuperados' \\n\\n\",recuperados_raca['raca'].value_counts(normalize = True), end= '\\n\\n')\n",
        "print(\"Proporção da cor/raça de 'obitos' \\n\\n\",obitos_raca['raca'].value_counts(normalize= True))"
      ],
      "execution_count": null,
      "outputs": [
        {
          "output_type": "stream",
          "text": [
            "Proporção da cor/raça de 'recuperados' \n",
            "\n",
            " PARDA       0.616816\n",
            "BRANCA      0.271593\n",
            "AMARELA     0.062795\n",
            "PRETA       0.043692\n",
            "INDIGENA    0.005104\n",
            "Name: raca, dtype: float64\n",
            "\n",
            "Proporção da cor/raça de 'obitos' \n",
            "\n",
            " PARDA       0.688964\n",
            "BRANCA      0.242224\n",
            "PRETA       0.048576\n",
            "AMARELA     0.018784\n",
            "INDIGENA    0.001452\n",
            "Name: raca, dtype: float64\n"
          ],
          "name": "stdout"
        }
      ]
    },
    {
      "cell_type": "markdown",
      "metadata": {
        "id": "zJxcA2bJw_ve"
      },
      "source": [
        "Quando ordenamos decrescentemente as proporções, as única diferenças são nas posições 3 e 4, que no grupo 'recuperados' são as cores/raças 'amarelas' e 'pretas' e no grupo 'obitos' são 'pretas' e 'amarelas', respectivamente..\n",
        "\n",
        "Em ambos os grupos há uma maior porcentagem de pessoas consideradas pardas, mas, o valor no grupo 'obitos' é 8%p.p em relação ao grupo 'recuperados'."
      ]
    },
    {
      "cell_type": "code",
      "metadata": {
        "colab": {
          "base_uri": "https://localhost:8080/"
        },
        "id": "E1avzwiTTpgG",
        "outputId": "07253383-7d24-402f-d8da-a52d12ee8332"
      },
      "source": [
        "print(\"Proporção das idades de 'recuperados'\\n\\n\",recuperados_raca['faixa_etaria'].value_counts(normalize = True), end= '\\n\\n')\n",
        "print(\"Proporção das idades de 'obitos'\\n\\n\",obitos_raca['faixa_etaria'].value_counts(normalize= True))"
      ],
      "execution_count": null,
      "outputs": [
        {
          "output_type": "stream",
          "text": [
            "Proporção das idades de 'recuperados'\n",
            "\n",
            " 30-39 anos    0.233494\n",
            "20-29 anos    0.198752\n",
            "40-49 anos    0.188438\n",
            "50-59 anos    0.133908\n",
            "60-69 anos    0.073241\n",
            "10-19 anos    0.071186\n",
            "0-9 anos      0.047119\n",
            "70-79 anos    0.035731\n",
            "80+ anos      0.018131\n",
            "Name: faixa_etaria, dtype: float64\n",
            "\n",
            "Proporção das idades de 'obitos'\n",
            "\n",
            " 80+ anos      0.250475\n",
            "70-79 anos    0.243520\n",
            "60-69 anos    0.209521\n",
            "50-59 anos    0.147183\n",
            "40-49 anos    0.079834\n",
            "30-39 anos    0.042423\n",
            "20-29 anos    0.015163\n",
            "0-9 anos      0.007128\n",
            "10-19 anos    0.004752\n",
            "Name: faixa_etaria, dtype: float64\n"
          ],
          "name": "stdout"
        }
      ]
    },
    {
      "cell_type": "markdown",
      "metadata": {
        "id": "D8JcJww7Tr8u"
      },
      "source": [
        "Olhando a proporção por faixa etária, vemos que a maior parte (cerca de 62%) do grupo dos recuperados possuem entre 20 e 49 anos. Já quando olhamos para o grupo de óbitos, temos a predominância de pessoas com 50 anos ou mais, representando aproximadamente 85 % das mortes."
      ]
    },
    {
      "cell_type": "markdown",
      "metadata": {
        "id": "ghSccM7k2Sia"
      },
      "source": [
        "Pode parecer óbvio à primeiro momento, mas é interessante observar a gravidades dos casos de cada grupo, já que podemos acabar descobrindo se uma quantidade razoável de casos evoluiu a ponto de levar o paciente à óbito."
      ]
    },
    {
      "cell_type": "code",
      "metadata": {
        "colab": {
          "base_uri": "https://localhost:8080/"
        },
        "id": "SoQH1WpS1Px6",
        "outputId": "11b23110-f531-4185-c3a1-fc32b55f654d"
      },
      "source": [
        "print(\"Gravidade do covid nos recuperados \\n\\n\",recuperados_raca['tipo'].value_counts(normalize = True), end= '\\n\\n')\n",
        "print(\"Gravidade do covid nos mortos\\n\\n\",obitos_raca['tipo'].value_counts(normalize= True))"
      ],
      "execution_count": null,
      "outputs": [
        {
          "output_type": "stream",
          "text": [
            "Gravidade do covid nos recuperados \n",
            "\n",
            " leve     0.971656\n",
            "grave    0.028344\n",
            "Name: tipo, dtype: float64\n",
            "\n",
            "Gravidade do covid nos mortos\n",
            "\n",
            " grave    1.0\n",
            "Name: tipo, dtype: float64\n"
          ],
          "name": "stdout"
        }
      ]
    },
    {
      "cell_type": "markdown",
      "metadata": {
        "id": "b73Hw6N12vKK"
      },
      "source": [
        "Ao olharmos para os recuperados, constatamos que aproximadamente 3 % desses estavam em estado grave. \n",
        "\n",
        "Já em relação aos óbitos, talvez, quando houve a evolução do caso o tipo registrado mudou de leve para grave, então logicamente só morreriam pacientes do tipo grave.\n",
        "\n",
        "\n",
        "Para fazermos uma análise semelhante com os sintomas, é necessário criar novos subgrupos para filtrarmos apenas as observações que não estavam com a coluna 'sintomas' nula."
      ]
    },
    {
      "cell_type": "code",
      "metadata": {
        "id": "Ms8bbTcT_JlQ"
      },
      "source": [
        "recuperados_sintomas = recuperados[recuperados['sintomas'].notna()].iloc[:,7:22]\n",
        "obitos_sintomas = obitos[obitos['sintomas'].notna()].iloc[:,7:22]"
      ],
      "execution_count": null,
      "outputs": []
    },
    {
      "cell_type": "code",
      "metadata": {
        "colab": {
          "base_uri": "https://localhost:8080/"
        },
        "id": "FthH7SNhFArN",
        "outputId": "a1f69bfa-332a-4546-ff06-30213fa87a26"
      },
      "source": [
        "recuperados_sintomas.shape, obitos_sintomas.shape"
      ],
      "execution_count": null,
      "outputs": [
        {
          "output_type": "execute_result",
          "data": {
            "text/plain": [
              "((38030, 15), (25947, 15))"
            ]
          },
          "metadata": {
            "tags": []
          },
          "execution_count": 52
        }
      ]
    },
    {
      "cell_type": "markdown",
      "metadata": {
        "id": "b3EbPYrRCjLa"
      },
      "source": [
        "Nesse caso pegamos apenas as colunas que foram derivadas da coluna 'sintomas' (15 colunas, uma pra cada sintoma identificado). \n",
        "Pelo fato de termos criado colunas binárias, a média de cada uma das colunas já irá representar a porcentagem de manifestação de sintomas daqueles individuos que tiveram algum registro de sintomas.\n",
        "\n",
        "Criando um objeto para a comparação das médias:"
      ]
    },
    {
      "cell_type": "code",
      "metadata": {
        "colab": {
          "base_uri": "https://localhost:8080/"
        },
        "id": "fCqb6-cSTuaQ",
        "outputId": "f1fc54f1-d5c4-4e54-b56a-0ed235f339ff"
      },
      "source": [
        "comparacao_sint = pd.DataFrame({'obitos':obitos_sintomas.mean(),'recuperados':recuperados_sintomas.mean()})\n",
        "comparacao_sint['diferenca'] = comparacao_sint['obitos'] - comparacao_sint['recuperados']\n",
        "print(\"Diferença na proporção de sintomas no grupo de óbitos e no de recuperados\\n\")\n",
        "print(comparacao_sint.sort_values(by = 'diferenca', ascending = False))"
      ],
      "execution_count": null,
      "outputs": [
        {
          "output_type": "stream",
          "text": [
            "Diferença na proporção de sintomas no grupo de óbitos e no de recuperados\n",
            "\n",
            "                            obitos  recuperados  diferenca\n",
            "saturacao<95              0.710256     0.546227   0.164029\n",
            "dispneia                  0.814391     0.671996   0.142395\n",
            "descon_resp               0.441939     0.330660   0.111279\n",
            "aperto_toracico           0.440321     0.330660   0.109661\n",
            "edema                     0.008093     0.003182   0.004912\n",
            "cansaco                   0.130266     0.130108   0.000158\n",
            "nausea                    0.021351     0.032422  -0.011071\n",
            "diarreia                  0.085135     0.117881  -0.032746\n",
            "congestao_nasal           0.050834     0.090981  -0.040146\n",
            "coriza                    0.050834     0.090981  -0.040146\n",
            "mialgia                   0.095194     0.147699  -0.052505\n",
            "alteracao_olfato_paladar  0.050295     0.110597  -0.060302\n",
            "cefaleia                  0.079778     0.166290  -0.086512\n",
            "dor_de_garganta           0.089028     0.189666  -0.100638\n",
            "febre                     0.595676     0.711938  -0.116262\n"
          ],
          "name": "stdout"
        }
      ]
    },
    {
      "cell_type": "markdown",
      "metadata": {
        "id": "YPESlZBcF2vh"
      },
      "source": [
        "Além da média de manifestação de cada um dos sintomas, é interessante observar a diferença entre os grupos, os sintomas que mais devemos ficar mais atentos são aqueles que a diferença foi positiva, já que significa que o percentual de manifestação desses sintomas é maior naqueles que morreram. Os sintomas que possuem maior diferença são:\n",
        "\n",
        "\n",
        "* Saturação de 0² < 95 (16,40%)\n",
        "* Dispnéia (14,24%)\n",
        "* Desconforto respiratório (11,12%)\n",
        "* Aperto torácico (10,97%)\n",
        "\n",
        "(Talvez esses sintomas sejam redundantes, por não ter conhecimento na área, considerei como sintomas diferentes.)\n",
        "\n",
        "\n",
        "\n",
        "Para verificar se essas  diferenças de proporções são relevantes ou se foram ao acaso, podemos realizar um teste de igualdade de proporções, onde as hipóteses são:\n",
        "\n",
        "*   H0: (Prop.O - Prop.R) <= 0 (Proporção em 'obitos' menos Proporção em 'recuperados' menor ou igual a zero)\n",
        "*   H1: (Prop.O - Prop.R) > 0 (Proporção em 'obitos' menos Proporção em 'recuperados' maior que zero)\n",
        "\n",
        "Para um teste unilateral à direita (queremos verificar quais proporções de sintomas nos óbitos são maiores do que nos recuperados), com a = 0,01, temos que o Zcrítico é de 2,327. Então nossa regra de decisão:\n",
        "\n",
        "*  Rejeitamos H0  se Zcalc > 2,327\n",
        "*  Caso contrário, não rejeitar H0\n",
        "\n",
        "\n",
        "Criando uma função para realização do teste teremos:"
      ]
    },
    {
      "cell_type": "code",
      "metadata": {
        "id": "aPxozuT3jnsE"
      },
      "source": [
        "def proportions_test(df1,df2, col):\n",
        "  col = col\n",
        "  df1 = df1\n",
        "  df2 = df2\n",
        "  x1 = len(df1[df1[col] == 1])\n",
        "  x2 = len(df2[df2[col] == 1])\n",
        "  n1 = len(df1)\n",
        "  n2 = len(df2)\n",
        "  p1 = x1/n1\n",
        "  p2 = x2/n2\n",
        "  pmean = (x1+x2)/(n1+n2)\n",
        "  zcalc = (p1 - p2)/((pmean*(1-pmean)*((1/n1)+(1/n2)))**0.5)\n",
        "  return zcalc"
      ],
      "execution_count": null,
      "outputs": []
    },
    {
      "cell_type": "code",
      "metadata": {
        "colab": {
          "base_uri": "https://localhost:8080/"
        },
        "id": "A4qOHeBgbdO8",
        "outputId": "07a1c2bb-006d-4ab9-8725-43bf22082b52"
      },
      "source": [
        "#Realizando o teste para cada coluna dos grupos teremos\n",
        "colunas = recuperados_sintomas.columns\n",
        "for col in colunas:\n",
        "  teste_prop = proportions_test(obitos_sintomas,recuperados_sintomas,col)\n",
        "  print(\"O teste para diferença das proporções da coluna '{}' foi de {}\".format(col,round(teste_prop,2)))"
      ],
      "execution_count": null,
      "outputs": [
        {
          "output_type": "stream",
          "text": [
            "O teste para diferença das proporções da coluna 'alteracao_olfato_paladar' foi de -26.69\n",
            "O teste para diferença das proporções da coluna 'aperto_toracico' foi de 28.13\n",
            "O teste para diferença das proporções da coluna 'cansaco' foi de 0.06\n",
            "O teste para diferença das proporções da coluna 'cefaleia' foi de -31.82\n",
            "O teste para diferença das proporções da coluna 'congestao_nasal' foi de -18.96\n",
            "O teste para diferença das proporções da coluna 'coriza' foi de -18.96\n",
            "O teste para diferença das proporções da coluna 'diarreia' foi de -13.29\n",
            "O teste para diferença das proporções da coluna 'descon_resp' foi de 28.53\n",
            "O teste para diferença das proporções da coluna 'dispneia' foi de 39.82\n",
            "O teste para diferença das proporções da coluna 'dor_de_garganta' foi de -35.11\n",
            "O teste para diferença das proporções da coluna 'edema' foi de 8.5\n",
            "O teste para diferença das proporções da coluna 'febre' foi de -30.59\n",
            "O teste para diferença das proporções da coluna 'mialgia' foi de -19.62\n",
            "O teste para diferença das proporções da coluna 'nausea' foi de -8.34\n",
            "O teste para diferença das proporções da coluna 'saturacao<95' foi de 41.82\n"
          ],
          "name": "stdout"
        }
      ]
    },
    {
      "cell_type": "markdown",
      "metadata": {
        "id": "VxZqAaVKcAR7"
      },
      "source": [
        "Olhando o resultado, vemos que 5 do 15 sintomas tiveram o valor maior que o definido, ou seja, esses 5 sintomas ('saturação<95','dispneia','descon_resp','aperto_toracico' e 'edema') têm uma proporção de manisfestação maior nos que morreram do que nos recuperados.\n",
        "\n",
        "Além disso, podemos também verificar o intervalo em quê essa diferença entre as proporções estaria, para isso criamos novamente uma outra função."
      ]
    },
    {
      "cell_type": "code",
      "metadata": {
        "id": "0BWYFYhFGkaj"
      },
      "source": [
        "def intervalo_diferenca(df1,df2,col):\n",
        "  col = col\n",
        "  df1 = df1\n",
        "  df2 = df2\n",
        "  x1 = len(df1[df1[col] == 1])\n",
        "  x2 = len(df2[df2[col] == 1])\n",
        "  n1 = len(df1)\n",
        "  n2 = len(df2)\n",
        "  p1 = x1/n1\n",
        "  p2 = x2/n2\n",
        "  dif = (p1 - p2)\n",
        "  inf = round((dif - 2.576*((((p1*(1-p1))/n1)+((p2*(1-p2))/n2))**0.5)),4)\n",
        "  sup = round((dif + 2.576*((((p1*(1-p1))/n1)+((p2*(1-p2))/n2))**0.5)),4)\n",
        "  return (inf,sup)"
      ],
      "execution_count": null,
      "outputs": []
    },
    {
      "cell_type": "code",
      "metadata": {
        "colab": {
          "base_uri": "https://localhost:8080/"
        },
        "id": "EFvhjjVPLCZD",
        "outputId": "8c1f421e-eb0f-4dc2-c368-4692f36ee23f"
      },
      "source": [
        "#Encontrando os intervalos de diferença para cada coluna\n",
        "colunas = recuperados_sintomas.columns\n",
        "for col in colunas:\n",
        "  teste_prop = intervalo_diferenca(obitos_sintomas,recuperados_sintomas,col)\n",
        "  print(\"O intervalo para a diferença das proporções da variável '{}' é entre {}\".format(col,teste_prop))"
      ],
      "execution_count": null,
      "outputs": [
        {
          "output_type": "stream",
          "text": [
            "O intervalo para a diferença das proporções da variável 'alteracao_olfato_paladar' é entre (-0.0657, -0.0549)\n",
            "O intervalo para a diferença das proporções da variável 'aperto_toracico' é entre (0.0996, 0.1197)\n",
            "O intervalo para a diferença das proporções da variável 'cansaco' é entre (-0.0068, 0.0071)\n",
            "O intervalo para a diferença das proporções da variável 'cefaleia' é entre (-0.0931, -0.08)\n",
            "O intervalo para a diferença das proporções da variável 'congestao_nasal' é entre (-0.0453, -0.035)\n",
            "O intervalo para a diferença das proporções da variável 'coriza' é entre (-0.0453, -0.035)\n",
            "O intervalo para a diferença das proporções da variável 'diarreia' é entre (-0.0389, -0.0266)\n",
            "O intervalo para a diferença das proporções da variável 'descon_resp' é entre (0.1012, 0.1214)\n",
            "O intervalo para a diferença das proporções da variável 'dispneia' é entre (0.1336, 0.1512)\n",
            "O intervalo para a diferença das proporções da variável 'dor_de_garganta' é entre (-0.1075, -0.0937)\n",
            "O intervalo para a diferença das proporções da variável 'edema' é entre (0.0033, 0.0065)\n",
            "O intervalo para a diferença das proporções da variável 'febre' é entre (-0.1261, -0.1064)\n",
            "O intervalo para a diferença das proporções da variável 'mialgia' é entre (-0.0591, -0.0459)\n",
            "O intervalo para a diferença das proporções da variável 'nausea' é entre (-0.0144, -0.0078)\n",
            "O intervalo para a diferença das proporções da variável 'saturacao<95' é entre (0.1542, 0.1738)\n"
          ],
          "name": "stdout"
        }
      ]
    },
    {
      "cell_type": "markdown",
      "metadata": {
        "id": "U5YAKbHhobVp"
      },
      "source": [
        "O intervalo da diferença é bem pequeno, isso se deve pelo tamanho de cada um dos grupos, o que torna a diferença bem relevante. Então nossas constatações não diferem muito: a saturação de oxigênio abaixo de 95 é a maior diferença entre os grupos, em seguida tem a dispnéia e por fim o desconforto respiratório.\n",
        "\n",
        "Agora, façamos uma análise semelhante em relação às comorbidades. O primeiro passo é também criar subgrupos, onde a coluna 'comorbidades' não está nula."
      ]
    },
    {
      "cell_type": "code",
      "metadata": {
        "id": "QXj10-WdLA2L"
      },
      "source": [
        "recuperados_comorbidades = recuperados[recuperados['comorbidades'].notna()].iloc[:,-9:]\n",
        "obitos_comorbidades = obitos[obitos['comorbidades'].notna()].iloc[:,-9:]"
      ],
      "execution_count": null,
      "outputs": []
    },
    {
      "cell_type": "code",
      "metadata": {
        "colab": {
          "base_uri": "https://localhost:8080/"
        },
        "id": "ew4OwmFhxj6r",
        "outputId": "a8a4baa9-cf4f-46f3-f396-c0b0f7009879"
      },
      "source": [
        "recuperados_comorbidades.shape, obitos_comorbidades.shape"
      ],
      "execution_count": null,
      "outputs": [
        {
          "output_type": "execute_result",
          "data": {
            "text/plain": [
              "((135495, 9), (15198, 9))"
            ]
          },
          "metadata": {
            "tags": []
          },
          "execution_count": 59
        }
      ]
    },
    {
      "cell_type": "code",
      "metadata": {
        "colab": {
          "base_uri": "https://localhost:8080/"
        },
        "id": "aRXxCPP_x2Da",
        "outputId": "28db5d85-e51d-4f24-d0e8-738e0d05b1d4"
      },
      "source": [
        "recuperados_comorbidades.mean()"
      ],
      "execution_count": null,
      "outputs": [
        {
          "output_type": "execute_result",
          "data": {
            "text/plain": [
              "diabetes           0.284195\n",
              "card_or_vasc       0.053840\n",
              "hepatic_cronic     0.001173\n",
              "renais_cronic      0.029418\n",
              "resp_cronic        0.163430\n",
              "gestacao           0.001476\n",
              "imunossupressao    0.047419\n",
              "cromossomicas      0.016340\n",
              "obesidade          0.012842\n",
              "dtype: float64"
            ]
          },
          "metadata": {
            "tags": []
          },
          "execution_count": 60
        }
      ]
    },
    {
      "cell_type": "code",
      "metadata": {
        "colab": {
          "base_uri": "https://localhost:8080/"
        },
        "id": "4_tXZkafx3Hb",
        "outputId": "31a11473-8e8c-4431-87af-e06d240dde8f"
      },
      "source": [
        "comparacao_comorb = pd.DataFrame({'obitos':obitos_comorbidades.mean(),'recuperados':recuperados_comorbidades.mean()})\n",
        "comparacao_comorb['diferenca'] = comparacao_comorb['obitos'] - comparacao_comorb['recuperados']\n",
        "print(\"Diferença na proporção de comorbidades no grupo de óbitos e no de recuperados\\n\")\n",
        "print(comparacao_comorb.sort_values(by = 'diferenca', ascending = False))"
      ],
      "execution_count": null,
      "outputs": [
        {
          "output_type": "stream",
          "text": [
            "Diferença na proporção de comorbidades no grupo de óbitos e no de recuperados\n",
            "\n",
            "                   obitos  recuperados  diferenca\n",
            "card_or_vasc     0.691736     0.053840   0.637896\n",
            "diabetes         0.495263     0.284195   0.211068\n",
            "obesidade        0.125740     0.012842   0.112898\n",
            "renais_cronic    0.096394     0.029418   0.066976\n",
            "hepatic_cronic   0.025530     0.001173   0.024356\n",
            "gestacao         0.000658     0.001476  -0.000818\n",
            "cromossomicas    0.002698     0.016340  -0.013642\n",
            "imunossupressao  0.027175     0.047419  -0.020244\n",
            "resp_cronic      0.104027     0.163430  -0.059404\n"
          ],
          "name": "stdout"
        }
      ]
    },
    {
      "cell_type": "markdown",
      "metadata": {
        "id": "06p_-gVAzTxA"
      },
      "source": [
        "Quando olhamos para diferença das proporções de comorbidades, os maiores valores são:\n",
        "\n",
        "\n",
        "\n",
        "*   Doenças cardíacas ou vasculares (63,79%)\n",
        "*   Diabetes (21,11%)\n",
        "*   Obesidade/Sobrepeso (11,29%)\n",
        "*   Doenças renais crônicas (6,70%)\n",
        "\n",
        "Surpreendemente, não houve grande diferença na proporção de \"doenças respiratórias crônicas\", na verdade, o resultado foi até negativo, sugerindo que a proporção dessa comorbidade é maior naqueles que sobreviveram ao COVID-19.\n",
        "\n",
        "Realizando o teste para igualdade de proporções das comorbidades, temos novamente as hipóteses:\n",
        "\n",
        "*   H0: (Prop.O - Prop.R) <= 0 (Proporção em 'obitos' menos Proporção em 'recuperados' menor ou igual a zero)\n",
        "*   H1: (Prop.O - Prop.R) > 0 (Proporção em 'obitos' menos Proporção em 'recuperados' maior que zero)\n",
        "\n",
        "Para um teste unilateral à direita com a = 0,01, temos que o Zcrítico é de 2,327. Então nossa regra de decisão:\n",
        "\n",
        "*  Rejeitamos H0  se Zcalc > 2,327\n",
        "*  Caso contrário, não rejeitar H0\n",
        "\n",
        "\n",
        "Utilizando da função que já foi criada temos que:"
      ]
    },
    {
      "cell_type": "code",
      "metadata": {
        "colab": {
          "base_uri": "https://localhost:8080/"
        },
        "id": "C6emClF61hQ8",
        "outputId": "aaee40e1-dd5c-4593-b7c3-68879b6f5864"
      },
      "source": [
        "colunas = recuperados_comorbidades.columns\n",
        "for col in colunas:\n",
        "  teste_prop = proportions_test(obitos_comorbidades,recuperados_comorbidades,col)\n",
        "  print(\"O teste para diferença das proporções da coluna '{}' foi de {}\".format(col,round(teste_prop,2)))"
      ],
      "execution_count": null,
      "outputs": [
        {
          "output_type": "stream",
          "text": [
            "O teste para diferença das proporções da coluna 'diabetes' foi de 53.57\n",
            "O teste para diferença das proporções da coluna 'card_or_vasc' foi de 231.0\n",
            "O teste para diferença das proporções da coluna 'hepatic_cronic' foi de 47.34\n",
            "O teste para diferença das proporções da coluna 'renais_cronic' foi de 41.93\n",
            "O teste para diferença das proporções da coluna 'resp_cronic' foi de -19.07\n",
            "O teste para diferença das proporções da coluna 'gestacao' foi de -2.56\n",
            "O teste para diferença das proporções da coluna 'imunossupressao' foi de -11.37\n",
            "O teste para diferença das proporções da coluna 'cromossomicas' foi de -13.14\n",
            "O teste para diferença das proporções da coluna 'obesidade' foi de 85.83\n"
          ],
          "name": "stdout"
        }
      ]
    },
    {
      "cell_type": "markdown",
      "metadata": {
        "id": "Kbk-27bq3s5M"
      },
      "source": [
        "No caso das comorbidades, 5 das 9  tiveram uma estatística de teste maior que a pré-definida, sugerindo que a proporção dessas comorbidades realmente é diferente entre os grupos, realizando um teste para encontrarmos o intervalo em que estaria essa diferença:"
      ]
    },
    {
      "cell_type": "code",
      "metadata": {
        "colab": {
          "base_uri": "https://localhost:8080/"
        },
        "id": "BJzfK_Ak3fNt",
        "outputId": "fd9d1ccd-5f80-411e-879d-f194ab3fc9bc"
      },
      "source": [
        "colunas = recuperados_comorbidades.columns\n",
        "for col in colunas:\n",
        "  teste_prop = intervalo_diferenca(obitos_comorbidades,recuperados_comorbidades,col)\n",
        "  print(\"O intervalo para a diferença das proporções da variável '{}' é entre {}\".format(col,teste_prop))"
      ],
      "execution_count": null,
      "outputs": [
        {
          "output_type": "stream",
          "text": [
            "O intervalo para a diferença das proporções da variável 'diabetes' é entre (0.2002, 0.222)\n",
            "O intervalo para a diferença das proporções da variável 'card_or_vasc' é entre (0.6281, 0.6477)\n",
            "O intervalo para a diferença das proporções da variável 'hepatic_cronic' é entre (0.0211, 0.0277)\n",
            "O intervalo para a diferença das proporções da variável 'renais_cronic' é entre (0.0607, 0.0733)\n",
            "O intervalo para a diferença das proporções da variável 'resp_cronic' é entre (-0.0663, -0.0525)\n",
            "O intervalo para a diferença das proporções da variável 'gestacao' é entre (-0.0014, -0.0002)\n",
            "O intervalo para a diferença das proporções da variável 'imunossupressao' é entre (-0.024, -0.0165)\n",
            "O intervalo para a diferença das proporções da variável 'cromossomicas' é entre (-0.015, -0.0122)\n",
            "O intervalo para a diferença das proporções da variável 'obesidade' é entre (0.1059, 0.1199)\n"
          ],
          "name": "stdout"
        }
      ]
    },
    {
      "cell_type": "markdown",
      "metadata": {
        "id": "rVmCnh8t67lS"
      },
      "source": [
        "#CONCLUSÃO"
      ]
    },
    {
      "cell_type": "markdown",
      "metadata": {
        "id": "6y8KsSIA7nxg"
      },
      "source": [
        "Com os resultados encontrados até então, há a constatação de uma aparente diferença na presença de alguns aspectos entrem aqueles que não resistem ao COVID-19 e aqueles que conseguem se recuperar, como resultado desse estudo conclui-se que:\n",
        "\n",
        "\n",
        "* Em relação ao sexo, os casos dos homens foram mais fatais que os das mulheres\n",
        "* Como já era esperado, pessoas mais velhas são as que mais morrem.\n",
        "* Em relação aos sintomas, baixa saturação de oxigênio, dispnéia e desconforto respiratório estão proporcionalmente mais presentes nos casos mais fatais.\n",
        "* Ja a febre, dor de garganta, cefaleia e alteração de olfato/paladar estão proporcionalmente mais presentes nos casos em que as pessoas conseguem se recuperar.\n",
        "\n",
        "* Quando olhamos as comorbidades, as doenças cardíacas, vasculares, diabetes, doenças renais e hepáticas estão proporcionalmente mais presentes nos casos fatais.\n",
        "* Doenças respiratórias crônicas, doenças imunossupressoras e até mesmo a gestação são comorbidades proporcionalmente mais presentes nos casos em que as pessoas conseguem se recuperar.\n",
        "\n"
      ]
    }
  ]
}